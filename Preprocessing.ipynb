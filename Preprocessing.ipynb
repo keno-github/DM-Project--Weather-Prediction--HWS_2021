{
 "cells": [
  {
   "cell_type": "markdown",
   "id": "0ec03deb",
   "metadata": {},
   "source": [
    "# Business Understanding\n",
    "Meteorological forecasts are done by human experts. The forecasting takes a long time and extensive study and modeling of complex weather systems including physical properties. For this, supercomputers are necessary. Currently, Machine Learning is not used to aid in this endeavor. In light of the recent catastrophy in Rhineland-Palatinate, where numerous lives were lost and livelihoods were destroyed, we asked ourselves if knowledge can be gained by observing previous data and finding statistical regularities using ML. We want to evaluate if we can support traditional forecasting techniques using Machine Learning techniques. \n",
    "\n",
    "Our goal: to be able to forecast severe thunderstorms or extreme weather phenomena to support traditional forecasting in saving lives and property from destruction through weather."
   ]
  },
  {
   "cell_type": "markdown",
   "id": "1646a1da",
   "metadata": {},
   "source": [
    "# Pre - selection of attributes\n",
    "\n",
    "Because we had a large amount of attributes to choose from (some of which had nothing to do with our target) we did a first round of feature selection.  \n",
    "\n",
    "1. We researched on the web, which attributes contribute to extreme thunderstorms according to expert opinions.\n",
    "2. We searched for a specific time interval with a lot of variance in the target variable. For this interval we downloaded ALL possible attributes and calculated the correlation coefficients for them. The attributes that have a high correlation coefficient were considered for the ML classification. Since our dataset is far too big to even download all features in a reasonable time, we needed to pre- select features with a shortened mock time frame."
   ]
  },
  {
   "cell_type": "code",
   "execution_count": 1,
   "id": "c806bbea",
   "metadata": {},
   "outputs": [],
   "source": [
    "import pandas as pd\n",
    "import numpy as np\n",
    "import netCDF4 as nc\n",
    "import matplotlib.pyplot as plt\n",
    "from datetime import datetime, timedelta"
   ]
  },
  {
   "cell_type": "code",
   "execution_count": 2,
   "id": "18b94d04",
   "metadata": {},
   "outputs": [
    {
     "data": {
      "text/plain": [
       "<class 'netCDF4._netCDF4.Dataset'>\n",
       "root group (NETCDF3_64BIT_OFFSET data model, file format NETCDF3):\n",
       "    Conventions: CF-1.6\n",
       "    history: 2021-11-11 04:05:07 GMT by grib_to_netcdf-2.23.0: /opt/ecmwf/mars-client/bin/grib_to_netcdf -S param -o /cache/data5/adaptor.mars.internal-1636599681.675195-17921-10-ce609838-d85c-43f5-a9f2-50e952ca0a1f.nc /cache/tmp/ce609838-d85c-43f5-a9f2-50e952ca0a1f-adaptor.mars.internal-1636593129.8500385-17921-2-tmp.grib\n",
       "    dimensions(sizes): longitude(2), latitude(2), time(87672)\n",
       "    variables(dimensions): float32 longitude(longitude), float32 latitude(latitude), int32 time(time), int16 totalx(time,latitude,longitude)\n",
       "    groups: "
      ]
     },
     "execution_count": 2,
     "metadata": {},
     "output_type": "execute_result"
    }
   ],
   "source": [
    "data = nc.Dataset('./006.nc')\n",
    "data"
   ]
  },
  {
   "cell_type": "code",
   "execution_count": 3,
   "id": "4613d4f6",
   "metadata": {},
   "outputs": [],
   "source": [
    "key = 'totalx'"
   ]
  },
  {
   "cell_type": "code",
   "execution_count": 4,
   "id": "f0e423ef",
   "metadata": {},
   "outputs": [
    {
     "data": {
      "text/plain": [
       "<class 'netCDF4._netCDF4.Variable'>\n",
       "int16 totalx(time, latitude, longitude)\n",
       "    scale_factor: 0.0010945085090652458\n",
       "    add_offset: 25.914048826525498\n",
       "    _FillValue: -32767\n",
       "    missing_value: -32767\n",
       "    units: K\n",
       "    long_name: Total totals index\n",
       "unlimited dimensions: \n",
       "current shape = (87672, 2, 2)\n",
       "filling on"
      ]
     },
     "execution_count": 4,
     "metadata": {},
     "output_type": "execute_result"
    }
   ],
   "source": [
    "data[\"totalx\"]"
   ]
  },
  {
   "cell_type": "code",
   "execution_count": 5,
   "id": "2a4a0f9c",
   "metadata": {},
   "outputs": [
    {
     "name": "stderr",
     "output_type": "stream",
     "text": [
      "<ipython-input-5-e812dbe5d11c>:1: DeprecationWarning: `np.bool` is a deprecated alias for the builtin `bool`. To silence this warning, use `bool` by itself. Doing this will not modify any behavior and is safe. If you specifically wanted the numpy scalar type, use `np.bool_` here.\n",
      "Deprecated in NumPy 1.20; for more details and guidance: https://numpy.org/devdocs/release/1.20.0-notes.html#deprecations\n",
      "  time = data['time'][:].data\n"
     ]
    },
    {
     "data": {
      "text/plain": [
       "<class 'netCDF4._netCDF4.Variable'>\n",
       "int32 time(time)\n",
       "    units: hours since 1900-01-01 00:00:00.0\n",
       "    long_name: time\n",
       "    calendar: gregorian\n",
       "unlimited dimensions: \n",
       "current shape = (87672,)\n",
       "filling on, default _FillValue of -2147483647 used"
      ]
     },
     "execution_count": 5,
     "metadata": {},
     "output_type": "execute_result"
    }
   ],
   "source": [
    "time = data['time'][:].data\n",
    "data['time']"
   ]
  },
  {
   "cell_type": "code",
   "execution_count": 6,
   "id": "ced8135b",
   "metadata": {},
   "outputs": [
    {
     "name": "stdout",
     "output_type": "stream",
     "text": [
      "totalx\n",
      "(87672,)\n",
      "(87672,)\n"
     ]
    },
    {
     "name": "stderr",
     "output_type": "stream",
     "text": [
      "<ipython-input-6-ffc2c097ffe8>:2: DeprecationWarning: `np.bool` is a deprecated alias for the builtin `bool`. To silence this warning, use `bool` by itself. Doing this will not modify any behavior and is safe. If you specifically wanted the numpy scalar type, use `np.bool_` here.\n",
      "Deprecated in NumPy 1.20; for more details and guidance: https://numpy.org/devdocs/release/1.20.0-notes.html#deprecations\n",
      "  shaped = data[key][:].data.reshape(N, -1)\n"
     ]
    }
   ],
   "source": [
    "N = len(data[key])\n",
    "shaped = data[key][:].data.reshape(N, -1)\n",
    "m = np.mean(shaped, axis=1)\n",
    "means = np.mean(shaped, axis=1)\n",
    "print(key)\n",
    "print(m.shape)\n",
    "print(means.shape)"
   ]
  },
  {
   "cell_type": "code",
   "execution_count": 7,
   "id": "68687831",
   "metadata": {},
   "outputs": [],
   "source": [
    "# reshape into blocks of 24 hour intervals \n",
    "e = means.reshape(3653,24)"
   ]
  },
  {
   "cell_type": "code",
   "execution_count": 8,
   "id": "c8509612",
   "metadata": {},
   "outputs": [],
   "source": [
    "# needed to remove some entries to be able to have blocks of 168 hour (= 1 week) intervals\n",
    "rem = means[:87528]\n",
    "d = rem.reshape(521,168)"
   ]
  },
  {
   "cell_type": "code",
   "execution_count": 9,
   "id": "ef4259a6",
   "metadata": {},
   "outputs": [],
   "source": [
    "# calculate variance of the 1-week blocks\n",
    "var = np.var(d, axis=1)"
   ]
  },
  {
   "cell_type": "code",
   "execution_count": 10,
   "id": "c415ce0e",
   "metadata": {},
   "outputs": [
    {
     "data": {
      "text/plain": [
       "469"
      ]
     },
     "execution_count": 10,
     "metadata": {},
     "output_type": "execute_result"
    }
   ],
   "source": [
    "# retrieve week with maximal variance\n",
    "np.argmax(var)"
   ]
  },
  {
   "cell_type": "code",
   "execution_count": 11,
   "id": "b71daefd",
   "metadata": {},
   "outputs": [
    {
     "data": {
      "text/plain": [
       "308.7033850912894"
      ]
     },
     "execution_count": 11,
     "metadata": {},
     "output_type": "execute_result"
    }
   ],
   "source": [
    "var[469]"
   ]
  },
  {
   "cell_type": "code",
   "execution_count": 12,
   "id": "dd021abc",
   "metadata": {},
   "outputs": [
    {
     "data": {
      "image/png": "[encoded data removed]",
      "text/plain": [
       "<Figure size 432x288 with 1 Axes>"
      ]
     },
     "metadata": {
      "needs_background": "light"
     },
     "output_type": "display_data"
    }
   ],
   "source": [
    "plt.plot(e[(469*7 - 7):(469*7)])\n",
    "plt.show()"
   ]
  },
  {
   "cell_type": "code",
   "execution_count": 13,
   "id": "0be48d9f",
   "metadata": {},
   "outputs": [
    {
     "data": {
      "text/plain": [
       "array([[1051632, 1051633, 1051634, 1051635, 1051636, 1051637, 1051638,\n",
       "        1051639, 1051640, 1051641, 1051642, 1051643, 1051644, 1051645,\n",
       "        1051646, 1051647, 1051648, 1051649, 1051650, 1051651, 1051652,\n",
       "        1051653, 1051654, 1051655],\n",
       "       [1051656, 1051657, 1051658, 1051659, 1051660, 1051661, 1051662,\n",
       "        1051663, 1051664, 1051665, 1051666, 1051667, 1051668, 1051669,\n",
       "        1051670, 1051671, 1051672, 1051673, 1051674, 1051675, 1051676,\n",
       "        1051677, 1051678, 1051679],\n",
       "       [1051680, 1051681, 1051682, 1051683, 1051684, 1051685, 1051686,\n",
       "        1051687, 1051688, 1051689, 1051690, 1051691, 1051692, 1051693,\n",
       "        1051694, 1051695, 1051696, 1051697, 1051698, 1051699, 1051700,\n",
       "        1051701, 1051702, 1051703],\n",
       "       [1051704, 1051705, 1051706, 1051707, 1051708, 1051709, 1051710,\n",
       "        1051711, 1051712, 1051713, 1051714, 1051715, 1051716, 1051717,\n",
       "        1051718, 1051719, 1051720, 1051721, 1051722, 1051723, 1051724,\n",
       "        1051725, 1051726, 1051727],\n",
       "       [1051728, 1051729, 1051730, 1051731, 1051732, 1051733, 1051734,\n",
       "        1051735, 1051736, 1051737, 1051738, 1051739, 1051740, 1051741,\n",
       "        1051742, 1051743, 1051744, 1051745, 1051746, 1051747, 1051748,\n",
       "        1051749, 1051750, 1051751],\n",
       "       [1051752, 1051753, 1051754, 1051755, 1051756, 1051757, 1051758,\n",
       "        1051759, 1051760, 1051761, 1051762, 1051763, 1051764, 1051765,\n",
       "        1051766, 1051767, 1051768, 1051769, 1051770, 1051771, 1051772,\n",
       "        1051773, 1051774, 1051775],\n",
       "       [1051776, 1051777, 1051778, 1051779, 1051780, 1051781, 1051782,\n",
       "        1051783, 1051784, 1051785, 1051786, 1051787, 1051788, 1051789,\n",
       "        1051790, 1051791, 1051792, 1051793, 1051794, 1051795, 1051796,\n",
       "        1051797, 1051798, 1051799]])"
      ]
     },
     "execution_count": 13,
     "metadata": {},
     "output_type": "execute_result"
    }
   ],
   "source": [
    "# calculate which week to retrieve from all data\n",
    "time = time.reshape(3653,24)\n",
    "time[(469*7 - 7):(469*7)]"
   ]
  },
  {
   "cell_type": "code",
   "execution_count": 14,
   "id": "c91fb708",
   "metadata": {},
   "outputs": [
    {
     "name": "stdout",
     "output_type": "stream",
     "text": [
      "2019-12-27 23:00:00\n"
     ]
    }
   ],
   "source": [
    "# hours since 1900-01-01 00:00:00.0\n",
    "\n",
    "start_date = datetime(1900, 1, 1)\n",
    "print(start_date + timedelta(hours = int(1051799)))"
   ]
  },
  {
   "cell_type": "markdown",
   "id": "4a5f7bea",
   "metadata": {},
   "source": [
    "Now we know which week to retrieve for the mock feature selection. The week ending on 2019-12-27 23:00:00."
   ]
  },
  {
   "cell_type": "code",
   "execution_count": 15,
   "id": "d26a53ec",
   "metadata": {},
   "outputs": [],
   "source": [
    "week = nc.Dataset(r'1-week.nc')"
   ]
  },
  {
   "cell_type": "code",
   "execution_count": 16,
   "id": "0b2980d0",
   "metadata": {},
   "outputs": [
    {
     "data": {
      "text/plain": [
       "['u100',\n",
       " 'v100',\n",
       " 'u10n',\n",
       " 'u10',\n",
       " 'v10n',\n",
       " 'v10',\n",
       " 'fg10',\n",
       " 'd2m',\n",
       " 't2m',\n",
       " 'p140209',\n",
       " 'anor',\n",
       " 'isor',\n",
       " 'bfi',\n",
       " 'bld',\n",
       " 'blh',\n",
       " 'chnk',\n",
       " 'cdir',\n",
       " 'cbh',\n",
       " 'cdww',\n",
       " 'cape',\n",
       " 'cin',\n",
       " 'cp',\n",
       " 'crr',\n",
       " 'csf',\n",
       " 'csfr',\n",
       " 'uvb',\n",
       " 'dctb',\n",
       " 'lgws',\n",
       " 'ewss',\n",
       " 'e',\n",
       " 'fal',\n",
       " 'flsr',\n",
       " 'fsr',\n",
       " 'p140208',\n",
       " 'zust',\n",
       " 'z',\n",
       " 'gwd',\n",
       " 'hcc',\n",
       " 'cvh',\n",
       " 'istl1',\n",
       " 'istl2',\n",
       " 'istl3',\n",
       " 'istl4',\n",
       " 'i10fg',\n",
       " 'iews',\n",
       " 'ilspf',\n",
       " 'ie',\n",
       " 'inss',\n",
       " 'ishf',\n",
       " 'kx',\n",
       " 'lblt',\n",
       " 'cl',\n",
       " 'dl',\n",
       " 'licd',\n",
       " 'lict',\n",
       " 'lmld',\n",
       " 'lmlt',\n",
       " 'lshf',\n",
       " 'ltlt',\n",
       " 'lsm',\n",
       " 'lsp',\n",
       " 'lspf',\n",
       " 'lsrr',\n",
       " 'lsf',\n",
       " 'lssfr',\n",
       " 'lai_hv',\n",
       " 'lai_lv',\n",
       " 'lcc',\n",
       " 'cvl',\n",
       " 'mx2t',\n",
       " 'hmax',\n",
       " 'mxtpr',\n",
       " 'mbld',\n",
       " 'mcpr',\n",
       " 'mcsr',\n",
       " 'mdts',\n",
       " 'mdww',\n",
       " 'megwss',\n",
       " 'metss',\n",
       " 'mer',\n",
       " 'mgwd',\n",
       " 'mlspf',\n",
       " 'mlspr',\n",
       " 'mlssr',\n",
       " 'mngwss',\n",
       " 'mntss',\n",
       " 'mpts',\n",
       " 'mpww',\n",
       " 'mper',\n",
       " 'mror',\n",
       " 'msl',\n",
       " 'mser',\n",
       " 'msr',\n",
       " 'msmr',\n",
       " 'msqs',\n",
       " 'mssror',\n",
       " 'msdrswrf',\n",
       " 'msdrswrfcs',\n",
       " 'msdwlwrf',\n",
       " 'msdwlwrfcs',\n",
       " 'msdwswrf',\n",
       " 'msdwswrfcs',\n",
       " 'msdwuvrf',\n",
       " 'mslhf',\n",
       " 'msnlwrf',\n",
       " 'msnlwrfcs',\n",
       " 'msnswrf',\n",
       " 'msnswrfcs',\n",
       " 'msror',\n",
       " 'msshf',\n",
       " 'mtdwswrf',\n",
       " 'mtnlwrf',\n",
       " 'mtnlwrfcs',\n",
       " 'mtnswrf',\n",
       " 'mtnswrfcs',\n",
       " 'mtpr',\n",
       " 'dndza',\n",
       " 'mvimd',\n",
       " 'mwd',\n",
       " 'p140122',\n",
       " 'p140125',\n",
       " 'p140128',\n",
       " 'mwp',\n",
       " 'mp1',\n",
       " 'p1ps',\n",
       " 'p1ww',\n",
       " 'p2ps',\n",
       " 'p2ww',\n",
       " 'p140123',\n",
       " 'p140126',\n",
       " 'p140129',\n",
       " 'mp2',\n",
       " 'mcc',\n",
       " 'mn2t',\n",
       " 'mntpr',\n",
       " 'dndzn',\n",
       " 'wmb',\n",
       " 'alnid',\n",
       " 'alnip',\n",
       " 'phioc',\n",
       " 'phiaw',\n",
       " 'tauoc',\n",
       " 'mgws',\n",
       " 'nsss',\n",
       " 'dwi',\n",
       " 'wind',\n",
       " 'pp1d',\n",
       " 'tmax',\n",
       " 'pev',\n",
       " 'ptype',\n",
       " 'ro',\n",
       " 'siconc',\n",
       " 'sst',\n",
       " 'swh',\n",
       " 'shts',\n",
       " 'shww',\n",
       " 'p140121',\n",
       " 'p140124',\n",
       " 'p140127',\n",
       " 'src',\n",
       " 'skt',\n",
       " 'slor',\n",
       " 'asn',\n",
       " 'rsn',\n",
       " 'sd',\n",
       " 'es',\n",
       " 'sf',\n",
       " 'smlt',\n",
       " 'stl1',\n",
       " 'stl2',\n",
       " 'stl3',\n",
       " 'stl4',\n",
       " 'slt',\n",
       " 'sdfor',\n",
       " 'sdor',\n",
       " 'ssro',\n",
       " 'slhf',\n",
       " 'ssr',\n",
       " 'ssrc',\n",
       " 'str',\n",
       " 'strc',\n",
       " 'sp',\n",
       " 'sro',\n",
       " 'sshf',\n",
       " 'ssrdc',\n",
       " 'ssrd',\n",
       " 'strdc',\n",
       " 'strd',\n",
       " 'tsn',\n",
       " 'tisr',\n",
       " 'tsr',\n",
       " 'tsrc',\n",
       " 'ttr',\n",
       " 'ttrc',\n",
       " 'tcc',\n",
       " 'tciw',\n",
       " 'tclw',\n",
       " 'tco3',\n",
       " 'tcrw',\n",
       " 'tcsw',\n",
       " 'tcslw',\n",
       " 'tcw',\n",
       " 'tcwv',\n",
       " 'tp',\n",
       " 'fdir',\n",
       " 'totalx',\n",
       " 'tplb',\n",
       " 'tplt',\n",
       " 'tvh',\n",
       " 'tvl',\n",
       " 'ust',\n",
       " 'aluvd',\n",
       " 'aluvp',\n",
       " 'vst',\n",
       " 'p80.162',\n",
       " 'p79.162',\n",
       " 'p85.162',\n",
       " 'p82.162',\n",
       " 'p81.162',\n",
       " 'p84.162',\n",
       " 'p87.162',\n",
       " 'p83.162',\n",
       " 'p86.162',\n",
       " 'p90.162',\n",
       " 'p88.162',\n",
       " 'p73.162',\n",
       " 'p69.162',\n",
       " 'p67.162',\n",
       " 'p65.162',\n",
       " 'p77.162',\n",
       " 'p75.162',\n",
       " 'p71.162',\n",
       " 'p64.162',\n",
       " 'p59.162',\n",
       " 'p53.162',\n",
       " 'p92.162',\n",
       " 'p91.162',\n",
       " 'p89.162',\n",
       " 'p74.162',\n",
       " 'p70.162',\n",
       " 'p68.162',\n",
       " 'p66.162',\n",
       " 'p78.162',\n",
       " 'p76.162',\n",
       " 'p72.162',\n",
       " 'p61.162',\n",
       " 'p62.162',\n",
       " 'p54.162',\n",
       " 'p60.162',\n",
       " 'p63.162',\n",
       " 'vimd',\n",
       " 'swvl1',\n",
       " 'swvl2',\n",
       " 'swvl3',\n",
       " 'swvl4',\n",
       " 'wdw',\n",
       " 'dwps',\n",
       " 'dwww',\n",
       " 'wsk',\n",
       " 'wsp',\n",
       " 'wss',\n",
       " 'deg0l']"
      ]
     },
     "execution_count": 16,
     "metadata": {},
     "output_type": "execute_result"
    }
   ],
   "source": [
    "#retrieve all variables\n",
    "keys = []\n",
    "for k in week.variables.keys():\n",
    "    if k not in ['longitude', 'latitude', 'time',]:\n",
    "        keys.append(k)\n",
    "\n",
    "keys"
   ]
  },
  {
   "cell_type": "code",
   "execution_count": 17,
   "id": "b606303d",
   "metadata": {},
   "outputs": [
    {
     "name": "stderr",
     "output_type": "stream",
     "text": [
      "<ipython-input-17-67cf7706eb17>:3: DeprecationWarning: `np.bool` is a deprecated alias for the builtin `bool`. To silence this warning, use `bool` by itself. Doing this will not modify any behavior and is safe. If you specifically wanted the numpy scalar type, use `np.bool_` here.\n",
      "Deprecated in NumPy 1.20; for more details and guidance: https://numpy.org/devdocs/release/1.20.0-notes.html#deprecations\n",
      "  a = week[key][:].data\n"
     ]
    },
    {
     "name": "stdout",
     "output_type": "stream",
     "text": [
      "(168, 4)\n",
      "(168,)\n",
      "================\n",
      "(168, 4)\n",
      "(168,)\n",
      "================\n",
      "(168, 4)\n",
      "(168,)\n",
      "================\n",
      "(168, 4)\n",
      "(168,)\n",
      "================\n",
      "(168, 4)\n",
      "(168,)\n",
      "================\n",
      "(168, 4)\n",
      "(168,)\n",
      "================\n",
      "(168, 4)\n",
      "(168,)\n",
      "================\n",
      "(168, 4)\n",
      "(168,)\n",
      "================\n",
      "(168, 4)\n",
      "(168,)\n",
      "================\n",
      "(168, 4)\n",
      "(168,)\n",
      "================\n",
      "(168, 4)\n",
      "(168,)\n",
      "================\n",
      "(168, 4)\n",
      "(168,)\n",
      "================\n",
      "(168, 4)\n",
      "(168,)\n",
      "================\n",
      "(168, 4)\n",
      "(168,)\n",
      "================\n",
      "(168, 4)\n",
      "(168,)\n",
      "================\n",
      "(168, 4)\n",
      "(168,)\n",
      "================\n",
      "(168, 4)\n",
      "(168,)\n",
      "================\n",
      "(168, 4)\n",
      "(168,)\n",
      "================\n",
      "(168, 4)\n",
      "(168,)\n",
      "================\n",
      "(168, 4)\n",
      "(168,)\n",
      "================\n",
      "(168, 4)\n",
      "(168,)\n",
      "================\n",
      "(168, 4)\n",
      "(168,)\n",
      "================\n",
      "(168, 4)\n",
      "(168,)\n",
      "================\n",
      "(168, 4)\n",
      "(168,)\n",
      "================\n",
      "(168, 4)\n",
      "(168,)\n",
      "================\n",
      "(168, 4)\n",
      "(168,)\n",
      "================\n",
      "(168, 4)\n",
      "(168,)\n",
      "================\n",
      "(168, 4)\n",
      "(168,)\n",
      "================\n",
      "(168, 4)\n",
      "(168,)\n",
      "================\n",
      "(168, 4)\n",
      "(168,)\n",
      "================\n",
      "(168, 4)\n",
      "(168,)\n",
      "================\n",
      "(168, 4)\n",
      "(168,)\n",
      "================\n",
      "(168, 4)\n",
      "(168,)\n",
      "================\n",
      "(168, 4)\n",
      "(168,)\n",
      "================\n",
      "(168, 4)\n",
      "(168,)\n",
      "================\n",
      "(168, 4)\n",
      "(168,)\n",
      "================\n",
      "(168, 4)\n",
      "(168,)\n",
      "================\n",
      "(168, 4)\n",
      "(168,)\n",
      "================\n",
      "(168, 4)\n",
      "(168,)\n",
      "================\n",
      "(168, 4)\n",
      "(168,)\n",
      "================\n",
      "(168, 4)\n",
      "(168,)\n",
      "================\n",
      "(168, 4)\n",
      "(168,)\n",
      "================\n",
      "(168, 4)\n",
      "(168,)\n",
      "================\n",
      "(168, 4)\n",
      "(168,)\n",
      "================\n",
      "(168, 4)\n",
      "(168,)\n",
      "================\n",
      "(168, 4)\n",
      "(168,)\n",
      "================\n",
      "(168, 4)\n",
      "(168,)\n",
      "================\n",
      "(168, 4)\n",
      "(168,)\n",
      "================\n",
      "(168, 4)\n",
      "(168,)\n",
      "================\n",
      "(168, 4)\n",
      "(168,)\n",
      "================\n",
      "(168, 4)\n",
      "(168,)\n",
      "================\n",
      "(168, 4)\n",
      "(168,)\n",
      "================\n",
      "(168, 4)\n",
      "(168,)\n",
      "================\n",
      "(168, 4)\n",
      "(168,)\n",
      "================\n",
      "(168, 4)\n",
      "(168,)\n",
      "================\n",
      "(168, 4)\n",
      "(168,)\n",
      "================\n",
      "(168, 4)\n",
      "(168,)\n",
      "================\n",
      "(168, 4)\n",
      "(168,)\n",
      "================\n",
      "(168, 4)\n",
      "(168,)\n",
      "================\n",
      "(168, 4)\n",
      "(168,)\n",
      "================\n",
      "(168, 4)\n",
      "(168,)\n",
      "================\n",
      "(168, 4)\n",
      "(168,)\n",
      "================\n",
      "(168, 4)\n",
      "(168,)\n",
      "================\n",
      "(168, 4)\n",
      "(168,)\n",
      "================\n",
      "(168, 4)\n",
      "(168,)\n",
      "================\n",
      "(168, 4)\n",
      "(168,)\n",
      "================\n",
      "(168, 4)\n",
      "(168,)\n",
      "================\n",
      "(168, 4)\n",
      "(168,)\n",
      "================\n",
      "(168, 4)\n",
      "(168,)\n",
      "================\n",
      "(168, 4)\n",
      "(168,)\n",
      "================\n",
      "(168, 4)\n",
      "(168,)\n",
      "================\n",
      "(168, 4)\n",
      "(168,)\n",
      "================\n",
      "(168, 4)\n",
      "(168,)\n",
      "================\n",
      "(168, 4)\n",
      "(168,)\n",
      "================\n",
      "(168, 4)\n",
      "(168,)\n",
      "================\n",
      "(168, 4)\n",
      "(168,)\n",
      "================\n",
      "(168, 4)\n",
      "(168,)\n",
      "================\n",
      "(168, 4)\n",
      "(168,)\n",
      "================\n",
      "(168, 4)\n",
      "(168,)\n",
      "================\n",
      "(168, 4)\n",
      "(168,)\n",
      "================\n",
      "(168, 4)\n",
      "(168,)\n",
      "================\n",
      "(168, 4)\n",
      "(168,)\n",
      "================\n",
      "(168, 4)\n",
      "(168,)\n",
      "================\n",
      "(168, 4)\n",
      "(168,)\n",
      "================\n",
      "(168, 4)\n",
      "(168,)\n",
      "================\n",
      "(168, 4)\n",
      "(168,)\n",
      "================\n",
      "(168, 4)\n",
      "(168,)\n",
      "================\n",
      "(168, 4)\n",
      "(168,)\n",
      "================\n",
      "(168, 4)\n",
      "(168,)\n",
      "================\n",
      "(168, 4)\n",
      "(168,)\n",
      "================\n",
      "(168, 4)\n",
      "(168,)\n",
      "================\n",
      "(168, 4)\n",
      "(168,)\n",
      "================\n",
      "(168, 4)\n",
      "(168,)\n",
      "================\n",
      "(168, 4)\n",
      "(168,)\n",
      "================\n",
      "(168, 4)\n",
      "(168,)\n",
      "================\n",
      "(168, 4)\n",
      "(168,)\n",
      "================\n",
      "(168, 4)\n",
      "(168,)\n",
      "================\n",
      "(168, 4)\n",
      "(168,)\n",
      "================\n",
      "(168, 4)\n",
      "(168,)\n",
      "================\n",
      "(168, 4)\n",
      "(168,)\n",
      "================\n",
      "(168, 4)\n",
      "(168,)\n",
      "================\n",
      "(168, 4)\n",
      "(168,)\n",
      "================\n",
      "(168, 4)\n",
      "(168,)\n",
      "================\n",
      "(168, 4)\n",
      "(168,)\n",
      "================\n",
      "(168, 4)\n",
      "(168,)\n",
      "================\n",
      "(168, 4)\n",
      "(168,)\n",
      "================\n",
      "(168, 4)\n",
      "(168,)\n",
      "================\n",
      "(168, 4)\n",
      "(168,)\n",
      "================\n",
      "(168, 4)\n",
      "(168,)\n",
      "================\n",
      "(168, 4)\n",
      "(168,)\n",
      "================\n",
      "(168, 4)\n",
      "(168,)\n",
      "================\n",
      "(168, 4)\n",
      "(168,)\n",
      "================\n",
      "(168, 4)\n",
      "(168,)\n",
      "================\n",
      "(168, 4)\n",
      "(168,)\n",
      "================\n",
      "(168, 4)\n",
      "(168,)\n",
      "================\n",
      "(168, 4)\n",
      "(168,)\n",
      "================\n",
      "(168, 4)\n",
      "(168,)\n",
      "================\n",
      "(168, 4)\n",
      "(168,)\n",
      "================\n",
      "(168, 4)\n",
      "(168,)\n",
      "================\n",
      "(168, 4)\n",
      "(168,)\n",
      "================\n",
      "(168, 4)\n",
      "(168,)\n",
      "================\n",
      "(168, 4)\n",
      "(168,)\n",
      "================\n",
      "(168, 4)\n",
      "(168,)\n",
      "================\n",
      "(168, 4)\n",
      "(168,)\n",
      "================\n",
      "(168, 4)\n",
      "(168,)\n",
      "================\n",
      "(168, 4)\n",
      "(168,)\n",
      "================\n",
      "(168, 4)\n",
      "(168,)\n",
      "================\n",
      "(168, 4)\n",
      "(168,)\n",
      "================\n",
      "(168, 4)\n",
      "(168,)\n",
      "================\n",
      "(168, 4)\n",
      "(168,)\n",
      "================\n",
      "(168, 4)\n",
      "(168,)\n",
      "================\n",
      "(168, 4)\n",
      "(168,)\n",
      "================\n",
      "(168, 4)\n",
      "(168,)\n",
      "================\n",
      "(168, 4)\n",
      "(168,)\n",
      "================\n",
      "(168, 4)\n",
      "(168,)\n",
      "================\n",
      "(168, 4)\n",
      "(168,)\n",
      "================\n",
      "(168, 4)\n",
      "(168,)\n",
      "================\n",
      "(168, 4)\n",
      "(168,)\n",
      "================\n",
      "(168, 4)\n",
      "(168,)\n",
      "================\n",
      "(168, 4)\n",
      "(168,)\n",
      "================\n",
      "(168, 4)\n",
      "(168,)\n",
      "================\n",
      "(168, 4)\n",
      "(168,)\n",
      "================\n",
      "(168, 4)\n",
      "(168,)\n",
      "================\n",
      "(168, 4)\n",
      "(168,)\n",
      "================\n",
      "(168, 4)\n",
      "(168,)\n",
      "================\n",
      "(168, 4)\n",
      "(168,)\n",
      "================\n",
      "(168, 4)\n",
      "(168,)\n",
      "================\n",
      "(168, 4)\n",
      "(168,)\n",
      "================\n",
      "(168, 4)\n",
      "(168,)\n",
      "================\n",
      "(168, 4)\n",
      "(168,)\n",
      "================\n",
      "(168, 4)\n",
      "(168,)\n",
      "================\n",
      "(168, 4)\n",
      "(168,)\n",
      "================\n",
      "(168, 4)\n",
      "(168,)\n",
      "================\n",
      "(168, 4)\n",
      "(168,)\n",
      "================\n",
      "(168, 4)\n",
      "(168,)\n",
      "================\n",
      "(168, 4)\n",
      "(168,)\n",
      "================\n",
      "(168, 4)\n",
      "(168,)\n",
      "================\n",
      "(168, 4)\n",
      "(168,)\n",
      "================\n",
      "(168, 4)\n",
      "(168,)\n",
      "================\n",
      "(168, 4)\n",
      "(168,)\n",
      "================\n",
      "(168, 4)\n",
      "(168,)\n",
      "================\n",
      "(168, 4)\n",
      "(168,)\n",
      "================\n",
      "(168, 4)\n",
      "(168,)\n",
      "================\n",
      "(168, 4)\n",
      "(168,)\n",
      "================\n",
      "(168, 4)\n",
      "(168,)\n",
      "================\n",
      "(168, 4)\n",
      "(168,)\n",
      "================\n",
      "(168, 4)\n",
      "(168,)\n",
      "================\n",
      "(168, 4)\n",
      "(168,)\n",
      "================\n",
      "(168, 4)\n",
      "(168,)\n",
      "================\n",
      "(168, 4)\n",
      "(168,)\n",
      "================\n",
      "(168, 4)\n",
      "(168,)\n",
      "================\n",
      "(168, 4)\n",
      "(168,)\n",
      "================\n",
      "(168, 4)\n",
      "(168,)\n",
      "================\n",
      "(168, 4)\n",
      "(168,)\n",
      "================\n",
      "(168, 4)\n",
      "(168,)\n",
      "================\n",
      "(168, 4)\n",
      "(168,)\n",
      "================\n",
      "(168, 4)\n",
      "(168,)\n",
      "================\n",
      "(168, 4)\n",
      "(168,)\n",
      "================\n",
      "(168, 4)\n",
      "(168,)\n",
      "================\n",
      "(168, 4)\n",
      "(168,)\n",
      "================\n",
      "(168, 4)\n",
      "(168,)\n",
      "================\n",
      "(168, 4)\n",
      "(168,)\n",
      "================\n",
      "(168, 4)\n",
      "(168,)\n",
      "================\n",
      "(168, 4)\n",
      "(168,)\n",
      "================\n",
      "(168, 4)\n",
      "(168,)\n",
      "================\n",
      "(168, 4)\n",
      "(168,)\n",
      "================\n",
      "(168, 4)\n",
      "(168,)\n",
      "================\n",
      "(168, 4)\n",
      "(168,)\n",
      "================\n",
      "(168, 4)\n",
      "(168,)\n",
      "================\n",
      "(168, 4)\n",
      "(168,)\n",
      "================\n",
      "(168, 4)\n",
      "(168,)\n",
      "================\n",
      "(168, 4)\n",
      "(168,)\n",
      "================\n",
      "(168, 4)\n",
      "(168,)\n",
      "================\n",
      "(168, 4)\n",
      "(168,)\n",
      "================\n",
      "(168, 4)\n",
      "(168,)\n",
      "================\n",
      "(168, 4)\n",
      "(168,)\n",
      "================\n",
      "(168, 4)\n",
      "(168,)\n",
      "================\n",
      "(168, 4)\n",
      "(168,)\n",
      "================\n",
      "(168, 4)\n",
      "(168,)\n",
      "================\n",
      "(168, 4)\n",
      "(168,)\n",
      "================\n",
      "(168, 4)\n",
      "(168,)\n",
      "================\n",
      "(168, 4)\n",
      "(168,)\n",
      "================\n",
      "(168, 4)\n",
      "(168,)\n",
      "================\n",
      "(168, 4)\n",
      "(168,)\n",
      "================\n",
      "(168, 4)\n",
      "(168,)\n",
      "================\n",
      "(168, 4)\n",
      "(168,)\n",
      "================\n",
      "(168, 4)\n",
      "(168,)\n",
      "================\n",
      "(168, 4)\n",
      "(168,)\n",
      "================\n",
      "(168, 4)\n",
      "(168,)\n",
      "================\n",
      "(168, 4)\n",
      "(168,)\n",
      "================\n",
      "(168, 4)\n",
      "(168,)\n",
      "================\n",
      "(168, 4)\n",
      "(168,)\n",
      "================\n",
      "(168, 4)\n",
      "(168,)\n",
      "================\n",
      "(168, 4)\n",
      "(168,)\n",
      "================\n",
      "(168, 4)\n",
      "(168,)\n",
      "================\n",
      "(168, 4)\n",
      "(168,)\n",
      "================\n",
      "(168, 4)\n",
      "(168,)\n",
      "================\n",
      "(168, 4)\n",
      "(168,)\n",
      "================\n",
      "(168, 4)\n",
      "(168,)\n",
      "================\n",
      "(168, 4)\n",
      "(168,)\n",
      "================\n",
      "(168, 4)\n",
      "(168,)\n",
      "================\n",
      "(168, 4)\n",
      "(168,)\n",
      "================\n",
      "(168, 4)\n",
      "(168,)\n",
      "================\n",
      "(168, 4)\n",
      "(168,)\n",
      "================\n",
      "(168, 4)\n",
      "(168,)\n",
      "================\n",
      "(168, 4)\n",
      "(168,)\n",
      "================\n",
      "(168, 4)\n",
      "(168,)\n",
      "================\n",
      "(168, 4)\n",
      "(168,)\n",
      "================\n",
      "(168, 4)\n",
      "(168,)\n",
      "================\n",
      "(168, 4)\n",
      "(168,)\n",
      "================\n",
      "(168, 4)\n",
      "(168,)\n",
      "================\n",
      "(168, 4)\n",
      "(168,)\n",
      "================\n",
      "(168, 4)\n",
      "(168,)\n",
      "================\n",
      "(168, 4)\n",
      "(168,)\n",
      "================\n",
      "(168, 4)\n",
      "(168,)\n",
      "================\n",
      "(168, 4)\n",
      "(168,)\n",
      "================\n",
      "(168, 4)\n",
      "(168,)\n",
      "================\n",
      "(168, 4)\n",
      "(168,)\n",
      "================\n",
      "(168, 4)\n",
      "(168,)\n",
      "================\n",
      "(168, 4)\n",
      "(168,)\n",
      "================\n",
      "(168, 4)\n",
      "(168,)\n",
      "================\n",
      "(168, 4)\n",
      "(168,)\n",
      "================\n",
      "(168, 4)\n",
      "(168,)\n",
      "================\n",
      "(168, 4)\n",
      "(168,)\n",
      "================\n",
      "(168, 4)\n",
      "(168,)\n",
      "================\n",
      "(168, 4)\n",
      "(168,)\n",
      "================\n",
      "(168, 4)\n",
      "(168,)\n",
      "================\n",
      "(168, 4)\n",
      "(168,)\n",
      "================\n",
      "(168, 4)\n",
      "(168,)\n",
      "================\n",
      "(168, 4)\n",
      "(168,)\n",
      "================\n",
      "(168, 4)\n",
      "(168,)\n",
      "================\n",
      "(168, 4)\n",
      "(168,)\n",
      "================\n",
      "(168, 4)\n",
      "(168,)\n",
      "================\n",
      "(168, 4)\n",
      "(168,)\n",
      "================\n",
      "(168, 4)\n",
      "(168,)\n",
      "================\n",
      "(168, 4)\n",
      "(168,)\n",
      "================\n",
      "(168, 4)\n",
      "(168,)\n",
      "================\n",
      "(168, 4)\n",
      "(168,)\n",
      "================\n",
      "(168, 4)\n",
      "(168,)\n",
      "================\n",
      "(168, 4)\n",
      "(168,)\n",
      "================\n",
      "(168, 4)\n",
      "(168,)\n",
      "================\n",
      "(168, 4)\n",
      "(168,)\n",
      "================\n"
     ]
    }
   ],
   "source": [
    "n = pd.DataFrame()\n",
    "for key in keys:\n",
    "    a = week[key][:].data\n",
    "    a = a.reshape(168,4)\n",
    "    b = np.mean(a, axis=1)\n",
    "    print(a.shape)\n",
    "    print(b.shape)\n",
    "    n[key] = b\n",
    "    print('================')"
   ]
  },
  {
   "cell_type": "code",
   "execution_count": 18,
   "id": "e9878c63",
   "metadata": {},
   "outputs": [
    {
     "data": {
      "text/plain": [
       "<class 'netCDF4._netCDF4.Variable'>\n",
       "int16 sshf(time, latitude, longitude)\n",
       "    scale_factor: 5.35337921352601\n",
       "    add_offset: 94527.51081039324\n",
       "    _FillValue: -32767\n",
       "    missing_value: -32767\n",
       "    units: J m**-2\n",
       "    long_name: Surface sensible heat flux\n",
       "    standard_name: surface_upward_sensible_heat_flux\n",
       "unlimited dimensions: \n",
       "current shape = (168, 2, 2)\n",
       "filling on"
      ]
     },
     "execution_count": 18,
     "metadata": {},
     "output_type": "execute_result"
    }
   ],
   "source": [
    "week['sshf']"
   ]
  },
  {
   "cell_type": "code",
   "execution_count": 19,
   "id": "eee15f31",
   "metadata": {},
   "outputs": [
    {
     "ename": "SyntaxError",
     "evalue": "invalid syntax (<ipython-input-19-cef41309a892>, line 1)",
     "output_type": "error",
     "traceback": [
      "\u001b[1;36m  File \u001b[1;32m\"<ipython-input-19-cef41309a892>\"\u001b[1;36m, line \u001b[1;32m1\u001b[0m\n\u001b[1;33m    n[]\u001b[0m\n\u001b[1;37m      ^\u001b[0m\n\u001b[1;31mSyntaxError\u001b[0m\u001b[1;31m:\u001b[0m invalid syntax\n"
     ]
    }
   ],
   "source": [
    "n[]"
   ]
  },
  {
   "cell_type": "markdown",
   "id": "a164878f",
   "metadata": {},
   "source": [
    "Now we have a dataframe of 262 attributes, some of those are not relevant for our problem. We have already some attributes that we suspect will be relevant (according to experts). Now we want to find relevant features that we might have missed."
   ]
  },
  {
   "cell_type": "code",
   "execution_count": 20,
   "id": "2c610a79",
   "metadata": {},
   "outputs": [],
   "source": [
    "target = 'totalx'\n",
    "def correlation_results(df):\n",
    "    corr_m = df.corr()\n",
    "    idx = corr_m[target].sort_values(ascending=False)\n",
    "    for i in range(len(idx)):\n",
    "        print( str(idx[i]) + '  ---->   '+ idx.keys()[i] )"
   ]
  },
  {
   "cell_type": "code",
   "execution_count": 21,
   "id": "28445911",
   "metadata": {},
   "outputs": [
    {
     "name": "stdout",
     "output_type": "stream",
     "text": [
      "1.0  ---->   totalx\n",
      "0.8809247697757576  ---->   kx\n",
      "0.8187126128499432  ---->   strdc\n",
      "0.8187116695457192  ---->   msdwlwrfcs\n",
      "0.7258345700463361  ---->   d2m\n",
      "0.6794556943720832  ---->   t2m\n",
      "0.6781961565311313  ---->   p71.162\n",
      "0.6732676627140172  ---->   zust\n",
      "0.6694122859384102  ---->   tcwv\n",
      "0.6626566129859497  ---->   fg10\n",
      "0.6612484777547533  ---->   i10fg\n",
      "0.642648036738457  ---->   tcw\n",
      "0.6288949871118238  ---->   mx2t\n",
      "0.6225505047631352  ---->   mn2t\n",
      "0.6214999370644869  ---->   deg0l\n",
      "0.5976200438619342  ---->   lai_hv\n",
      "0.5975480365358024  ---->   lai_lv\n",
      "0.5906167445763868  ---->   stl4\n",
      "0.5891668406854781  ---->   u100\n",
      "0.5774153983271163  ---->   ishf\n",
      "0.5766453863820812  ---->   megwss\n",
      "0.5763045798177148  ---->   lgws\n",
      "0.5714939600688236  ---->   stl1\n",
      "0.5643437119781696  ---->   bld\n",
      "0.5643212963807933  ---->   mbld\n",
      "0.563458385894005  ---->   sshf\n",
      "0.5634492076274703  ---->   msshf\n",
      "0.5573123955697628  ---->   skt\n",
      "0.5550060411991772  ---->   blh\n",
      "0.548893258423599  ---->   iews\n",
      "0.5463578927456505  ---->   gwd\n",
      "0.545973199938611  ---->   mgwd\n",
      "0.5433281604689271  ---->   ewss\n",
      "0.5433245979813536  ---->   metss\n",
      "0.534005589045946  ---->   u10n\n",
      "0.5324394691325497  ---->   u10\n",
      "0.5094555548238828  ---->   src\n",
      "0.5088950100636566  ---->   tsn\n",
      "0.5037341928470345  ---->   v10\n",
      "0.4789462639537976  ---->   flsr\n",
      "0.4717267994242917  ---->   fsr\n",
      "0.4675041052561774  ---->   mntss\n",
      "0.4674702301544713  ---->   nsss\n",
      "0.464062834611547  ---->   v10n\n",
      "0.4615192773654134  ---->   inss\n",
      "0.46064935648970584  ---->   v100\n",
      "0.4342643081121332  ---->   p85.162\n",
      "0.4046037583279294  ---->   p74.162\n",
      "0.400125698453231  ---->   tco3\n",
      "0.3903788058278738  ---->   p76.162\n",
      "0.390030087512378  ---->   p66.162\n",
      "0.3869741579655161  ---->   p70.162\n",
      "0.37105916306574505  ---->   p88.162\n",
      "0.3586377867855844  ---->   msnlwrfcs\n",
      "0.35863222925876015  ---->   strc\n",
      "0.34630494366147324  ---->   asn\n",
      "0.34310663460570484  ---->   swvl1\n",
      "0.3349538233583615  ---->   p69.162\n",
      "0.32163436634177484  ---->   mtpr\n",
      "0.3216132020275543  ---->   tp\n",
      "0.3054818045139917  ---->   p65.162\n",
      "0.290878820471517  ---->   ptype\n",
      "0.2871599084891774  ---->   cape\n",
      "0.2848804339374684  ---->   cp\n",
      "0.2848680507166729  ---->   mcpr\n",
      "0.2766288700699752  ---->   p75.162\n",
      "0.2596425444531837  ---->   p80.162\n",
      "0.258131311485855  ---->   mxtpr\n",
      "0.25690444625902403  ---->   mcc\n",
      "0.25651293743227  ---->   mlspr\n",
      "0.25638741544387544  ---->   lsp\n",
      "0.2522703451355871  ---->   tcrw\n",
      "0.2511214836086929  ---->   mntpr\n",
      "0.2470029241907362  ---->   mngwss\n",
      "0.24680305998113344  ---->   mgws\n",
      "0.24532861015074184  ---->   p79.162\n",
      "0.238573325657588  ---->   p78.162\n",
      "0.22661194793269818  ---->   strd\n",
      "0.22660525751650407  ---->   msdwlwrf\n",
      "0.21266492611925245  ---->   sro\n",
      "0.21051479409130958  ---->   msror\n",
      "0.2092061561862556  ---->   crr\n",
      "0.19710794890091202  ---->   p72.162\n",
      "0.1871066195444  ---->   ro\n",
      "0.1865436262312295  ---->   mror\n",
      "0.18504472235738112  ---->   lsrr\n",
      "0.18494039476673033  ---->   lcc\n",
      "0.1773501774722471  ---->   stl2\n",
      "0.17089193168326108  ---->   tcslw\n",
      "0.16999884971449442  ---->   lspf\n",
      "0.16999637603326945  ---->   mlspf\n",
      "0.16386905868447574  ---->   licd\n",
      "0.16291684654189184  ---->   p92.162\n",
      "0.1593223638651104  ---->   tclw\n",
      "0.14970098306608026  ---->   p87.162\n",
      "0.14955365929744885  ---->   p68.162\n",
      "0.12877951342840882  ---->   fdir\n",
      "0.12877815769227832  ---->   msdrswrf\n",
      "0.09569079142499545  ---->   p67.162\n",
      "0.09243264201692032  ---->   sd\n",
      "0.0909338158290097  ---->   tcc\n",
      "0.09086641686581466  ---->   ilspf\n",
      "0.08785201488129991  ---->   ssr\n",
      "0.08785184769065729  ---->   msnswrf\n",
      "0.08763552124237514  ---->   ssrd\n",
      "0.08763365029241608  ---->   msdwswrf\n",
      "0.07587270209847542  ---->   msmr\n",
      "0.07578603978964  ---->   smlt\n",
      "0.07341414918262357  ---->   tsr\n",
      "0.0734102219875071  ---->   mtnswrf\n",
      "0.07278348537045361  ---->   istl2\n",
      "0.06701211971314888  ---->   es\n",
      "0.06602835852642676  ---->   uvb\n",
      "0.0660217885439536  ---->   msdwuvrf\n",
      "0.06469286086825565  ---->   mser\n",
      "0.06398610015337522  ---->   lmld\n",
      "0.06373543231392506  ---->   lshf\n",
      "0.05003989491971949  ---->   tcsw\n",
      "0.04636940560712705  ---->   lict\n",
      "0.04493096763495419  ---->   mtnlwrf\n",
      "0.044929877212259314  ---->   ttr\n",
      "0.04486859880611203  ---->   tsrc\n",
      "0.04486694949391504  ---->   mtnswrfcs\n",
      "0.04461853955569344  ---->   tisr\n",
      "0.044615817014851455  ---->   mtdwswrf\n",
      "0.04237610274103203  ---->   msnlwrf\n",
      "0.04237406083644884  ---->   str\n",
      "0.03862881371307175  ---->   msnswrfcs\n",
      "0.03862409720722914  ---->   ssrc\n",
      "0.038582928951326506  ---->   msdwswrfcs\n",
      "0.03857718155598374  ---->   ssrdc\n",
      "0.03658458087457648  ---->   msdrswrfcs\n",
      "0.03657823514161518  ---->   cdir\n",
      "0.02531796204979825  ---->   tciw\n",
      "0.015013918034911745  ---->   p73.162\n",
      "0.012712787689133892  ---->   p90.162\n",
      "-0.0053134251865527005  ---->   p91.162\n",
      "-0.00968050258645498  ---->   mcsr\n",
      "-0.009695730359254941  ---->   csf\n",
      "-0.009714976629917571  ---->   msr\n",
      "-0.009721706222443342  ---->   sf\n",
      "-0.02832403775264953  ---->   istl1\n",
      "-0.03150274470592732  ---->   p89.162\n",
      "-0.036680004976651824  ---->   cbh\n",
      "-0.061141788848001644  ---->   hcc\n",
      "-0.06958093838297316  ---->   p81.162\n",
      "-0.07791611423457094  ---->   p86.162\n",
      "-0.08994901648096373  ---->   p59.162\n",
      "-0.09225990581420476  ---->   istl3\n",
      "-0.10751322728133227  ---->   mvimd\n",
      "-0.10754242912355644  ---->   vimd\n",
      "-0.12467060555996921  ---->   chnk\n",
      "-0.1305058695066233  ---->   pev\n",
      "-0.13051809852893348  ---->   mper\n",
      "-0.14388742195691015  ---->   mtnlwrfcs\n",
      "-0.1438912729948198  ---->   ttrc\n",
      "-0.1947551091091818  ---->   p84.162\n",
      "-0.24250301337892385  ---->   p82.162\n",
      "-0.2542199192548546  ---->   rsn\n",
      "-0.37490538544387747  ---->   mslhf\n",
      "-0.37491034424593195  ---->   mer\n",
      "-0.37491395432088365  ---->   slhf\n",
      "-0.3749530326934351  ---->   e\n",
      "-0.42263652793030837  ---->   ie\n",
      "-0.43266568390101545  ---->   p64.162\n",
      "-0.45349995310758046  ---->   p83.162\n",
      "-0.4645887928945541  ---->   swvl2\n",
      "-0.46988409642249757  ---->   p77.162\n",
      "-0.48698807868591626  ---->   stl3\n",
      "-0.509061022925527  ---->   ltlt\n",
      "-0.5090618299165726  ---->   lblt\n",
      "-0.5090648022590996  ---->   lmlt\n",
      "-0.5909589577049641  ---->   fal\n",
      "-0.5956251785566542  ---->   mssror\n",
      "-0.5970856947898768  ---->   alnid\n",
      "-0.597226415555809  ---->   ssro\n",
      "-0.597897510195235  ---->   alnip\n",
      "-0.5979302818423424  ---->   aluvp\n",
      "-0.5979341314663449  ---->   aluvd\n",
      "-0.601740513543941  ---->   swvl4\n",
      "-0.6052897000211699  ---->   p63.162\n",
      "-0.6167435045438918  ---->   p62.162\n",
      "-0.641468955358909  ---->   sp\n",
      "-0.6415641234922619  ---->   p53.162\n",
      "-0.6437671371187813  ---->   msl\n",
      "-0.6480160640600215  ---->   swvl3\n",
      "-0.6972837512093047  ---->   p61.162\n",
      "-0.6975728791006794  ---->   p60.162\n",
      "-0.7036885883602039  ---->   p54.162\n",
      "nan  ---->   p140209\n",
      "nan  ---->   anor\n",
      "nan  ---->   isor\n",
      "nan  ---->   bfi\n",
      "nan  ---->   cdww\n",
      "nan  ---->   cin\n",
      "nan  ---->   csfr\n",
      "nan  ---->   dctb\n",
      "nan  ---->   p140208\n",
      "nan  ---->   z\n",
      "nan  ---->   cvh\n",
      "nan  ---->   istl4\n",
      "nan  ---->   cl\n",
      "nan  ---->   dl\n",
      "nan  ---->   lsm\n",
      "nan  ---->   lsf\n",
      "nan  ---->   lssfr\n",
      "nan  ---->   cvl\n",
      "nan  ---->   hmax\n",
      "nan  ---->   mdts\n",
      "nan  ---->   mdww\n",
      "nan  ---->   mlssr\n",
      "nan  ---->   mpts\n",
      "nan  ---->   mpww\n",
      "nan  ---->   msqs\n",
      "nan  ---->   dndza\n",
      "nan  ---->   mwd\n",
      "nan  ---->   p140122\n",
      "nan  ---->   p140125\n",
      "nan  ---->   p140128\n",
      "nan  ---->   mwp\n",
      "nan  ---->   mp1\n",
      "nan  ---->   p1ps\n",
      "nan  ---->   p1ww\n",
      "nan  ---->   p2ps\n",
      "nan  ---->   p2ww\n",
      "nan  ---->   p140123\n",
      "nan  ---->   p140126\n",
      "nan  ---->   p140129\n",
      "nan  ---->   mp2\n",
      "nan  ---->   dndzn\n",
      "nan  ---->   wmb\n",
      "nan  ---->   phioc\n",
      "nan  ---->   phiaw\n",
      "nan  ---->   tauoc\n",
      "nan  ---->   dwi\n",
      "nan  ---->   wind\n",
      "nan  ---->   pp1d\n",
      "nan  ---->   tmax\n",
      "nan  ---->   siconc\n",
      "nan  ---->   sst\n",
      "nan  ---->   swh\n",
      "nan  ---->   shts\n",
      "nan  ---->   shww\n",
      "nan  ---->   p140121\n",
      "nan  ---->   p140124\n",
      "nan  ---->   p140127\n",
      "nan  ---->   slor\n",
      "nan  ---->   slt\n",
      "nan  ---->   sdfor\n",
      "nan  ---->   sdor\n",
      "nan  ---->   tplb\n",
      "nan  ---->   tplt\n",
      "nan  ---->   tvh\n",
      "nan  ---->   tvl\n",
      "nan  ---->   ust\n",
      "nan  ---->   vst\n",
      "nan  ---->   wdw\n",
      "nan  ---->   dwps\n",
      "nan  ---->   dwww\n",
      "nan  ---->   wsk\n",
      "nan  ---->   wsp\n",
      "nan  ---->   wss\n"
     ]
    }
   ],
   "source": [
    "correlation_results(n)"
   ]
  },
  {
   "cell_type": "code",
   "execution_count": 22,
   "id": "992fa423",
   "metadata": {},
   "outputs": [
    {
     "name": "stdout",
     "output_type": "stream",
     "text": [
      "1.0  ---->   totalx\n",
      "0.8809247697757576  ---->   kx\n",
      "0.8187126128499432  ---->   strdc\n",
      "0.8187116695457192  ---->   msdwlwrfcs\n",
      "0.7258345700463361  ---->   d2m\n",
      "0.6794556943720832  ---->   t2m\n",
      "0.6781961565311313  ---->   p71.162\n",
      "0.6732676627140172  ---->   zust\n",
      "0.6694122859384102  ---->   tcwv\n",
      "0.6626566129859497  ---->   fg10\n",
      "0.6612484777547533  ---->   i10fg\n",
      "0.642648036738457  ---->   tcw\n",
      "0.6288949871118238  ---->   mx2t\n",
      "0.6225505047631352  ---->   mn2t\n",
      "0.6214999370644869  ---->   deg0l\n",
      "0.5976200438619342  ---->   lai_hv\n",
      "0.5975480365358024  ---->   lai_lv\n",
      "0.5906167445763868  ---->   stl4\n",
      "0.5891668406854781  ---->   u100\n",
      "0.5774153983271163  ---->   ishf\n",
      "0.5766453863820812  ---->   megwss\n",
      "0.5763045798177148  ---->   lgws\n",
      "0.5714939600688236  ---->   stl1\n",
      "0.5643437119781696  ---->   bld\n",
      "0.5643212963807933  ---->   mbld\n",
      "0.563458385894005  ---->   sshf\n",
      "0.5634492076274703  ---->   msshf\n",
      "0.5573123955697628  ---->   skt\n",
      "0.5550060411991772  ---->   blh\n",
      "0.548893258423599  ---->   iews\n",
      "0.5463578927456505  ---->   gwd\n",
      "0.545973199938611  ---->   mgwd\n",
      "0.5433281604689271  ---->   ewss\n",
      "0.5433245979813536  ---->   metss\n",
      "0.534005589045946  ---->   u10n\n",
      "0.5324394691325497  ---->   u10\n",
      "0.5094555548238828  ---->   src\n",
      "0.5088950100636566  ---->   tsn\n",
      "0.5037341928470345  ---->   v10\n",
      "0.4789462639537976  ---->   flsr\n",
      "0.4717267994242917  ---->   fsr\n",
      "0.4675041052561774  ---->   mntss\n",
      "0.4674702301544713  ---->   nsss\n",
      "0.464062834611547  ---->   v10n\n",
      "0.4615192773654134  ---->   inss\n",
      "0.46064935648970584  ---->   v100\n",
      "0.4342643081121332  ---->   p85.162\n",
      "0.4046037583279294  ---->   p74.162\n",
      "0.400125698453231  ---->   tco3\n",
      "-0.42263652793030837  ---->   ie\n",
      "-0.43266568390101545  ---->   p64.162\n",
      "-0.45349995310758046  ---->   p83.162\n",
      "-0.4645887928945541  ---->   swvl2\n",
      "-0.46988409642249757  ---->   p77.162\n",
      "-0.48698807868591626  ---->   stl3\n",
      "-0.509061022925527  ---->   ltlt\n",
      "-0.5090618299165726  ---->   lblt\n",
      "-0.5090648022590996  ---->   lmlt\n",
      "-0.5909589577049641  ---->   fal\n",
      "-0.5956251785566542  ---->   mssror\n",
      "-0.5970856947898768  ---->   alnid\n",
      "-0.597226415555809  ---->   ssro\n",
      "-0.597897510195235  ---->   alnip\n",
      "-0.5979302818423424  ---->   aluvp\n",
      "-0.5979341314663449  ---->   aluvd\n",
      "-0.601740513543941  ---->   swvl4\n",
      "-0.6052897000211699  ---->   p63.162\n",
      "-0.6167435045438918  ---->   p62.162\n",
      "-0.641468955358909  ---->   sp\n",
      "-0.6415641234922619  ---->   p53.162\n",
      "-0.6437671371187813  ---->   msl\n",
      "-0.6480160640600215  ---->   swvl3\n",
      "-0.6972837512093047  ---->   p61.162\n",
      "-0.6975728791006794  ---->   p60.162\n",
      "-0.7036885883602039  ---->   p54.162\n"
     ]
    }
   ],
   "source": [
    "# define an arbitrary cut off coefficient of 0.40\n",
    "important = []\n",
    "corr_m = n.corr()\n",
    "idx = corr_m[target].sort_values(ascending=False)\n",
    "for i in range(len(idx)):\n",
    "    if np.absolute(idx[i]) > 0.40:\n",
    "        important.append(idx.keys()[i])\n",
    "        print( str(idx[i]) + '  ---->   '+ idx.keys()[i] )"
   ]
  },
  {
   "cell_type": "code",
   "execution_count": 23,
   "id": "1ad7fb9f",
   "metadata": {},
   "outputs": [
    {
     "data": {
      "text/plain": [
       "75"
      ]
     },
     "execution_count": 23,
     "metadata": {},
     "output_type": "execute_result"
    }
   ],
   "source": [
    "# reduced 261 attributes to 75 relevant attributes\n",
    "len(important)"
   ]
  },
  {
   "cell_type": "code",
   "execution_count": 24,
   "id": "c93d37ad",
   "metadata": {},
   "outputs": [
    {
     "name": "stdout",
     "output_type": "stream",
     "text": [
      "totalx = Total totals index\n",
      "kx = K index\n",
      "strdc = Surface thermal radiation downward clear-sky\n",
      "msdwlwrfcs = Mean surface downward long-wave radiation flux, clear sky\n",
      "d2m = 2 metre dewpoint temperature\n",
      "t2m = 2 metre temperature\n",
      "p71.162 = Vertical integral of eastward water vapour flux\n",
      "zust = Friction velocity\n",
      "tcwv = Total column water vapour\n",
      "fg10 = 10 metre wind gust since previous post-processing\n",
      "i10fg = Instantaneous 10 metre wind gust\n",
      "tcw = Total column water\n",
      "mx2t = Maximum temperature at 2 metres since previous post-processing\n",
      "mn2t = Minimum temperature at 2 metres since previous post-processing\n",
      "deg0l = 0 degrees C isothermal level (atm)\n",
      "lai_hv = Leaf area index, high vegetation\n",
      "lai_lv = Leaf area index, low vegetation\n",
      "stl4 = Soil temperature level 4\n",
      "u100 = 100 metre U wind component\n",
      "ishf = Instantaneous surface sensible heat flux\n",
      "megwss = Mean eastward gravity wave surface stress\n",
      "lgws = Eastward gravity wave surface stress\n",
      "stl1 = Soil temperature level 1\n",
      "bld = Boundary layer dissipation\n",
      "mbld = Mean boundary layer dissipation\n",
      "sshf = Surface sensible heat flux\n",
      "msshf = Mean surface sensible heat flux\n",
      "skt = Skin temperature\n",
      "blh = Boundary layer height\n",
      "iews = Instantaneous eastward turbulent surface stress\n",
      "gwd = Gravity wave dissipation\n",
      "mgwd = Mean gravity wave dissipation\n",
      "ewss = Eastward turbulent surface stress\n",
      "metss = Mean eastward turbulent surface stress\n",
      "u10n = Neutral wind at 10 m u-component\n",
      "u10 = 10 metre U wind component\n",
      "src = Skin reservoir content\n",
      "tsn = Temperature of snow layer\n",
      "v10 = 10 metre V wind component\n",
      "flsr = Forecast logarithm of surface roughness for heat\n",
      "fsr = Forecast surface roughness\n",
      "mntss = Mean northward turbulent surface stress\n",
      "nsss = Northward turbulent surface stress\n",
      "v10n = Neutral wind at 10 m v-component\n",
      "inss = Instantaneous northward turbulent surface stress\n",
      "v100 = 100 metre V wind component\n",
      "p85.162 = Vertical integral of divergence of geopotential flux\n",
      "p74.162 = Vertical integral of northward geopotential flux\n",
      "tco3 = Total column ozone\n",
      "ie = Instantaneous moisture flux\n",
      "p64.162 = Vertical integral of energy conversion\n",
      "p83.162 = Vertical integral of divergence of thermal energy flux\n",
      "swvl2 = Volumetric soil water layer 2\n",
      "p77.162 = Vertical integral of eastward ozone flux\n",
      "stl3 = Soil temperature level 3\n",
      "ltlt = Lake total layer temperature\n",
      "lblt = Lake bottom temperature\n",
      "lmlt = Lake mix-layer temperature\n",
      "fal = Forecast albedo\n",
      "mssror = Mean sub-surface runoff rate\n",
      "alnid = Near IR albedo for diffuse radiation\n",
      "ssro = Sub-surface runoff\n",
      "alnip = Near IR albedo for direct radiation\n",
      "aluvp = UV visible albedo for direct radiation\n",
      "aluvd = UV visible albedo for diffuse radiation\n",
      "swvl4 = Volumetric soil water layer 4\n",
      "p63.162 = Vertical integral of total energy\n",
      "p62.162 = Vertical integral of potential+internal+latent energy\n",
      "sp = Surface pressure\n",
      "p53.162 = Vertical integral of mass of atmosphere\n",
      "msl = Mean sea level pressure\n",
      "swvl3 = Volumetric soil water layer 3\n",
      "p61.162 = Vertical integral of potential+internal energy\n",
      "p60.162 = Vertical integral of thermal energy\n",
      "p54.162 = Vertical integral of temperature\n"
     ]
    },
    {
     "name": "stderr",
     "output_type": "stream",
     "text": [
      "<ipython-input-24-9882575df826>:4: DeprecationWarning: tostring() is deprecated. Use tobytes() instead.\n",
      "  print(k + ' = ' + week[k].long_name)\n"
     ]
    }
   ],
   "source": [
    "# obtain long name of attribute to determine if attribute importance is feasable\n",
    "# we compare these values to our researched list\n",
    "for k in important:\n",
    "    print(k + ' = ' + week[k].long_name)"
   ]
  },
  {
   "cell_type": "markdown",
   "id": "9fcd49fd",
   "metadata": {},
   "source": [
    "### Result\n",
    "\n",
    "We have now a list of possibly important weather features for our target variable. We'll start downloading the full data set and start with data exploration."
   ]
  },
  {
   "cell_type": "markdown",
   "id": "339e4b41",
   "metadata": {},
   "source": [
    "# Data Exploration\n",
    "\n",
    "### Handling time series\n",
    "Since we haven't learned about encoding / handling of time series, we try to remove most of the time based component from the data set. We treat every 24 hour period as conditionally independent and take statistics of each day as independent features in our dataset."
   ]
  },
  {
   "cell_type": "code",
   "execution_count": 25,
   "id": "866fd9ff",
   "metadata": {},
   "outputs": [],
   "source": [
    "file01 = nc.Dataset('./001.nc')\n",
    "file02 = nc.Dataset('./002.nc')\n",
    "file03 = nc.Dataset('./003.nc')\n",
    "file04 = nc.Dataset('./004.nc')\n",
    "file05 = nc.Dataset('./005.nc')\n",
    "file06 = nc.Dataset('./006.nc')\n",
    "file07 = nc.Dataset('./007.nc')\n",
    "# file08 = nc.Dataset('./008.nc') ptype duplicate\n",
    "# file11 = nc.Dataset('./011.nc')\n",
    "file12 = nc.Dataset('./012.nc')\n",
    "file13 = nc.Dataset('./013.nc')\n",
    "#file14 = nc.Dataset('./014.nc') geopotential constant\n",
    "file15 = nc.Dataset('./015.nc')\n",
    "file16 = nc.Dataset('./016.nc')\n",
    "file18 = nc.Dataset('./018.nc')\n",
    "file19 = nc.Dataset('./019.nc')\n",
    "\n",
    "file01a = nc.Dataset('./a01.nc')\n",
    "file02a = nc.Dataset('./a02.nc')\n",
    "file03a = nc.Dataset('./a03.nc')\n",
    "file04a = nc.Dataset('./a04.nc')\n",
    "file05a = nc.Dataset('./a05.nc')\n",
    "file06a = nc.Dataset('./a06.nc')\n",
    "\n",
    "file28 = nc.Dataset('./028.nc')\n",
    "file29 = nc.Dataset('./029.nc')\n",
    "file30 = nc.Dataset('./030.nc')\n",
    "file31 = nc.Dataset('./031.nc')\n",
    "file32 = nc.Dataset('./032.nc')\n",
    "file33 = nc.Dataset('./033.nc')\n",
    "file34 = nc.Dataset('./034.nc')\n",
    "file35 = nc.Dataset('./035.nc')\n",
    "file36 = nc.Dataset('./036.nc')\n",
    "file37 = nc.Dataset('./037.nc')\n",
    "file38 = nc.Dataset('./038.nc')\n",
    "file39 = nc.Dataset('./039.nc')\n",
    "file40 = nc.Dataset('./040.nc')\n",
    "file41 = nc.Dataset('./041.nc')\n",
    "\n",
    "file42 = nc.Dataset('./042.nc')\n",
    "file43 = nc.Dataset('./043.nc')\n",
    "file44 = nc.Dataset('./044.nc')\n",
    "file45 = nc.Dataset('./045.nc')\n",
    "file46 = nc.Dataset('./046.nc')\n",
    "file47 = nc.Dataset('./047.nc')\n",
    "file48 = nc.Dataset('./048.nc')\n",
    "file49 = nc.Dataset('./049.nc')\n",
    "file50 = nc.Dataset('./050.nc')\n",
    "\n",
    "file51 = nc.Dataset(r'C:\\Users\\annal\\Desktop\\Vorlesungen\\DM Project\\cloud_medium_cover.nc')\n",
    "file52 = nc.Dataset(r'C:\\Users\\annal\\Desktop\\Vorlesungen\\DM Project\\cloud_high_cover.nc')\n",
    "file53 = nc.Dataset(r'C:\\Users\\annal\\Desktop\\Vorlesungen\\DM Project\\cloud_low_cover.nc')"
   ]
  },
  {
   "cell_type": "code",
   "execution_count": 26,
   "id": "b0736616",
   "metadata": {},
   "outputs": [],
   "source": [
    "files = [\n",
    "    file01,\n",
    "    file02,\n",
    "    file03,\n",
    "    file04,\n",
    "    file05,\n",
    "    file06,\n",
    "    file07,\n",
    "    #file08,\n",
    "    #file09,\n",
    "    #file10,\n",
    "    #file11,\n",
    "    file12,\n",
    "    file13,\n",
    "    #file14,\n",
    "    file15,\n",
    "    file16,\n",
    "    #file17,\n",
    "    file18,\n",
    "    file19,\n",
    "    #file20,\n",
    "    #file21,\n",
    "    #file22,\n",
    "    #file23,\n",
    "    #file24,\n",
    "    #file25,\n",
    "    #file26,\n",
    "    #file27,\n",
    "    file01a,\n",
    "    file02a,\n",
    "    file03a,\n",
    "    file04a,\n",
    "    file05a,\n",
    "    file06a,\n",
    "    file28,\n",
    "    file29,\n",
    "    file30,\n",
    "    file31,\n",
    "    file32,\n",
    "    file33,\n",
    "    file34,\n",
    "    file35,\n",
    "    file36,\n",
    "    file37,\n",
    "    file38,\n",
    "    file39,\n",
    "    file40,\n",
    "    file41,\n",
    "    file42,\n",
    "    file43,\n",
    "    file44,\n",
    "    file45,\n",
    "    file46,\n",
    "    file47,\n",
    "    file48,\n",
    "    file49,\n",
    "    file50,\n",
    "    file51,\n",
    "    file52,\n",
    "    file53,\n",
    "    \n",
    "]"
   ]
  },
  {
   "cell_type": "code",
   "execution_count": 27,
   "id": "d0810d62",
   "metadata": {},
   "outputs": [
    {
     "name": "stdout",
     "output_type": "stream",
     "text": [
      "1\n",
      "u10n\n",
      "------------\n",
      "2\n",
      "sp\n",
      "------------\n",
      "3\n",
      "u100\n",
      "------------\n",
      "4\n",
      "d2m\n",
      "------------\n",
      "5\n",
      "skt\n",
      "------------\n",
      "6\n",
      "totalx\n",
      "------------\n",
      "7\n",
      "ptype\n",
      "------------\n",
      "8\n",
      "zust\n",
      "------------\n",
      "9\n",
      "sdfor\n",
      "------------\n",
      "10\n",
      "kx\n",
      "------------\n",
      "11\n",
      "v10n\n",
      "------------\n",
      "12\n",
      "stl1\n",
      "------------\n",
      "13\n",
      "lmlt\n",
      "------------\n",
      "14\n",
      "tciw\n",
      "------------\n",
      "15\n",
      "tclw\n",
      "------------\n",
      "16\n",
      "cbh\n",
      "------------\n",
      "17\n",
      "tcc\n",
      "------------\n",
      "18\n",
      "sshf\n",
      "------------\n",
      "19\n",
      "ishf\n",
      "------------\n",
      "20\n",
      "strdc\n",
      "------------\n",
      "21\n",
      "msdwlwrfcs\n",
      "------------\n",
      "22\n",
      "p61.162\n",
      "------------\n",
      "23\n",
      "p54.162\n",
      "------------\n",
      "24\n",
      "p60.162\n",
      "------------\n",
      "25\n",
      "t2m\n",
      "------------\n",
      "26\n",
      "p71.162\n",
      "------------\n",
      "27\n",
      "p53.162\n",
      "------------\n",
      "28\n",
      "tcwv\n",
      "------------\n",
      "29\n",
      "tcw\n",
      "------------\n",
      "30\n",
      "p62.162\n",
      "------------\n",
      "31\n",
      "bld\n",
      "------------\n",
      "32\n",
      "blh\n",
      "------------\n",
      "33\n",
      "deg0l\n",
      "------------\n",
      "34\n",
      "vst\n",
      "------------\n",
      "35\n",
      "ust\n",
      "------------\n",
      "36\n",
      "tp\n",
      "------------\n",
      "37\n",
      "tcslw\n",
      "------------\n",
      "38\n",
      "lsrr\n",
      "------------\n",
      "39\n",
      "ilspf\n",
      "------------\n",
      "40\n",
      "cape\n",
      "------------\n",
      "41\n",
      "u100\n",
      "------------\n",
      "42\n",
      "u10n\n",
      "------------\n",
      "43\n",
      "mcc\n",
      "------------\n",
      "44\n",
      "hcc\n",
      "------------\n",
      "45\n",
      "lcc\n",
      "------------\n"
     ]
    }
   ],
   "source": [
    "#retrieve all variables from files\n",
    "keys = []\n",
    "for i in range (len(files)):\n",
    "    all_keys = files[i].variables.keys()\n",
    "    for k in all_keys:\n",
    "        if k not in ['longitude', 'latitude', 'time',]:\n",
    "            keys.append(k)\n",
    "            print(i+1)\n",
    "            print(k)\n",
    "    print(\"------------\")"
   ]
  },
  {
   "cell_type": "code",
   "execution_count": 28,
   "id": "be2154fd",
   "metadata": {},
   "outputs": [
    {
     "data": {
      "text/plain": [
       "45"
      ]
     },
     "execution_count": 28,
     "metadata": {},
     "output_type": "execute_result"
    }
   ],
   "source": [
    "len(keys)"
   ]
  },
  {
   "cell_type": "code",
   "execution_count": 29,
   "id": "4c3a0950",
   "metadata": {},
   "outputs": [
    {
     "name": "stdout",
     "output_type": "stream",
     "text": [
      "Neutral wind at 10 m u-component\n",
      "Surface pressure\n",
      "100 metre U wind component\n",
      "2 metre dewpoint temperature\n",
      "Skin temperature\n",
      "Total totals index\n",
      "Precipitation type\n",
      "Friction velocity\n",
      "Standard deviation of filtered subgrid orography\n",
      "K index\n",
      "Neutral wind at 10 m v-component\n",
      "Soil temperature level 1\n",
      "Lake mix-layer temperature\n",
      "Total column cloud ice water\n",
      "Total column cloud liquid water\n",
      "Cloud base height\n",
      "Total cloud cover\n",
      "Surface sensible heat flux\n",
      "Instantaneous surface sensible heat flux\n",
      "Surface thermal radiation downward clear-sky\n",
      "Mean surface downward long-wave radiation flux, clear sky\n",
      "Vertical integral of potential+internal energy\n",
      "Vertical integral of temperature\n",
      "Vertical integral of thermal energy\n",
      "2 metre temperature\n",
      "Vertical integral of eastward water vapour flux\n",
      "Vertical integral of mass of atmosphere\n",
      "Total column water vapour\n",
      "Total column water\n",
      "Vertical integral of potential+internal+latent energy\n",
      "Boundary layer dissipation\n",
      "Boundary layer height\n",
      "0 degrees C isothermal level (atm)\n",
      "V-component stokes drift\n",
      "U-component stokes drift\n",
      "Total precipitation\n",
      "Total column supercooled liquid water\n",
      "Large scale rain rate\n",
      "Instantaneous large-scale surface precipitation fraction\n",
      "Convective available potential energy\n",
      "100 metre U wind component\n",
      "Neutral wind at 10 m u-component\n",
      "Medium cloud cover\n",
      "High cloud cover\n",
      "Low cloud cover\n"
     ]
    },
    {
     "name": "stderr",
     "output_type": "stream",
     "text": [
      "<ipython-input-29-bfcfd3240e39>:3: DeprecationWarning: tostring() is deprecated. Use tobytes() instead.\n",
      "  print(files[i][key].long_name)\n"
     ]
    }
   ],
   "source": [
    "for i in range(len(keys)):\n",
    "    key = keys[i]\n",
    "    print(files[i][key].long_name)"
   ]
  },
  {
   "cell_type": "code",
   "execution_count": 30,
   "id": "9bff6920",
   "metadata": {},
   "outputs": [
    {
     "name": "stderr",
     "output_type": "stream",
     "text": [
      "<ipython-input-30-a1bea8073f3e>:3: DeprecationWarning: tostring() is deprecated. Use tobytes() instead.\n",
      "  print(files[i][keys[i]].long_name)\n",
      "<ipython-input-30-a1bea8073f3e>:4: DeprecationWarning: `np.bool` is a deprecated alias for the builtin `bool`. To silence this warning, use `bool` by itself. Doing this will not modify any behavior and is safe. If you specifically wanted the numpy scalar type, use `np.bool_` here.\n",
      "Deprecated in NumPy 1.20; for more details and guidance: https://numpy.org/devdocs/release/1.20.0-notes.html#deprecations\n",
      "  a = files[i][keys[i]][:].data\n"
     ]
    },
    {
     "name": "stdout",
     "output_type": "stream",
     "text": [
      "Neutral wind at 10 m u-component\n",
      "(3653, 24)\n",
      "Surface pressure\n",
      "(3653, 24)\n",
      "100 metre U wind component\n",
      "(3653, 24)\n",
      "2 metre dewpoint temperature\n",
      "(3653, 24)\n",
      "Skin temperature\n",
      "(3653, 24)\n",
      "Total totals index\n",
      "(3653, 24)\n",
      "Precipitation type\n",
      "(3653, 24)\n",
      "Friction velocity\n",
      "(3653, 24)\n",
      "Standard deviation of filtered subgrid orography\n",
      "(3653, 24)\n",
      "K index\n",
      "(3653, 24)\n",
      "Neutral wind at 10 m v-component\n",
      "(3653, 24)\n",
      "Soil temperature level 1\n",
      "(3653, 24)\n",
      "Lake mix-layer temperature\n",
      "(3653, 24)\n",
      "Total column cloud ice water\n",
      "(3653, 24)\n",
      "Total column cloud liquid water\n",
      "(3653, 24)\n",
      "Cloud base height\n",
      "(3653, 24)\n",
      "Total cloud cover\n",
      "(3653, 24)\n",
      "Surface sensible heat flux\n",
      "(3653, 24)\n",
      "Instantaneous surface sensible heat flux\n",
      "(3653, 24)\n",
      "Surface thermal radiation downward clear-sky\n",
      "(3653, 24)\n",
      "Mean surface downward long-wave radiation flux, clear sky\n",
      "(3653, 24)\n",
      "Vertical integral of potential+internal energy\n",
      "(3653, 24)\n",
      "Vertical integral of temperature\n",
      "(3653, 24)\n",
      "Vertical integral of thermal energy\n",
      "(3653, 24)\n",
      "2 metre temperature\n",
      "(3653, 24)\n",
      "Vertical integral of eastward water vapour flux\n",
      "(3653, 24)\n",
      "Vertical integral of mass of atmosphere\n",
      "(3653, 24)\n",
      "Total column water vapour\n",
      "(3653, 24)\n",
      "Total column water\n",
      "(3653, 24)\n",
      "Vertical integral of potential+internal+latent energy\n",
      "(3653, 24)\n",
      "Boundary layer dissipation\n",
      "(3653, 24)\n",
      "Boundary layer height\n",
      "(3653, 24)\n",
      "0 degrees C isothermal level (atm)\n",
      "(3653, 24)\n",
      "V-component stokes drift\n",
      "(3653, 24)\n",
      "U-component stokes drift\n",
      "(3653, 24)\n",
      "Total precipitation\n",
      "(3653, 24)\n",
      "Total column supercooled liquid water\n",
      "(3653, 24)\n",
      "Large scale rain rate\n",
      "(3653, 24)\n",
      "Instantaneous large-scale surface precipitation fraction\n",
      "(3653, 24)\n",
      "Convective available potential energy\n",
      "(3653, 24)\n",
      "100 metre U wind component\n",
      "(3653, 24)\n",
      "Neutral wind at 10 m u-component\n",
      "(3653, 24)\n",
      "Medium cloud cover\n",
      "(3653, 24)\n",
      "High cloud cover\n",
      "(3653, 24)\n",
      "Low cloud cover\n",
      "(3653, 24)\n"
     ]
    }
   ],
   "source": [
    "df = pd.DataFrame()\n",
    "for i in range (len(files)):\n",
    "    print(files[i][keys[i]].long_name)\n",
    "    a = files[i][keys[i]][:].data\n",
    "    a = a.reshape(87672, -1)\n",
    "    b = np.mean(a, axis=1)\n",
    "    b = b.reshape(3653, 24)\n",
    "    #df['min_'+keys[i]] = np.min(b, axis=1)\n",
    "    #df['max_'+keys[i]] = np.max(b, axis=1)\n",
    "    df['mean_' + keys[i]] = np.mean(b, axis =1)\n",
    "    #df['var_' + keys[i]] = np.var(b, axis=1)\n",
    "    print(b.shape)"
   ]
  },
  {
   "cell_type": "markdown",
   "id": "bb90ba5a",
   "metadata": {},
   "source": [
    "## Finished assembly of data frame"
   ]
  },
  {
   "cell_type": "code",
   "execution_count": 31,
   "id": "5e951ce6",
   "metadata": {},
   "outputs": [
    {
     "data": {
      "text/html": [
       "<div>\n",
       "<style scoped>\n",
       "    .dataframe tbody tr th:only-of-type {\n",
       "        vertical-align: middle;\n",
       "    }\n",
       "\n",
       "    .dataframe tbody tr th {\n",
       "        vertical-align: top;\n",
       "    }\n",
       "\n",
       "    .dataframe thead th {\n",
       "        text-align: right;\n",
       "    }\n",
       "</style>\n",
       "<table border=\"1\" class=\"dataframe\">\n",
       "  <thead>\n",
       "    <tr style=\"text-align: right;\">\n",
       "      <th></th>\n",
       "      <th>mean_u10n</th>\n",
       "      <th>mean_sp</th>\n",
       "      <th>mean_u100</th>\n",
       "      <th>mean_d2m</th>\n",
       "      <th>mean_skt</th>\n",
       "      <th>mean_totalx</th>\n",
       "      <th>mean_ptype</th>\n",
       "      <th>mean_zust</th>\n",
       "      <th>mean_sdfor</th>\n",
       "      <th>mean_kx</th>\n",
       "      <th>...</th>\n",
       "      <th>mean_vst</th>\n",
       "      <th>mean_ust</th>\n",
       "      <th>mean_tp</th>\n",
       "      <th>mean_tcslw</th>\n",
       "      <th>mean_lsrr</th>\n",
       "      <th>mean_ilspf</th>\n",
       "      <th>mean_cape</th>\n",
       "      <th>mean_mcc</th>\n",
       "      <th>mean_hcc</th>\n",
       "      <th>mean_lcc</th>\n",
       "    </tr>\n",
       "  </thead>\n",
       "  <tbody>\n",
       "    <tr>\n",
       "      <th>0</th>\n",
       "      <td>1.514804</td>\n",
       "      <td>100066.638959</td>\n",
       "      <td>3.452743</td>\n",
       "      <td>272.354215</td>\n",
       "      <td>272.197156</td>\n",
       "      <td>28.871947</td>\n",
       "      <td>2.750027</td>\n",
       "      <td>0.128811</td>\n",
       "      <td>34.206648</td>\n",
       "      <td>-5.533518</td>\n",
       "      <td>...</td>\n",
       "      <td>-32767.0</td>\n",
       "      <td>-32767.0</td>\n",
       "      <td>0.000029</td>\n",
       "      <td>0.233133</td>\n",
       "      <td>4.755187e-06</td>\n",
       "      <td>0.599378</td>\n",
       "      <td>9.374736</td>\n",
       "      <td>0.172447</td>\n",
       "      <td>-5.551115e-17</td>\n",
       "      <td>0.892420</td>\n",
       "    </tr>\n",
       "    <tr>\n",
       "      <th>1</th>\n",
       "      <td>1.258293</td>\n",
       "      <td>100170.593400</td>\n",
       "      <td>3.035505</td>\n",
       "      <td>272.052127</td>\n",
       "      <td>271.166422</td>\n",
       "      <td>30.291684</td>\n",
       "      <td>4.625008</td>\n",
       "      <td>0.133434</td>\n",
       "      <td>34.206648</td>\n",
       "      <td>-13.131095</td>\n",
       "      <td>...</td>\n",
       "      <td>-32767.0</td>\n",
       "      <td>-32767.0</td>\n",
       "      <td>0.000010</td>\n",
       "      <td>0.081389</td>\n",
       "      <td>2.988573e-07</td>\n",
       "      <td>0.369991</td>\n",
       "      <td>13.720523</td>\n",
       "      <td>0.077058</td>\n",
       "      <td>-5.551115e-17</td>\n",
       "      <td>0.538442</td>\n",
       "    </tr>\n",
       "    <tr>\n",
       "      <th>2</th>\n",
       "      <td>0.625798</td>\n",
       "      <td>100300.192825</td>\n",
       "      <td>2.158679</td>\n",
       "      <td>270.541523</td>\n",
       "      <td>270.348920</td>\n",
       "      <td>33.781080</td>\n",
       "      <td>5.104156</td>\n",
       "      <td>0.077228</td>\n",
       "      <td>34.206648</td>\n",
       "      <td>-11.881619</td>\n",
       "      <td>...</td>\n",
       "      <td>-32767.0</td>\n",
       "      <td>-32767.0</td>\n",
       "      <td>0.000005</td>\n",
       "      <td>0.124082</td>\n",
       "      <td>0.000000e+00</td>\n",
       "      <td>0.559767</td>\n",
       "      <td>15.403435</td>\n",
       "      <td>0.077913</td>\n",
       "      <td>3.023953e-01</td>\n",
       "      <td>0.734415</td>\n",
       "    </tr>\n",
       "    <tr>\n",
       "      <th>3</th>\n",
       "      <td>-0.413083</td>\n",
       "      <td>99901.154399</td>\n",
       "      <td>-0.546596</td>\n",
       "      <td>267.678637</td>\n",
       "      <td>267.478934</td>\n",
       "      <td>34.847245</td>\n",
       "      <td>4.999985</td>\n",
       "      <td>0.062465</td>\n",
       "      <td>34.206648</td>\n",
       "      <td>-14.010293</td>\n",
       "      <td>...</td>\n",
       "      <td>-32767.0</td>\n",
       "      <td>-32767.0</td>\n",
       "      <td>0.000005</td>\n",
       "      <td>0.053091</td>\n",
       "      <td>0.000000e+00</td>\n",
       "      <td>0.551082</td>\n",
       "      <td>6.907125</td>\n",
       "      <td>0.294804</td>\n",
       "      <td>5.811599e-01</td>\n",
       "      <td>0.511254</td>\n",
       "    </tr>\n",
       "    <tr>\n",
       "      <th>4</th>\n",
       "      <td>-1.096422</td>\n",
       "      <td>99276.268043</td>\n",
       "      <td>-1.340918</td>\n",
       "      <td>266.092413</td>\n",
       "      <td>267.691344</td>\n",
       "      <td>36.648213</td>\n",
       "      <td>4.749989</td>\n",
       "      <td>0.133923</td>\n",
       "      <td>34.206648</td>\n",
       "      <td>-3.991905</td>\n",
       "      <td>...</td>\n",
       "      <td>-32767.0</td>\n",
       "      <td>-32767.0</td>\n",
       "      <td>0.000002</td>\n",
       "      <td>0.057305</td>\n",
       "      <td>0.000000e+00</td>\n",
       "      <td>0.344113</td>\n",
       "      <td>2.384820</td>\n",
       "      <td>0.142499</td>\n",
       "      <td>3.814432e-01</td>\n",
       "      <td>0.609097</td>\n",
       "    </tr>\n",
       "    <tr>\n",
       "      <th>...</th>\n",
       "      <td>...</td>\n",
       "      <td>...</td>\n",
       "      <td>...</td>\n",
       "      <td>...</td>\n",
       "      <td>...</td>\n",
       "      <td>...</td>\n",
       "      <td>...</td>\n",
       "      <td>...</td>\n",
       "      <td>...</td>\n",
       "      <td>...</td>\n",
       "      <td>...</td>\n",
       "      <td>...</td>\n",
       "      <td>...</td>\n",
       "      <td>...</td>\n",
       "      <td>...</td>\n",
       "      <td>...</td>\n",
       "      <td>...</td>\n",
       "      <td>...</td>\n",
       "      <td>...</td>\n",
       "      <td>...</td>\n",
       "      <td>...</td>\n",
       "    </tr>\n",
       "    <tr>\n",
       "      <th>3648</th>\n",
       "      <td>0.301175</td>\n",
       "      <td>97670.076078</td>\n",
       "      <td>1.392121</td>\n",
       "      <td>272.159259</td>\n",
       "      <td>275.114354</td>\n",
       "      <td>38.744972</td>\n",
       "      <td>2.270866</td>\n",
       "      <td>0.393546</td>\n",
       "      <td>34.206648</td>\n",
       "      <td>3.796433</td>\n",
       "      <td>...</td>\n",
       "      <td>-32767.0</td>\n",
       "      <td>-32767.0</td>\n",
       "      <td>0.000226</td>\n",
       "      <td>0.073905</td>\n",
       "      <td>9.268713e-05</td>\n",
       "      <td>0.284797</td>\n",
       "      <td>5.928724</td>\n",
       "      <td>0.533122</td>\n",
       "      <td>9.995446e-01</td>\n",
       "      <td>0.599711</td>\n",
       "    </tr>\n",
       "    <tr>\n",
       "      <th>3649</th>\n",
       "      <td>0.070719</td>\n",
       "      <td>96064.658816</td>\n",
       "      <td>0.934923</td>\n",
       "      <td>275.895040</td>\n",
       "      <td>275.615978</td>\n",
       "      <td>51.397479</td>\n",
       "      <td>1.229208</td>\n",
       "      <td>0.235099</td>\n",
       "      <td>34.206648</td>\n",
       "      <td>13.421346</td>\n",
       "      <td>...</td>\n",
       "      <td>-32767.0</td>\n",
       "      <td>-32767.0</td>\n",
       "      <td>0.000322</td>\n",
       "      <td>0.045416</td>\n",
       "      <td>6.522893e-05</td>\n",
       "      <td>0.611798</td>\n",
       "      <td>8.895169</td>\n",
       "      <td>0.566535</td>\n",
       "      <td>8.350888e-01</td>\n",
       "      <td>0.286988</td>\n",
       "    </tr>\n",
       "    <tr>\n",
       "      <th>3650</th>\n",
       "      <td>1.831054</td>\n",
       "      <td>97003.024807</td>\n",
       "      <td>3.941376</td>\n",
       "      <td>274.408335</td>\n",
       "      <td>274.857152</td>\n",
       "      <td>54.711400</td>\n",
       "      <td>1.437538</td>\n",
       "      <td>0.269854</td>\n",
       "      <td>34.206648</td>\n",
       "      <td>17.387979</td>\n",
       "      <td>...</td>\n",
       "      <td>-32767.0</td>\n",
       "      <td>-32767.0</td>\n",
       "      <td>0.000197</td>\n",
       "      <td>0.040773</td>\n",
       "      <td>1.339942e-05</td>\n",
       "      <td>0.552615</td>\n",
       "      <td>28.497553</td>\n",
       "      <td>0.478682</td>\n",
       "      <td>5.995655e-01</td>\n",
       "      <td>0.479420</td>\n",
       "    </tr>\n",
       "    <tr>\n",
       "      <th>3651</th>\n",
       "      <td>1.569105</td>\n",
       "      <td>98303.762344</td>\n",
       "      <td>3.974165</td>\n",
       "      <td>274.734868</td>\n",
       "      <td>274.534005</td>\n",
       "      <td>53.840718</td>\n",
       "      <td>1.000046</td>\n",
       "      <td>0.209653</td>\n",
       "      <td>34.206648</td>\n",
       "      <td>15.900618</td>\n",
       "      <td>...</td>\n",
       "      <td>-32767.0</td>\n",
       "      <td>-32767.0</td>\n",
       "      <td>0.000022</td>\n",
       "      <td>0.038688</td>\n",
       "      <td>2.975308e-06</td>\n",
       "      <td>0.545493</td>\n",
       "      <td>27.155701</td>\n",
       "      <td>0.301340</td>\n",
       "      <td>2.122550e-01</td>\n",
       "      <td>0.355306</td>\n",
       "    </tr>\n",
       "    <tr>\n",
       "      <th>3652</th>\n",
       "      <td>-0.531303</td>\n",
       "      <td>98440.935068</td>\n",
       "      <td>0.082089</td>\n",
       "      <td>273.638509</td>\n",
       "      <td>273.870932</td>\n",
       "      <td>50.668536</td>\n",
       "      <td>2.375032</td>\n",
       "      <td>0.223627</td>\n",
       "      <td>34.206648</td>\n",
       "      <td>15.369043</td>\n",
       "      <td>...</td>\n",
       "      <td>-32767.0</td>\n",
       "      <td>-32767.0</td>\n",
       "      <td>0.000226</td>\n",
       "      <td>0.061798</td>\n",
       "      <td>2.984750e-05</td>\n",
       "      <td>0.758357</td>\n",
       "      <td>5.556421</td>\n",
       "      <td>0.760948</td>\n",
       "      <td>5.444191e-01</td>\n",
       "      <td>0.519101</td>\n",
       "    </tr>\n",
       "  </tbody>\n",
       "</table>\n",
       "<p>3653 rows × 43 columns</p>\n",
       "</div>"
      ],
      "text/plain": [
       "      mean_u10n        mean_sp  mean_u100    mean_d2m    mean_skt  \\\n",
       "0      1.514804  100066.638959   3.452743  272.354215  272.197156   \n",
       "1      1.258293  100170.593400   3.035505  272.052127  271.166422   \n",
       "2      0.625798  100300.192825   2.158679  270.541523  270.348920   \n",
       "3     -0.413083   99901.154399  -0.546596  267.678637  267.478934   \n",
       "4     -1.096422   99276.268043  -1.340918  266.092413  267.691344   \n",
       "...         ...            ...        ...         ...         ...   \n",
       "3648   0.301175   97670.076078   1.392121  272.159259  275.114354   \n",
       "3649   0.070719   96064.658816   0.934923  275.895040  275.615978   \n",
       "3650   1.831054   97003.024807   3.941376  274.408335  274.857152   \n",
       "3651   1.569105   98303.762344   3.974165  274.734868  274.534005   \n",
       "3652  -0.531303   98440.935068   0.082089  273.638509  273.870932   \n",
       "\n",
       "      mean_totalx  mean_ptype  mean_zust  mean_sdfor    mean_kx  ...  \\\n",
       "0       28.871947    2.750027   0.128811   34.206648  -5.533518  ...   \n",
       "1       30.291684    4.625008   0.133434   34.206648 -13.131095  ...   \n",
       "2       33.781080    5.104156   0.077228   34.206648 -11.881619  ...   \n",
       "3       34.847245    4.999985   0.062465   34.206648 -14.010293  ...   \n",
       "4       36.648213    4.749989   0.133923   34.206648  -3.991905  ...   \n",
       "...           ...         ...        ...         ...        ...  ...   \n",
       "3648    38.744972    2.270866   0.393546   34.206648   3.796433  ...   \n",
       "3649    51.397479    1.229208   0.235099   34.206648  13.421346  ...   \n",
       "3650    54.711400    1.437538   0.269854   34.206648  17.387979  ...   \n",
       "3651    53.840718    1.000046   0.209653   34.206648  15.900618  ...   \n",
       "3652    50.668536    2.375032   0.223627   34.206648  15.369043  ...   \n",
       "\n",
       "      mean_vst  mean_ust   mean_tp  mean_tcslw     mean_lsrr  mean_ilspf  \\\n",
       "0     -32767.0  -32767.0  0.000029    0.233133  4.755187e-06    0.599378   \n",
       "1     -32767.0  -32767.0  0.000010    0.081389  2.988573e-07    0.369991   \n",
       "2     -32767.0  -32767.0  0.000005    0.124082  0.000000e+00    0.559767   \n",
       "3     -32767.0  -32767.0  0.000005    0.053091  0.000000e+00    0.551082   \n",
       "4     -32767.0  -32767.0  0.000002    0.057305  0.000000e+00    0.344113   \n",
       "...        ...       ...       ...         ...           ...         ...   \n",
       "3648  -32767.0  -32767.0  0.000226    0.073905  9.268713e-05    0.284797   \n",
       "3649  -32767.0  -32767.0  0.000322    0.045416  6.522893e-05    0.611798   \n",
       "3650  -32767.0  -32767.0  0.000197    0.040773  1.339942e-05    0.552615   \n",
       "3651  -32767.0  -32767.0  0.000022    0.038688  2.975308e-06    0.545493   \n",
       "3652  -32767.0  -32767.0  0.000226    0.061798  2.984750e-05    0.758357   \n",
       "\n",
       "      mean_cape  mean_mcc      mean_hcc  mean_lcc  \n",
       "0      9.374736  0.172447 -5.551115e-17  0.892420  \n",
       "1     13.720523  0.077058 -5.551115e-17  0.538442  \n",
       "2     15.403435  0.077913  3.023953e-01  0.734415  \n",
       "3      6.907125  0.294804  5.811599e-01  0.511254  \n",
       "4      2.384820  0.142499  3.814432e-01  0.609097  \n",
       "...         ...       ...           ...       ...  \n",
       "3648   5.928724  0.533122  9.995446e-01  0.599711  \n",
       "3649   8.895169  0.566535  8.350888e-01  0.286988  \n",
       "3650  28.497553  0.478682  5.995655e-01  0.479420  \n",
       "3651  27.155701  0.301340  2.122550e-01  0.355306  \n",
       "3652   5.556421  0.760948  5.444191e-01  0.519101  \n",
       "\n",
       "[3653 rows x 43 columns]"
      ]
     },
     "execution_count": 31,
     "metadata": {},
     "output_type": "execute_result"
    }
   ],
   "source": [
    "df"
   ]
  },
  {
   "cell_type": "markdown",
   "id": "1312384c",
   "metadata": {},
   "source": [
    "We observe that all attributes are numerical."
   ]
  },
  {
   "cell_type": "code",
   "execution_count": 32,
   "id": "842ccc0d",
   "metadata": {},
   "outputs": [
    {
     "data": {
      "text/plain": [
       "False"
      ]
     },
     "execution_count": 32,
     "metadata": {},
     "output_type": "execute_result"
    }
   ],
   "source": [
    "df.isnull().values.any()"
   ]
  },
  {
   "cell_type": "markdown",
   "id": "829b36aa",
   "metadata": {},
   "source": [
    "No null / NaN values."
   ]
  },
  {
   "cell_type": "markdown",
   "id": "99f83f39",
   "metadata": {},
   "source": [
    "### First pass of correlation coefficient"
   ]
  },
  {
   "cell_type": "code",
   "execution_count": 33,
   "id": "97987813",
   "metadata": {},
   "outputs": [
    {
     "name": "stdout",
     "output_type": "stream",
     "text": [
      "1.0  ---->   mean_totalx\n",
      "0.7828707069733708  ---->   mean_kx\n",
      "0.3905271690455183  ---->   mean_d2m\n",
      "0.36745074481142675  ---->   mean_tcw\n",
      "0.3652267613399353  ---->   mean_tcwv\n",
      "0.3408910231836148  ---->   mean_cbh\n",
      "0.33786478361832445  ---->   mean_mcc\n",
      "0.31843925968838027  ---->   mean_strdc\n",
      "0.3184391487648552  ---->   mean_msdwlwrfcs\n",
      "0.29051555893365344  ---->   mean_tciw\n",
      "0.28756782971754014  ---->   mean_t2m\n",
      "0.27612302129673616  ---->   mean_tp\n",
      "0.2750826761074101  ---->   mean_stl1\n",
      "0.2698925727910842  ---->   mean_skt\n",
      "0.26378607371876567  ---->   mean_cape\n",
      "0.24405569602182425  ---->   mean_hcc\n",
      "0.24206783048334604  ---->   mean_u100\n",
      "0.23507317278508427  ---->   mean_tcc\n",
      "0.23487421130862335  ---->   mean_u10n\n",
      "0.19780469953556992  ---->   mean_lmlt\n",
      "0.1741625817239608  ---->   mean_p71.162\n",
      "0.15961495186624514  ---->   mean_blh\n",
      "0.15848806780325642  ---->   mean_lsrr\n",
      "0.14521873063077412  ---->   mean_ilspf\n",
      "0.14510462067513213  ---->   mean_v10n\n",
      "0.14005894507979683  ---->   mean_zust\n",
      "0.08706175076081314  ---->   mean_bld\n",
      "0.07433995373346064  ---->   mean_tcslw\n",
      "0.05238400345588803  ---->   mean_ishf\n",
      "0.041253914224788094  ---->   mean_tclw\n",
      "0.03193489069643891  ---->   mean_sshf\n",
      "0.013937794572019106  ---->   mean_deg0l\n",
      "-0.008887646646166345  ---->   mean_lcc\n",
      "-0.01252656679978182  ---->   mean_ptype\n",
      "-0.01809224519999219  ---->   mean_p62.162\n",
      "-0.1499939214358069  ---->   mean_p60.162\n",
      "-0.151258201043199  ---->   mean_p61.162\n",
      "-0.16608558744686241  ---->   mean_p54.162\n",
      "-0.5318897881217  ---->   mean_p53.162\n",
      "-0.5327797675226853  ---->   mean_sp\n",
      "nan  ---->   mean_sdfor\n",
      "nan  ---->   mean_vst\n",
      "nan  ---->   mean_ust\n"
     ]
    }
   ],
   "source": [
    "target = 'mean_totalx'\n",
    "correlation_results(df)"
   ]
  },
  {
   "cell_type": "code",
   "execution_count": 34,
   "id": "963fa7b9",
   "metadata": {},
   "outputs": [],
   "source": [
    "# remove identified constants\n",
    "\n",
    "df = df.drop(\n",
    "    labels=[\n",
    "        #'min_sdfor',\n",
    "        #'max_sdfor',\n",
    "        'mean_sdfor',\n",
    "        #'var_sdfor',\n",
    "        #'min_vst',\n",
    "        #'max_vst',\n",
    "        'mean_vst',\n",
    "        #'var_vst',\n",
    "        #'min_ust',\n",
    "        #'max_ust',\n",
    "        'mean_ust',\n",
    "        #'var_ust'\n",
    "    ],\n",
    "    axis = 1\n",
    ")"
   ]
  },
  {
   "cell_type": "markdown",
   "id": "17934fe3",
   "metadata": {},
   "source": [
    "#  Data Exploration"
   ]
  },
  {
   "cell_type": "code",
   "execution_count": 35,
   "id": "a42f211a",
   "metadata": {},
   "outputs": [],
   "source": [
    "sub_df = pd.DataFrame()\n",
    "sub_df['mean_mcc'] = df['mean_mcc']\n",
    "sub_df['mean_hcc'] = df['mean_hcc']\n",
    "sub_df['mean_lcc'] = df['mean_lcc']"
   ]
  },
  {
   "cell_type": "code",
   "execution_count": 36,
   "id": "07eff77b",
   "metadata": {},
   "outputs": [
    {
     "data": {
      "text/plain": [
       "<seaborn.axisgrid.PairGrid at 0x23af3ba4610>"
      ]
     },
     "execution_count": 36,
     "metadata": {},
     "output_type": "execute_result"
    },
    {
     "data": {
      "image/png": "[encoded data removed]",
      "text/plain": [
       "<Figure size 540x540 with 12 Axes>"
      ]
     },
     "metadata": {
      "needs_background": "light"
     },
     "output_type": "display_data"
    }
   ],
   "source": [
    "import seaborn as sn\n",
    "sn.pairplot(sub_df)"
   ]
  },
  {
   "cell_type": "code",
   "execution_count": 37,
   "id": "44921d5a",
   "metadata": {},
   "outputs": [
    {
     "data": {
      "image/png": "[encoded data removed]",
      "text/plain": [
       "<Figure size 432x288 with 1 Axes>"
      ]
     },
     "metadata": {
      "needs_background": "light"
     },
     "output_type": "display_data"
    }
   ],
   "source": [
    "# plot unbinned target distribution\n",
    "plt.hist(df['mean_totalx'])\n",
    "plt.show()"
   ]
  },
  {
   "cell_type": "code",
   "execution_count": 38,
   "id": "6a2d6653",
   "metadata": {},
   "outputs": [
    {
     "data": {
      "image/png": "[encoded data removed]",
      "text/plain": [
       "<Figure size 432x288 with 1 Axes>"
      ]
     },
     "metadata": {
      "needs_background": "light"
     },
     "output_type": "display_data"
    },
    {
     "data": {
      "image/png": "[encoded data removed]",
      "text/plain": [
       "<Figure size 432x288 with 1 Axes>"
      ]
     },
     "metadata": {
      "needs_background": "light"
     },
     "output_type": "display_data"
    },
    {
     "data": {
      "image/png": "[encoded data removed]",
      "text/plain": [
       "<Figure size 432x288 with 1 Axes>"
      ]
     },
     "metadata": {
      "needs_background": "light"
     },
     "output_type": "display_data"
    },
    {
     "data": {
      "image/png": "[encoded data removed]",
      "text/plain": [
       "<Figure size 432x288 with 1 Axes>"
      ]
     },
     "metadata": {
      "needs_background": "light"
     },
     "output_type": "display_data"
    },
    {
     "data": {
      "image/png": "[encoded data removed]",
      "text/plain": [
       "<Figure size 432x288 with 1 Axes>"
      ]
     },
     "metadata": {
      "needs_background": "light"
     },
     "output_type": "display_data"
    },
    {
     "data": {
      "image/png": "[encoded data removed]",
      "text/plain": [
       "<Figure size 432x288 with 1 Axes>"
      ]
     },
     "metadata": {
      "needs_background": "light"
     },
     "output_type": "display_data"
    },
    {
     "data": {
      "image/png": "[encoded data removed]",
      "text/plain": [
       "<Figure size 432x288 with 1 Axes>"
      ]
     },
     "metadata": {
      "needs_background": "light"
     },
     "output_type": "display_data"
    },
    {
     "data": {
      "image/png": "[encoded data removed]",
      "text/plain": [
       "<Figure size 432x288 with 1 Axes>"
      ]
     },
     "metadata": {
      "needs_background": "light"
     },
     "output_type": "display_data"
    },
    {
     "data": {
      "image/png": "[encoded data removed]",
      "text/plain": [
       "<Figure size 432x288 with 1 Axes>"
      ]
     },
     "metadata": {
      "needs_background": "light"
     },
     "output_type": "display_data"
    },
    {
     "data": {
      "image/png": "[encoded data removed]",
      "text/plain": [
       "<Figure size 432x288 with 1 Axes>"
      ]
     },
     "metadata": {
      "needs_background": "light"
     },
     "output_type": "display_data"
    },
    {
     "data": {
      "image/png": "[encoded data removed]",
      "text/plain": [
       "<Figure size 432x288 with 1 Axes>"
      ]
     },
     "metadata": {
      "needs_background": "light"
     },
     "output_type": "display_data"
    },
    {
     "data": {
      "image/png": "[encoded data removed]",
      "text/plain": [
       "<Figure size 432x288 with 1 Axes>"
      ]
     },
     "metadata": {
      "needs_background": "light"
     },
     "output_type": "display_data"
    },
    {
     "data": {
      "image/png": "[encoded data removed]",
      "text/plain": [
       "<Figure size 432x288 with 1 Axes>"
      ]
     },
     "metadata": {
      "needs_background": "light"
     },
     "output_type": "display_data"
    },
    {
     "data": {
      "image/png": "[encoded data removed]",
      "text/plain": [
       "<Figure size 432x288 with 1 Axes>"
      ]
     },
     "metadata": {
      "needs_background": "light"
     },
     "output_type": "display_data"
    },
    {
     "data": {
      "image/png": "[encoded data removed]",
      "text/plain": [
       "<Figure size 432x288 with 1 Axes>"
      ]
     },
     "metadata": {
      "needs_background": "light"
     },
     "output_type": "display_data"
    },
    {
     "data": {
      "image/png": "[encoded data removed]",
      "text/plain": [
       "<Figure size 432x288 with 1 Axes>"
      ]
     },
     "metadata": {
      "needs_background": "light"
     },
     "output_type": "display_data"
    },
    {
     "data": {
      "image/png": "[encoded data removed]",
      "text/plain": [
       "<Figure size 432x288 with 1 Axes>"
      ]
     },
     "metadata": {
      "needs_background": "light"
     },
     "output_type": "display_data"
    },
    {
     "data": {
      "image/png": "[encoded data removed]",
      "text/plain": [
       "<Figure size 432x288 with 1 Axes>"
      ]
     },
     "metadata": {
      "needs_background": "light"
     },
     "output_type": "display_data"
    },
    {
     "data": {
      "image/png": "[encoded data removed]",
      "text/plain": [
       "<Figure size 432x288 with 1 Axes>"
      ]
     },
     "metadata": {
      "needs_background": "light"
     },
     "output_type": "display_data"
    },
    {
     "data": {
      "image/png": "[encoded data removed]",
      "text/plain": [
       "<Figure size 432x288 with 1 Axes>"
      ]
     },
     "metadata": {
      "needs_background": "light"
     },
     "output_type": "display_data"
    },
    {
     "data": {
      "image/png": "[encoded data removed]",
      "text/plain": [
       "<Figure size 432x288 with 1 Axes>"
      ]
     },
     "metadata": {
      "needs_background": "light"
     },
     "output_type": "display_data"
    },
    {
     "data": {
      "image/png": "[encoded data removed]",
      "text/plain": [
       "<Figure size 432x288 with 1 Axes>"
      ]
     },
     "metadata": {
      "needs_background": "light"
     },
     "output_type": "display_data"
    },
    {
     "data": {
      "image/png": "[encoded data removed]",
      "text/plain": [
       "<Figure size 432x288 with 1 Axes>"
      ]
     },
     "metadata": {
      "needs_background": "light"
     },
     "output_type": "display_data"
    },
    {
     "data": {
      "image/png": "[encoded data removed]",
      "text/plain": [
       "<Figure size 432x288 with 1 Axes>"
      ]
     },
     "metadata": {
      "needs_background": "light"
     },
     "output_type": "display_data"
    },
    {
     "data": {
      "image/png": "[encoded data removed]",
      "text/plain": [
       "<Figure size 432x288 with 1 Axes>"
      ]
     },
     "metadata": {
      "needs_background": "light"
     },
     "output_type": "display_data"
    },
    {
     "data": {
      "image/png": "[encoded data removed]",
      "text/plain": [
       "<Figure size 432x288 with 1 Axes>"
      ]
     },
     "metadata": {
      "needs_background": "light"
     },
     "output_type": "display_data"
    },
    {
     "data": {
      "image/png": "[encoded data removed]",
      "text/plain": [
       "<Figure size 432x288 with 1 Axes>"
      ]
     },
     "metadata": {
      "needs_background": "light"
     },
     "output_type": "display_data"
    },
    {
     "data": {
      "image/png": "[encoded data removed]",
      "text/plain": [
       "<Figure size 432x288 with 1 Axes>"
      ]
     },
     "metadata": {
      "needs_background": "light"
     },
     "output_type": "display_data"
    },
    {
     "data": {
      "image/png": "[encoded data removed]",
      "text/plain": [
       "<Figure size 432x288 with 1 Axes>"
      ]
     },
     "metadata": {
      "needs_background": "light"
     },
     "output_type": "display_data"
    },
    {
     "data": {
      "image/png": "[encoded data removed]",
      "text/plain": [
       "<Figure size 432x288 with 1 Axes>"
      ]
     },
     "metadata": {
      "needs_background": "light"
     },
     "output_type": "display_data"
    },
    {
     "data": {
      "image/png": "[encoded data removed]",
      "text/plain": [
       "<Figure size 432x288 with 1 Axes>"
      ]
     },
     "metadata": {
      "needs_background": "light"
     },
     "output_type": "display_data"
    },
    {
     "data": {
      "image/png": "[encoded data removed]",
      "text/plain": [
       "<Figure size 432x288 with 1 Axes>"
      ]
     },
     "metadata": {
      "needs_background": "light"
     },
     "output_type": "display_data"
    },
    {
     "data": {
      "image/png": "[encoded data removed]",
      "text/plain": [
       "<Figure size 432x288 with 1 Axes>"
      ]
     },
     "metadata": {
      "needs_background": "light"
     },
     "output_type": "display_data"
    },
    {
     "data": {
      "image/png": "[encoded data removed]",
      "text/plain": [
       "<Figure size 432x288 with 1 Axes>"
      ]
     },
     "metadata": {
      "needs_background": "light"
     },
     "output_type": "display_data"
    },
    {
     "data": {
      "image/png": "[encoded data removed]",
      "text/plain": [
       "<Figure size 432x288 with 1 Axes>"
      ]
     },
     "metadata": {
      "needs_background": "light"
     },
     "output_type": "display_data"
    },
    {
     "data": {
      "image/png": "[encoded data removed]",
      "text/plain": [
       "<Figure size 432x288 with 1 Axes>"
      ]
     },
     "metadata": {
      "needs_background": "light"
     },
     "output_type": "display_data"
    },
    {
     "data": {
      "image/png": "[encoded data removed]",
      "text/plain": [
       "<Figure size 432x288 with 1 Axes>"
      ]
     },
     "metadata": {
      "needs_background": "light"
     },
     "output_type": "display_data"
    },
    {
     "data": {
      "image/png": "[encoded data removed]",
      "text/plain": [
       "<Figure size 432x288 with 1 Axes>"
      ]
     },
     "metadata": {
      "needs_background": "light"
     },
     "output_type": "display_data"
    },
    {
     "data": {
      "image/png": "[encoded data removed]",
      "text/plain": [
       "<Figure size 432x288 with 1 Axes>"
      ]
     },
     "metadata": {
      "needs_background": "light"
     },
     "output_type": "display_data"
    },
    {
     "data": {
      "image/png": "[encoded data removed]",
      "text/plain": [
       "<Figure size 432x288 with 1 Axes>"
      ]
     },
     "metadata": {
      "needs_background": "light"
     },
     "output_type": "display_data"
    }
   ],
   "source": [
    "# plot all distributions \n",
    "for col in df.columns:\n",
    "    plt.hist(df[col])\n",
    "    plt.title(col)\n",
    "    plt.show()"
   ]
  },
  {
   "cell_type": "code",
   "execution_count": 39,
   "id": "d289a6a9",
   "metadata": {},
   "outputs": [
    {
     "name": "stdout",
     "output_type": "stream",
     "text": [
      "<class 'pandas.core.frame.DataFrame'>\n",
      "RangeIndex: 3653 entries, 0 to 3652\n",
      "Data columns (total 40 columns):\n",
      " #   Column           Non-Null Count  Dtype  \n",
      "---  ------           --------------  -----  \n",
      " 0   mean_u10n        3653 non-null   float64\n",
      " 1   mean_sp          3653 non-null   float64\n",
      " 2   mean_u100        3653 non-null   float64\n",
      " 3   mean_d2m         3653 non-null   float64\n",
      " 4   mean_skt         3653 non-null   float64\n",
      " 5   mean_totalx      3653 non-null   float64\n",
      " 6   mean_ptype       3653 non-null   float64\n",
      " 7   mean_zust        3653 non-null   float64\n",
      " 8   mean_kx          3653 non-null   float64\n",
      " 9   mean_v10n        3653 non-null   float64\n",
      " 10  mean_stl1        3653 non-null   float64\n",
      " 11  mean_lmlt        3653 non-null   float64\n",
      " 12  mean_tciw        3653 non-null   float64\n",
      " 13  mean_tclw        3653 non-null   float64\n",
      " 14  mean_cbh         3653 non-null   float64\n",
      " 15  mean_tcc         3653 non-null   float64\n",
      " 16  mean_sshf        3653 non-null   float64\n",
      " 17  mean_ishf        3653 non-null   float64\n",
      " 18  mean_strdc       3653 non-null   float64\n",
      " 19  mean_msdwlwrfcs  3653 non-null   float64\n",
      " 20  mean_p61.162     3653 non-null   float64\n",
      " 21  mean_p54.162     3653 non-null   float64\n",
      " 22  mean_p60.162     3653 non-null   float64\n",
      " 23  mean_t2m         3653 non-null   float64\n",
      " 24  mean_p71.162     3653 non-null   float64\n",
      " 25  mean_p53.162     3653 non-null   float64\n",
      " 26  mean_tcwv        3653 non-null   float64\n",
      " 27  mean_tcw         3653 non-null   float64\n",
      " 28  mean_p62.162     3653 non-null   float64\n",
      " 29  mean_bld         3653 non-null   float64\n",
      " 30  mean_blh         3653 non-null   float64\n",
      " 31  mean_deg0l       3653 non-null   float64\n",
      " 32  mean_tp          3653 non-null   float64\n",
      " 33  mean_tcslw       3653 non-null   float64\n",
      " 34  mean_lsrr        3653 non-null   float64\n",
      " 35  mean_ilspf       3653 non-null   float64\n",
      " 36  mean_cape        3653 non-null   float64\n",
      " 37  mean_mcc         3653 non-null   float64\n",
      " 38  mean_hcc         3653 non-null   float64\n",
      " 39  mean_lcc         3653 non-null   float64\n",
      "dtypes: float64(40)\n",
      "memory usage: 1.1 MB\n",
      "Info of df:  None\n",
      "Describe df:           mean_u10n        mean_sp    mean_u100     mean_d2m     mean_skt  \\\n",
      "count  3653.000000    3653.000000  3653.000000  3653.000000  3653.000000   \n",
      "mean      0.643223   99625.629696     1.135118   279.508134   284.376176   \n",
      "std       1.923212     814.710684     3.586386     5.811760     7.802497   \n",
      "min      -5.441005   95755.611415    -8.889311   256.536292   263.200010   \n",
      "25%      -0.692919   99149.612486    -1.480336   275.307842   277.985878   \n",
      "50%       0.477596   99645.341936     1.046029   279.602418   284.143342   \n",
      "75%       1.857496  100130.574174     3.653371   284.031022   290.652622   \n",
      "max       8.283481  102401.273806    13.497306   292.567524   305.112218   \n",
      "\n",
      "       mean_totalx   mean_ptype    mean_zust      mean_kx    mean_v10n  ...  \\\n",
      "count  3653.000000  3653.000000  3653.000000  3653.000000  3653.000000  ...   \n",
      "mean     41.249196     0.668481     0.179540    10.955314     0.413349  ...   \n",
      "std       7.386613     0.923793     0.097461    13.616360     1.801041  ...   \n",
      "min       1.199944     0.000000     0.032364   -68.738372    -5.299273  ...   \n",
      "25%      37.267272     0.083337     0.104980     3.226808    -0.781777  ...   \n",
      "50%      42.395158     0.437520     0.157467    13.421346     0.384685  ...   \n",
      "75%      46.414512     0.854206     0.231680    20.954607     1.593343  ...   \n",
      "max      57.560371     5.895834     0.694443    34.317958     6.146399  ...   \n",
      "\n",
      "          mean_blh   mean_deg0l       mean_tp    mean_tcslw     mean_lsrr  \\\n",
      "count  3653.000000  3653.000000  3.653000e+03  3.653000e+03  3.653000e+03   \n",
      "mean    556.740657  2262.482031  8.352667e-05  3.710326e-02  1.140094e-05   \n",
      "std     276.107829  1156.669815  1.466039e-04  4.564829e-02  2.693685e-05   \n",
      "min      57.310383     0.000000  0.000000e+00  5.551115e-17  0.000000e+00   \n",
      "25%     345.795825  1339.708770  6.280752e-07  3.943024e-03  0.000000e+00   \n",
      "50%     534.990762  2383.189744  1.667901e-05  2.265580e-02  3.659637e-07   \n",
      "75%     736.143123  3183.886551  1.017591e-04  5.249617e-02  8.439014e-06   \n",
      "max    1812.559719  5025.757912  1.704768e-03  4.245474e-01  3.741397e-04   \n",
      "\n",
      "        mean_ilspf    mean_cape      mean_mcc      mean_hcc      mean_lcc  \n",
      "count  3653.000000  3653.000000  3.653000e+03  3.653000e+03  3.653000e+03  \n",
      "mean      0.212815    32.793921  3.374462e-01  3.787666e-01  3.317160e-01  \n",
      "std       0.260532    99.822205  2.586660e-01  2.926235e-01  2.851389e-01  \n",
      "min       0.000000     0.000000  5.551115e-17 -5.551115e-17 -5.551115e-17  \n",
      "25%       0.002084     0.963300  1.112670e-01  1.041154e-01  6.719114e-02  \n",
      "50%       0.097073     5.313774  3.092665e-01  3.486155e-01  2.830008e-01  \n",
      "75%       0.356671    18.248035  5.280879e-01  6.098439e-01  5.399832e-01  \n",
      "max       0.999589  1507.751152  9.967209e-01  9.995446e-01  1.000006e+00  \n",
      "\n",
      "[8 rows x 40 columns]\n"
     ]
    }
   ],
   "source": [
    "print(\"Info of df: \",df.info())\n",
    "print(\"Describe df: \",df.describe())"
   ]
  },
  {
   "cell_type": "markdown",
   "id": "465a164f",
   "metadata": {},
   "source": [
    "# Feature Engineering"
   ]
  },
  {
   "cell_type": "markdown",
   "id": "38b48469",
   "metadata": {},
   "source": [
    "#### Hypothesis 1: The relation of high to low cloud cover has relevance for thunderstorm prediction."
   ]
  },
  {
   "cell_type": "code",
   "execution_count": 40,
   "id": "22b13c6f",
   "metadata": {},
   "outputs": [],
   "source": [
    "agg = pd.DataFrame()\n",
    "agg['medium/low'] = df['mean_mcc'] / df['mean_lcc']\n",
    "agg['low/medium'] = df['mean_lcc'] / df['mean_mcc']\n",
    "agg['medium/high'] = df['mean_mcc'] / df['mean_hcc']\n",
    "agg['high/medium'] = df['mean_hcc'] / df['mean_mcc']\n",
    "agg['low/high'] = df['mean_lcc'] / df['mean_hcc']\n",
    "agg['high/low'] = df['mean_hcc'] / df['mean_lcc']\n",
    "agg['mean_totalx'] = df['mean_totalx']"
   ]
  },
  {
   "cell_type": "code",
   "execution_count": 41,
   "id": "0a793155",
   "metadata": {},
   "outputs": [
    {
     "name": "stdout",
     "output_type": "stream",
     "text": [
      "1.0  ---->   mean_totalx\n",
      "0.13554696044722395  ---->   low/high\n",
      "0.07812572459644565  ---->   high/low\n",
      "0.02908762918556815  ---->   medium/high\n",
      "-0.00703797856358384  ---->   medium/low\n",
      "-0.19670566294567332  ---->   high/medium\n",
      "-0.20092471450306107  ---->   low/medium\n"
     ]
    }
   ],
   "source": [
    "correlation_results(agg)"
   ]
  },
  {
   "cell_type": "markdown",
   "id": "9a7a9f9e",
   "metadata": {},
   "source": [
    "#### Hypothesis 2: Some feature expressions can be boosted with basic arithmetics. We aggregate all features and check again for relevance.\n",
    "\n",
    "While aggregating we need to check for special cases e.g. trying to take the root of a negative value or taking the log of values < 0."
   ]
  },
  {
   "cell_type": "code",
   "execution_count": 42,
   "id": "21d02d0b",
   "metadata": {},
   "outputs": [],
   "source": [
    "# make a copy of original dataframe df to not accidentally loose featuresS\n",
    "data = df"
   ]
  },
  {
   "cell_type": "code",
   "execution_count": 43,
   "id": "94842a90",
   "metadata": {},
   "outputs": [],
   "source": [
    "aggSquare = pd.DataFrame()\n",
    "aggRoot = pd.DataFrame()\n",
    "aggLog = pd.DataFrame()"
   ]
  },
  {
   "cell_type": "code",
   "execution_count": 44,
   "id": "4405882f",
   "metadata": {},
   "outputs": [],
   "source": [
    "# square it\n",
    "for col in data.columns:\n",
    "    aggSquare[col] = data[col]**2"
   ]
  },
  {
   "cell_type": "code",
   "execution_count": 45,
   "id": "9b8ee913",
   "metadata": {},
   "outputs": [
    {
     "name": "stderr",
     "output_type": "stream",
     "text": [
      "C:\\ProgramData\\Anaconda3\\lib\\site-packages\\pandas\\core\\arraylike.py:358: RuntimeWarning: invalid value encountered in sqrt\n",
      "  result = getattr(ufunc, method)(*inputs, **kwargs)\n"
     ]
    }
   ],
   "source": [
    "# take the square root\n",
    "for col in data.columns:\n",
    "    aggRoot[col] = np.sqrt(data[col])"
   ]
  },
  {
   "cell_type": "code",
   "execution_count": 46,
   "id": "852ebb09",
   "metadata": {},
   "outputs": [
    {
     "name": "stderr",
     "output_type": "stream",
     "text": [
      "C:\\ProgramData\\Anaconda3\\lib\\site-packages\\pandas\\core\\arraylike.py:358: RuntimeWarning: invalid value encountered in log\n",
      "  result = getattr(ufunc, method)(*inputs, **kwargs)\n",
      "C:\\ProgramData\\Anaconda3\\lib\\site-packages\\pandas\\core\\arraylike.py:358: RuntimeWarning: divide by zero encountered in log\n",
      "  result = getattr(ufunc, method)(*inputs, **kwargs)\n"
     ]
    }
   ],
   "source": [
    "# take the logarithm\n",
    "for col in data.columns:\n",
    "    aggLog[col] = np.log(data[col])"
   ]
  },
  {
   "cell_type": "code",
   "execution_count": 47,
   "id": "64c71578",
   "metadata": {},
   "outputs": [],
   "source": [
    "# taking the root of negative values is forbidden\n",
    "# when trying to take the root of negative values we produce NaN values\n",
    "# we detect and remove the features that produce the NaN values\n",
    "\n",
    "null_columns=aggRoot.columns[aggRoot.isnull().any()]\n",
    "nulls = pd.DataFrame()\n",
    "aggRoot[null_columns].isnull().sum()\n",
    "\n",
    "aggRoot = aggRoot.drop(labels=null_columns, axis = 1)"
   ]
  },
  {
   "cell_type": "code",
   "execution_count": 48,
   "id": "67d112b1",
   "metadata": {},
   "outputs": [
    {
     "data": {
      "text/plain": [
       "False"
      ]
     },
     "execution_count": 48,
     "metadata": {},
     "output_type": "execute_result"
    }
   ],
   "source": [
    "aggRoot.isnull().values.any()"
   ]
  },
  {
   "cell_type": "code",
   "execution_count": 49,
   "id": "f1c2530a",
   "metadata": {},
   "outputs": [],
   "source": [
    "# the logarithm is not defined for values < 0\n",
    "# we need to remove the features that behave like this\n",
    "\n",
    "null_columns=aggLog.columns[aggLog.isnull().any()]\n",
    "nulls = pd.DataFrame()\n",
    "aggLog[null_columns].isnull().sum()\n",
    "\n",
    "aggLog = aggLog.drop(labels=null_columns, axis = 1)"
   ]
  },
  {
   "cell_type": "code",
   "execution_count": 50,
   "id": "eab9838e",
   "metadata": {},
   "outputs": [
    {
     "data": {
      "text/plain": [
       "False"
      ]
     },
     "execution_count": 50,
     "metadata": {},
     "output_type": "execute_result"
    }
   ],
   "source": [
    "aggLog.isnull().values.any()"
   ]
  },
  {
   "cell_type": "code",
   "execution_count": 51,
   "id": "53568d34",
   "metadata": {},
   "outputs": [],
   "source": [
    "# the logarithm of 0 is defined as -inf\n",
    "# since we do not want to change overall behavior of logarithm\n",
    "# we replace -inf with -100, for this we took into consideration the scale that we are operating on\n",
    "aggLog = aggLog.replace(-np.inf, -100)"
   ]
  },
  {
   "cell_type": "markdown",
   "id": "d0aefa06",
   "metadata": {},
   "source": [
    "To evaluate if we could boost feature expression through our aggregation, we compute again the correlation coefficient for the actual feature and compare it to the correlation coefficient for the aggregated feature."
   ]
  },
  {
   "cell_type": "code",
   "execution_count": 52,
   "id": "32d25bbd",
   "metadata": {},
   "outputs": [
    {
     "name": "stdout",
     "output_type": "stream",
     "text": [
      "1.0  ---->   mean_totalx\n",
      "0.7828707069733708  ---->   mean_kx\n",
      "0.3905271690455183  ---->   mean_d2m\n",
      "0.36745074481142675  ---->   mean_tcw\n",
      "0.3652267613399353  ---->   mean_tcwv\n",
      "0.3408910231836148  ---->   mean_cbh\n",
      "0.33786478361832445  ---->   mean_mcc\n",
      "0.31843925968838027  ---->   mean_strdc\n",
      "0.3184391487648552  ---->   mean_msdwlwrfcs\n",
      "0.29051555893365344  ---->   mean_tciw\n",
      "0.28756782971754014  ---->   mean_t2m\n",
      "0.27612302129673616  ---->   mean_tp\n",
      "0.2750826761074101  ---->   mean_stl1\n",
      "0.2698925727910842  ---->   mean_skt\n",
      "0.26378607371876567  ---->   mean_cape\n",
      "0.24405569602182425  ---->   mean_hcc\n",
      "0.24206783048334604  ---->   mean_u100\n",
      "0.23507317278508427  ---->   mean_tcc\n",
      "0.23487421130862335  ---->   mean_u10n\n",
      "0.19780469953556992  ---->   mean_lmlt\n",
      "0.1741625817239608  ---->   mean_p71.162\n",
      "0.15961495186624514  ---->   mean_blh\n",
      "0.15848806780325642  ---->   mean_lsrr\n",
      "0.14521873063077412  ---->   mean_ilspf\n",
      "0.14510462067513213  ---->   mean_v10n\n",
      "0.14005894507979683  ---->   mean_zust\n",
      "0.08706175076081314  ---->   mean_bld\n",
      "0.07433995373346064  ---->   mean_tcslw\n",
      "0.05238400345588803  ---->   mean_ishf\n",
      "0.041253914224788094  ---->   mean_tclw\n",
      "0.03193489069643891  ---->   mean_sshf\n",
      "0.013937794572019106  ---->   mean_deg0l\n",
      "-0.008887646646166345  ---->   mean_lcc\n",
      "-0.01252656679978182  ---->   mean_ptype\n",
      "-0.01809224519999219  ---->   mean_p62.162\n",
      "-0.1499939214358069  ---->   mean_p60.162\n",
      "-0.151258201043199  ---->   mean_p61.162\n",
      "-0.16608558744686241  ---->   mean_p54.162\n",
      "-0.5318897881217  ---->   mean_p53.162\n",
      "-0.5327797675226853  ---->   mean_sp\n"
     ]
    }
   ],
   "source": [
    "correlation_results(df)"
   ]
  },
  {
   "cell_type": "code",
   "execution_count": 53,
   "id": "e11eac65",
   "metadata": {},
   "outputs": [
    {
     "name": "stdout",
     "output_type": "stream",
     "text": [
      "1.0  ---->   mean_totalx\n",
      "0.42253529775386256  ---->   mean_mcc\n",
      "0.39973617667690275  ---->   mean_cape\n",
      "0.399418316124551  ---->   mean_tcw\n",
      "0.3977324739406064  ---->   mean_d2m\n",
      "0.3965728044823387  ---->   mean_tcwv\n",
      "0.3797162401985846  ---->   mean_tp\n",
      "0.3748761076665531  ---->   mean_tciw\n",
      "0.32953311253630635  ---->   mean_strdc\n",
      "0.3295330426280886  ---->   mean_msdwlwrfcs\n",
      "0.2964806951316186  ---->   mean_t2m\n",
      "0.2828559940300755  ---->   mean_stl1\n",
      "0.2791304887147935  ---->   mean_skt\n",
      "0.2595683061193876  ---->   mean_tcc\n",
      "0.23853529733905873  ---->   mean_lsrr\n",
      "0.20418153754240795  ---->   mean_lmlt\n",
      "0.20035150159724827  ---->   mean_tcslw\n",
      "0.17864367074788098  ---->   mean_blh\n",
      "0.16036931241238245  ---->   mean_ilspf\n",
      "0.1454677543309039  ---->   mean_zust\n",
      "0.14323908702827756  ---->   mean_tclw\n",
      "0.09288258404836149  ---->   mean_bld\n",
      "0.07497804394361014  ---->   mean_ptype\n",
      "0.05476223277296742  ---->   mean_deg0l\n",
      "-0.006717230324465058  ---->   mean_p62.162\n",
      "-0.13648777476013413  ---->   mean_p60.162\n",
      "-0.1377449110365314  ---->   mean_p61.162\n",
      "-0.15232687408435713  ---->   mean_p54.162\n",
      "-0.5218689881473184  ---->   mean_p53.162\n",
      "-0.5228360647729136  ---->   mean_sp\n"
     ]
    }
   ],
   "source": [
    "correlation_results(aggRoot)"
   ]
  },
  {
   "cell_type": "code",
   "execution_count": 54,
   "id": "ce16907a",
   "metadata": {},
   "outputs": [
    {
     "name": "stdout",
     "output_type": "stream",
     "text": [
      "1.0  ---->   mean_totalx\n",
      "0.3624912025486563  ---->   mean_d2m\n",
      "0.3059361884977817  ---->   mean_tcw\n",
      "0.3050978880908883  ---->   mean_tcwv\n",
      "0.2923393512251041  ---->   mean_kx\n",
      "0.287809408820737  ---->   mean_strdc\n",
      "0.2878092414594116  ---->   mean_msdwlwrfcs\n",
      "0.2599230075287145  ---->   mean_t2m\n",
      "0.2496204063258111  ---->   mean_stl1\n",
      "0.24222679922776708  ---->   mean_skt\n",
      "0.22435055681529772  ---->   mean_mcc\n",
      "0.1959429556897357  ---->   mean_hcc\n",
      "0.18354331455540518  ---->   mean_tcc\n",
      "0.17669558789898446  ---->   mean_lmlt\n",
      "0.17040908842460142  ---->   mean_tciw\n",
      "0.1523045972477347  ---->   mean_cape\n",
      "0.12861760871805913  ---->   mean_tp\n",
      "0.1255571207848536  ---->   mean_zust\n",
      "0.11850803724713345  ---->   mean_blh\n",
      "0.11019930006536033  ---->   mean_ilspf\n",
      "0.09318437242218797  ---->   mean_v10n\n",
      "0.08389135466133248  ---->   mean_p71.162\n",
      "0.06532139139940754  ---->   mean_bld\n",
      "0.06044725185879647  ---->   mean_lsrr\n",
      "0.049904736702217976  ---->   mean_u10n\n",
      "0.029763180092390984  ---->   mean_u100\n",
      "0.01760165619533844  ---->   mean_sshf\n",
      "0.011157569406414799  ---->   mean_ishf\n",
      "-0.023294931903820138  ---->   mean_tclw\n",
      "-0.026781857119013784  ---->   mean_deg0l\n",
      "-0.03653167044931547  ---->   mean_tcslw\n",
      "-0.04178707830071248  ---->   mean_p62.162\n",
      "-0.04948051847749467  ---->   mean_lcc\n",
      "-0.05286677679411638  ---->   mean_ptype\n",
      "-0.1731106074456869  ---->   mean_p60.162\n",
      "-0.1743581706335943  ---->   mean_p61.162\n",
      "-0.18910454727047504  ---->   mean_p54.162\n",
      "-0.2949033232831158  ---->   mean_cbh\n",
      "-0.5340719052251901  ---->   mean_p53.162\n",
      "-0.534862258990678  ---->   mean_sp\n"
     ]
    }
   ],
   "source": [
    "correlation_results(aggSquare)"
   ]
  },
  {
   "cell_type": "code",
   "execution_count": 55,
   "id": "55264389",
   "metadata": {},
   "outputs": [
    {
     "name": "stdout",
     "output_type": "stream",
     "text": [
      "1.0  ---->   mean_totalx\n",
      "0.42005690352480435  ---->   mean_tcw\n",
      "0.41802966863336205  ---->   mean_mcc\n",
      "0.4168191175728569  ---->   mean_tcwv\n",
      "0.3906373827988341  ---->   mean_d2m\n",
      "0.34236706632113106  ---->   mean_cape\n",
      "0.32945059086169015  ---->   mean_strdc\n",
      "0.3294505742673247  ---->   mean_msdwlwrfcs\n",
      "0.32705548362125525  ---->   mean_tp\n",
      "0.29481281830569  ---->   mean_t2m\n",
      "0.28856225832644966  ---->   mean_tcslw\n",
      "0.2803085336062456  ---->   mean_stl1\n",
      "0.27843442500011484  ---->   mean_skt\n",
      "0.2540298886361609  ---->   mean_tclw\n",
      "0.23266145372774003  ---->   mean_tciw\n",
      "0.23212527745152484  ---->   mean_lsrr\n",
      "0.20254377166315238  ---->   mean_lmlt\n",
      "0.1921856595423757  ---->   mean_ptype\n",
      "0.18687997161172787  ---->   mean_blh\n",
      "0.15592659967310196  ---->   mean_deg0l\n",
      "0.14556282672371074  ---->   mean_zust\n",
      "0.1373442452496373  ---->   mean_tcc\n",
      "0.11167911607548839  ---->   mean_ilspf\n",
      "0.08468623765045234  ---->   mean_bld\n",
      "0.0032665582288363164  ---->   mean_p62.162\n",
      "-0.11972567805136762  ---->   mean_p60.162\n",
      "-0.12094285916026866  ---->   mean_p61.162\n",
      "-0.13474062985008672  ---->   mean_p54.162\n",
      "-0.49484109851312236  ---->   mean_p53.162\n",
      "-0.4959200078258071  ---->   mean_sp\n"
     ]
    }
   ],
   "source": [
    "correlation_results(aggLog)"
   ]
  },
  {
   "cell_type": "markdown",
   "id": "3d51f534",
   "metadata": {},
   "source": [
    "Now we have four dataframes à 160 attributes. In order to keep computation time feasable we need to implement feature selection!"
   ]
  },
  {
   "cell_type": "markdown",
   "id": "795a1182",
   "metadata": {},
   "source": [
    "# Feature Selection"
   ]
  },
  {
   "cell_type": "code",
   "execution_count": 56,
   "id": "6e20e74b",
   "metadata": {},
   "outputs": [],
   "source": [
    "def merge_frames(og, dataFrame, prefix):\n",
    "    for col in dataFrame.columns:\n",
    "        if not 'target+1' in col:\n",
    "            column_name = prefix + str(col)\n",
    "            og[column_name] = dataFrame[col]\n",
    "    return og\n",
    "            "
   ]
  },
  {
   "cell_type": "code",
   "execution_count": 57,
   "id": "16d85f4c",
   "metadata": {},
   "outputs": [],
   "source": [
    "merged = pd.DataFrame()\n",
    "merged = merge_frames(merged, data, 'og_')\n",
    "merged = merge_frames(merged, aggSquare, 'squared_')\n",
    "merged = merge_frames(merged, aggLog, 'log_')\n",
    "merged = merge_frames(merged, aggRoot, 'root_')"
   ]
  },
  {
   "cell_type": "code",
   "execution_count": 58,
   "id": "5f1128db",
   "metadata": {},
   "outputs": [
    {
     "data": {
      "text/html": [
       "<div>\n",
       "<style scoped>\n",
       "    .dataframe tbody tr th:only-of-type {\n",
       "        vertical-align: middle;\n",
       "    }\n",
       "\n",
       "    .dataframe tbody tr th {\n",
       "        vertical-align: top;\n",
       "    }\n",
       "\n",
       "    .dataframe thead th {\n",
       "        text-align: right;\n",
       "    }\n",
       "</style>\n",
       "<table border=\"1\" class=\"dataframe\">\n",
       "  <thead>\n",
       "    <tr style=\"text-align: right;\">\n",
       "      <th></th>\n",
       "      <th>og_mean_u10n</th>\n",
       "      <th>og_mean_sp</th>\n",
       "      <th>og_mean_u100</th>\n",
       "      <th>og_mean_d2m</th>\n",
       "      <th>og_mean_skt</th>\n",
       "      <th>og_mean_totalx</th>\n",
       "      <th>og_mean_ptype</th>\n",
       "      <th>og_mean_zust</th>\n",
       "      <th>og_mean_kx</th>\n",
       "      <th>og_mean_v10n</th>\n",
       "      <th>...</th>\n",
       "      <th>root_mean_p62.162</th>\n",
       "      <th>root_mean_bld</th>\n",
       "      <th>root_mean_blh</th>\n",
       "      <th>root_mean_deg0l</th>\n",
       "      <th>root_mean_tp</th>\n",
       "      <th>root_mean_tcslw</th>\n",
       "      <th>root_mean_lsrr</th>\n",
       "      <th>root_mean_ilspf</th>\n",
       "      <th>root_mean_cape</th>\n",
       "      <th>root_mean_mcc</th>\n",
       "    </tr>\n",
       "  </thead>\n",
       "  <tbody>\n",
       "    <tr>\n",
       "      <th>0</th>\n",
       "      <td>1.514804</td>\n",
       "      <td>100066.638959</td>\n",
       "      <td>3.452743</td>\n",
       "      <td>272.354215</td>\n",
       "      <td>272.197156</td>\n",
       "      <td>28.871947</td>\n",
       "      <td>2.750027</td>\n",
       "      <td>0.128811</td>\n",
       "      <td>-5.533518</td>\n",
       "      <td>1.012167</td>\n",
       "      <td>...</td>\n",
       "      <td>50492.458119</td>\n",
       "      <td>52.849862</td>\n",
       "      <td>13.181203</td>\n",
       "      <td>27.013148</td>\n",
       "      <td>0.005403</td>\n",
       "      <td>0.482839</td>\n",
       "      <td>0.002181</td>\n",
       "      <td>0.774195</td>\n",
       "      <td>3.061819</td>\n",
       "      <td>0.415268</td>\n",
       "    </tr>\n",
       "    <tr>\n",
       "      <th>1</th>\n",
       "      <td>1.258293</td>\n",
       "      <td>100170.593400</td>\n",
       "      <td>3.035505</td>\n",
       "      <td>272.052127</td>\n",
       "      <td>271.166422</td>\n",
       "      <td>30.291684</td>\n",
       "      <td>4.625008</td>\n",
       "      <td>0.133434</td>\n",
       "      <td>-13.131095</td>\n",
       "      <td>-1.068212</td>\n",
       "      <td>...</td>\n",
       "      <td>50062.562179</td>\n",
       "      <td>53.450787</td>\n",
       "      <td>17.178033</td>\n",
       "      <td>8.900966</td>\n",
       "      <td>0.003121</td>\n",
       "      <td>0.285288</td>\n",
       "      <td>0.000547</td>\n",
       "      <td>0.608269</td>\n",
       "      <td>3.704122</td>\n",
       "      <td>0.277594</td>\n",
       "    </tr>\n",
       "    <tr>\n",
       "      <th>2</th>\n",
       "      <td>0.625798</td>\n",
       "      <td>100300.192825</td>\n",
       "      <td>2.158679</td>\n",
       "      <td>270.541523</td>\n",
       "      <td>270.348920</td>\n",
       "      <td>33.781080</td>\n",
       "      <td>5.104156</td>\n",
       "      <td>0.077228</td>\n",
       "      <td>-11.881619</td>\n",
       "      <td>0.274895</td>\n",
       "      <td>...</td>\n",
       "      <td>50010.147887</td>\n",
       "      <td>29.067978</td>\n",
       "      <td>11.446397</td>\n",
       "      <td>1.198019</td>\n",
       "      <td>0.002199</td>\n",
       "      <td>0.352253</td>\n",
       "      <td>0.000000</td>\n",
       "      <td>0.748176</td>\n",
       "      <td>3.924721</td>\n",
       "      <td>0.279129</td>\n",
       "    </tr>\n",
       "    <tr>\n",
       "      <th>3</th>\n",
       "      <td>-0.413083</td>\n",
       "      <td>99901.154399</td>\n",
       "      <td>-0.546596</td>\n",
       "      <td>267.678637</td>\n",
       "      <td>267.478934</td>\n",
       "      <td>34.847245</td>\n",
       "      <td>4.999985</td>\n",
       "      <td>0.062465</td>\n",
       "      <td>-14.010293</td>\n",
       "      <td>1.033547</td>\n",
       "      <td>...</td>\n",
       "      <td>49882.912931</td>\n",
       "      <td>24.691451</td>\n",
       "      <td>11.550852</td>\n",
       "      <td>0.000000</td>\n",
       "      <td>0.002261</td>\n",
       "      <td>0.230415</td>\n",
       "      <td>0.000000</td>\n",
       "      <td>0.742349</td>\n",
       "      <td>2.628141</td>\n",
       "      <td>0.542959</td>\n",
       "    </tr>\n",
       "    <tr>\n",
       "      <th>4</th>\n",
       "      <td>-1.096422</td>\n",
       "      <td>99276.268043</td>\n",
       "      <td>-1.340918</td>\n",
       "      <td>266.092413</td>\n",
       "      <td>267.691344</td>\n",
       "      <td>36.648213</td>\n",
       "      <td>4.749989</td>\n",
       "      <td>0.133923</td>\n",
       "      <td>-3.991905</td>\n",
       "      <td>1.798511</td>\n",
       "      <td>...</td>\n",
       "      <td>49966.240883</td>\n",
       "      <td>68.240764</td>\n",
       "      <td>12.829602</td>\n",
       "      <td>16.263965</td>\n",
       "      <td>0.001455</td>\n",
       "      <td>0.239385</td>\n",
       "      <td>0.000000</td>\n",
       "      <td>0.586611</td>\n",
       "      <td>1.544286</td>\n",
       "      <td>0.377490</td>\n",
       "    </tr>\n",
       "    <tr>\n",
       "      <th>...</th>\n",
       "      <td>...</td>\n",
       "      <td>...</td>\n",
       "      <td>...</td>\n",
       "      <td>...</td>\n",
       "      <td>...</td>\n",
       "      <td>...</td>\n",
       "      <td>...</td>\n",
       "      <td>...</td>\n",
       "      <td>...</td>\n",
       "      <td>...</td>\n",
       "      <td>...</td>\n",
       "      <td>...</td>\n",
       "      <td>...</td>\n",
       "      <td>...</td>\n",
       "      <td>...</td>\n",
       "      <td>...</td>\n",
       "      <td>...</td>\n",
       "      <td>...</td>\n",
       "      <td>...</td>\n",
       "      <td>...</td>\n",
       "      <td>...</td>\n",
       "    </tr>\n",
       "    <tr>\n",
       "      <th>3648</th>\n",
       "      <td>0.301175</td>\n",
       "      <td>97670.076078</td>\n",
       "      <td>1.392121</td>\n",
       "      <td>272.159259</td>\n",
       "      <td>275.114354</td>\n",
       "      <td>38.744972</td>\n",
       "      <td>2.270866</td>\n",
       "      <td>0.393546</td>\n",
       "      <td>3.796433</td>\n",
       "      <td>5.682410</td>\n",
       "      <td>...</td>\n",
       "      <td>49723.955219</td>\n",
       "      <td>222.753168</td>\n",
       "      <td>30.078352</td>\n",
       "      <td>22.948625</td>\n",
       "      <td>0.015042</td>\n",
       "      <td>0.271854</td>\n",
       "      <td>0.009627</td>\n",
       "      <td>0.533663</td>\n",
       "      <td>2.434897</td>\n",
       "      <td>0.730152</td>\n",
       "    </tr>\n",
       "    <tr>\n",
       "      <th>3649</th>\n",
       "      <td>0.070719</td>\n",
       "      <td>96064.658816</td>\n",
       "      <td>0.934923</td>\n",
       "      <td>275.895040</td>\n",
       "      <td>275.615978</td>\n",
       "      <td>51.397479</td>\n",
       "      <td>1.229208</td>\n",
       "      <td>0.235099</td>\n",
       "      <td>13.421346</td>\n",
       "      <td>3.212596</td>\n",
       "      <td>...</td>\n",
       "      <td>49044.093084</td>\n",
       "      <td>123.066914</td>\n",
       "      <td>22.351888</td>\n",
       "      <td>24.371086</td>\n",
       "      <td>0.017946</td>\n",
       "      <td>0.213111</td>\n",
       "      <td>0.008076</td>\n",
       "      <td>0.782175</td>\n",
       "      <td>2.982477</td>\n",
       "      <td>0.752685</td>\n",
       "    </tr>\n",
       "    <tr>\n",
       "      <th>3650</th>\n",
       "      <td>1.831054</td>\n",
       "      <td>97003.024807</td>\n",
       "      <td>3.941376</td>\n",
       "      <td>274.408335</td>\n",
       "      <td>274.857152</td>\n",
       "      <td>54.711400</td>\n",
       "      <td>1.437538</td>\n",
       "      <td>0.269854</td>\n",
       "      <td>17.387979</td>\n",
       "      <td>3.038717</td>\n",
       "      <td>...</td>\n",
       "      <td>49202.013741</td>\n",
       "      <td>126.806489</td>\n",
       "      <td>23.851330</td>\n",
       "      <td>22.589331</td>\n",
       "      <td>0.014028</td>\n",
       "      <td>0.201922</td>\n",
       "      <td>0.003661</td>\n",
       "      <td>0.743381</td>\n",
       "      <td>5.338310</td>\n",
       "      <td>0.691869</td>\n",
       "    </tr>\n",
       "    <tr>\n",
       "      <th>3651</th>\n",
       "      <td>1.569105</td>\n",
       "      <td>98303.762344</td>\n",
       "      <td>3.974165</td>\n",
       "      <td>274.734868</td>\n",
       "      <td>274.534005</td>\n",
       "      <td>53.840718</td>\n",
       "      <td>1.000046</td>\n",
       "      <td>0.209653</td>\n",
       "      <td>15.900618</td>\n",
       "      <td>2.215201</td>\n",
       "      <td>...</td>\n",
       "      <td>49590.467496</td>\n",
       "      <td>75.186341</td>\n",
       "      <td>18.920871</td>\n",
       "      <td>22.445073</td>\n",
       "      <td>0.004728</td>\n",
       "      <td>0.196692</td>\n",
       "      <td>0.001725</td>\n",
       "      <td>0.738575</td>\n",
       "      <td>5.211113</td>\n",
       "      <td>0.548945</td>\n",
       "    </tr>\n",
       "    <tr>\n",
       "      <th>3652</th>\n",
       "      <td>-0.531303</td>\n",
       "      <td>98440.935068</td>\n",
       "      <td>0.082089</td>\n",
       "      <td>273.638509</td>\n",
       "      <td>273.870932</td>\n",
       "      <td>50.668536</td>\n",
       "      <td>2.375032</td>\n",
       "      <td>0.223627</td>\n",
       "      <td>15.369043</td>\n",
       "      <td>2.773318</td>\n",
       "      <td>...</td>\n",
       "      <td>49826.053971</td>\n",
       "      <td>86.412056</td>\n",
       "      <td>18.412328</td>\n",
       "      <td>20.066855</td>\n",
       "      <td>0.015023</td>\n",
       "      <td>0.248593</td>\n",
       "      <td>0.005463</td>\n",
       "      <td>0.870837</td>\n",
       "      <td>2.357206</td>\n",
       "      <td>0.872324</td>\n",
       "    </tr>\n",
       "  </tbody>\n",
       "</table>\n",
       "<p>3653 rows × 140 columns</p>\n",
       "</div>"
      ],
      "text/plain": [
       "      og_mean_u10n     og_mean_sp  og_mean_u100  og_mean_d2m  og_mean_skt  \\\n",
       "0         1.514804  100066.638959      3.452743   272.354215   272.197156   \n",
       "1         1.258293  100170.593400      3.035505   272.052127   271.166422   \n",
       "2         0.625798  100300.192825      2.158679   270.541523   270.348920   \n",
       "3        -0.413083   99901.154399     -0.546596   267.678637   267.478934   \n",
       "4        -1.096422   99276.268043     -1.340918   266.092413   267.691344   \n",
       "...            ...            ...           ...          ...          ...   \n",
       "3648      0.301175   97670.076078      1.392121   272.159259   275.114354   \n",
       "3649      0.070719   96064.658816      0.934923   275.895040   275.615978   \n",
       "3650      1.831054   97003.024807      3.941376   274.408335   274.857152   \n",
       "3651      1.569105   98303.762344      3.974165   274.734868   274.534005   \n",
       "3652     -0.531303   98440.935068      0.082089   273.638509   273.870932   \n",
       "\n",
       "      og_mean_totalx  og_mean_ptype  og_mean_zust  og_mean_kx  og_mean_v10n  \\\n",
       "0          28.871947       2.750027      0.128811   -5.533518      1.012167   \n",
       "1          30.291684       4.625008      0.133434  -13.131095     -1.068212   \n",
       "2          33.781080       5.104156      0.077228  -11.881619      0.274895   \n",
       "3          34.847245       4.999985      0.062465  -14.010293      1.033547   \n",
       "4          36.648213       4.749989      0.133923   -3.991905      1.798511   \n",
       "...              ...            ...           ...         ...           ...   \n",
       "3648       38.744972       2.270866      0.393546    3.796433      5.682410   \n",
       "3649       51.397479       1.229208      0.235099   13.421346      3.212596   \n",
       "3650       54.711400       1.437538      0.269854   17.387979      3.038717   \n",
       "3651       53.840718       1.000046      0.209653   15.900618      2.215201   \n",
       "3652       50.668536       2.375032      0.223627   15.369043      2.773318   \n",
       "\n",
       "      ...  root_mean_p62.162  root_mean_bld  root_mean_blh  root_mean_deg0l  \\\n",
       "0     ...       50492.458119      52.849862      13.181203        27.013148   \n",
       "1     ...       50062.562179      53.450787      17.178033         8.900966   \n",
       "2     ...       50010.147887      29.067978      11.446397         1.198019   \n",
       "3     ...       49882.912931      24.691451      11.550852         0.000000   \n",
       "4     ...       49966.240883      68.240764      12.829602        16.263965   \n",
       "...   ...                ...            ...            ...              ...   \n",
       "3648  ...       49723.955219     222.753168      30.078352        22.948625   \n",
       "3649  ...       49044.093084     123.066914      22.351888        24.371086   \n",
       "3650  ...       49202.013741     126.806489      23.851330        22.589331   \n",
       "3651  ...       49590.467496      75.186341      18.920871        22.445073   \n",
       "3652  ...       49826.053971      86.412056      18.412328        20.066855   \n",
       "\n",
       "      root_mean_tp  root_mean_tcslw  root_mean_lsrr  root_mean_ilspf  \\\n",
       "0         0.005403         0.482839        0.002181         0.774195   \n",
       "1         0.003121         0.285288        0.000547         0.608269   \n",
       "2         0.002199         0.352253        0.000000         0.748176   \n",
       "3         0.002261         0.230415        0.000000         0.742349   \n",
       "4         0.001455         0.239385        0.000000         0.586611   \n",
       "...            ...              ...             ...              ...   \n",
       "3648      0.015042         0.271854        0.009627         0.533663   \n",
       "3649      0.017946         0.213111        0.008076         0.782175   \n",
       "3650      0.014028         0.201922        0.003661         0.743381   \n",
       "3651      0.004728         0.196692        0.001725         0.738575   \n",
       "3652      0.015023         0.248593        0.005463         0.870837   \n",
       "\n",
       "      root_mean_cape  root_mean_mcc  \n",
       "0           3.061819       0.415268  \n",
       "1           3.704122       0.277594  \n",
       "2           3.924721       0.279129  \n",
       "3           2.628141       0.542959  \n",
       "4           1.544286       0.377490  \n",
       "...              ...            ...  \n",
       "3648        2.434897       0.730152  \n",
       "3649        2.982477       0.752685  \n",
       "3650        5.338310       0.691869  \n",
       "3651        5.211113       0.548945  \n",
       "3652        2.357206       0.872324  \n",
       "\n",
       "[3653 rows x 140 columns]"
      ]
     },
     "execution_count": 58,
     "metadata": {},
     "output_type": "execute_result"
    }
   ],
   "source": [
    "merged"
   ]
  },
  {
   "cell_type": "code",
   "execution_count": 59,
   "id": "528ce361",
   "metadata": {},
   "outputs": [],
   "source": [
    "k_best = []\n",
    "def collect_k_best(df, k=100):\n",
    "    k_stem = []\n",
    "    corr_m = df.corr()\n",
    "    idx = corr_m['og_mean_totalx']\n",
    "    # take the absolute value\n",
    "    idx = np.absolute(idx).sort_values(ascending=False)\n",
    "    for i in range(len(idx)):\n",
    "        key = idx.keys()[i]\n",
    "        temp_key = key.split('_', 1)[1]\n",
    "        if len(k_best) < k and temp_key not in k_stem:\n",
    "            k_stem.append(temp_key)\n",
    "            #print(temp_key)\n",
    "            k_best.append(key)\n",
    "            #print('collected ' + key)\n",
    "            print(str(idx[i]) + '  ---->   '+ key )\n",
    "        if len(k_best) >= k:\n",
    "            break"
   ]
  },
  {
   "cell_type": "markdown",
   "id": "f8e20ba7",
   "metadata": {},
   "source": [
    "We want to make sure that we do not take a feature and its aggregated counterpart into the dataframe.\n",
    "I implemented a (unsightly) work-around using string manipulation to make sure we only take the best aggregation of the feature into the final data set."
   ]
  },
  {
   "cell_type": "code",
   "execution_count": 60,
   "id": "20abe3c3",
   "metadata": {},
   "outputs": [
    {
     "name": "stdout",
     "output_type": "stream",
     "text": [
      "1.0  ---->   og_mean_totalx\n",
      "0.7828707069733708  ---->   og_mean_kx\n",
      "0.5339142742531026  ---->   squared_mean_sp\n",
      "0.5330259848444896  ---->   squared_mean_p53.162\n",
      "0.42054136148473237  ---->   root_mean_mcc\n",
      "0.4195630304381516  ---->   root_mean_cape\n",
      "0.4129476725524589  ---->   log_mean_tcw\n",
      "0.40977736942446413  ---->   log_mean_tcwv\n",
      "0.3918930471124857  ---->   log_mean_d2m\n",
      "0.39181410312861176  ---->   root_mean_tp\n",
      "0.38431447270779595  ---->   root_mean_tciw\n",
      "0.3408910231836148  ---->   og_mean_cbh\n",
      "0.3242551677345953  ---->   log_mean_strdc\n",
      "0.3242550648092317  ---->   log_mean_msdwlwrfcs\n",
      "0.31002362833921565  ---->   log_mean_tcslw\n",
      "0.28893424600307943  ---->   log_mean_t2m\n",
      "0.2763237664084477  ---->   log_mean_stl1\n",
      "0.27127887159071973  ---->   log_mean_skt\n",
      "0.2570980871111808  ---->   root_mean_tcc\n",
      "0.25379638180807423  ---->   log_mean_tclw\n",
      "0.24751305183412994  ---->   log_mean_lsrr\n",
      "0.24405569602182425  ---->   og_mean_hcc\n",
      "0.24206783048334604  ---->   og_mean_u100\n",
      "0.23487421130862335  ---->   og_mean_u10n\n",
      "0.2148993842120711  ---->   log_mean_ptype\n",
      "0.19783379213512656  ---->   squared_mean_lmlt\n",
      "0.1845270209483628  ---->   log_mean_blh\n",
      "0.1741625817239608  ---->   og_mean_p71.162\n",
      "0.1682949291753375  ---->   log_mean_p54.162\n",
      "0.16353433602040685  ---->   root_mean_ilspf\n",
      "0.15364186259118037  ---->   log_mean_p61.162\n",
      "0.15239905880267257  ---->   log_mean_p60.162\n",
      "0.15177586537001694  ---->   log_mean_zust\n",
      "0.1455182173045244  ---->   log_mean_deg0l\n",
      "0.14510462067513213  ---->   og_mean_v10n\n",
      "0.09472040527516276  ---->   root_mean_bld\n",
      "0.05238400345588803  ---->   og_mean_ishf\n",
      "0.03306361229692948  ---->   squared_mean_lcc\n",
      "0.03193489069643891  ---->   og_mean_sshf\n",
      "0.021824697112400225  ---->   log_mean_p62.162\n"
     ]
    }
   ],
   "source": [
    "collect_k_best(merged, k=100)"
   ]
  },
  {
   "cell_type": "code",
   "execution_count": 61,
   "id": "97d2112c",
   "metadata": {},
   "outputs": [
    {
     "data": {
      "text/plain": [
       "40"
      ]
     },
     "execution_count": 61,
     "metadata": {},
     "output_type": "execute_result"
    }
   ],
   "source": [
    "len(set(k_best))"
   ]
  },
  {
   "cell_type": "code",
   "execution_count": 62,
   "id": "07d63152",
   "metadata": {},
   "outputs": [
    {
     "data": {
      "text/plain": [
       "40"
      ]
     },
     "execution_count": 62,
     "metadata": {},
     "output_type": "execute_result"
    }
   ],
   "source": [
    "len(set(k_best).intersection(set(merged.keys())))"
   ]
  },
  {
   "cell_type": "code",
   "execution_count": 63,
   "id": "d3177122",
   "metadata": {},
   "outputs": [
    {
     "data": {
      "text/plain": [
       "40"
      ]
     },
     "execution_count": 63,
     "metadata": {},
     "output_type": "execute_result"
    }
   ],
   "source": [
    "len(set(merged.keys()).intersection(set(k_best)))"
   ]
  },
  {
   "cell_type": "code",
   "execution_count": 64,
   "id": "a6c24ab4",
   "metadata": {},
   "outputs": [
    {
     "data": {
      "text/html": [
       "<div>\n",
       "<style scoped>\n",
       "    .dataframe tbody tr th:only-of-type {\n",
       "        vertical-align: middle;\n",
       "    }\n",
       "\n",
       "    .dataframe tbody tr th {\n",
       "        vertical-align: top;\n",
       "    }\n",
       "\n",
       "    .dataframe thead th {\n",
       "        text-align: right;\n",
       "    }\n",
       "</style>\n",
       "<table border=\"1\" class=\"dataframe\">\n",
       "  <thead>\n",
       "    <tr style=\"text-align: right;\">\n",
       "      <th></th>\n",
       "      <th>og_mean_totalx</th>\n",
       "      <th>og_mean_kx</th>\n",
       "      <th>squared_mean_sp</th>\n",
       "      <th>squared_mean_p53.162</th>\n",
       "      <th>root_mean_mcc</th>\n",
       "      <th>root_mean_cape</th>\n",
       "      <th>log_mean_tcw</th>\n",
       "      <th>log_mean_tcwv</th>\n",
       "      <th>log_mean_d2m</th>\n",
       "      <th>root_mean_tp</th>\n",
       "      <th>...</th>\n",
       "      <th>log_mean_p61.162</th>\n",
       "      <th>log_mean_p60.162</th>\n",
       "      <th>log_mean_zust</th>\n",
       "      <th>log_mean_deg0l</th>\n",
       "      <th>og_mean_v10n</th>\n",
       "      <th>root_mean_bld</th>\n",
       "      <th>og_mean_ishf</th>\n",
       "      <th>squared_mean_lcc</th>\n",
       "      <th>og_mean_sshf</th>\n",
       "      <th>log_mean_p62.162</th>\n",
       "    </tr>\n",
       "  </thead>\n",
       "  <tbody>\n",
       "    <tr>\n",
       "      <th>0</th>\n",
       "      <td>28.871947</td>\n",
       "      <td>-5.533518</td>\n",
       "      <td>1.001333e+10</td>\n",
       "      <td>1.041208e+08</td>\n",
       "      <td>0.415268</td>\n",
       "      <td>3.061819</td>\n",
       "      <td>2.359873</td>\n",
       "      <td>2.333954</td>\n",
       "      <td>5.607103</td>\n",
       "      <td>0.005403</td>\n",
       "      <td>...</td>\n",
       "      <td>21.648985</td>\n",
       "      <td>21.642156</td>\n",
       "      <td>-2.049406</td>\n",
       "      <td>6.592647</td>\n",
       "      <td>1.012167</td>\n",
       "      <td>52.849862</td>\n",
       "      <td>4.698537</td>\n",
       "      <td>0.796414</td>\n",
       "      <td>20405.112713</td>\n",
       "      <td>21.659159</td>\n",
       "    </tr>\n",
       "    <tr>\n",
       "      <th>1</th>\n",
       "      <td>30.291684</td>\n",
       "      <td>-13.131095</td>\n",
       "      <td>1.003415e+10</td>\n",
       "      <td>1.043373e+08</td>\n",
       "      <td>0.277594</td>\n",
       "      <td>3.704122</td>\n",
       "      <td>1.824622</td>\n",
       "      <td>1.817451</td>\n",
       "      <td>5.605994</td>\n",
       "      <td>0.003121</td>\n",
       "      <td>...</td>\n",
       "      <td>21.635896</td>\n",
       "      <td>21.628971</td>\n",
       "      <td>-2.014149</td>\n",
       "      <td>4.372320</td>\n",
       "      <td>-1.068212</td>\n",
       "      <td>53.450787</td>\n",
       "      <td>8.432579</td>\n",
       "      <td>0.289920</td>\n",
       "      <td>25323.768142</td>\n",
       "      <td>21.642057</td>\n",
       "    </tr>\n",
       "    <tr>\n",
       "      <th>2</th>\n",
       "      <td>33.781080</td>\n",
       "      <td>-11.881619</td>\n",
       "      <td>1.006013e+10</td>\n",
       "      <td>1.046070e+08</td>\n",
       "      <td>0.279129</td>\n",
       "      <td>3.924721</td>\n",
       "      <td>1.852159</td>\n",
       "      <td>1.838652</td>\n",
       "      <td>5.600426</td>\n",
       "      <td>0.002199</td>\n",
       "      <td>...</td>\n",
       "      <td>21.633655</td>\n",
       "      <td>21.626705</td>\n",
       "      <td>-2.560992</td>\n",
       "      <td>0.361338</td>\n",
       "      <td>0.274895</td>\n",
       "      <td>29.067978</td>\n",
       "      <td>2.289776</td>\n",
       "      <td>0.539366</td>\n",
       "      <td>-3868.030432</td>\n",
       "      <td>21.639962</td>\n",
       "    </tr>\n",
       "    <tr>\n",
       "      <th>3</th>\n",
       "      <td>34.847245</td>\n",
       "      <td>-14.010293</td>\n",
       "      <td>9.980241e+09</td>\n",
       "      <td>1.037768e+08</td>\n",
       "      <td>0.542959</td>\n",
       "      <td>2.628141</td>\n",
       "      <td>1.798295</td>\n",
       "      <td>1.788243</td>\n",
       "      <td>5.589787</td>\n",
       "      <td>0.002261</td>\n",
       "      <td>...</td>\n",
       "      <td>21.628841</td>\n",
       "      <td>21.621884</td>\n",
       "      <td>-2.773141</td>\n",
       "      <td>-100.000000</td>\n",
       "      <td>1.033547</td>\n",
       "      <td>24.691451</td>\n",
       "      <td>-4.853161</td>\n",
       "      <td>0.261381</td>\n",
       "      <td>-15732.536173</td>\n",
       "      <td>21.634868</td>\n",
       "    </tr>\n",
       "    <tr>\n",
       "      <th>4</th>\n",
       "      <td>36.648213</td>\n",
       "      <td>-3.991905</td>\n",
       "      <td>9.855777e+09</td>\n",
       "      <td>1.024827e+08</td>\n",
       "      <td>0.377490</td>\n",
       "      <td>1.544286</td>\n",
       "      <td>2.000574</td>\n",
       "      <td>1.990078</td>\n",
       "      <td>5.583844</td>\n",
       "      <td>0.001455</td>\n",
       "      <td>...</td>\n",
       "      <td>21.630850</td>\n",
       "      <td>21.623952</td>\n",
       "      <td>-2.010490</td>\n",
       "      <td>5.577904</td>\n",
       "      <td>1.798511</td>\n",
       "      <td>68.240764</td>\n",
       "      <td>-9.435172</td>\n",
       "      <td>0.370999</td>\n",
       "      <td>-26102.762790</td>\n",
       "      <td>21.638206</td>\n",
       "    </tr>\n",
       "  </tbody>\n",
       "</table>\n",
       "<p>5 rows × 40 columns</p>\n",
       "</div>"
      ],
      "text/plain": [
       "   og_mean_totalx  og_mean_kx  squared_mean_sp  squared_mean_p53.162  \\\n",
       "0       28.871947   -5.533518     1.001333e+10          1.041208e+08   \n",
       "1       30.291684  -13.131095     1.003415e+10          1.043373e+08   \n",
       "2       33.781080  -11.881619     1.006013e+10          1.046070e+08   \n",
       "3       34.847245  -14.010293     9.980241e+09          1.037768e+08   \n",
       "4       36.648213   -3.991905     9.855777e+09          1.024827e+08   \n",
       "\n",
       "   root_mean_mcc  root_mean_cape  log_mean_tcw  log_mean_tcwv  log_mean_d2m  \\\n",
       "0       0.415268        3.061819      2.359873       2.333954      5.607103   \n",
       "1       0.277594        3.704122      1.824622       1.817451      5.605994   \n",
       "2       0.279129        3.924721      1.852159       1.838652      5.600426   \n",
       "3       0.542959        2.628141      1.798295       1.788243      5.589787   \n",
       "4       0.377490        1.544286      2.000574       1.990078      5.583844   \n",
       "\n",
       "   root_mean_tp  ...  log_mean_p61.162  log_mean_p60.162  log_mean_zust  \\\n",
       "0      0.005403  ...         21.648985         21.642156      -2.049406   \n",
       "1      0.003121  ...         21.635896         21.628971      -2.014149   \n",
       "2      0.002199  ...         21.633655         21.626705      -2.560992   \n",
       "3      0.002261  ...         21.628841         21.621884      -2.773141   \n",
       "4      0.001455  ...         21.630850         21.623952      -2.010490   \n",
       "\n",
       "   log_mean_deg0l  og_mean_v10n  root_mean_bld  og_mean_ishf  \\\n",
       "0        6.592647      1.012167      52.849862      4.698537   \n",
       "1        4.372320     -1.068212      53.450787      8.432579   \n",
       "2        0.361338      0.274895      29.067978      2.289776   \n",
       "3     -100.000000      1.033547      24.691451     -4.853161   \n",
       "4        5.577904      1.798511      68.240764     -9.435172   \n",
       "\n",
       "   squared_mean_lcc  og_mean_sshf  log_mean_p62.162  \n",
       "0          0.796414  20405.112713         21.659159  \n",
       "1          0.289920  25323.768142         21.642057  \n",
       "2          0.539366  -3868.030432         21.639962  \n",
       "3          0.261381 -15732.536173         21.634868  \n",
       "4          0.370999 -26102.762790         21.638206  \n",
       "\n",
       "[5 rows x 40 columns]"
      ]
     },
     "execution_count": 64,
     "metadata": {},
     "output_type": "execute_result"
    }
   ],
   "source": [
    "final = pd.DataFrame()\n",
    "for column in k_best:\n",
    "    final[column] = merged[column]\n",
    "final.head()"
   ]
  },
  {
   "cell_type": "markdown",
   "id": "b1e08d04",
   "metadata": {},
   "source": [
    "# Binning of the target variable"
   ]
  },
  {
   "cell_type": "code",
   "execution_count": 65,
   "id": "7bfa3ad8",
   "metadata": {},
   "outputs": [],
   "source": [
    "t = []\n",
    "for d in data['mean_totalx']:\n",
    "    if d >= 44:\n",
    "        t.append(1)\n",
    "    else:\n",
    "        t.append(0)"
   ]
  },
  {
   "cell_type": "code",
   "execution_count": 66,
   "id": "e7407920",
   "metadata": {},
   "outputs": [],
   "source": [
    "t_plus1 = t[1:]\n",
    "t_plus1.append(1)"
   ]
  },
  {
   "cell_type": "code",
   "execution_count": 67,
   "id": "c3c39d49",
   "metadata": {},
   "outputs": [],
   "source": [
    "final['target+1'] = t_plus1"
   ]
  },
  {
   "cell_type": "code",
   "execution_count": 68,
   "id": "5db2f638",
   "metadata": {},
   "outputs": [],
   "source": [
    "final.to_csv('test_this.csv')"
   ]
  },
  {
   "cell_type": "code",
   "execution_count": 69,
   "id": "1d3bfa6c",
   "metadata": {},
   "outputs": [
    {
     "ename": "KeyError",
     "evalue": "'max_totalx'",
     "output_type": "error",
     "traceback": [
      "\u001b[1;31m---------------------------------------------------------------------------\u001b[0m",
      "\u001b[1;31mKeyError\u001b[0m                                  Traceback (most recent call last)",
      "\u001b[1;32mC:\\ProgramData\\Anaconda3\\lib\\site-packages\\pandas\\core\\indexes\\base.py\u001b[0m in \u001b[0;36mget_loc\u001b[1;34m(self, key, method, tolerance)\u001b[0m\n\u001b[0;32m   3079\u001b[0m             \u001b[1;32mtry\u001b[0m\u001b[1;33m:\u001b[0m\u001b[1;33m\u001b[0m\u001b[1;33m\u001b[0m\u001b[0m\n\u001b[1;32m-> 3080\u001b[1;33m                 \u001b[1;32mreturn\u001b[0m \u001b[0mself\u001b[0m\u001b[1;33m.\u001b[0m\u001b[0m_engine\u001b[0m\u001b[1;33m.\u001b[0m\u001b[0mget_loc\u001b[0m\u001b[1;33m(\u001b[0m\u001b[0mcasted_key\u001b[0m\u001b[1;33m)\u001b[0m\u001b[1;33m\u001b[0m\u001b[1;33m\u001b[0m\u001b[0m\n\u001b[0m\u001b[0;32m   3081\u001b[0m             \u001b[1;32mexcept\u001b[0m \u001b[0mKeyError\u001b[0m \u001b[1;32mas\u001b[0m \u001b[0merr\u001b[0m\u001b[1;33m:\u001b[0m\u001b[1;33m\u001b[0m\u001b[1;33m\u001b[0m\u001b[0m\n",
      "\u001b[1;32mpandas\\_libs\\index.pyx\u001b[0m in \u001b[0;36mpandas._libs.index.IndexEngine.get_loc\u001b[1;34m()\u001b[0m\n",
      "\u001b[1;32mpandas\\_libs\\index.pyx\u001b[0m in \u001b[0;36mpandas._libs.index.IndexEngine.get_loc\u001b[1;34m()\u001b[0m\n",
      "\u001b[1;32mpandas\\_libs\\hashtable_class_helper.pxi\u001b[0m in \u001b[0;36mpandas._libs.hashtable.PyObjectHashTable.get_item\u001b[1;34m()\u001b[0m\n",
      "\u001b[1;32mpandas\\_libs\\hashtable_class_helper.pxi\u001b[0m in \u001b[0;36mpandas._libs.hashtable.PyObjectHashTable.get_item\u001b[1;34m()\u001b[0m\n",
      "\u001b[1;31mKeyError\u001b[0m: 'max_totalx'",
      "\nThe above exception was the direct cause of the following exception:\n",
      "\u001b[1;31mKeyError\u001b[0m                                  Traceback (most recent call last)",
      "\u001b[1;32m<ipython-input-69-7888d5c0990a>\u001b[0m in \u001b[0;36m<module>\u001b[1;34m\u001b[0m\n\u001b[0;32m      1\u001b[0m \u001b[0mtest\u001b[0m \u001b[1;33m=\u001b[0m \u001b[1;33m[\u001b[0m\u001b[1;33m]\u001b[0m\u001b[1;33m\u001b[0m\u001b[1;33m\u001b[0m\u001b[0m\n\u001b[1;32m----> 2\u001b[1;33m \u001b[1;32mfor\u001b[0m \u001b[0md\u001b[0m \u001b[1;32min\u001b[0m \u001b[0mdata\u001b[0m\u001b[1;33m[\u001b[0m\u001b[1;34m'max_totalx'\u001b[0m\u001b[1;33m]\u001b[0m\u001b[1;33m:\u001b[0m\u001b[1;33m\u001b[0m\u001b[1;33m\u001b[0m\u001b[0m\n\u001b[0m\u001b[0;32m      3\u001b[0m     \u001b[1;32mif\u001b[0m \u001b[0md\u001b[0m \u001b[1;33m>\u001b[0m \u001b[1;36m50\u001b[0m\u001b[1;33m:\u001b[0m\u001b[1;33m\u001b[0m\u001b[1;33m\u001b[0m\u001b[0m\n\u001b[0;32m      4\u001b[0m         \u001b[0mtest\u001b[0m\u001b[1;33m.\u001b[0m\u001b[0mappend\u001b[0m\u001b[1;33m(\u001b[0m\u001b[1;36m1\u001b[0m\u001b[1;33m)\u001b[0m\u001b[1;33m\u001b[0m\u001b[1;33m\u001b[0m\u001b[0m\n\u001b[0;32m      5\u001b[0m     \u001b[1;32melse\u001b[0m\u001b[1;33m:\u001b[0m\u001b[1;33m\u001b[0m\u001b[1;33m\u001b[0m\u001b[0m\n",
      "\u001b[1;32mC:\\ProgramData\\Anaconda3\\lib\\site-packages\\pandas\\core\\frame.py\u001b[0m in \u001b[0;36m__getitem__\u001b[1;34m(self, key)\u001b[0m\n\u001b[0;32m   3022\u001b[0m             \u001b[1;32mif\u001b[0m \u001b[0mself\u001b[0m\u001b[1;33m.\u001b[0m\u001b[0mcolumns\u001b[0m\u001b[1;33m.\u001b[0m\u001b[0mnlevels\u001b[0m \u001b[1;33m>\u001b[0m \u001b[1;36m1\u001b[0m\u001b[1;33m:\u001b[0m\u001b[1;33m\u001b[0m\u001b[1;33m\u001b[0m\u001b[0m\n\u001b[0;32m   3023\u001b[0m                 \u001b[1;32mreturn\u001b[0m \u001b[0mself\u001b[0m\u001b[1;33m.\u001b[0m\u001b[0m_getitem_multilevel\u001b[0m\u001b[1;33m(\u001b[0m\u001b[0mkey\u001b[0m\u001b[1;33m)\u001b[0m\u001b[1;33m\u001b[0m\u001b[1;33m\u001b[0m\u001b[0m\n\u001b[1;32m-> 3024\u001b[1;33m             \u001b[0mindexer\u001b[0m \u001b[1;33m=\u001b[0m \u001b[0mself\u001b[0m\u001b[1;33m.\u001b[0m\u001b[0mcolumns\u001b[0m\u001b[1;33m.\u001b[0m\u001b[0mget_loc\u001b[0m\u001b[1;33m(\u001b[0m\u001b[0mkey\u001b[0m\u001b[1;33m)\u001b[0m\u001b[1;33m\u001b[0m\u001b[1;33m\u001b[0m\u001b[0m\n\u001b[0m\u001b[0;32m   3025\u001b[0m             \u001b[1;32mif\u001b[0m \u001b[0mis_integer\u001b[0m\u001b[1;33m(\u001b[0m\u001b[0mindexer\u001b[0m\u001b[1;33m)\u001b[0m\u001b[1;33m:\u001b[0m\u001b[1;33m\u001b[0m\u001b[1;33m\u001b[0m\u001b[0m\n\u001b[0;32m   3026\u001b[0m                 \u001b[0mindexer\u001b[0m \u001b[1;33m=\u001b[0m \u001b[1;33m[\u001b[0m\u001b[0mindexer\u001b[0m\u001b[1;33m]\u001b[0m\u001b[1;33m\u001b[0m\u001b[1;33m\u001b[0m\u001b[0m\n",
      "\u001b[1;32mC:\\ProgramData\\Anaconda3\\lib\\site-packages\\pandas\\core\\indexes\\base.py\u001b[0m in \u001b[0;36mget_loc\u001b[1;34m(self, key, method, tolerance)\u001b[0m\n\u001b[0;32m   3080\u001b[0m                 \u001b[1;32mreturn\u001b[0m \u001b[0mself\u001b[0m\u001b[1;33m.\u001b[0m\u001b[0m_engine\u001b[0m\u001b[1;33m.\u001b[0m\u001b[0mget_loc\u001b[0m\u001b[1;33m(\u001b[0m\u001b[0mcasted_key\u001b[0m\u001b[1;33m)\u001b[0m\u001b[1;33m\u001b[0m\u001b[1;33m\u001b[0m\u001b[0m\n\u001b[0;32m   3081\u001b[0m             \u001b[1;32mexcept\u001b[0m \u001b[0mKeyError\u001b[0m \u001b[1;32mas\u001b[0m \u001b[0merr\u001b[0m\u001b[1;33m:\u001b[0m\u001b[1;33m\u001b[0m\u001b[1;33m\u001b[0m\u001b[0m\n\u001b[1;32m-> 3082\u001b[1;33m                 \u001b[1;32mraise\u001b[0m \u001b[0mKeyError\u001b[0m\u001b[1;33m(\u001b[0m\u001b[0mkey\u001b[0m\u001b[1;33m)\u001b[0m \u001b[1;32mfrom\u001b[0m \u001b[0merr\u001b[0m\u001b[1;33m\u001b[0m\u001b[1;33m\u001b[0m\u001b[0m\n\u001b[0m\u001b[0;32m   3083\u001b[0m \u001b[1;33m\u001b[0m\u001b[0m\n\u001b[0;32m   3084\u001b[0m         \u001b[1;32mif\u001b[0m \u001b[0mtolerance\u001b[0m \u001b[1;32mis\u001b[0m \u001b[1;32mnot\u001b[0m \u001b[1;32mNone\u001b[0m\u001b[1;33m:\u001b[0m\u001b[1;33m\u001b[0m\u001b[1;33m\u001b[0m\u001b[0m\n",
      "\u001b[1;31mKeyError\u001b[0m: 'max_totalx'"
     ]
    }
   ],
   "source": [
    "test = []\n",
    "for d in data['max_totalx']:\n",
    "    if d > 50:\n",
    "        test.append(1)\n",
    "    else:\n",
    "        test.append(0)"
   ]
  },
  {
   "cell_type": "code",
   "execution_count": null,
   "id": "e1235c8d",
   "metadata": {},
   "outputs": [],
   "source": [
    "tplus1 = test[1:]\n",
    "tplus1.append(1)"
   ]
  },
  {
   "cell_type": "code",
   "execution_count": null,
   "id": "01a4415c",
   "metadata": {},
   "outputs": [],
   "source": [
    "final['test+1'] = tplus1"
   ]
  },
  {
   "cell_type": "code",
   "execution_count": null,
   "id": "34350f61",
   "metadata": {},
   "outputs": [],
   "source": [
    "final['test+1'].value_counts()"
   ]
  },
  {
   "cell_type": "code",
   "execution_count": null,
   "id": "a6ecec32",
   "metadata": {},
   "outputs": [],
   "source": [
    "final = final.drop(labels=['target+1'], axis =1)"
   ]
  },
  {
   "cell_type": "code",
   "execution_count": null,
   "id": "e296f236",
   "metadata": {},
   "outputs": [],
   "source": [
    "final"
   ]
  },
  {
   "cell_type": "code",
   "execution_count": null,
   "id": "676ca91a",
   "metadata": {},
   "outputs": [],
   "source": [
    "final.to_csv('test_strict.csv')"
   ]
  },
  {
   "cell_type": "code",
   "execution_count": null,
   "id": "7d7e4772",
   "metadata": {},
   "outputs": [],
   "source": [
    "merged"
   ]
  },
  {
   "cell_type": "code",
   "execution_count": null,
   "id": "1c8b23fd",
   "metadata": {},
   "outputs": [],
   "source": [
    "merged['target+1'] = t_plus1"
   ]
  },
  {
   "cell_type": "code",
   "execution_count": null,
   "id": "8b2fc263",
   "metadata": {},
   "outputs": [],
   "source": [
    "merged.to_csv('merged_mean.csv')"
   ]
  },
  {
   "cell_type": "code",
   "execution_count": null,
   "id": "875b4b49",
   "metadata": {},
   "outputs": [],
   "source": []
  },
  {
   "cell_type": "code",
   "execution_count": null,
   "id": "0945ddd1",
   "metadata": {},
   "outputs": [],
   "source": []
  }
 ],
 "metadata": {
  "kernelspec": {
   "display_name": "Python 3",
   "language": "python",
   "name": "python3"
  },
  "language_info": {
   "codemirror_mode": {
    "name": "ipython",
    "version": 3
   },
   "file_extension": ".py",
   "mimetype": "text/x-python",
   "name": "python",
   "nbconvert_exporter": "python",
   "pygments_lexer": "ipython3",
   "version": "3.8.8"
  }
 },
 "nbformat": 4,
 "nbformat_minor": 5
}
