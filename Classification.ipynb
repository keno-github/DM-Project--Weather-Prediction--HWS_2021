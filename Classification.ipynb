{
 "cells": [
  {
   "cell_type": "code",
   "execution_count": 1,
   "id": "eab715a2",
   "metadata": {},
   "outputs": [],
   "source": [
    "import pandas as pd\n",
    "import numpy as np\n",
    "from sklearn.model_selection import train_test_split\n",
    "import matplotlib.pyplot as plt"
   ]
  },
  {
   "cell_type": "code",
   "execution_count": 2,
   "id": "7e4c26a6",
   "metadata": {},
   "outputs": [],
   "source": [
    "#data = pd.read_csv(r'C:\\Users\\annal\\Desktop\\Vorlesungen\\DM Project\\full_data_for_classification_with_aggregated_values.csv')\n",
    "data = pd.read_csv('merged.csv')\n",
    "#data = pd.read_csv('test_this.csv')"
   ]
  },
  {
   "cell_type": "code",
   "execution_count": 3,
   "id": "073f917a",
   "metadata": {},
   "outputs": [],
   "source": [
    "data = data.drop(labels = ['Unnamed: 0'], axis = 1)"
   ]
  },
  {
   "cell_type": "code",
   "execution_count": 4,
   "id": "fa497cc1",
   "metadata": {},
   "outputs": [],
   "source": [
    "target = 'target+1'"
   ]
  },
  {
   "cell_type": "code",
   "execution_count": 5,
   "id": "f53afe58",
   "metadata": {},
   "outputs": [],
   "source": [
    "# define target\n",
    "y = data[target]\n",
    "X = data.drop(labels=[target], axis = 1)"
   ]
  },
  {
   "cell_type": "code",
   "execution_count": 6,
   "id": "3600643f",
   "metadata": {},
   "outputs": [
    {
     "data": {
      "text/html": [
       "<div>\n",
       "<style scoped>\n",
       "    .dataframe tbody tr th:only-of-type {\n",
       "        vertical-align: middle;\n",
       "    }\n",
       "\n",
       "    .dataframe tbody tr th {\n",
       "        vertical-align: top;\n",
       "    }\n",
       "\n",
       "    .dataframe thead th {\n",
       "        text-align: right;\n",
       "    }\n",
       "</style>\n",
       "<table border=\"1\" class=\"dataframe\">\n",
       "  <thead>\n",
       "    <tr style=\"text-align: right;\">\n",
       "      <th></th>\n",
       "      <th>og_min_u10n</th>\n",
       "      <th>og_max_u10n</th>\n",
       "      <th>og_mean_u10n</th>\n",
       "      <th>og_var_u10n</th>\n",
       "      <th>og_min_sp</th>\n",
       "      <th>og_max_sp</th>\n",
       "      <th>og_mean_sp</th>\n",
       "      <th>og_var_sp</th>\n",
       "      <th>og_min_u100</th>\n",
       "      <th>og_max_u100</th>\n",
       "      <th>...</th>\n",
       "      <th>root_min_cape</th>\n",
       "      <th>root_max_cape</th>\n",
       "      <th>root_mean_cape</th>\n",
       "      <th>root_var_cape</th>\n",
       "      <th>root_min_mcc</th>\n",
       "      <th>root_max_mcc</th>\n",
       "      <th>root_mean_mcc</th>\n",
       "      <th>root_var_mcc</th>\n",
       "      <th>root_var_hcc</th>\n",
       "      <th>root_var_lcc</th>\n",
       "    </tr>\n",
       "  </thead>\n",
       "  <tbody>\n",
       "    <tr>\n",
       "      <th>0</th>\n",
       "      <td>0.103641</td>\n",
       "      <td>2.590697</td>\n",
       "      <td>1.514804</td>\n",
       "      <td>0.799987</td>\n",
       "      <td>99935.909173</td>\n",
       "      <td>100291.117074</td>\n",
       "      <td>100066.638959</td>\n",
       "      <td>1.283920e+04</td>\n",
       "      <td>0.976112</td>\n",
       "      <td>5.775857</td>\n",
       "      <td>...</td>\n",
       "      <td>1.913526</td>\n",
       "      <td>5.714396</td>\n",
       "      <td>3.061819</td>\n",
       "      <td>7.011840</td>\n",
       "      <td>7.450581e-09</td>\n",
       "      <td>0.842757</td>\n",
       "      <td>0.415268</td>\n",
       "      <td>0.257460</td>\n",
       "      <td>0.000000</td>\n",
       "      <td>0.076985</td>\n",
       "    </tr>\n",
       "    <tr>\n",
       "      <th>1</th>\n",
       "      <td>0.756276</td>\n",
       "      <td>1.753137</td>\n",
       "      <td>1.258293</td>\n",
       "      <td>0.104193</td>\n",
       "      <td>99936.895157</td>\n",
       "      <td>100352.022735</td>\n",
       "      <td>100170.593400</td>\n",
       "      <td>1.682136e+04</td>\n",
       "      <td>2.318027</td>\n",
       "      <td>4.260124</td>\n",
       "      <td>...</td>\n",
       "      <td>1.140033</td>\n",
       "      <td>9.204824</td>\n",
       "      <td>3.704122</td>\n",
       "      <td>20.006732</td>\n",
       "      <td>7.450581e-09</td>\n",
       "      <td>0.676333</td>\n",
       "      <td>0.277594</td>\n",
       "      <td>0.111327</td>\n",
       "      <td>0.000000</td>\n",
       "      <td>0.282959</td>\n",
       "    </tr>\n",
       "    <tr>\n",
       "      <th>2</th>\n",
       "      <td>-0.045470</td>\n",
       "      <td>1.204977</td>\n",
       "      <td>0.625798</td>\n",
       "      <td>0.156515</td>\n",
       "      <td>100177.926072</td>\n",
       "      <td>100406.956149</td>\n",
       "      <td>100300.192825</td>\n",
       "      <td>3.872460e+03</td>\n",
       "      <td>0.282899</td>\n",
       "      <td>4.680767</td>\n",
       "      <td>...</td>\n",
       "      <td>1.134539</td>\n",
       "      <td>6.137228</td>\n",
       "      <td>3.924721</td>\n",
       "      <td>9.120992</td>\n",
       "      <td>7.450581e-09</td>\n",
       "      <td>0.735000</td>\n",
       "      <td>0.279129</td>\n",
       "      <td>0.121378</td>\n",
       "      <td>0.392180</td>\n",
       "      <td>0.272631</td>\n",
       "    </tr>\n",
       "    <tr>\n",
       "      <th>3</th>\n",
       "      <td>-0.926448</td>\n",
       "      <td>-0.005474</td>\n",
       "      <td>-0.413083</td>\n",
       "      <td>0.063425</td>\n",
       "      <td>99716.485401</td>\n",
       "      <td>100149.078987</td>\n",
       "      <td>99901.154399</td>\n",
       "      <td>1.716791e+04</td>\n",
       "      <td>-1.404250</td>\n",
       "      <td>0.284615</td>\n",
       "      <td>...</td>\n",
       "      <td>0.193625</td>\n",
       "      <td>5.172601</td>\n",
       "      <td>2.628141</td>\n",
       "      <td>7.207168</td>\n",
       "      <td>5.017788e-02</td>\n",
       "      <td>0.912754</td>\n",
       "      <td>0.542959</td>\n",
       "      <td>0.292167</td>\n",
       "      <td>0.356829</td>\n",
       "      <td>0.239026</td>\n",
       "    </tr>\n",
       "    <tr>\n",
       "      <th>4</th>\n",
       "      <td>-2.120703</td>\n",
       "      <td>-0.189638</td>\n",
       "      <td>-1.096422</td>\n",
       "      <td>0.336395</td>\n",
       "      <td>98635.508513</td>\n",
       "      <td>99707.780568</td>\n",
       "      <td>99276.268043</td>\n",
       "      <td>1.198665e+05</td>\n",
       "      <td>-3.521195</td>\n",
       "      <td>0.668411</td>\n",
       "      <td>...</td>\n",
       "      <td>0.000000</td>\n",
       "      <td>4.306432</td>\n",
       "      <td>1.544286</td>\n",
       "      <td>5.122072</td>\n",
       "      <td>7.450581e-09</td>\n",
       "      <td>0.899316</td>\n",
       "      <td>0.377490</td>\n",
       "      <td>0.238551</td>\n",
       "      <td>0.420595</td>\n",
       "      <td>0.294026</td>\n",
       "    </tr>\n",
       "    <tr>\n",
       "      <th>...</th>\n",
       "      <td>...</td>\n",
       "      <td>...</td>\n",
       "      <td>...</td>\n",
       "      <td>...</td>\n",
       "      <td>...</td>\n",
       "      <td>...</td>\n",
       "      <td>...</td>\n",
       "      <td>...</td>\n",
       "      <td>...</td>\n",
       "      <td>...</td>\n",
       "      <td>...</td>\n",
       "      <td>...</td>\n",
       "      <td>...</td>\n",
       "      <td>...</td>\n",
       "      <td>...</td>\n",
       "      <td>...</td>\n",
       "      <td>...</td>\n",
       "      <td>...</td>\n",
       "      <td>...</td>\n",
       "      <td>...</td>\n",
       "      <td>...</td>\n",
       "    </tr>\n",
       "    <tr>\n",
       "      <th>3648</th>\n",
       "      <td>-1.487153</td>\n",
       "      <td>1.608968</td>\n",
       "      <td>0.301175</td>\n",
       "      <td>0.588146</td>\n",
       "      <td>96179.167985</td>\n",
       "      <td>99550.248442</td>\n",
       "      <td>97670.076078</td>\n",
       "      <td>1.180852e+06</td>\n",
       "      <td>-1.225053</td>\n",
       "      <td>3.461750</td>\n",
       "      <td>...</td>\n",
       "      <td>0.000000</td>\n",
       "      <td>7.423692</td>\n",
       "      <td>2.434897</td>\n",
       "      <td>12.958312</td>\n",
       "      <td>7.450581e-09</td>\n",
       "      <td>1.000001</td>\n",
       "      <td>0.730152</td>\n",
       "      <td>0.452131</td>\n",
       "      <td>0.001599</td>\n",
       "      <td>0.223002</td>\n",
       "    </tr>\n",
       "    <tr>\n",
       "      <th>3649</th>\n",
       "      <td>-1.937604</td>\n",
       "      <td>2.241073</td>\n",
       "      <td>0.070719</td>\n",
       "      <td>1.936037</td>\n",
       "      <td>95978.083522</td>\n",
       "      <td>96149.250403</td>\n",
       "      <td>96064.658816</td>\n",
       "      <td>2.374386e+03</td>\n",
       "      <td>-3.083617</td>\n",
       "      <td>4.628015</td>\n",
       "      <td>...</td>\n",
       "      <td>0.000000</td>\n",
       "      <td>7.100167</td>\n",
       "      <td>2.982477</td>\n",
       "      <td>14.002691</td>\n",
       "      <td>7.885589e-02</td>\n",
       "      <td>1.000001</td>\n",
       "      <td>0.752685</td>\n",
       "      <td>0.338613</td>\n",
       "      <td>0.269973</td>\n",
       "      <td>0.246787</td>\n",
       "    </tr>\n",
       "    <tr>\n",
       "      <th>3650</th>\n",
       "      <td>-1.275007</td>\n",
       "      <td>4.541304</td>\n",
       "      <td>1.831054</td>\n",
       "      <td>3.114473</td>\n",
       "      <td>96052.483083</td>\n",
       "      <td>97793.618742</td>\n",
       "      <td>97003.024807</td>\n",
       "      <td>3.886000e+05</td>\n",
       "      <td>-1.563192</td>\n",
       "      <td>7.613251</td>\n",
       "      <td>...</td>\n",
       "      <td>1.042702</td>\n",
       "      <td>10.856242</td>\n",
       "      <td>5.338310</td>\n",
       "      <td>35.595269</td>\n",
       "      <td>1.026670e-01</td>\n",
       "      <td>0.983125</td>\n",
       "      <td>0.691869</td>\n",
       "      <td>0.311054</td>\n",
       "      <td>0.279774</td>\n",
       "      <td>0.320712</td>\n",
       "    </tr>\n",
       "    <tr>\n",
       "      <th>3651</th>\n",
       "      <td>0.460792</td>\n",
       "      <td>3.112167</td>\n",
       "      <td>1.569105</td>\n",
       "      <td>0.548298</td>\n",
       "      <td>97816.071014</td>\n",
       "      <td>98730.726430</td>\n",
       "      <td>98303.762344</td>\n",
       "      <td>8.899821e+04</td>\n",
       "      <td>2.553866</td>\n",
       "      <td>5.371349</td>\n",
       "      <td>...</td>\n",
       "      <td>0.223579</td>\n",
       "      <td>9.419543</td>\n",
       "      <td>5.211113</td>\n",
       "      <td>29.110201</td>\n",
       "      <td>2.327882e-01</td>\n",
       "      <td>0.895899</td>\n",
       "      <td>0.548945</td>\n",
       "      <td>0.229972</td>\n",
       "      <td>0.298359</td>\n",
       "      <td>0.213280</td>\n",
       "    </tr>\n",
       "    <tr>\n",
       "      <th>3652</th>\n",
       "      <td>-1.508672</td>\n",
       "      <td>0.541469</td>\n",
       "      <td>-0.531303</td>\n",
       "      <td>0.409353</td>\n",
       "      <td>98254.298797</td>\n",
       "      <td>98728.275554</td>\n",
       "      <td>98440.935068</td>\n",
       "      <td>2.247053e+04</td>\n",
       "      <td>-1.910600</td>\n",
       "      <td>2.884682</td>\n",
       "      <td>...</td>\n",
       "      <td>0.591534</td>\n",
       "      <td>4.239163</td>\n",
       "      <td>2.357206</td>\n",
       "      <td>5.161900</td>\n",
       "      <td>2.401289e-01</td>\n",
       "      <td>0.999745</td>\n",
       "      <td>0.872324</td>\n",
       "      <td>0.273296</td>\n",
       "      <td>0.355853</td>\n",
       "      <td>0.370444</td>\n",
       "    </tr>\n",
       "  </tbody>\n",
       "</table>\n",
       "<p>3653 rows × 582 columns</p>\n",
       "</div>"
      ],
      "text/plain": [
       "      og_min_u10n  og_max_u10n  og_mean_u10n  og_var_u10n      og_min_sp  \\\n",
       "0        0.103641     2.590697      1.514804     0.799987   99935.909173   \n",
       "1        0.756276     1.753137      1.258293     0.104193   99936.895157   \n",
       "2       -0.045470     1.204977      0.625798     0.156515  100177.926072   \n",
       "3       -0.926448    -0.005474     -0.413083     0.063425   99716.485401   \n",
       "4       -2.120703    -0.189638     -1.096422     0.336395   98635.508513   \n",
       "...           ...          ...           ...          ...            ...   \n",
       "3648    -1.487153     1.608968      0.301175     0.588146   96179.167985   \n",
       "3649    -1.937604     2.241073      0.070719     1.936037   95978.083522   \n",
       "3650    -1.275007     4.541304      1.831054     3.114473   96052.483083   \n",
       "3651     0.460792     3.112167      1.569105     0.548298   97816.071014   \n",
       "3652    -1.508672     0.541469     -0.531303     0.409353   98254.298797   \n",
       "\n",
       "          og_max_sp     og_mean_sp     og_var_sp  og_min_u100  og_max_u100  \\\n",
       "0     100291.117074  100066.638959  1.283920e+04     0.976112     5.775857   \n",
       "1     100352.022735  100170.593400  1.682136e+04     2.318027     4.260124   \n",
       "2     100406.956149  100300.192825  3.872460e+03     0.282899     4.680767   \n",
       "3     100149.078987   99901.154399  1.716791e+04    -1.404250     0.284615   \n",
       "4      99707.780568   99276.268043  1.198665e+05    -3.521195     0.668411   \n",
       "...             ...            ...           ...          ...          ...   \n",
       "3648   99550.248442   97670.076078  1.180852e+06    -1.225053     3.461750   \n",
       "3649   96149.250403   96064.658816  2.374386e+03    -3.083617     4.628015   \n",
       "3650   97793.618742   97003.024807  3.886000e+05    -1.563192     7.613251   \n",
       "3651   98730.726430   98303.762344  8.899821e+04     2.553866     5.371349   \n",
       "3652   98728.275554   98440.935068  2.247053e+04    -1.910600     2.884682   \n",
       "\n",
       "      ...  root_min_cape  root_max_cape  root_mean_cape  root_var_cape  \\\n",
       "0     ...       1.913526       5.714396        3.061819       7.011840   \n",
       "1     ...       1.140033       9.204824        3.704122      20.006732   \n",
       "2     ...       1.134539       6.137228        3.924721       9.120992   \n",
       "3     ...       0.193625       5.172601        2.628141       7.207168   \n",
       "4     ...       0.000000       4.306432        1.544286       5.122072   \n",
       "...   ...            ...            ...             ...            ...   \n",
       "3648  ...       0.000000       7.423692        2.434897      12.958312   \n",
       "3649  ...       0.000000       7.100167        2.982477      14.002691   \n",
       "3650  ...       1.042702      10.856242        5.338310      35.595269   \n",
       "3651  ...       0.223579       9.419543        5.211113      29.110201   \n",
       "3652  ...       0.591534       4.239163        2.357206       5.161900   \n",
       "\n",
       "      root_min_mcc  root_max_mcc  root_mean_mcc  root_var_mcc  root_var_hcc  \\\n",
       "0     7.450581e-09      0.842757       0.415268      0.257460      0.000000   \n",
       "1     7.450581e-09      0.676333       0.277594      0.111327      0.000000   \n",
       "2     7.450581e-09      0.735000       0.279129      0.121378      0.392180   \n",
       "3     5.017788e-02      0.912754       0.542959      0.292167      0.356829   \n",
       "4     7.450581e-09      0.899316       0.377490      0.238551      0.420595   \n",
       "...            ...           ...            ...           ...           ...   \n",
       "3648  7.450581e-09      1.000001       0.730152      0.452131      0.001599   \n",
       "3649  7.885589e-02      1.000001       0.752685      0.338613      0.269973   \n",
       "3650  1.026670e-01      0.983125       0.691869      0.311054      0.279774   \n",
       "3651  2.327882e-01      0.895899       0.548945      0.229972      0.298359   \n",
       "3652  2.401289e-01      0.999745       0.872324      0.273296      0.355853   \n",
       "\n",
       "      root_var_lcc  \n",
       "0         0.076985  \n",
       "1         0.282959  \n",
       "2         0.272631  \n",
       "3         0.239026  \n",
       "4         0.294026  \n",
       "...            ...  \n",
       "3648      0.223002  \n",
       "3649      0.246787  \n",
       "3650      0.320712  \n",
       "3651      0.213280  \n",
       "3652      0.370444  \n",
       "\n",
       "[3653 rows x 582 columns]"
      ]
     },
     "execution_count": 6,
     "metadata": {},
     "output_type": "execute_result"
    }
   ],
   "source": [
    "X"
   ]
  },
  {
   "cell_type": "code",
   "execution_count": 7,
   "id": "ca7f8b23",
   "metadata": {},
   "outputs": [],
   "source": [
    "# remove duplicate features (we have binary thunderstorm and categorical thunderstorm)\n",
    "#X = X.drop(labels=['Totals_idx_cat', 'binary_severe_thunderstorm', 'binary_thunderstorm' ], axis = 1)\n"
   ]
  },
  {
   "cell_type": "code",
   "execution_count": 8,
   "id": "e94ae515",
   "metadata": {},
   "outputs": [
    {
     "data": {
      "text/html": [
       "<div>\n",
       "<style scoped>\n",
       "    .dataframe tbody tr th:only-of-type {\n",
       "        vertical-align: middle;\n",
       "    }\n",
       "\n",
       "    .dataframe tbody tr th {\n",
       "        vertical-align: top;\n",
       "    }\n",
       "\n",
       "    .dataframe thead th {\n",
       "        text-align: right;\n",
       "    }\n",
       "</style>\n",
       "<table border=\"1\" class=\"dataframe\">\n",
       "  <thead>\n",
       "    <tr style=\"text-align: right;\">\n",
       "      <th></th>\n",
       "      <th>og_min_u10n</th>\n",
       "      <th>og_max_u10n</th>\n",
       "      <th>og_mean_u10n</th>\n",
       "      <th>og_var_u10n</th>\n",
       "      <th>og_min_sp</th>\n",
       "      <th>og_max_sp</th>\n",
       "      <th>og_mean_sp</th>\n",
       "      <th>og_var_sp</th>\n",
       "      <th>og_min_u100</th>\n",
       "      <th>og_max_u100</th>\n",
       "      <th>...</th>\n",
       "      <th>root_min_cape</th>\n",
       "      <th>root_max_cape</th>\n",
       "      <th>root_mean_cape</th>\n",
       "      <th>root_var_cape</th>\n",
       "      <th>root_min_mcc</th>\n",
       "      <th>root_max_mcc</th>\n",
       "      <th>root_mean_mcc</th>\n",
       "      <th>root_var_mcc</th>\n",
       "      <th>root_var_hcc</th>\n",
       "      <th>root_var_lcc</th>\n",
       "    </tr>\n",
       "  </thead>\n",
       "  <tbody>\n",
       "    <tr>\n",
       "      <th>0</th>\n",
       "      <td>0.103641</td>\n",
       "      <td>2.590697</td>\n",
       "      <td>1.514804</td>\n",
       "      <td>0.799987</td>\n",
       "      <td>99935.909173</td>\n",
       "      <td>100291.117074</td>\n",
       "      <td>100066.638959</td>\n",
       "      <td>1.283920e+04</td>\n",
       "      <td>0.976112</td>\n",
       "      <td>5.775857</td>\n",
       "      <td>...</td>\n",
       "      <td>1.913526</td>\n",
       "      <td>5.714396</td>\n",
       "      <td>3.061819</td>\n",
       "      <td>7.011840</td>\n",
       "      <td>7.450581e-09</td>\n",
       "      <td>0.842757</td>\n",
       "      <td>0.415268</td>\n",
       "      <td>0.257460</td>\n",
       "      <td>0.000000</td>\n",
       "      <td>0.076985</td>\n",
       "    </tr>\n",
       "    <tr>\n",
       "      <th>1</th>\n",
       "      <td>0.756276</td>\n",
       "      <td>1.753137</td>\n",
       "      <td>1.258293</td>\n",
       "      <td>0.104193</td>\n",
       "      <td>99936.895157</td>\n",
       "      <td>100352.022735</td>\n",
       "      <td>100170.593400</td>\n",
       "      <td>1.682136e+04</td>\n",
       "      <td>2.318027</td>\n",
       "      <td>4.260124</td>\n",
       "      <td>...</td>\n",
       "      <td>1.140033</td>\n",
       "      <td>9.204824</td>\n",
       "      <td>3.704122</td>\n",
       "      <td>20.006732</td>\n",
       "      <td>7.450581e-09</td>\n",
       "      <td>0.676333</td>\n",
       "      <td>0.277594</td>\n",
       "      <td>0.111327</td>\n",
       "      <td>0.000000</td>\n",
       "      <td>0.282959</td>\n",
       "    </tr>\n",
       "    <tr>\n",
       "      <th>2</th>\n",
       "      <td>-0.045470</td>\n",
       "      <td>1.204977</td>\n",
       "      <td>0.625798</td>\n",
       "      <td>0.156515</td>\n",
       "      <td>100177.926072</td>\n",
       "      <td>100406.956149</td>\n",
       "      <td>100300.192825</td>\n",
       "      <td>3.872460e+03</td>\n",
       "      <td>0.282899</td>\n",
       "      <td>4.680767</td>\n",
       "      <td>...</td>\n",
       "      <td>1.134539</td>\n",
       "      <td>6.137228</td>\n",
       "      <td>3.924721</td>\n",
       "      <td>9.120992</td>\n",
       "      <td>7.450581e-09</td>\n",
       "      <td>0.735000</td>\n",
       "      <td>0.279129</td>\n",
       "      <td>0.121378</td>\n",
       "      <td>0.392180</td>\n",
       "      <td>0.272631</td>\n",
       "    </tr>\n",
       "    <tr>\n",
       "      <th>3</th>\n",
       "      <td>-0.926448</td>\n",
       "      <td>-0.005474</td>\n",
       "      <td>-0.413083</td>\n",
       "      <td>0.063425</td>\n",
       "      <td>99716.485401</td>\n",
       "      <td>100149.078987</td>\n",
       "      <td>99901.154399</td>\n",
       "      <td>1.716791e+04</td>\n",
       "      <td>-1.404250</td>\n",
       "      <td>0.284615</td>\n",
       "      <td>...</td>\n",
       "      <td>0.193625</td>\n",
       "      <td>5.172601</td>\n",
       "      <td>2.628141</td>\n",
       "      <td>7.207168</td>\n",
       "      <td>5.017788e-02</td>\n",
       "      <td>0.912754</td>\n",
       "      <td>0.542959</td>\n",
       "      <td>0.292167</td>\n",
       "      <td>0.356829</td>\n",
       "      <td>0.239026</td>\n",
       "    </tr>\n",
       "    <tr>\n",
       "      <th>4</th>\n",
       "      <td>-2.120703</td>\n",
       "      <td>-0.189638</td>\n",
       "      <td>-1.096422</td>\n",
       "      <td>0.336395</td>\n",
       "      <td>98635.508513</td>\n",
       "      <td>99707.780568</td>\n",
       "      <td>99276.268043</td>\n",
       "      <td>1.198665e+05</td>\n",
       "      <td>-3.521195</td>\n",
       "      <td>0.668411</td>\n",
       "      <td>...</td>\n",
       "      <td>0.000000</td>\n",
       "      <td>4.306432</td>\n",
       "      <td>1.544286</td>\n",
       "      <td>5.122072</td>\n",
       "      <td>7.450581e-09</td>\n",
       "      <td>0.899316</td>\n",
       "      <td>0.377490</td>\n",
       "      <td>0.238551</td>\n",
       "      <td>0.420595</td>\n",
       "      <td>0.294026</td>\n",
       "    </tr>\n",
       "    <tr>\n",
       "      <th>...</th>\n",
       "      <td>...</td>\n",
       "      <td>...</td>\n",
       "      <td>...</td>\n",
       "      <td>...</td>\n",
       "      <td>...</td>\n",
       "      <td>...</td>\n",
       "      <td>...</td>\n",
       "      <td>...</td>\n",
       "      <td>...</td>\n",
       "      <td>...</td>\n",
       "      <td>...</td>\n",
       "      <td>...</td>\n",
       "      <td>...</td>\n",
       "      <td>...</td>\n",
       "      <td>...</td>\n",
       "      <td>...</td>\n",
       "      <td>...</td>\n",
       "      <td>...</td>\n",
       "      <td>...</td>\n",
       "      <td>...</td>\n",
       "      <td>...</td>\n",
       "    </tr>\n",
       "    <tr>\n",
       "      <th>3648</th>\n",
       "      <td>-1.487153</td>\n",
       "      <td>1.608968</td>\n",
       "      <td>0.301175</td>\n",
       "      <td>0.588146</td>\n",
       "      <td>96179.167985</td>\n",
       "      <td>99550.248442</td>\n",
       "      <td>97670.076078</td>\n",
       "      <td>1.180852e+06</td>\n",
       "      <td>-1.225053</td>\n",
       "      <td>3.461750</td>\n",
       "      <td>...</td>\n",
       "      <td>0.000000</td>\n",
       "      <td>7.423692</td>\n",
       "      <td>2.434897</td>\n",
       "      <td>12.958312</td>\n",
       "      <td>7.450581e-09</td>\n",
       "      <td>1.000001</td>\n",
       "      <td>0.730152</td>\n",
       "      <td>0.452131</td>\n",
       "      <td>0.001599</td>\n",
       "      <td>0.223002</td>\n",
       "    </tr>\n",
       "    <tr>\n",
       "      <th>3649</th>\n",
       "      <td>-1.937604</td>\n",
       "      <td>2.241073</td>\n",
       "      <td>0.070719</td>\n",
       "      <td>1.936037</td>\n",
       "      <td>95978.083522</td>\n",
       "      <td>96149.250403</td>\n",
       "      <td>96064.658816</td>\n",
       "      <td>2.374386e+03</td>\n",
       "      <td>-3.083617</td>\n",
       "      <td>4.628015</td>\n",
       "      <td>...</td>\n",
       "      <td>0.000000</td>\n",
       "      <td>7.100167</td>\n",
       "      <td>2.982477</td>\n",
       "      <td>14.002691</td>\n",
       "      <td>7.885589e-02</td>\n",
       "      <td>1.000001</td>\n",
       "      <td>0.752685</td>\n",
       "      <td>0.338613</td>\n",
       "      <td>0.269973</td>\n",
       "      <td>0.246787</td>\n",
       "    </tr>\n",
       "    <tr>\n",
       "      <th>3650</th>\n",
       "      <td>-1.275007</td>\n",
       "      <td>4.541304</td>\n",
       "      <td>1.831054</td>\n",
       "      <td>3.114473</td>\n",
       "      <td>96052.483083</td>\n",
       "      <td>97793.618742</td>\n",
       "      <td>97003.024807</td>\n",
       "      <td>3.886000e+05</td>\n",
       "      <td>-1.563192</td>\n",
       "      <td>7.613251</td>\n",
       "      <td>...</td>\n",
       "      <td>1.042702</td>\n",
       "      <td>10.856242</td>\n",
       "      <td>5.338310</td>\n",
       "      <td>35.595269</td>\n",
       "      <td>1.026670e-01</td>\n",
       "      <td>0.983125</td>\n",
       "      <td>0.691869</td>\n",
       "      <td>0.311054</td>\n",
       "      <td>0.279774</td>\n",
       "      <td>0.320712</td>\n",
       "    </tr>\n",
       "    <tr>\n",
       "      <th>3651</th>\n",
       "      <td>0.460792</td>\n",
       "      <td>3.112167</td>\n",
       "      <td>1.569105</td>\n",
       "      <td>0.548298</td>\n",
       "      <td>97816.071014</td>\n",
       "      <td>98730.726430</td>\n",
       "      <td>98303.762344</td>\n",
       "      <td>8.899821e+04</td>\n",
       "      <td>2.553866</td>\n",
       "      <td>5.371349</td>\n",
       "      <td>...</td>\n",
       "      <td>0.223579</td>\n",
       "      <td>9.419543</td>\n",
       "      <td>5.211113</td>\n",
       "      <td>29.110201</td>\n",
       "      <td>2.327882e-01</td>\n",
       "      <td>0.895899</td>\n",
       "      <td>0.548945</td>\n",
       "      <td>0.229972</td>\n",
       "      <td>0.298359</td>\n",
       "      <td>0.213280</td>\n",
       "    </tr>\n",
       "    <tr>\n",
       "      <th>3652</th>\n",
       "      <td>-1.508672</td>\n",
       "      <td>0.541469</td>\n",
       "      <td>-0.531303</td>\n",
       "      <td>0.409353</td>\n",
       "      <td>98254.298797</td>\n",
       "      <td>98728.275554</td>\n",
       "      <td>98440.935068</td>\n",
       "      <td>2.247053e+04</td>\n",
       "      <td>-1.910600</td>\n",
       "      <td>2.884682</td>\n",
       "      <td>...</td>\n",
       "      <td>0.591534</td>\n",
       "      <td>4.239163</td>\n",
       "      <td>2.357206</td>\n",
       "      <td>5.161900</td>\n",
       "      <td>2.401289e-01</td>\n",
       "      <td>0.999745</td>\n",
       "      <td>0.872324</td>\n",
       "      <td>0.273296</td>\n",
       "      <td>0.355853</td>\n",
       "      <td>0.370444</td>\n",
       "    </tr>\n",
       "  </tbody>\n",
       "</table>\n",
       "<p>3653 rows × 582 columns</p>\n",
       "</div>"
      ],
      "text/plain": [
       "      og_min_u10n  og_max_u10n  og_mean_u10n  og_var_u10n      og_min_sp  \\\n",
       "0        0.103641     2.590697      1.514804     0.799987   99935.909173   \n",
       "1        0.756276     1.753137      1.258293     0.104193   99936.895157   \n",
       "2       -0.045470     1.204977      0.625798     0.156515  100177.926072   \n",
       "3       -0.926448    -0.005474     -0.413083     0.063425   99716.485401   \n",
       "4       -2.120703    -0.189638     -1.096422     0.336395   98635.508513   \n",
       "...           ...          ...           ...          ...            ...   \n",
       "3648    -1.487153     1.608968      0.301175     0.588146   96179.167985   \n",
       "3649    -1.937604     2.241073      0.070719     1.936037   95978.083522   \n",
       "3650    -1.275007     4.541304      1.831054     3.114473   96052.483083   \n",
       "3651     0.460792     3.112167      1.569105     0.548298   97816.071014   \n",
       "3652    -1.508672     0.541469     -0.531303     0.409353   98254.298797   \n",
       "\n",
       "          og_max_sp     og_mean_sp     og_var_sp  og_min_u100  og_max_u100  \\\n",
       "0     100291.117074  100066.638959  1.283920e+04     0.976112     5.775857   \n",
       "1     100352.022735  100170.593400  1.682136e+04     2.318027     4.260124   \n",
       "2     100406.956149  100300.192825  3.872460e+03     0.282899     4.680767   \n",
       "3     100149.078987   99901.154399  1.716791e+04    -1.404250     0.284615   \n",
       "4      99707.780568   99276.268043  1.198665e+05    -3.521195     0.668411   \n",
       "...             ...            ...           ...          ...          ...   \n",
       "3648   99550.248442   97670.076078  1.180852e+06    -1.225053     3.461750   \n",
       "3649   96149.250403   96064.658816  2.374386e+03    -3.083617     4.628015   \n",
       "3650   97793.618742   97003.024807  3.886000e+05    -1.563192     7.613251   \n",
       "3651   98730.726430   98303.762344  8.899821e+04     2.553866     5.371349   \n",
       "3652   98728.275554   98440.935068  2.247053e+04    -1.910600     2.884682   \n",
       "\n",
       "      ...  root_min_cape  root_max_cape  root_mean_cape  root_var_cape  \\\n",
       "0     ...       1.913526       5.714396        3.061819       7.011840   \n",
       "1     ...       1.140033       9.204824        3.704122      20.006732   \n",
       "2     ...       1.134539       6.137228        3.924721       9.120992   \n",
       "3     ...       0.193625       5.172601        2.628141       7.207168   \n",
       "4     ...       0.000000       4.306432        1.544286       5.122072   \n",
       "...   ...            ...            ...             ...            ...   \n",
       "3648  ...       0.000000       7.423692        2.434897      12.958312   \n",
       "3649  ...       0.000000       7.100167        2.982477      14.002691   \n",
       "3650  ...       1.042702      10.856242        5.338310      35.595269   \n",
       "3651  ...       0.223579       9.419543        5.211113      29.110201   \n",
       "3652  ...       0.591534       4.239163        2.357206       5.161900   \n",
       "\n",
       "      root_min_mcc  root_max_mcc  root_mean_mcc  root_var_mcc  root_var_hcc  \\\n",
       "0     7.450581e-09      0.842757       0.415268      0.257460      0.000000   \n",
       "1     7.450581e-09      0.676333       0.277594      0.111327      0.000000   \n",
       "2     7.450581e-09      0.735000       0.279129      0.121378      0.392180   \n",
       "3     5.017788e-02      0.912754       0.542959      0.292167      0.356829   \n",
       "4     7.450581e-09      0.899316       0.377490      0.238551      0.420595   \n",
       "...            ...           ...            ...           ...           ...   \n",
       "3648  7.450581e-09      1.000001       0.730152      0.452131      0.001599   \n",
       "3649  7.885589e-02      1.000001       0.752685      0.338613      0.269973   \n",
       "3650  1.026670e-01      0.983125       0.691869      0.311054      0.279774   \n",
       "3651  2.327882e-01      0.895899       0.548945      0.229972      0.298359   \n",
       "3652  2.401289e-01      0.999745       0.872324      0.273296      0.355853   \n",
       "\n",
       "      root_var_lcc  \n",
       "0         0.076985  \n",
       "1         0.282959  \n",
       "2         0.272631  \n",
       "3         0.239026  \n",
       "4         0.294026  \n",
       "...            ...  \n",
       "3648      0.223002  \n",
       "3649      0.246787  \n",
       "3650      0.320712  \n",
       "3651      0.213280  \n",
       "3652      0.370444  \n",
       "\n",
       "[3653 rows x 582 columns]"
      ]
     },
     "execution_count": 8,
     "metadata": {},
     "output_type": "execute_result"
    }
   ],
   "source": [
    "X"
   ]
  },
  {
   "cell_type": "code",
   "execution_count": 9,
   "id": "9a8e18c3",
   "metadata": {},
   "outputs": [],
   "source": [
    "# initial split\n",
    "X_train, X_test, y_train, y_test = train_test_split(X, y, test_size=0.3, random_state=42, stratify = y)\n",
    "\n",
    "# X_test and y_test will not be used from now on!"
   ]
  },
  {
   "cell_type": "markdown",
   "id": "63e0623d",
   "metadata": {},
   "source": [
    "# Baseline: Initial ML application "
   ]
  },
  {
   "cell_type": "code",
   "execution_count": 10,
   "id": "c302ffb0",
   "metadata": {},
   "outputs": [],
   "source": [
    "from sklearn.preprocessing import StandardScaler"
   ]
  },
  {
   "cell_type": "code",
   "execution_count": 11,
   "id": "7db4608c",
   "metadata": {},
   "outputs": [],
   "source": [
    "from sklearn.neighbors import KNeighborsClassifier\n",
    "from sklearn.neural_network import MLPClassifier\n",
    "from sklearn.metrics import accuracy_score\n",
    "from sklearn.naive_bayes import GaussianNB\n",
    "from sklearn.metrics import classification_report,confusion_matrix\n",
    "from sklearn.linear_model import LogisticRegression\n",
    "from sklearn.tree import DecisionTreeClassifier\n",
    "from sklearn.ensemble import RandomForestClassifier\n",
    "from imblearn.pipeline import Pipeline\n",
    "from sklearn.model_selection import cross_val_score\n",
    "from sklearn.model_selection import cross_validate\n",
    "from sklearn.metrics import recall_score\n",
    "from imblearn.pipeline import Pipeline\n",
    "from sklearn.preprocessing import StandardScaler"
   ]
  },
  {
   "cell_type": "code",
   "execution_count": 12,
   "id": "2fa67e87",
   "metadata": {},
   "outputs": [],
   "source": [
    "\n",
    "classifiers = [\n",
    "    GaussianNB(),\n",
    "    LogisticRegression(),\n",
    "    DecisionTreeClassifier(),\n",
    "    KNeighborsClassifier(),\n",
    "    RandomForestClassifier(),\n",
    "    MLPClassifier(),\n",
    "]\n",
    "\n",
    "\n"
   ]
  },
  {
   "cell_type": "code",
   "execution_count": 13,
   "id": "ef41e64a",
   "metadata": {},
   "outputs": [
    {
     "name": "stderr",
     "output_type": "stream",
     "text": [
      "C:\\ProgramData\\Anaconda3\\lib\\site-packages\\sklearn\\linear_model\\_logistic.py:763: ConvergenceWarning: lbfgs failed to converge (status=1):\n",
      "STOP: TOTAL NO. of ITERATIONS REACHED LIMIT.\n",
      "\n",
      "Increase the number of iterations (max_iter) or scale the data as shown in:\n",
      "    https://scikit-learn.org/stable/modules/preprocessing.html\n",
      "Please also refer to the documentation for alternative solver options:\n",
      "    https://scikit-learn.org/stable/modules/linear_model.html#logistic-regression\n",
      "  n_iter_i = _check_optimize_result(\n",
      "C:\\ProgramData\\Anaconda3\\lib\\site-packages\\sklearn\\linear_model\\_logistic.py:763: ConvergenceWarning: lbfgs failed to converge (status=1):\n",
      "STOP: TOTAL NO. of ITERATIONS REACHED LIMIT.\n",
      "\n",
      "Increase the number of iterations (max_iter) or scale the data as shown in:\n",
      "    https://scikit-learn.org/stable/modules/preprocessing.html\n",
      "Please also refer to the documentation for alternative solver options:\n",
      "    https://scikit-learn.org/stable/modules/linear_model.html#logistic-regression\n",
      "  n_iter_i = _check_optimize_result(\n",
      "C:\\ProgramData\\Anaconda3\\lib\\site-packages\\sklearn\\linear_model\\_logistic.py:763: ConvergenceWarning: lbfgs failed to converge (status=1):\n",
      "STOP: TOTAL NO. of ITERATIONS REACHED LIMIT.\n",
      "\n",
      "Increase the number of iterations (max_iter) or scale the data as shown in:\n",
      "    https://scikit-learn.org/stable/modules/preprocessing.html\n",
      "Please also refer to the documentation for alternative solver options:\n",
      "    https://scikit-learn.org/stable/modules/linear_model.html#logistic-regression\n",
      "  n_iter_i = _check_optimize_result(\n",
      "C:\\ProgramData\\Anaconda3\\lib\\site-packages\\sklearn\\linear_model\\_logistic.py:763: ConvergenceWarning: lbfgs failed to converge (status=1):\n",
      "STOP: TOTAL NO. of ITERATIONS REACHED LIMIT.\n",
      "\n",
      "Increase the number of iterations (max_iter) or scale the data as shown in:\n",
      "    https://scikit-learn.org/stable/modules/preprocessing.html\n",
      "Please also refer to the documentation for alternative solver options:\n",
      "    https://scikit-learn.org/stable/modules/linear_model.html#logistic-regression\n",
      "  n_iter_i = _check_optimize_result(\n",
      "C:\\ProgramData\\Anaconda3\\lib\\site-packages\\sklearn\\linear_model\\_logistic.py:763: ConvergenceWarning: lbfgs failed to converge (status=1):\n",
      "STOP: TOTAL NO. of ITERATIONS REACHED LIMIT.\n",
      "\n",
      "Increase the number of iterations (max_iter) or scale the data as shown in:\n",
      "    https://scikit-learn.org/stable/modules/preprocessing.html\n",
      "Please also refer to the documentation for alternative solver options:\n",
      "    https://scikit-learn.org/stable/modules/linear_model.html#logistic-regression\n",
      "  n_iter_i = _check_optimize_result(\n",
      "C:\\ProgramData\\Anaconda3\\lib\\site-packages\\sklearn\\neural_network\\_multilayer_perceptron.py:614: ConvergenceWarning: Stochastic Optimizer: Maximum iterations (200) reached and the optimization hasn't converged yet.\n",
      "  warnings.warn(\n",
      "C:\\ProgramData\\Anaconda3\\lib\\site-packages\\sklearn\\neural_network\\_multilayer_perceptron.py:614: ConvergenceWarning: Stochastic Optimizer: Maximum iterations (200) reached and the optimization hasn't converged yet.\n",
      "  warnings.warn(\n",
      "C:\\ProgramData\\Anaconda3\\lib\\site-packages\\sklearn\\neural_network\\_multilayer_perceptron.py:614: ConvergenceWarning: Stochastic Optimizer: Maximum iterations (200) reached and the optimization hasn't converged yet.\n",
      "  warnings.warn(\n",
      "C:\\ProgramData\\Anaconda3\\lib\\site-packages\\sklearn\\neural_network\\_multilayer_perceptron.py:614: ConvergenceWarning: Stochastic Optimizer: Maximum iterations (200) reached and the optimization hasn't converged yet.\n",
      "  warnings.warn(\n",
      "C:\\ProgramData\\Anaconda3\\lib\\site-packages\\sklearn\\neural_network\\_multilayer_perceptron.py:614: ConvergenceWarning: Stochastic Optimizer: Maximum iterations (200) reached and the optimization hasn't converged yet.\n",
      "  warnings.warn(\n"
     ]
    }
   ],
   "source": [
    "sc = StandardScaler()\n",
    "\n",
    "\n",
    "f1 = []\n",
    "acc = []\n",
    "prec = []\n",
    "rec = []\n",
    "\n",
    "scoring = ['accuracy', 'f1', 'precision', 'recall']\n",
    "pipeline = Pipeline([ ('normalisation', sc), ('estimator', None) ])\n",
    "for clf in classifiers:\n",
    "    pipeline.set_params(estimator=clf)\n",
    "    scores = cross_validate(pipeline, X_train, y_train, scoring=scoring)\n",
    "    f1.append(np.mean(scores['test_f1']))\n",
    "    acc.append(np.mean(scores['test_accuracy']))\n",
    "    prec.append(np.mean(scores['test_precision']))\n",
    "    rec.append(np.mean(scores['test_recall']))\n"
   ]
  },
  {
   "cell_type": "code",
   "execution_count": 14,
   "id": "11990c47",
   "metadata": {},
   "outputs": [],
   "source": [
    "str_classifiers = [str(clf)[:-2] for clf in classifiers]\n",
    "result = pd.DataFrame({\n",
    "    'Name' : str_classifiers,\n",
    "    'Accuracy' : acc,\n",
    "    'f1' : f1,\n",
    "    'precision' : prec,\n",
    "    'recall' : rec\n",
    "})"
   ]
  },
  {
   "cell_type": "code",
   "execution_count": 15,
   "id": "28c3c898",
   "metadata": {},
   "outputs": [
    {
     "data": {
      "image/png": "[encoded data removed]",
      "text/plain": [
       "<Figure size 432x288 with 1 Axes>"
      ]
     },
     "metadata": {
      "needs_background": "light"
     },
     "output_type": "display_data"
    },
    {
     "name": "stdout",
     "output_type": "stream",
     "text": [
      "                     Name  Accuracy        f1  precision    recall\n",
      "0              GaussianNB  0.661306  0.639252   0.565989  0.736134\n",
      "1      LogisticRegression  0.753610  0.693761   0.702804  0.685200\n",
      "2  DecisionTreeClassifier  0.672669  0.596592   0.599824  0.594102\n",
      "3    KNeighborsClassifier  0.699277  0.633343   0.629210  0.638296\n",
      "4  RandomForestClassifier  0.750104  0.673453   0.719150  0.635379\n",
      "5           MLPClassifier  0.736416  0.674730   0.677687  0.672810\n"
     ]
    }
   ],
   "source": [
    "result.plot(x=\"Name\", y=[\"Accuracy\", \"f1\", \"precision\", \"recall\"], kind=\"bar\")\n",
    "plt.legend(loc=4)\n",
    "plt.show()\n",
    "print(result)"
   ]
  },
  {
   "cell_type": "markdown",
   "id": "fca37c24",
   "metadata": {},
   "source": [
    "# Helper function"
   ]
  },
  {
   "cell_type": "code",
   "execution_count": 16,
   "id": "dfb15386",
   "metadata": {},
   "outputs": [],
   "source": [
    "# scoring a pipeline\n",
    "\n",
    "def score_a_pipeline(pipeline):\n",
    "    scoring = ['accuracy', 'f1', 'precision', 'recall']\n",
    "    f1 = []\n",
    "    acc = []\n",
    "    prec = []\n",
    "    rec = []\n",
    "\n",
    "    for clf in classifiers:\n",
    "        pipeline.set_params(estimator=clf)\n",
    "        scores = cross_validate(pipeline, X_train, y_train, scoring=scoring)\n",
    "        f1.append(np.mean(scores['test_f1']))\n",
    "        acc.append(np.mean(scores['test_accuracy']))\n",
    "        prec.append(np.mean(scores['test_precision']))\n",
    "        rec.append(np.mean(scores['test_recall']))\n",
    "        \n",
    "    str_classifiers = [str(clf)[:-2] for clf in classifiers]\n",
    "    result = pd.DataFrame({\n",
    "        'Name' : str_classifiers,\n",
    "        'Accuracy' : acc,\n",
    "        'f1' : f1,\n",
    "        'precision' : prec,\n",
    "        'recall' : rec\n",
    "    })\n",
    "    result.plot(x=\"Name\", y=[\"Accuracy\", \"f1\", \"precision\", \"recall\"], kind=\"bar\")\n",
    "    plt.legend(loc=4)\n",
    "    plt.show()\n",
    "    print(result)"
   ]
  },
  {
   "cell_type": "markdown",
   "id": "c4bc49a3",
   "metadata": {},
   "source": [
    "# Balancing: Sampling Techniques "
   ]
  },
  {
   "cell_type": "code",
   "execution_count": 17,
   "id": "c94715e2",
   "metadata": {},
   "outputs": [
    {
     "data": {
      "image/png": "[encoded data removed]",
      "text/plain": [
       "<Figure size 432x288 with 1 Axes>"
      ]
     },
     "metadata": {
      "needs_background": "light"
     },
     "output_type": "display_data"
    }
   ],
   "source": [
    "#inspect class distribution of target variable\n",
    "\n",
    "class_dist = y.value_counts()\n",
    "plt.bar(class_dist.index, class_dist)\n",
    "plt.ylabel(\"Frequency\")\n",
    "plt.show()"
   ]
  },
  {
   "cell_type": "markdown",
   "id": "766bffbc",
   "metadata": {},
   "source": [
    "### Undersampling "
   ]
  },
  {
   "cell_type": "code",
   "execution_count": 18,
   "id": "e8fb9eaa",
   "metadata": {},
   "outputs": [
    {
     "data": {
      "image/png": "[encoded data removed]",
      "text/plain": [
       "<Figure size 432x288 with 1 Axes>"
      ]
     },
     "metadata": {
      "needs_background": "light"
     },
     "output_type": "display_data"
    }
   ],
   "source": [
    "from imblearn.under_sampling import RandomUnderSampler\n",
    "from imblearn.pipeline import Pipeline\n",
    "\n",
    "sampler = RandomUnderSampler()\n",
    "balanced_data, balanced_target = sampler.fit_resample(X_train, y_train)\n",
    "\n",
    "class_dist = pd.Series(balanced_target).value_counts()\n",
    "plt.bar(class_dist.index, class_dist)\n",
    "plt.ylabel(\"Frequency\")\n",
    "plt.show()"
   ]
  },
  {
   "cell_type": "code",
   "execution_count": 19,
   "id": "5fdaaa22",
   "metadata": {},
   "outputs": [
    {
     "name": "stderr",
     "output_type": "stream",
     "text": [
      "C:\\ProgramData\\Anaconda3\\lib\\site-packages\\sklearn\\linear_model\\_logistic.py:763: ConvergenceWarning: lbfgs failed to converge (status=1):\n",
      "STOP: TOTAL NO. of ITERATIONS REACHED LIMIT.\n",
      "\n",
      "Increase the number of iterations (max_iter) or scale the data as shown in:\n",
      "    https://scikit-learn.org/stable/modules/preprocessing.html\n",
      "Please also refer to the documentation for alternative solver options:\n",
      "    https://scikit-learn.org/stable/modules/linear_model.html#logistic-regression\n",
      "  n_iter_i = _check_optimize_result(\n",
      "C:\\ProgramData\\Anaconda3\\lib\\site-packages\\sklearn\\linear_model\\_logistic.py:763: ConvergenceWarning: lbfgs failed to converge (status=1):\n",
      "STOP: TOTAL NO. of ITERATIONS REACHED LIMIT.\n",
      "\n",
      "Increase the number of iterations (max_iter) or scale the data as shown in:\n",
      "    https://scikit-learn.org/stable/modules/preprocessing.html\n",
      "Please also refer to the documentation for alternative solver options:\n",
      "    https://scikit-learn.org/stable/modules/linear_model.html#logistic-regression\n",
      "  n_iter_i = _check_optimize_result(\n",
      "C:\\ProgramData\\Anaconda3\\lib\\site-packages\\sklearn\\linear_model\\_logistic.py:763: ConvergenceWarning: lbfgs failed to converge (status=1):\n",
      "STOP: TOTAL NO. of ITERATIONS REACHED LIMIT.\n",
      "\n",
      "Increase the number of iterations (max_iter) or scale the data as shown in:\n",
      "    https://scikit-learn.org/stable/modules/preprocessing.html\n",
      "Please also refer to the documentation for alternative solver options:\n",
      "    https://scikit-learn.org/stable/modules/linear_model.html#logistic-regression\n",
      "  n_iter_i = _check_optimize_result(\n",
      "C:\\ProgramData\\Anaconda3\\lib\\site-packages\\sklearn\\linear_model\\_logistic.py:763: ConvergenceWarning: lbfgs failed to converge (status=1):\n",
      "STOP: TOTAL NO. of ITERATIONS REACHED LIMIT.\n",
      "\n",
      "Increase the number of iterations (max_iter) or scale the data as shown in:\n",
      "    https://scikit-learn.org/stable/modules/preprocessing.html\n",
      "Please also refer to the documentation for alternative solver options:\n",
      "    https://scikit-learn.org/stable/modules/linear_model.html#logistic-regression\n",
      "  n_iter_i = _check_optimize_result(\n",
      "C:\\ProgramData\\Anaconda3\\lib\\site-packages\\sklearn\\linear_model\\_logistic.py:763: ConvergenceWarning: lbfgs failed to converge (status=1):\n",
      "STOP: TOTAL NO. of ITERATIONS REACHED LIMIT.\n",
      "\n",
      "Increase the number of iterations (max_iter) or scale the data as shown in:\n",
      "    https://scikit-learn.org/stable/modules/preprocessing.html\n",
      "Please also refer to the documentation for alternative solver options:\n",
      "    https://scikit-learn.org/stable/modules/linear_model.html#logistic-regression\n",
      "  n_iter_i = _check_optimize_result(\n",
      "C:\\ProgramData\\Anaconda3\\lib\\site-packages\\sklearn\\neural_network\\_multilayer_perceptron.py:614: ConvergenceWarning: Stochastic Optimizer: Maximum iterations (200) reached and the optimization hasn't converged yet.\n",
      "  warnings.warn(\n"
     ]
    },
    {
     "data": {
      "image/png": "[encoded data removed]",
      "text/plain": [
       "<Figure size 432x288 with 1 Axes>"
      ]
     },
     "metadata": {
      "needs_background": "light"
     },
     "output_type": "display_data"
    },
    {
     "name": "stdout",
     "output_type": "stream",
     "text": [
      "                     Name  Accuracy        f1  precision    recall\n",
      "0              GaussianNB  0.659738  0.638223   0.565435  0.736161\n",
      "1      LogisticRegression  0.739147  0.699259   0.659404  0.744718\n",
      "2  DecisionTreeClassifier  0.681660  0.632963   0.597224  0.673716\n",
      "3    KNeighborsClassifier  0.678934  0.649311   0.584763  0.730410\n",
      "4  RandomForestClassifier  0.748149  0.709255   0.669789  0.754334\n",
      "5           MLPClassifier  0.733283  0.694808   0.650768  0.746692\n"
     ]
    }
   ],
   "source": [
    "sampler = RandomUnderSampler()\n",
    "sc = StandardScaler()\n",
    "\n",
    "pipeline = Pipeline([ ('normalisation', sc), ('balancing', sampler), ('estimator', None) ])\n",
    "score_a_pipeline(pipeline)\n"
   ]
  },
  {
   "cell_type": "markdown",
   "id": "7a648b11",
   "metadata": {},
   "source": [
    "### Oversampling"
   ]
  },
  {
   "cell_type": "code",
   "execution_count": 20,
   "id": "429f8f50",
   "metadata": {},
   "outputs": [
    {
     "data": {
      "image/png": "[encoded data removed]",
      "text/plain": [
       "<Figure size 432x288 with 1 Axes>"
      ]
     },
     "metadata": {
      "needs_background": "light"
     },
     "output_type": "display_data"
    }
   ],
   "source": [
    "from imblearn.over_sampling import RandomOverSampler\n",
    "\n",
    "sampler = RandomOverSampler()\n",
    "balanced_data, balanced_target = sampler.fit_resample(X_train, y_train)\n",
    "\n",
    "class_dist = pd.Series(balanced_target).value_counts()\n",
    "plt.bar(class_dist.index, class_dist)\n",
    "plt.ylabel(\"Frequency\")\n",
    "plt.show()"
   ]
  },
  {
   "cell_type": "code",
   "execution_count": 21,
   "id": "8cbb1c61",
   "metadata": {},
   "outputs": [
    {
     "name": "stderr",
     "output_type": "stream",
     "text": [
      "C:\\ProgramData\\Anaconda3\\lib\\site-packages\\sklearn\\linear_model\\_logistic.py:763: ConvergenceWarning: lbfgs failed to converge (status=1):\n",
      "STOP: TOTAL NO. of ITERATIONS REACHED LIMIT.\n",
      "\n",
      "Increase the number of iterations (max_iter) or scale the data as shown in:\n",
      "    https://scikit-learn.org/stable/modules/preprocessing.html\n",
      "Please also refer to the documentation for alternative solver options:\n",
      "    https://scikit-learn.org/stable/modules/linear_model.html#logistic-regression\n",
      "  n_iter_i = _check_optimize_result(\n",
      "C:\\ProgramData\\Anaconda3\\lib\\site-packages\\sklearn\\linear_model\\_logistic.py:763: ConvergenceWarning: lbfgs failed to converge (status=1):\n",
      "STOP: TOTAL NO. of ITERATIONS REACHED LIMIT.\n",
      "\n",
      "Increase the number of iterations (max_iter) or scale the data as shown in:\n",
      "    https://scikit-learn.org/stable/modules/preprocessing.html\n",
      "Please also refer to the documentation for alternative solver options:\n",
      "    https://scikit-learn.org/stable/modules/linear_model.html#logistic-regression\n",
      "  n_iter_i = _check_optimize_result(\n",
      "C:\\ProgramData\\Anaconda3\\lib\\site-packages\\sklearn\\linear_model\\_logistic.py:763: ConvergenceWarning: lbfgs failed to converge (status=1):\n",
      "STOP: TOTAL NO. of ITERATIONS REACHED LIMIT.\n",
      "\n",
      "Increase the number of iterations (max_iter) or scale the data as shown in:\n",
      "    https://scikit-learn.org/stable/modules/preprocessing.html\n",
      "Please also refer to the documentation for alternative solver options:\n",
      "    https://scikit-learn.org/stable/modules/linear_model.html#logistic-regression\n",
      "  n_iter_i = _check_optimize_result(\n",
      "C:\\ProgramData\\Anaconda3\\lib\\site-packages\\sklearn\\linear_model\\_logistic.py:763: ConvergenceWarning: lbfgs failed to converge (status=1):\n",
      "STOP: TOTAL NO. of ITERATIONS REACHED LIMIT.\n",
      "\n",
      "Increase the number of iterations (max_iter) or scale the data as shown in:\n",
      "    https://scikit-learn.org/stable/modules/preprocessing.html\n",
      "Please also refer to the documentation for alternative solver options:\n",
      "    https://scikit-learn.org/stable/modules/linear_model.html#logistic-regression\n",
      "  n_iter_i = _check_optimize_result(\n",
      "C:\\ProgramData\\Anaconda3\\lib\\site-packages\\sklearn\\linear_model\\_logistic.py:763: ConvergenceWarning: lbfgs failed to converge (status=1):\n",
      "STOP: TOTAL NO. of ITERATIONS REACHED LIMIT.\n",
      "\n",
      "Increase the number of iterations (max_iter) or scale the data as shown in:\n",
      "    https://scikit-learn.org/stable/modules/preprocessing.html\n",
      "Please also refer to the documentation for alternative solver options:\n",
      "    https://scikit-learn.org/stable/modules/linear_model.html#logistic-regression\n",
      "  n_iter_i = _check_optimize_result(\n",
      "C:\\ProgramData\\Anaconda3\\lib\\site-packages\\sklearn\\neural_network\\_multilayer_perceptron.py:614: ConvergenceWarning: Stochastic Optimizer: Maximum iterations (200) reached and the optimization hasn't converged yet.\n",
      "  warnings.warn(\n",
      "C:\\ProgramData\\Anaconda3\\lib\\site-packages\\sklearn\\neural_network\\_multilayer_perceptron.py:614: ConvergenceWarning: Stochastic Optimizer: Maximum iterations (200) reached and the optimization hasn't converged yet.\n",
      "  warnings.warn(\n",
      "C:\\ProgramData\\Anaconda3\\lib\\site-packages\\sklearn\\neural_network\\_multilayer_perceptron.py:614: ConvergenceWarning: Stochastic Optimizer: Maximum iterations (200) reached and the optimization hasn't converged yet.\n",
      "  warnings.warn(\n",
      "C:\\ProgramData\\Anaconda3\\lib\\site-packages\\sklearn\\neural_network\\_multilayer_perceptron.py:614: ConvergenceWarning: Stochastic Optimizer: Maximum iterations (200) reached and the optimization hasn't converged yet.\n",
      "  warnings.warn(\n"
     ]
    },
    {
     "data": {
      "image/png": "[encoded data removed]",
      "text/plain": [
       "<Figure size 432x288 with 1 Axes>"
      ]
     },
     "metadata": {
      "needs_background": "light"
     },
     "output_type": "display_data"
    },
    {
     "name": "stdout",
     "output_type": "stream",
     "text": [
      "                     Name  Accuracy        f1  precision    recall\n",
      "0              GaussianNB  0.659348  0.638263   0.563867  0.737081\n",
      "1      LogisticRegression  0.754398  0.710998   0.682888  0.741848\n",
      "2  DecisionTreeClassifier  0.684807  0.610891   0.614637  0.609523\n",
      "3    KNeighborsClassifier  0.680499  0.645572   0.589017  0.715040\n",
      "4  RandomForestClassifier  0.752448  0.688592   0.706581  0.672801\n",
      "5           MLPClassifier  0.736803  0.678078   0.675393  0.682402\n"
     ]
    }
   ],
   "source": [
    "sampler = RandomOverSampler()\n",
    "sc = StandardScaler()\n",
    "\n",
    "pipeline = Pipeline([ ('normalisation', sc), ('balancing', sampler), ('estimator', None) ])\n",
    "score_a_pipeline(pipeline)"
   ]
  },
  {
   "cell_type": "markdown",
   "id": "5ea06ec9",
   "metadata": {},
   "source": [
    "### SMOTE"
   ]
  },
  {
   "cell_type": "code",
   "execution_count": 22,
   "id": "56c3f66d",
   "metadata": {},
   "outputs": [
    {
     "name": "stderr",
     "output_type": "stream",
     "text": [
      "C:\\ProgramData\\Anaconda3\\lib\\site-packages\\sklearn\\linear_model\\_logistic.py:763: ConvergenceWarning: lbfgs failed to converge (status=1):\n",
      "STOP: TOTAL NO. of ITERATIONS REACHED LIMIT.\n",
      "\n",
      "Increase the number of iterations (max_iter) or scale the data as shown in:\n",
      "    https://scikit-learn.org/stable/modules/preprocessing.html\n",
      "Please also refer to the documentation for alternative solver options:\n",
      "    https://scikit-learn.org/stable/modules/linear_model.html#logistic-regression\n",
      "  n_iter_i = _check_optimize_result(\n",
      "C:\\ProgramData\\Anaconda3\\lib\\site-packages\\sklearn\\linear_model\\_logistic.py:763: ConvergenceWarning: lbfgs failed to converge (status=1):\n",
      "STOP: TOTAL NO. of ITERATIONS REACHED LIMIT.\n",
      "\n",
      "Increase the number of iterations (max_iter) or scale the data as shown in:\n",
      "    https://scikit-learn.org/stable/modules/preprocessing.html\n",
      "Please also refer to the documentation for alternative solver options:\n",
      "    https://scikit-learn.org/stable/modules/linear_model.html#logistic-regression\n",
      "  n_iter_i = _check_optimize_result(\n",
      "C:\\ProgramData\\Anaconda3\\lib\\site-packages\\sklearn\\linear_model\\_logistic.py:763: ConvergenceWarning: lbfgs failed to converge (status=1):\n",
      "STOP: TOTAL NO. of ITERATIONS REACHED LIMIT.\n",
      "\n",
      "Increase the number of iterations (max_iter) or scale the data as shown in:\n",
      "    https://scikit-learn.org/stable/modules/preprocessing.html\n",
      "Please also refer to the documentation for alternative solver options:\n",
      "    https://scikit-learn.org/stable/modules/linear_model.html#logistic-regression\n",
      "  n_iter_i = _check_optimize_result(\n",
      "C:\\ProgramData\\Anaconda3\\lib\\site-packages\\sklearn\\linear_model\\_logistic.py:763: ConvergenceWarning: lbfgs failed to converge (status=1):\n",
      "STOP: TOTAL NO. of ITERATIONS REACHED LIMIT.\n",
      "\n",
      "Increase the number of iterations (max_iter) or scale the data as shown in:\n",
      "    https://scikit-learn.org/stable/modules/preprocessing.html\n",
      "Please also refer to the documentation for alternative solver options:\n",
      "    https://scikit-learn.org/stable/modules/linear_model.html#logistic-regression\n",
      "  n_iter_i = _check_optimize_result(\n",
      "C:\\ProgramData\\Anaconda3\\lib\\site-packages\\sklearn\\linear_model\\_logistic.py:763: ConvergenceWarning: lbfgs failed to converge (status=1):\n",
      "STOP: TOTAL NO. of ITERATIONS REACHED LIMIT.\n",
      "\n",
      "Increase the number of iterations (max_iter) or scale the data as shown in:\n",
      "    https://scikit-learn.org/stable/modules/preprocessing.html\n",
      "Please also refer to the documentation for alternative solver options:\n",
      "    https://scikit-learn.org/stable/modules/linear_model.html#logistic-regression\n",
      "  n_iter_i = _check_optimize_result(\n",
      "C:\\ProgramData\\Anaconda3\\lib\\site-packages\\sklearn\\neural_network\\_multilayer_perceptron.py:614: ConvergenceWarning: Stochastic Optimizer: Maximum iterations (200) reached and the optimization hasn't converged yet.\n",
      "  warnings.warn(\n",
      "C:\\ProgramData\\Anaconda3\\lib\\site-packages\\sklearn\\neural_network\\_multilayer_perceptron.py:614: ConvergenceWarning: Stochastic Optimizer: Maximum iterations (200) reached and the optimization hasn't converged yet.\n",
      "  warnings.warn(\n"
     ]
    },
    {
     "data": {
      "image/png": "[encoded data removed]",
      "text/plain": [
       "<Figure size 432x288 with 1 Axes>"
      ]
     },
     "metadata": {
      "needs_background": "light"
     },
     "output_type": "display_data"
    },
    {
     "name": "stdout",
     "output_type": "stream",
     "text": [
      "                     Name  Accuracy        f1  precision    recall\n",
      "0              GaussianNB  0.651922  0.634064   0.555836  0.739984\n",
      "1      LogisticRegression  0.748524  0.702805   0.677614  0.730309\n",
      "2  DecisionTreeClassifier  0.674228  0.610905   0.594964  0.628648\n",
      "3    KNeighborsClassifier  0.669158  0.654484   0.569464  0.769751\n",
      "4  RandomForestClassifier  0.758704  0.705318   0.702694  0.709252\n",
      "5           MLPClassifier  0.741105  0.681467   0.683210  0.680452\n"
     ]
    }
   ],
   "source": [
    "from imblearn.over_sampling import SMOTE\n",
    "## only smote oversampling\n",
    "sc = StandardScaler()\n",
    "\n",
    "steps = [('normalisation', sc),('over', SMOTE()), ('estimator', None)]\n",
    "pipeline_under_over = Pipeline(steps=steps)\n",
    "score_a_pipeline(pipeline_under_over)\n",
    "\n",
    "\n",
    "#for clf in classifiers:\n",
    "#    pipeline_under_over.set_params(model=clf)\n",
    "#    accuracy_scr = cross_val_score(pipeline_under_over, X_train, y_train, cv=10, scoring='accuracy')\n",
    "#    print(\"Average Accuracy = {}%\".format(accuracy_scr.mean() * 100.0))"
   ]
  },
  {
   "cell_type": "code",
   "execution_count": 23,
   "id": "50aefd56",
   "metadata": {},
   "outputs": [
    {
     "name": "stderr",
     "output_type": "stream",
     "text": [
      "C:\\ProgramData\\Anaconda3\\lib\\site-packages\\sklearn\\linear_model\\_logistic.py:763: ConvergenceWarning: lbfgs failed to converge (status=1):\n",
      "STOP: TOTAL NO. of ITERATIONS REACHED LIMIT.\n",
      "\n",
      "Increase the number of iterations (max_iter) or scale the data as shown in:\n",
      "    https://scikit-learn.org/stable/modules/preprocessing.html\n",
      "Please also refer to the documentation for alternative solver options:\n",
      "    https://scikit-learn.org/stable/modules/linear_model.html#logistic-regression\n",
      "  n_iter_i = _check_optimize_result(\n",
      "C:\\ProgramData\\Anaconda3\\lib\\site-packages\\sklearn\\linear_model\\_logistic.py:763: ConvergenceWarning: lbfgs failed to converge (status=1):\n",
      "STOP: TOTAL NO. of ITERATIONS REACHED LIMIT.\n",
      "\n",
      "Increase the number of iterations (max_iter) or scale the data as shown in:\n",
      "    https://scikit-learn.org/stable/modules/preprocessing.html\n",
      "Please also refer to the documentation for alternative solver options:\n",
      "    https://scikit-learn.org/stable/modules/linear_model.html#logistic-regression\n",
      "  n_iter_i = _check_optimize_result(\n",
      "C:\\ProgramData\\Anaconda3\\lib\\site-packages\\sklearn\\linear_model\\_logistic.py:763: ConvergenceWarning: lbfgs failed to converge (status=1):\n",
      "STOP: TOTAL NO. of ITERATIONS REACHED LIMIT.\n",
      "\n",
      "Increase the number of iterations (max_iter) or scale the data as shown in:\n",
      "    https://scikit-learn.org/stable/modules/preprocessing.html\n",
      "Please also refer to the documentation for alternative solver options:\n",
      "    https://scikit-learn.org/stable/modules/linear_model.html#logistic-regression\n",
      "  n_iter_i = _check_optimize_result(\n",
      "C:\\ProgramData\\Anaconda3\\lib\\site-packages\\sklearn\\linear_model\\_logistic.py:763: ConvergenceWarning: lbfgs failed to converge (status=1):\n",
      "STOP: TOTAL NO. of ITERATIONS REACHED LIMIT.\n",
      "\n",
      "Increase the number of iterations (max_iter) or scale the data as shown in:\n",
      "    https://scikit-learn.org/stable/modules/preprocessing.html\n",
      "Please also refer to the documentation for alternative solver options:\n",
      "    https://scikit-learn.org/stable/modules/linear_model.html#logistic-regression\n",
      "  n_iter_i = _check_optimize_result(\n",
      "C:\\ProgramData\\Anaconda3\\lib\\site-packages\\sklearn\\linear_model\\_logistic.py:763: ConvergenceWarning: lbfgs failed to converge (status=1):\n",
      "STOP: TOTAL NO. of ITERATIONS REACHED LIMIT.\n",
      "\n",
      "Increase the number of iterations (max_iter) or scale the data as shown in:\n",
      "    https://scikit-learn.org/stable/modules/preprocessing.html\n",
      "Please also refer to the documentation for alternative solver options:\n",
      "    https://scikit-learn.org/stable/modules/linear_model.html#logistic-regression\n",
      "  n_iter_i = _check_optimize_result(\n",
      "C:\\ProgramData\\Anaconda3\\lib\\site-packages\\sklearn\\neural_network\\_multilayer_perceptron.py:614: ConvergenceWarning: Stochastic Optimizer: Maximum iterations (200) reached and the optimization hasn't converged yet.\n",
      "  warnings.warn(\n",
      "C:\\ProgramData\\Anaconda3\\lib\\site-packages\\sklearn\\neural_network\\_multilayer_perceptron.py:614: ConvergenceWarning: Stochastic Optimizer: Maximum iterations (200) reached and the optimization hasn't converged yet.\n",
      "  warnings.warn(\n",
      "C:\\ProgramData\\Anaconda3\\lib\\site-packages\\sklearn\\neural_network\\_multilayer_perceptron.py:614: ConvergenceWarning: Stochastic Optimizer: Maximum iterations (200) reached and the optimization hasn't converged yet.\n",
      "  warnings.warn(\n",
      "C:\\ProgramData\\Anaconda3\\lib\\site-packages\\sklearn\\neural_network\\_multilayer_perceptron.py:614: ConvergenceWarning: Stochastic Optimizer: Maximum iterations (200) reached and the optimization hasn't converged yet.\n",
      "  warnings.warn(\n"
     ]
    },
    {
     "data": {
      "image/png": "[encoded data removed]",
      "text/plain": [
       "<Figure size 432x288 with 1 Axes>"
      ]
     },
     "metadata": {
      "needs_background": "light"
     },
     "output_type": "display_data"
    },
    {
     "name": "stdout",
     "output_type": "stream",
     "text": [
      "                     Name  Accuracy        f1  precision    recall\n",
      "0              GaussianNB  0.660525  0.634342   0.566960  0.721738\n",
      "1      LogisticRegression  0.743054  0.706032   0.660938  0.758143\n",
      "2  DecisionTreeClassifier  0.653503  0.605223   0.565148  0.651615\n",
      "3    KNeighborsClassifier  0.684019  0.652699   0.590781  0.729435\n",
      "4  RandomForestClassifier  0.749323  0.710104   0.671715  0.754343\n",
      "5           MLPClassifier  0.727029  0.685020   0.646839  0.729407\n"
     ]
    }
   ],
   "source": [
    "## under and oversampling \n",
    "\n",
    "sampler = RandomOverSampler()\n",
    "sc = StandardScaler()\n",
    "\n",
    "steps = [('normalisation', sc),('under', RandomUnderSampler()),('over', SMOTE()), ('estimator', None)]\n",
    "pipeline_under_over = Pipeline(steps=steps)\n",
    "score_a_pipeline(pipeline_under_over)\n",
    "\n",
    "\n",
    "#for clf in classifiers:\n",
    "#    pipeline_under_over.set_params(model=clf)\n",
    "#    accuracy_scr = cross_val_score(pipeline_under_over, X_train, y_train, cv=10, scoring='accuracy')\n",
    "#    print(\"Average Accuracy = {}%\".format(accuracy_scr.mean() * 100.0))"
   ]
  },
  {
   "cell_type": "markdown",
   "id": "8ca99ee6",
   "metadata": {},
   "source": [
    "# Feature Selection"
   ]
  },
  {
   "cell_type": "code",
   "execution_count": 24,
   "id": "ca937d4d",
   "metadata": {},
   "outputs": [],
   "source": [
    "from sklearn.feature_selection import SelectKBest, f_classif\n"
   ]
  },
  {
   "cell_type": "code",
   "execution_count": 25,
   "id": "4a046b43",
   "metadata": {},
   "outputs": [
    {
     "name": "stderr",
     "output_type": "stream",
     "text": [
      "C:\\ProgramData\\Anaconda3\\lib\\site-packages\\sklearn\\linear_model\\_logistic.py:763: ConvergenceWarning: lbfgs failed to converge (status=1):\n",
      "STOP: TOTAL NO. of ITERATIONS REACHED LIMIT.\n",
      "\n",
      "Increase the number of iterations (max_iter) or scale the data as shown in:\n",
      "    https://scikit-learn.org/stable/modules/preprocessing.html\n",
      "Please also refer to the documentation for alternative solver options:\n",
      "    https://scikit-learn.org/stable/modules/linear_model.html#logistic-regression\n",
      "  n_iter_i = _check_optimize_result(\n",
      "C:\\ProgramData\\Anaconda3\\lib\\site-packages\\sklearn\\linear_model\\_logistic.py:763: ConvergenceWarning: lbfgs failed to converge (status=1):\n",
      "STOP: TOTAL NO. of ITERATIONS REACHED LIMIT.\n",
      "\n",
      "Increase the number of iterations (max_iter) or scale the data as shown in:\n",
      "    https://scikit-learn.org/stable/modules/preprocessing.html\n",
      "Please also refer to the documentation for alternative solver options:\n",
      "    https://scikit-learn.org/stable/modules/linear_model.html#logistic-regression\n",
      "  n_iter_i = _check_optimize_result(\n",
      "C:\\ProgramData\\Anaconda3\\lib\\site-packages\\sklearn\\neural_network\\_multilayer_perceptron.py:614: ConvergenceWarning: Stochastic Optimizer: Maximum iterations (200) reached and the optimization hasn't converged yet.\n",
      "  warnings.warn(\n",
      "C:\\ProgramData\\Anaconda3\\lib\\site-packages\\sklearn\\neural_network\\_multilayer_perceptron.py:614: ConvergenceWarning: Stochastic Optimizer: Maximum iterations (200) reached and the optimization hasn't converged yet.\n",
      "  warnings.warn(\n",
      "C:\\ProgramData\\Anaconda3\\lib\\site-packages\\sklearn\\neural_network\\_multilayer_perceptron.py:614: ConvergenceWarning: Stochastic Optimizer: Maximum iterations (200) reached and the optimization hasn't converged yet.\n",
      "  warnings.warn(\n",
      "C:\\ProgramData\\Anaconda3\\lib\\site-packages\\sklearn\\neural_network\\_multilayer_perceptron.py:614: ConvergenceWarning: Stochastic Optimizer: Maximum iterations (200) reached and the optimization hasn't converged yet.\n",
      "  warnings.warn(\n"
     ]
    },
    {
     "data": {
      "image/png": "[encoded data removed]",
      "text/plain": [
       "<Figure size 432x288 with 1 Axes>"
      ]
     },
     "metadata": {
      "needs_background": "light"
     },
     "output_type": "display_data"
    },
    {
     "name": "stdout",
     "output_type": "stream",
     "text": [
      "                     Name  Accuracy        f1  precision    recall\n",
      "0              GaussianNB  0.682056  0.665187   0.582455  0.776454\n",
      "1      LogisticRegression  0.719596  0.685184   0.631985  0.749545\n",
      "2  DecisionTreeClassifier  0.643729  0.594695   0.554815  0.642114\n",
      "3    KNeighborsClassifier  0.690271  0.653135   0.600534  0.715978\n",
      "4  RandomForestClassifier  0.711389  0.670322   0.627075  0.720800\n",
      "5           MLPClassifier  0.727422  0.688068   0.645331  0.738043\n"
     ]
    }
   ],
   "source": [
    "sampler = RandomUnderSampler()\n",
    "\n",
    "steps = [\n",
    "    ('normalisation', sc),\n",
    "    ('balancing', sampler), \n",
    "    ('f_selection', SelectKBest(f_classif, k=30)),\n",
    "    ('estimator', None)\n",
    "]\n",
    "pipeline = Pipeline(steps=steps)\n",
    "score_a_pipeline(pipeline)\n",
    "\n",
    "\n",
    "#for clf in classifiers:\n",
    "#    pipeline.set_params(model=clf)\n",
    "#    accuracy_scr = cross_val_score(pipeline, X_train, y_train, cv=10, scoring='accuracy')\n",
    "#    print(\"Average Accuracy = {}%\".format(accuracy_scr.mean() * 100.0))\n"
   ]
  },
  {
   "cell_type": "code",
   "execution_count": 26,
   "id": "f382faa6",
   "metadata": {},
   "outputs": [
    {
     "name": "stderr",
     "output_type": "stream",
     "text": [
      "C:\\ProgramData\\Anaconda3\\lib\\site-packages\\sklearn\\neural_network\\_multilayer_perceptron.py:614: ConvergenceWarning: Stochastic Optimizer: Maximum iterations (200) reached and the optimization hasn't converged yet.\n",
      "  warnings.warn(\n",
      "C:\\ProgramData\\Anaconda3\\lib\\site-packages\\sklearn\\neural_network\\_multilayer_perceptron.py:614: ConvergenceWarning: Stochastic Optimizer: Maximum iterations (200) reached and the optimization hasn't converged yet.\n",
      "  warnings.warn(\n",
      "C:\\ProgramData\\Anaconda3\\lib\\site-packages\\sklearn\\neural_network\\_multilayer_perceptron.py:614: ConvergenceWarning: Stochastic Optimizer: Maximum iterations (200) reached and the optimization hasn't converged yet.\n",
      "  warnings.warn(\n",
      "C:\\ProgramData\\Anaconda3\\lib\\site-packages\\sklearn\\neural_network\\_multilayer_perceptron.py:614: ConvergenceWarning: Stochastic Optimizer: Maximum iterations (200) reached and the optimization hasn't converged yet.\n",
      "  warnings.warn(\n"
     ]
    },
    {
     "data": {
      "image/png": "[encoded data removed]",
      "text/plain": [
       "<Figure size 432x288 with 1 Axes>"
      ]
     },
     "metadata": {
      "needs_background": "light"
     },
     "output_type": "display_data"
    },
    {
     "name": "stdout",
     "output_type": "stream",
     "text": [
      "                     Name  Accuracy        f1  precision    recall\n",
      "0              GaussianNB  0.685575  0.676652   0.583447  0.807145\n",
      "1      LogisticRegression  0.716076  0.681375   0.628268  0.745721\n",
      "2  DecisionTreeClassifier  0.628867  0.585614   0.537841  0.643039\n",
      "3    KNeighborsClassifier  0.688308  0.646730   0.601107  0.700603\n",
      "4  RandomForestClassifier  0.694576  0.650754   0.609709  0.698744\n",
      "5           MLPClassifier  0.714912  0.674757   0.631824  0.726564\n"
     ]
    }
   ],
   "source": [
    "steps = [\n",
    "    ('normalisation', sc),\n",
    "    ('balancing', sampler), \n",
    "    ('f_selection', SelectKBest(f_classif, k=20)),\n",
    "    ('estimator', None)\n",
    "]\n",
    "pipeline = Pipeline(steps=steps)\n",
    "score_a_pipeline(pipeline)\n"
   ]
  },
  {
   "cell_type": "code",
   "execution_count": 27,
   "id": "944bcff3",
   "metadata": {},
   "outputs": [
    {
     "name": "stderr",
     "output_type": "stream",
     "text": [
      "C:\\ProgramData\\Anaconda3\\lib\\site-packages\\sklearn\\linear_model\\_logistic.py:763: ConvergenceWarning: lbfgs failed to converge (status=1):\n",
      "STOP: TOTAL NO. of ITERATIONS REACHED LIMIT.\n",
      "\n",
      "Increase the number of iterations (max_iter) or scale the data as shown in:\n",
      "    https://scikit-learn.org/stable/modules/preprocessing.html\n",
      "Please also refer to the documentation for alternative solver options:\n",
      "    https://scikit-learn.org/stable/modules/linear_model.html#logistic-regression\n",
      "  n_iter_i = _check_optimize_result(\n",
      "C:\\ProgramData\\Anaconda3\\lib\\site-packages\\sklearn\\linear_model\\_logistic.py:763: ConvergenceWarning: lbfgs failed to converge (status=1):\n",
      "STOP: TOTAL NO. of ITERATIONS REACHED LIMIT.\n",
      "\n",
      "Increase the number of iterations (max_iter) or scale the data as shown in:\n",
      "    https://scikit-learn.org/stable/modules/preprocessing.html\n",
      "Please also refer to the documentation for alternative solver options:\n",
      "    https://scikit-learn.org/stable/modules/linear_model.html#logistic-regression\n",
      "  n_iter_i = _check_optimize_result(\n",
      "C:\\ProgramData\\Anaconda3\\lib\\site-packages\\sklearn\\linear_model\\_logistic.py:763: ConvergenceWarning: lbfgs failed to converge (status=1):\n",
      "STOP: TOTAL NO. of ITERATIONS REACHED LIMIT.\n",
      "\n",
      "Increase the number of iterations (max_iter) or scale the data as shown in:\n",
      "    https://scikit-learn.org/stable/modules/preprocessing.html\n",
      "Please also refer to the documentation for alternative solver options:\n",
      "    https://scikit-learn.org/stable/modules/linear_model.html#logistic-regression\n",
      "  n_iter_i = _check_optimize_result(\n",
      "C:\\ProgramData\\Anaconda3\\lib\\site-packages\\sklearn\\linear_model\\_logistic.py:763: ConvergenceWarning: lbfgs failed to converge (status=1):\n",
      "STOP: TOTAL NO. of ITERATIONS REACHED LIMIT.\n",
      "\n",
      "Increase the number of iterations (max_iter) or scale the data as shown in:\n",
      "    https://scikit-learn.org/stable/modules/preprocessing.html\n",
      "Please also refer to the documentation for alternative solver options:\n",
      "    https://scikit-learn.org/stable/modules/linear_model.html#logistic-regression\n",
      "  n_iter_i = _check_optimize_result(\n",
      "C:\\ProgramData\\Anaconda3\\lib\\site-packages\\sklearn\\linear_model\\_logistic.py:763: ConvergenceWarning: lbfgs failed to converge (status=1):\n",
      "STOP: TOTAL NO. of ITERATIONS REACHED LIMIT.\n",
      "\n",
      "Increase the number of iterations (max_iter) or scale the data as shown in:\n",
      "    https://scikit-learn.org/stable/modules/preprocessing.html\n",
      "Please also refer to the documentation for alternative solver options:\n",
      "    https://scikit-learn.org/stable/modules/linear_model.html#logistic-regression\n",
      "  n_iter_i = _check_optimize_result(\n",
      "C:\\ProgramData\\Anaconda3\\lib\\site-packages\\sklearn\\neural_network\\_multilayer_perceptron.py:614: ConvergenceWarning: Stochastic Optimizer: Maximum iterations (200) reached and the optimization hasn't converged yet.\n",
      "  warnings.warn(\n",
      "C:\\ProgramData\\Anaconda3\\lib\\site-packages\\sklearn\\neural_network\\_multilayer_perceptron.py:614: ConvergenceWarning: Stochastic Optimizer: Maximum iterations (200) reached and the optimization hasn't converged yet.\n",
      "  warnings.warn(\n",
      "C:\\ProgramData\\Anaconda3\\lib\\site-packages\\sklearn\\neural_network\\_multilayer_perceptron.py:614: ConvergenceWarning: Stochastic Optimizer: Maximum iterations (200) reached and the optimization hasn't converged yet.\n",
      "  warnings.warn(\n",
      "C:\\ProgramData\\Anaconda3\\lib\\site-packages\\sklearn\\neural_network\\_multilayer_perceptron.py:614: ConvergenceWarning: Stochastic Optimizer: Maximum iterations (200) reached and the optimization hasn't converged yet.\n",
      "  warnings.warn(\n",
      "C:\\ProgramData\\Anaconda3\\lib\\site-packages\\sklearn\\neural_network\\_multilayer_perceptron.py:614: ConvergenceWarning: Stochastic Optimizer: Maximum iterations (200) reached and the optimization hasn't converged yet.\n",
      "  warnings.warn(\n"
     ]
    },
    {
     "data": {
      "image/png": "[encoded data removed]",
      "text/plain": [
       "<Figure size 432x288 with 1 Axes>"
      ]
     },
     "metadata": {
      "needs_background": "light"
     },
     "output_type": "display_data"
    },
    {
     "name": "stdout",
     "output_type": "stream",
     "text": [
      "                     Name  Accuracy        f1  precision    recall\n",
      "0              GaussianNB  0.689482  0.669001   0.591683  0.770662\n",
      "1      LogisticRegression  0.716467  0.683176   0.627813  0.750501\n",
      "2  DecisionTreeClassifier  0.648825  0.600309   0.559059  0.648864\n",
      "3    KNeighborsClassifier  0.684804  0.649519   0.594080  0.717924\n",
      "4  RandomForestClassifier  0.719607  0.681117   0.634484  0.738126\n",
      "5           MLPClassifier  0.730940  0.692081   0.649072  0.742828\n"
     ]
    }
   ],
   "source": [
    "steps = [\n",
    "    ('normalisation', sc),\n",
    "    ('balancing', sampler), \n",
    "    ('f_selection', SelectKBest(f_classif, k=40)),\n",
    "    ('estimator', None)\n",
    "]\n",
    "pipeline = Pipeline(steps=steps)\n",
    "score_a_pipeline(pipeline)"
   ]
  },
  {
   "cell_type": "markdown",
   "id": "6e168a8d",
   "metadata": {},
   "source": [
    "# Hyperparameter tuning\n",
    "\n",
    "Logistic regression delivers overall the best performance, Random Forest is a close second. We decide to do hyperparameter optimization for both with randomundersampling enabled using our full dataframe."
   ]
  },
  {
   "cell_type": "code",
   "execution_count": 28,
   "id": "7874afbd",
   "metadata": {},
   "outputs": [],
   "source": [
    "import itertools\n",
    "\n",
    "def plot_confusion_matrix(cm, classes,\n",
    "                          normalize=False,\n",
    "                          title='Confusion matrix',\n",
    "                          cmap=plt.cm.Blues):\n",
    "    \"\"\"\n",
    "    This function prints and plots the confusion matrix.\n",
    "    Normalization can be applied by setting `normalize=True`.\n",
    "    \"\"\"\n",
    "    if normalize:\n",
    "        cm = cm.astype('float') / cm.sum(axis=1)[:, np.newaxis]\n",
    "\n",
    "    plt.imshow(cm, interpolation='nearest', cmap=cmap)\n",
    "    plt.title(title)\n",
    "    plt.colorbar()\n",
    "    tick_marks = np.arange(len(classes))\n",
    "    plt.xticks(tick_marks, classes, rotation=45)\n",
    "    plt.yticks(tick_marks, classes)\n",
    "\n",
    "    fmt = '.2f' if normalize else 'd'\n",
    "    thresh = cm.max() / 2.\n",
    "    for i, j in itertools.product(range(cm.shape[0]), range(cm.shape[1])):\n",
    "        plt.text(j, i, format(cm[i, j], fmt),\n",
    "                 horizontalalignment=\"center\",\n",
    "                 color=\"white\" if cm[i, j] > thresh else \"black\")\n",
    "\n",
    "    plt.ylabel('True label')\n",
    "    plt.xlabel('Predicted label')\n",
    "    plt.tight_layout()\n",
    "    plt.show()"
   ]
  },
  {
   "cell_type": "code",
   "execution_count": 29,
   "id": "91eafbbd",
   "metadata": {},
   "outputs": [],
   "source": [
    "# define models and parameters for hyperparametrs\n",
    "from sklearn.experimental import enable_halving_search_cv  \n",
    "from sklearn.model_selection import HalvingGridSearchCV\n",
    "\n",
    "# define grid search\n",
    "\n",
    "from sklearn.model_selection import GridSearchCV\n",
    "# Create the parameter grid based on the results of random search \n",
    "param_grid = {\n",
    "    'bootstrap': [True],\n",
    "    'max_features': ['auto','sqrt'],\n",
    "    'n_estimators': [100,1000],\n",
    "     'criterion': ['gini','entropy'],\n",
    "    'min_samples_split':[2,4]\n",
    "}\n",
    "\n",
    "\n",
    "# Create a based model\n",
    "rf = RandomForestClassifier()\n",
    "# Instantiate the grid search model\n",
    "grid_search = HalvingGridSearchCV(estimator = rf, param_grid = param_grid, \n",
    "                          cv = 5, n_jobs = -1, verbose = 2, random_state=1804, scoring= 'f1')"
   ]
  },
  {
   "cell_type": "code",
   "execution_count": 30,
   "id": "458aa5e8",
   "metadata": {},
   "outputs": [
    {
     "name": "stdout",
     "output_type": "stream",
     "text": [
      "n_iterations: 3\n",
      "n_required_iterations: 3\n",
      "n_possible_iterations: 3\n",
      "min_resources_: 336\n",
      "max_resources_: 3030\n",
      "aggressive_elimination: False\n",
      "factor: 3\n",
      "----------\n",
      "iter: 0\n",
      "n_candidates: 16\n",
      "n_resources: 336\n",
      "Fitting 5 folds for each of 16 candidates, totalling 80 fits\n",
      "----------\n",
      "iter: 1\n",
      "n_candidates: 6\n",
      "n_resources: 1008\n",
      "Fitting 5 folds for each of 6 candidates, totalling 30 fits\n",
      "----------\n",
      "iter: 2\n",
      "n_candidates: 2\n",
      "n_resources: 3024\n",
      "Fitting 5 folds for each of 2 candidates, totalling 10 fits\n",
      "Pipeline(steps=[('over', RandomOverSampler()),\n",
      "                ('estimator',\n",
      "                 HalvingGridSearchCV(estimator=RandomForestClassifier(),\n",
      "                                     n_jobs=-1,\n",
      "                                     param_grid={'bootstrap': [True],\n",
      "                                                 'criterion': ['gini',\n",
      "                                                               'entropy'],\n",
      "                                                 'max_features': ['auto',\n",
      "                                                                  'sqrt'],\n",
      "                                                 'min_samples_split': [2, 4],\n",
      "                                                 'n_estimators': [100, 1000]},\n",
      "                                     random_state=1804,\n",
      "                                     refit=<function _refit_callable at 0x000001C62223B0D0>,\n",
      "                                     scoring='f1', verbose=2))])\n"
     ]
    }
   ],
   "source": [
    "# use randomoversampler \n",
    "steps_3 = [('over', RandomOverSampler()), ('estimator', grid_search)]\n",
    "pipeline_3 = Pipeline(steps=steps_3)\n",
    "#fit the model\n",
    "rf_hyperparameter = pipeline_3.fit(X_train, y_train)\n",
    "print(rf_hyperparameter)"
   ]
  },
  {
   "cell_type": "code",
   "execution_count": 31,
   "id": "2b5b46e4",
   "metadata": {},
   "outputs": [
    {
     "name": "stdout",
     "output_type": "stream",
     "text": [
      "Best Score:0.8258760837971751\n",
      "Best Parameters: {'bootstrap': True, 'criterion': 'gini', 'max_features': 'auto', 'min_samples_split': 4, 'n_estimators': 1000}\n"
     ]
    }
   ],
   "source": [
    "# print('Best parameter set: %s' % grid_search.best_params_)\n",
    "print(\"Best Score:\" + str(grid_search.best_score_))\n",
    "print(\"Best Parameters: \" + str(grid_search.best_params_))\n",
    "best_parameters = grid_search.best_params_"
   ]
  },
  {
   "cell_type": "code",
   "execution_count": 32,
   "id": "1c637c9c",
   "metadata": {},
   "outputs": [
    {
     "data": {
      "text/plain": [
       "Pipeline(steps=[('over', RandomUnderSampler()),\n",
       "                ('estimator',\n",
       "                 RandomForestClassifier(criterion='entropy',\n",
       "                                        max_features='sqrt',\n",
       "                                        min_samples_split=4,\n",
       "                                        n_estimators=1000))])"
      ]
     },
     "execution_count": 32,
     "metadata": {},
     "output_type": "execute_result"
    }
   ],
   "source": [
    "# final application of random forest\n",
    "\n",
    "rf = RandomForestClassifier(bootstrap=True, criterion='entropy', max_features='sqrt', min_samples_split=4, n_estimators=1000)\n",
    "steps_rf = [('over', RandomUnderSampler()), ('estimator', rf)]\n",
    "pipeline_rf = Pipeline(steps=steps_rf)\n",
    "\n",
    "pipeline_rf.fit(X_train, y_train)"
   ]
  },
  {
   "cell_type": "code",
   "execution_count": 33,
   "id": "281f5821",
   "metadata": {},
   "outputs": [],
   "source": [
    "pred_rf = pipeline_rf.predict(X_test)"
   ]
  },
  {
   "cell_type": "code",
   "execution_count": 34,
   "id": "6277b070",
   "metadata": {},
   "outputs": [
    {
     "name": "stdout",
     "output_type": "stream",
     "text": [
      "[[486 163]\n",
      " [ 91 356]]\n"
     ]
    },
    {
     "data": {
      "image/png": "[encoded data removed]",
      "text/plain": [
       "<Figure size 432x288 with 2 Axes>"
      ]
     },
     "metadata": {
      "needs_background": "light"
     },
     "output_type": "display_data"
    },
    {
     "name": "stdout",
     "output_type": "stream",
     "text": [
      "Random Forest with accuracy of \n",
      "              precision    recall  f1-score   support\n",
      "\n",
      "           0       0.84      0.75      0.79       649\n",
      "           1       0.69      0.80      0.74       447\n",
      "\n",
      "    accuracy                           0.77      1096\n",
      "   macro avg       0.76      0.77      0.76      1096\n",
      "weighted avg       0.78      0.77      0.77      1096\n",
      "\n"
     ]
    }
   ],
   "source": [
    "#compute the confusion matrix\n",
    "cnf_matrix = confusion_matrix(y_test, pred_rf)\n",
    "print(cnf_matrix)\n",
    "\n",
    "#compute accuracy score\n",
    "acc = accuracy_score(y_test, pred_rf)\n",
    "\n",
    "#plot the confusion matrix\n",
    "plot_confusion_matrix(cnf_matrix, classes=['0','1'], title='Random Forest Classifier')\n",
    "\n",
    "\n",
    "\n",
    "print(\"Random Forest with accuracy of \".format(acc))\n",
    "print(classification_report(y_test, pred_rf, target_names=['0','1']))"
   ]
  },
  {
   "cell_type": "code",
   "execution_count": null,
   "id": "a29978e0",
   "metadata": {},
   "outputs": [],
   "source": []
  },
  {
   "cell_type": "code",
   "execution_count": 35,
   "id": "e35646e6",
   "metadata": {},
   "outputs": [],
   "source": [
    "# Create the parameter grid based on the results of random search \n",
    "param_grid = {\n",
    "    'penalty': ['l2'],\n",
    "    'C': [1e-5, 1e-4, 1e-3, 1e-2, 1e-1, 1, 10, 100],\n",
    "    'solver' : ['newton-cg', 'lbfgs', 'liblinear']\n",
    "}\n",
    "\n",
    "\n",
    "# Create a based model\n",
    "lr = LogisticRegression(max_iter=500, random_state=1804)\n",
    "# Instantiate the grid search model\n",
    "grid_search = HalvingGridSearchCV(estimator = lr, param_grid = param_grid, \n",
    "                          cv = 5, n_jobs = -1, verbose = 2, random_state=1804, scoring= 'f1')"
   ]
  },
  {
   "cell_type": "code",
   "execution_count": 36,
   "id": "80e03598",
   "metadata": {},
   "outputs": [
    {
     "name": "stdout",
     "output_type": "stream",
     "text": [
      "n_iterations: 3\n",
      "n_required_iterations: 3\n",
      "n_possible_iterations: 3\n",
      "min_resources_: 231\n",
      "max_resources_: 2084\n",
      "aggressive_elimination: False\n",
      "factor: 3\n",
      "----------\n",
      "iter: 0\n",
      "n_candidates: 24\n",
      "n_resources: 231\n",
      "Fitting 5 folds for each of 24 candidates, totalling 120 fits\n",
      "----------\n",
      "iter: 1\n",
      "n_candidates: 8\n",
      "n_resources: 693\n",
      "Fitting 5 folds for each of 8 candidates, totalling 40 fits\n",
      "----------\n",
      "iter: 2\n",
      "n_candidates: 3\n",
      "n_resources: 2079\n",
      "Fitting 5 folds for each of 3 candidates, totalling 15 fits\n",
      "Pipeline(steps=[('scaler', StandardScaler()),\n",
      "                ('sampling', RandomUnderSampler()),\n",
      "                ('estimator',\n",
      "                 HalvingGridSearchCV(estimator=LogisticRegression(max_iter=500,\n",
      "                                                                  random_state=1804),\n",
      "                                     n_jobs=-1,\n",
      "                                     param_grid={'C': [1e-05, 0.0001, 0.001,\n",
      "                                                       0.01, 0.1, 1, 10, 100],\n",
      "                                                 'penalty': ['l2'],\n",
      "                                                 'solver': ['newton-cg',\n",
      "                                                            'lbfgs',\n",
      "                                                            'liblinear']},\n",
      "                                     random_state=1804,\n",
      "                                     refit=<function _refit_callable at 0x000001C62223B0D0>,\n",
      "                                     scoring='f1', verbose=2))])\n"
     ]
    }
   ],
   "source": [
    "steps_lr = [('scaler', StandardScaler()),('sampling', RandomUnderSampler()), ('estimator', grid_search)]\n",
    "pipeline_lr = Pipeline(steps=steps_lr)\n",
    "#fit the model\n",
    "lr_hyperparameter = pipeline_lr.fit(X_train, y_train)\n",
    "print(lr_hyperparameter)"
   ]
  },
  {
   "cell_type": "code",
   "execution_count": 37,
   "id": "a4752c78",
   "metadata": {},
   "outputs": [
    {
     "name": "stdout",
     "output_type": "stream",
     "text": [
      "Best Score:0.7594240877428786\n",
      "Best Parameters: {'C': 0.001, 'penalty': 'l2', 'solver': 'liblinear'}\n"
     ]
    }
   ],
   "source": [
    "# print('Best parameter set: %s' % grid_search.best_params_)\n",
    "print(\"Best Score:\" + str(grid_search.best_score_))\n",
    "print(\"Best Parameters: \" + str(grid_search.best_params_))\n",
    "best_parameters = grid_search.best_params_"
   ]
  },
  {
   "cell_type": "code",
   "execution_count": 38,
   "id": "037d4924",
   "metadata": {},
   "outputs": [
    {
     "data": {
      "text/plain": [
       "Pipeline(steps=[('scaler', StandardScaler()),\n",
       "                ('sampling', RandomUnderSampler()),\n",
       "                ('estimator', LogisticRegression(C=0.01, solver='liblinear'))])"
      ]
     },
     "execution_count": 38,
     "metadata": {},
     "output_type": "execute_result"
    }
   ],
   "source": [
    "# final application\n",
    "\n",
    "lr = LogisticRegression(C=0.01, penalty='l2', solver='liblinear')\n",
    "\n",
    "steps_lr = [('scaler', StandardScaler()),('sampling', RandomUnderSampler()), ('estimator', lr)]\n",
    "pipeline_lr = Pipeline(steps=steps_lr)\n",
    "\n",
    "pipeline_lr.fit(X_train, y_train)"
   ]
  },
  {
   "cell_type": "code",
   "execution_count": 39,
   "id": "cea43300",
   "metadata": {},
   "outputs": [],
   "source": [
    "pred_lr = pipeline_lr.predict(X_test)"
   ]
  },
  {
   "cell_type": "code",
   "execution_count": 40,
   "id": "a33940e1",
   "metadata": {},
   "outputs": [
    {
     "name": "stdout",
     "output_type": "stream",
     "text": [
      "[[485 164]\n",
      " [ 95 352]]\n"
     ]
    },
    {
     "data": {
      "image/png": "[encoded data removed]",
      "text/plain": [
       "<Figure size 432x288 with 2 Axes>"
      ]
     },
     "metadata": {
      "needs_background": "light"
     },
     "output_type": "display_data"
    },
    {
     "name": "stdout",
     "output_type": "stream",
     "text": [
      "Logistic Regression with accuracy of \n",
      "              precision    recall  f1-score   support\n",
      "\n",
      "           0       0.84      0.75      0.79       649\n",
      "           1       0.68      0.79      0.73       447\n",
      "\n",
      "    accuracy                           0.76      1096\n",
      "   macro avg       0.76      0.77      0.76      1096\n",
      "weighted avg       0.77      0.76      0.77      1096\n",
      "\n"
     ]
    }
   ],
   "source": [
    "#compute the confusion matrix\n",
    "cnf_matrix = confusion_matrix(y_test, pred_lr)\n",
    "print(cnf_matrix)\n",
    "\n",
    "#compute accuracy score\n",
    "acc = accuracy_score(y_test, pred_lr)\n",
    "\n",
    "#plot the confusion matrix\n",
    "plot_confusion_matrix(cnf_matrix, classes=['0','1'], title='Logistic Regression Classifier')\n",
    "\n",
    "\n",
    "\n",
    "print(\"Logistic Regression with accuracy of \".format(acc))\n",
    "print(classification_report(y_test, pred_lr, target_names=['0','1']))"
   ]
  },
  {
   "cell_type": "code",
   "execution_count": 41,
   "id": "0559170a",
   "metadata": {},
   "outputs": [
    {
     "data": {
      "text/plain": [
       "Pipeline(steps=[('scaler', StandardScaler()),\n",
       "                ('sampling', RandomUnderSampler()),\n",
       "                ('estimator', MLPClassifier())])"
      ]
     },
     "execution_count": 41,
     "metadata": {},
     "output_type": "execute_result"
    }
   ],
   "source": [
    "# final application\n",
    "\n",
    "mlp = MLPClassifier()\n",
    "\n",
    "steps_mlp = [('scaler', StandardScaler()),('sampling', RandomUnderSampler()), ('estimator', mlp)]\n",
    "pipeline_mlp = Pipeline(steps=steps_mlp)\n",
    "\n",
    "pipeline_mlp.fit(X_train, y_train)"
   ]
  },
  {
   "cell_type": "code",
   "execution_count": 42,
   "id": "4f8697a7",
   "metadata": {},
   "outputs": [],
   "source": [
    "pred_mlp = pipeline_mlp.predict(X_test)"
   ]
  },
  {
   "cell_type": "code",
   "execution_count": 43,
   "id": "2ff3c3df",
   "metadata": {},
   "outputs": [
    {
     "name": "stdout",
     "output_type": "stream",
     "text": [
      "[[464 185]\n",
      " [ 98 349]]\n"
     ]
    },
    {
     "data": {
      "image/png": "[encoded data removed]",
      "text/plain": [
       "<Figure size 432x288 with 2 Axes>"
      ]
     },
     "metadata": {
      "needs_background": "light"
     },
     "output_type": "display_data"
    },
    {
     "name": "stdout",
     "output_type": "stream",
     "text": [
      "MLP with accuracy of \n",
      "              precision    recall  f1-score   support\n",
      "\n",
      "           0       0.83      0.71      0.77       649\n",
      "           1       0.65      0.78      0.71       447\n",
      "\n",
      "    accuracy                           0.74      1096\n",
      "   macro avg       0.74      0.75      0.74      1096\n",
      "weighted avg       0.76      0.74      0.74      1096\n",
      "\n"
     ]
    }
   ],
   "source": [
    "#compute the confusion matrix\n",
    "cnf_matrix = confusion_matrix(y_test, pred_mlp)\n",
    "print(cnf_matrix)\n",
    "\n",
    "#compute accuracy score\n",
    "acc = accuracy_score(y_test, pred_mlp)\n",
    "\n",
    "#plot the confusion matrix\n",
    "plot_confusion_matrix(cnf_matrix, classes=['0','1'], title='MLP Classifier')\n",
    "\n",
    "\n",
    "\n",
    "print(\"MLP with accuracy of \".format(acc))\n",
    "print(classification_report(y_test, pred_mlp, target_names=['0','1']))"
   ]
  },
  {
   "cell_type": "code",
   "execution_count": 45,
   "id": "5c8d6d7c",
   "metadata": {},
   "outputs": [],
   "source": [
    "# Create the parameter grid based on the results of random search \n",
    "param_grid_nb = {\n",
    "    'var_smoothing': np.logspace(0,-9, num=100)\n",
    "}\n",
    "\n",
    "\n",
    "# Create a based model\n",
    "nb = GaussianNB()\n",
    "# Instantiate the grid search model\n",
    "grid_search = HalvingGridSearchCV(estimator = lr, param_grid = param_grid, \n",
    "                          cv = 5, n_jobs = -1, verbose = 2, random_state=1804, scoring= 'f1')"
   ]
  },
  {
   "cell_type": "code",
   "execution_count": 46,
   "id": "bbd576a2",
   "metadata": {},
   "outputs": [
    {
     "name": "stdout",
     "output_type": "stream",
     "text": [
      "n_iterations: 3\n",
      "n_required_iterations: 3\n",
      "n_possible_iterations: 3\n",
      "min_resources_: 231\n",
      "max_resources_: 2084\n",
      "aggressive_elimination: False\n",
      "factor: 3\n",
      "----------\n",
      "iter: 0\n",
      "n_candidates: 24\n",
      "n_resources: 231\n",
      "Fitting 5 folds for each of 24 candidates, totalling 120 fits\n",
      "----------\n",
      "iter: 1\n",
      "n_candidates: 8\n",
      "n_resources: 693\n",
      "Fitting 5 folds for each of 8 candidates, totalling 40 fits\n",
      "----------\n",
      "iter: 2\n",
      "n_candidates: 3\n",
      "n_resources: 2079\n",
      "Fitting 5 folds for each of 3 candidates, totalling 15 fits\n",
      "Pipeline(steps=[('scaler', StandardScaler()),\n",
      "                ('sampling', RandomUnderSampler()),\n",
      "                ('estimator',\n",
      "                 HalvingGridSearchCV(estimator=LogisticRegression(C=0.01,\n",
      "                                                                  solver='liblinear'),\n",
      "                                     n_jobs=-1,\n",
      "                                     param_grid={'C': [1e-05, 0.0001, 0.001,\n",
      "                                                       0.01, 0.1, 1, 10, 100],\n",
      "                                                 'penalty': ['l2'],\n",
      "                                                 'solver': ['newton-cg',\n",
      "                                                            'lbfgs',\n",
      "                                                            'liblinear']},\n",
      "                                     random_state=1804,\n",
      "                                     refit=<function _refit_callable at 0x000001C62223B0D0>,\n",
      "                                     scoring='f1', verbose=2))])\n"
     ]
    }
   ],
   "source": [
    "steps_nb = [('scaler', StandardScaler()),('sampling', RandomUnderSampler()), ('estimator', grid_search)]\n",
    "pipeline_nb = Pipeline(steps=steps_nb)\n",
    "#fit the model\n",
    "nb_hyperparameter = pipeline_nb.fit(X_train, y_train)\n",
    "print(nb_hyperparameter)"
   ]
  },
  {
   "cell_type": "code",
   "execution_count": 47,
   "id": "69843450",
   "metadata": {},
   "outputs": [
    {
     "name": "stdout",
     "output_type": "stream",
     "text": [
      "Best Score:0.7561605805589237\n",
      "Best Parameters: {'C': 0.001, 'penalty': 'l2', 'solver': 'liblinear'}\n"
     ]
    }
   ],
   "source": [
    "# print('Best parameter set: %s' % grid_search.best_params_)\n",
    "print(\"Best Score:\" + str(grid_search.best_score_))\n",
    "print(\"Best Parameters: \" + str(grid_search.best_params_))\n",
    "best_parameters = grid_search.best_params_"
   ]
  },
  {
   "cell_type": "code",
   "execution_count": 48,
   "id": "ca18b28c",
   "metadata": {},
   "outputs": [
    {
     "data": {
      "text/plain": [
       "Pipeline(steps=[('scaler', StandardScaler()),\n",
       "                ('sampling', RandomUnderSampler()),\n",
       "                ('estimator', GaussianNB())])"
      ]
     },
     "execution_count": 48,
     "metadata": {},
     "output_type": "execute_result"
    }
   ],
   "source": [
    "# final application\n",
    "\n",
    "nb = GaussianNB()\n",
    "\n",
    "steps_nb = [('scaler', StandardScaler()),('sampling', RandomUnderSampler()), ('estimator', nb)]\n",
    "pipeline_nb = Pipeline(steps=steps_nb)\n",
    "\n",
    "pipeline_nb.fit(X_train, y_train)"
   ]
  },
  {
   "cell_type": "code",
   "execution_count": 49,
   "id": "4b9dfeab",
   "metadata": {},
   "outputs": [],
   "source": [
    "pred_nb = pipeline_nb.predict(X_test)"
   ]
  },
  {
   "cell_type": "code",
   "execution_count": 50,
   "id": "2558b5b9",
   "metadata": {},
   "outputs": [
    {
     "name": "stdout",
     "output_type": "stream",
     "text": [
      "[[401 248]\n",
      " [105 342]]\n"
     ]
    },
    {
     "data": {
      "image/png": "[encoded data removed]",
      "text/plain": [
       "<Figure size 432x288 with 2 Axes>"
      ]
     },
     "metadata": {
      "needs_background": "light"
     },
     "output_type": "display_data"
    },
    {
     "name": "stdout",
     "output_type": "stream",
     "text": [
      "GaussianNB with accuracy of \n",
      "              precision    recall  f1-score   support\n",
      "\n",
      "           0       0.79      0.62      0.69       649\n",
      "           1       0.58      0.77      0.66       447\n",
      "\n",
      "    accuracy                           0.68      1096\n",
      "   macro avg       0.69      0.69      0.68      1096\n",
      "weighted avg       0.71      0.68      0.68      1096\n",
      "\n"
     ]
    }
   ],
   "source": [
    "#compute the confusion matrix\n",
    "cnf_matrix = confusion_matrix(y_test, pred_nb)\n",
    "print(cnf_matrix)\n",
    "\n",
    "#compute accuracy score\n",
    "acc = accuracy_score(y_test, pred_nb)\n",
    "\n",
    "#plot the confusion matrix\n",
    "plot_confusion_matrix(cnf_matrix, classes=['0','1'], title='GaussianNB Classifier')\n",
    "\n",
    "\n",
    "\n",
    "print(\"GaussianNB with accuracy of \".format(acc))\n",
    "print(classification_report(y_test, pred_nb, target_names=['0','1']))"
   ]
  },
  {
   "cell_type": "code",
   "execution_count": 51,
   "id": "445530d1",
   "metadata": {},
   "outputs": [
    {
     "data": {
      "text/plain": [
       "Pipeline(steps=[('scaler', StandardScaler()),\n",
       "                ('sampling', RandomUnderSampler()),\n",
       "                ('estimator',\n",
       "                 KNeighborsClassifier(metric='manhattan', n_neighbors=10,\n",
       "                                      weights='distance'))])"
      ]
     },
     "execution_count": 51,
     "metadata": {},
     "output_type": "execute_result"
    }
   ],
   "source": [
    "# final application\n",
    "\n",
    "knn = KNeighborsClassifier(metric='manhattan', n_neighbors=10, weights='distance')\n",
    "\n",
    "steps_knn = [('scaler', StandardScaler()),('sampling', RandomUnderSampler()), ('estimator', knn)]\n",
    "pipeline_knn = Pipeline(steps=steps_knn)\n",
    "\n",
    "pipeline_knn.fit(X_train, y_train)"
   ]
  },
  {
   "cell_type": "code",
   "execution_count": 52,
   "id": "15781abb",
   "metadata": {},
   "outputs": [],
   "source": [
    "pred_knn = pipeline_knn.predict(X_test)"
   ]
  },
  {
   "cell_type": "code",
   "execution_count": 53,
   "id": "103273d1",
   "metadata": {},
   "outputs": [
    {
     "name": "stdout",
     "output_type": "stream",
     "text": [
      "[[426 223]\n",
      " [ 89 358]]\n"
     ]
    },
    {
     "data": {
      "image/png": "[encoded data removed]",
      "text/plain": [
       "<Figure size 432x288 with 2 Axes>"
      ]
     },
     "metadata": {
      "needs_background": "light"
     },
     "output_type": "display_data"
    },
    {
     "name": "stdout",
     "output_type": "stream",
     "text": [
      "KNN with accuracy of \n",
      "              precision    recall  f1-score   support\n",
      "\n",
      "           0       0.83      0.66      0.73       649\n",
      "           1       0.62      0.80      0.70       447\n",
      "\n",
      "    accuracy                           0.72      1096\n",
      "   macro avg       0.72      0.73      0.71      1096\n",
      "weighted avg       0.74      0.72      0.72      1096\n",
      "\n"
     ]
    }
   ],
   "source": [
    "#compute the confusion matrix\n",
    "cnf_matrix = confusion_matrix(y_test, pred_knn)\n",
    "print(cnf_matrix)\n",
    "\n",
    "#compute accuracy score\n",
    "acc = accuracy_score(y_test, pred_knn)\n",
    "\n",
    "#plot the confusion matrix\n",
    "plot_confusion_matrix(cnf_matrix, classes=['0','1'], title='KNN Classifier')\n",
    "\n",
    "\n",
    "\n",
    "print(\"KNN with accuracy of \".format(acc))\n",
    "print(classification_report(y_test, pred_knn, target_names=['0','1']))"
   ]
  },
  {
   "cell_type": "markdown",
   "id": "d7b2086c",
   "metadata": {},
   "source": [
    "# Ensemble"
   ]
  },
  {
   "cell_type": "code",
   "execution_count": 54,
   "id": "c4c44f81",
   "metadata": {},
   "outputs": [],
   "source": [
    "from scipy.stats import mode"
   ]
  },
  {
   "cell_type": "code",
   "execution_count": 55,
   "id": "efe0a525",
   "metadata": {},
   "outputs": [],
   "source": [
    "e_mlp = pred_mlp\n",
    "e_nb = pred_nb\n",
    "e_lr = pred_lr\n",
    "e_rf = pred_rf\n",
    "e_knn = pred_knn\n",
    "\n",
    "\n",
    "res = []\n",
    "for i in np.arange(len(pred_mlp)):\n",
    "    r = mode([e_mlp[i], e_nb[i], e_lr[i], e_rf[i], e_knn[i]])[0][0]\n",
    "    res.append(r)\n",
    "    \n"
   ]
  },
  {
   "cell_type": "code",
   "execution_count": 56,
   "id": "bd54914d",
   "metadata": {},
   "outputs": [
    {
     "name": "stdout",
     "output_type": "stream",
     "text": [
      "[[473 176]\n",
      " [ 81 366]]\n"
     ]
    },
    {
     "data": {
      "image/png": "[encoded data removed]",
      "text/plain": [
       "<Figure size 432x288 with 2 Axes>"
      ]
     },
     "metadata": {
      "needs_background": "light"
     },
     "output_type": "display_data"
    },
    {
     "name": "stdout",
     "output_type": "stream",
     "text": [
      "Ensemble with accuracy of \n",
      "              precision    recall  f1-score   support\n",
      "\n",
      "           0       0.85      0.73      0.79       649\n",
      "           1       0.68      0.82      0.74       447\n",
      "\n",
      "    accuracy                           0.77      1096\n",
      "   macro avg       0.76      0.77      0.76      1096\n",
      "weighted avg       0.78      0.77      0.77      1096\n",
      "\n"
     ]
    }
   ],
   "source": [
    "#compute the confusion matrix\n",
    "cnf_matrix = confusion_matrix(y_test, res)\n",
    "print(cnf_matrix)\n",
    "\n",
    "#compute accuracy score\n",
    "acc = accuracy_score(y_test, res)\n",
    "\n",
    "#plot the confusion matrix\n",
    "plot_confusion_matrix(cnf_matrix, classes=['0','1'], title='Ensemble Classifier')\n",
    "\n",
    "\n",
    "\n",
    "print(\"Ensemble with accuracy of \".format(acc))\n",
    "print(classification_report(y_test, res, target_names=['0','1']))"
   ]
  },
  {
   "cell_type": "code",
   "execution_count": null,
   "id": "3eb27277",
   "metadata": {},
   "outputs": [],
   "source": []
  },
  {
   "cell_type": "markdown",
   "id": "e2a51a0d",
   "metadata": {},
   "source": [
    "# Feature Importance"
   ]
  },
  {
   "cell_type": "code",
   "execution_count": 57,
   "id": "537d8c64",
   "metadata": {},
   "outputs": [
    {
     "data": {
      "text/plain": [
       "RandomForestClassifier()"
      ]
     },
     "execution_count": 57,
     "metadata": {},
     "output_type": "execute_result"
    }
   ],
   "source": [
    "rf = RandomForestClassifier(n_estimators=100)\n",
    "rf.fit(X_train, y_train)"
   ]
  },
  {
   "cell_type": "code",
   "execution_count": 58,
   "id": "ee5eb109",
   "metadata": {},
   "outputs": [
    {
     "data": {
      "text/plain": [
       "array([2.57359467e-03, 1.86851851e-03, 2.53494107e-03, 1.56081109e-03,\n",
       "       5.27333144e-03, 7.27241114e-03, 5.83511798e-03, 1.62584182e-03,\n",
       "       1.81474021e-03, 1.74959805e-03, 2.90270787e-03, 1.44352128e-03,\n",
       "       1.24283019e-03, 1.28374875e-03, 6.91632544e-04, 1.90717265e-03,\n",
       "       6.49431656e-04, 9.27997001e-04, 8.65972075e-04, 1.81549238e-03,\n",
       "       1.00403256e-02, 8.49287270e-03, 1.92091321e-02, 3.16462590e-03,\n",
       "       5.15058757e-05, 3.49935569e-04, 8.48138431e-04, 7.67752289e-04,\n",
       "       1.60452917e-03, 1.69415627e-03, 1.95592400e-03, 2.62589518e-03,\n",
       "       8.03175657e-03, 3.05077375e-03, 1.03325717e-02, 1.46619732e-03,\n",
       "       5.02772034e-03, 3.10707933e-03, 4.02253329e-03, 2.96371691e-03,\n",
       "       1.24920275e-03, 7.04285225e-04, 9.30313259e-04, 1.53299557e-03,\n",
       "       9.21023575e-04, 9.78779808e-04, 1.64096942e-03, 1.87679637e-03,\n",
       "       8.40958616e-04, 1.10934853e-03, 1.71132302e-03, 1.01865928e-03,\n",
       "       1.44168667e-03, 1.42019470e-03, 1.88994313e-03, 1.35863344e-03,\n",
       "       1.06087311e-03, 1.46176135e-03, 1.46580469e-03, 1.46140075e-03,\n",
       "       9.34019000e-04, 4.84910758e-04, 1.14753295e-03, 1.26367415e-03,\n",
       "       1.35404050e-03, 1.31012558e-03, 1.82048473e-03, 1.16080803e-03,\n",
       "       1.26430076e-03, 1.66283260e-03, 1.66099231e-03, 1.08968298e-03,\n",
       "       6.35711061e-04, 8.61398930e-04, 8.72981462e-04, 2.28451456e-03,\n",
       "       5.62659121e-04, 6.80286651e-04, 5.37933876e-04, 2.47555943e-03,\n",
       "       8.39491754e-04, 6.10158584e-04, 8.59136143e-04, 2.66589261e-03,\n",
       "       8.91741974e-04, 4.94624630e-04, 4.42703622e-04, 2.45449080e-03,\n",
       "       6.93686952e-04, 9.67199764e-04, 5.55236441e-04, 2.09477572e-03,\n",
       "       5.66013126e-04, 1.22019161e-03, 7.04986788e-04, 1.79601517e-03,\n",
       "       2.46493246e-03, 1.75201575e-03, 2.32226902e-03, 1.51603559e-03,\n",
       "       2.81696853e-03, 5.12174650e-03, 2.72142471e-03, 2.28297619e-03,\n",
       "       1.44593631e-03, 1.48964411e-03, 1.32442349e-03, 1.14910331e-03,\n",
       "       1.52482220e-03, 1.18452003e-03, 7.88092466e-04, 1.33732030e-03,\n",
       "       6.79797587e-04, 7.82487897e-04, 7.98906855e-04, 1.94717445e-03,\n",
       "       1.35936004e-03, 1.76768540e-03, 1.30988321e-03, 2.07120995e-03,\n",
       "       1.61184942e-03, 1.37942267e-03, 1.70649728e-03, 1.42118871e-03,\n",
       "       6.01152993e-04, 9.37297699e-04, 8.87003677e-04, 1.49150674e-03,\n",
       "       2.11333040e-04, 9.90734559e-04, 1.14205305e-03, 2.30618138e-04,\n",
       "       6.70914877e-04, 1.20948438e-03, 1.49134622e-03, 1.12547710e-03,\n",
       "       1.14680976e-04, 7.28397623e-04, 6.95273919e-04, 0.00000000e+00,\n",
       "       2.85552385e-04, 8.10088760e-04, 9.46533102e-04, 8.52880986e-04,\n",
       "       4.83536941e-04, 2.82448470e-03, 2.38685181e-03, 2.04069859e-03,\n",
       "       7.78680372e-04, 1.11267472e-03, 1.17022317e-03, 1.29869467e-03,\n",
       "       1.85505934e-03, 1.27900516e-03, 2.09880720e-03, 1.61127380e-03,\n",
       "       9.46575511e-04, 1.11050930e-03, 1.08809189e-03, 1.70482318e-03,\n",
       "       1.99448158e-03, 2.29912392e-03, 2.42173446e-03, 1.12284332e-03,\n",
       "       4.97078432e-03, 1.13814737e-02, 5.63185983e-03, 2.26451972e-03,\n",
       "       1.91416952e-03, 2.38418886e-03, 1.61501729e-03, 1.63366275e-03,\n",
       "       1.82125095e-03, 1.37589152e-03, 6.52370303e-04, 1.68240191e-03,\n",
       "       8.14786454e-04, 7.59176184e-04, 3.97343995e-04, 1.78218910e-03,\n",
       "       1.80814875e-02, 1.37447878e-02, 1.72982044e-02, 3.30666961e-03,\n",
       "       8.15010677e-05, 1.71418995e-04, 7.78946685e-04, 1.09757861e-03,\n",
       "       1.77586751e-03, 2.16818238e-03, 2.23841783e-03, 2.65381407e-03,\n",
       "       1.33203517e-03, 3.53038068e-03, 1.89204284e-03, 2.20958082e-03,\n",
       "       3.63510613e-03, 2.30419221e-03, 2.17588239e-03, 2.82177997e-03,\n",
       "       8.83364565e-04, 1.04939878e-03, 9.41138078e-04, 2.00381680e-03,\n",
       "       9.12011192e-04, 1.52740215e-03, 1.01851072e-03, 1.85444066e-03,\n",
       "       6.19857602e-04, 2.36983351e-03, 1.40321263e-03, 8.65654889e-04,\n",
       "       9.45819719e-04, 1.51365753e-03, 1.85935670e-03, 1.30226997e-03,\n",
       "       1.31119217e-03, 1.37411303e-03, 1.68688530e-03, 1.23613125e-03,\n",
       "       7.56366175e-04, 7.65960231e-04, 8.47213657e-04, 1.01273498e-03,\n",
       "       1.65667226e-03, 1.41520435e-03, 1.41006817e-03, 1.77918393e-03,\n",
       "       1.19762413e-03, 1.52034591e-03, 1.72771724e-03, 1.08644401e-03,\n",
       "       4.50888382e-04, 1.29926619e-03, 9.77393542e-04, 2.27453496e-03,\n",
       "       8.23922943e-04, 9.75148375e-04, 7.16234582e-04, 2.34444157e-03,\n",
       "       4.84277132e-04, 1.07953652e-03, 7.00207500e-04, 1.99918887e-03,\n",
       "       9.62873192e-04, 9.82973468e-04, 4.95038453e-04, 2.25335244e-03,\n",
       "       8.63152940e-04, 6.17830731e-04, 5.95579106e-04, 2.14021090e-03,\n",
       "       8.97020145e-04, 1.28319858e-03, 6.79225172e-04, 1.98340228e-03,\n",
       "       2.27102446e-03, 2.32677478e-03, 2.44367967e-03, 2.27357937e-03,\n",
       "       2.41030652e-03, 9.81037119e-03, 3.89751246e-03, 2.06791721e-03,\n",
       "       1.17903495e-03, 1.64180416e-03, 8.69422851e-04, 1.81844865e-03,\n",
       "       1.02650703e-03, 1.28851782e-03, 7.61050196e-04, 1.42027704e-03,\n",
       "       7.04116032e-04, 5.12265677e-04, 6.17584029e-04, 1.87230328e-03,\n",
       "       1.60210955e-03, 2.09530587e-03, 2.13894842e-03, 1.59311421e-03,\n",
       "       1.51142982e-03, 1.70835118e-03, 1.97328235e-03, 1.43229093e-03,\n",
       "       8.90528845e-04, 8.54474117e-04, 1.23495795e-03, 2.49041317e-03,\n",
       "       0.00000000e+00, 3.99735551e-04, 1.21416936e-04, 0.00000000e+00,\n",
       "       6.33743998e-04, 1.52332585e-03, 9.52254931e-04, 7.95774623e-04,\n",
       "       0.00000000e+00, 8.38154206e-05, 0.00000000e+00, 0.00000000e+00,\n",
       "       1.79651350e-04, 7.24640151e-04, 8.34596970e-04, 9.40799984e-04,\n",
       "       3.97413383e-04, 2.68558171e-03, 1.64064833e-03, 1.10911319e-03,\n",
       "       8.99538282e-04, 6.92556721e-04, 1.18442992e-03, 1.58699999e-03,\n",
       "       1.21788233e-03, 7.13446461e-04, 1.61919519e-03, 1.34147291e-03,\n",
       "       1.05956341e-03, 1.36698842e-03, 1.06131338e-03, 2.14393774e-03,\n",
       "       1.29653317e-03, 3.93973055e-03, 8.07370684e-03, 3.63276059e-03,\n",
       "       2.25653070e-03, 1.75675155e-03, 1.14429868e-03, 9.54623328e-04,\n",
       "       1.23080819e-03, 2.12277449e-03, 6.58638704e-04, 7.25735536e-04,\n",
       "       8.51688300e-04, 1.99328684e-03, 7.55116319e-03, 1.34380562e-02,\n",
       "       2.82135408e-03, 1.57423565e-04, 3.19969403e-04, 8.38120724e-04,\n",
       "       1.50347686e-03, 1.18845710e-03, 1.04033212e-03, 1.75975318e-03,\n",
       "       1.74590222e-03, 2.03860379e-03, 2.28334606e-03, 9.23512572e-04,\n",
       "       8.96550448e-04, 5.14903348e-04, 1.21085838e-03, 1.48761029e-03,\n",
       "       7.89217692e-04, 1.21143147e-03, 1.58635349e-03, 8.26381229e-04,\n",
       "       1.13529422e-03, 1.26662759e-03, 1.68793134e-03, 1.39670462e-03,\n",
       "       1.57503300e-03, 1.03479567e-03, 1.29608630e-03, 1.17305891e-03,\n",
       "       1.08520298e-03, 5.99309172e-04, 9.94952978e-04, 1.06320215e-03,\n",
       "       1.27512670e-03, 1.26916474e-03, 1.38787378e-03, 1.42289450e-03,\n",
       "       7.88341079e-04, 1.05213717e-03, 1.22824442e-03, 2.33451298e-03,\n",
       "       2.66713256e-04, 1.07792642e-03, 7.51688016e-04, 1.99442507e-03,\n",
       "       8.94190406e-04, 6.87345378e-04, 7.83169168e-04, 2.02599476e-03,\n",
       "       1.13399767e-03, 8.97901449e-04, 8.94923266e-04, 1.47030213e-03,\n",
       "       6.56926240e-04, 1.17483103e-03, 9.45829303e-04, 2.04718751e-03,\n",
       "       8.15638857e-04, 8.91179993e-04, 8.05225158e-04, 1.50565329e-03,\n",
       "       2.34652636e-03, 3.06994636e-03, 6.27542091e-03, 2.95365659e-03,\n",
       "       2.09340000e-03, 1.55239328e-03, 1.23858911e-03, 7.25332230e-04,\n",
       "       1.51428516e-03, 6.69592188e-04, 2.07220377e-03, 9.29946001e-04,\n",
       "       1.51904764e-03, 9.13652164e-04, 6.38828070e-04, 1.03067130e-03,\n",
       "       2.03521545e-03, 1.95254928e-03, 1.48785828e-03, 2.26112235e-03,\n",
       "       2.05979672e-03, 1.45252884e-03, 1.71889837e-03, 2.11880404e-03,\n",
       "       1.53921093e-03, 1.06276824e-03, 1.19476765e-03, 8.58401474e-04,\n",
       "       1.83335340e-03, 5.31521091e-04, 1.01193537e-03, 9.58355708e-04,\n",
       "       1.00607577e-03, 6.90544401e-04, 1.12549639e-03, 1.34648434e-03,\n",
       "       1.21400559e-03, 1.20350572e-04, 7.55944771e-04, 9.10553613e-04,\n",
       "       7.56501820e-04, 2.01771267e-04, 1.01999498e-03, 5.12719745e-04,\n",
       "       8.49067077e-04, 7.51633102e-04, 1.17628169e-03, 1.52968170e-03,\n",
       "       2.40746577e-03, 7.94356694e-04, 7.65081972e-04, 1.52097423e-03,\n",
       "       1.61860511e-03, 1.62997919e-03, 1.65367634e-03, 1.83782947e-03,\n",
       "       4.02886417e-03, 6.30234677e-03, 8.72285765e-03, 1.93937710e-03,\n",
       "       1.91510467e-03, 5.25073417e-04, 9.12836784e-04, 8.18313871e-04,\n",
       "       2.00433737e-03, 8.82262449e-04, 1.18980752e-03, 4.73499783e-04,\n",
       "       2.03127013e-03, 1.54511872e-02, 1.09901983e-02, 1.99349820e-03,\n",
       "       8.07280617e-06, 2.34746025e-04, 8.05617755e-04, 8.92625331e-04,\n",
       "       1.65866071e-03, 1.63579224e-03, 2.30217197e-03, 2.96078255e-03,\n",
       "       1.86355594e-03, 3.49200196e-03, 8.30490378e-04, 6.43669494e-04,\n",
       "       6.65236204e-04, 1.38717986e-03, 1.11147598e-03, 1.04503643e-03,\n",
       "       7.98588973e-04, 1.73557454e-03, 9.69213391e-04, 1.35156501e-03,\n",
       "       1.05940064e-03, 1.16133960e-03, 1.13111827e-03, 1.44823250e-03,\n",
       "       1.74961726e-03, 1.77707763e-03, 1.38287934e-03, 8.68710173e-04,\n",
       "       4.44850488e-04, 1.34305380e-03, 1.39525615e-03, 2.03086464e-03,\n",
       "       1.20431902e-03, 1.80120206e-03, 1.51191983e-03, 6.07341161e-04,\n",
       "       8.22108144e-04, 9.25998641e-04, 2.24673476e-03, 6.55228991e-04,\n",
       "       8.66678288e-04, 7.00586737e-04, 2.58269067e-03, 1.25072903e-03,\n",
       "       8.88579327e-04, 8.95942193e-04, 1.99538294e-03, 6.01876638e-04,\n",
       "       5.72544381e-04, 4.01459889e-04, 2.53062487e-03, 1.13438708e-03,\n",
       "       1.18523348e-03, 7.03171331e-04, 2.26396537e-03, 9.91641063e-04,\n",
       "       7.87833651e-04, 6.37268198e-04, 1.98385495e-03, 2.40849076e-03,\n",
       "       3.73104782e-03, 6.78877199e-03, 3.30410269e-03, 2.29142753e-03,\n",
       "       1.24418934e-03, 1.40072361e-03, 1.12087615e-03, 1.40224560e-03,\n",
       "       8.64009472e-04, 1.26639971e-03, 1.75279390e-03, 1.68300543e-03,\n",
       "       3.95115814e-04, 1.07893161e-03, 4.88426288e-04, 1.91008456e-03,\n",
       "       1.53161886e-03, 2.11554885e-03, 2.28528608e-03, 2.76974792e-03,\n",
       "       1.94081283e-03, 1.45385057e-03, 2.26645436e-03, 1.41518900e-03,\n",
       "       9.68291162e-04, 1.02352588e-03, 7.76607072e-04, 1.80923775e-03,\n",
       "       6.08376411e-04, 9.51493853e-04, 1.12355279e-03, 7.03947016e-04,\n",
       "       1.00558249e-03, 1.20109526e-03, 1.23179504e-03, 1.20060209e-03,\n",
       "       1.40878114e-04, 7.89592812e-04, 8.41021969e-04, 3.29245152e-04,\n",
       "       2.86135545e-04, 6.47765979e-04, 5.56124024e-04, 9.41167924e-04,\n",
       "       2.82482662e-04, 1.97330804e-03, 2.20785584e-03, 1.75454028e-03,\n",
       "       1.07456287e-03, 9.41337789e-04, 1.63790325e-03, 1.56118916e-03,\n",
       "       1.76344095e-03, 1.74024681e-03])"
      ]
     },
     "execution_count": 58,
     "metadata": {},
     "output_type": "execute_result"
    }
   ],
   "source": [
    "rf.feature_importances_"
   ]
  },
  {
   "cell_type": "code",
   "execution_count": 59,
   "id": "617a422a",
   "metadata": {},
   "outputs": [],
   "source": [
    "#plot graph of feature importances\n",
    "\n",
    "sorted_idx = rf.feature_importances_.argsort()\n"
   ]
  },
  {
   "cell_type": "code",
   "execution_count": 60,
   "id": "5334e8f9",
   "metadata": {},
   "outputs": [
    {
     "data": {
      "text/plain": [
       "array([296, 298, 299, 288, 291, 139, 468,  24, 184, 297, 136, 433, 290,\n",
       "       564, 337, 185, 300, 437, 128, 131, 469, 376, 572, 140, 568, 338,\n",
       "       567,  25, 540, 178, 304, 289, 517,  86, 496, 232, 463, 144, 240,\n",
       "        61, 542,  85, 246, 273, 439, 349, 457, 425,  78,  90, 570,  76,\n",
       "        92, 516, 250, 365, 124, 515, 503, 556,  81, 274, 249, 208, 292,\n",
       "        72, 525, 410, 479, 569,  16, 174, 507, 388, 330, 480, 405, 132,\n",
       "       254, 112,  77, 381, 429,  14, 309,  88, 138, 242, 509, 521, 559,\n",
       "       272,  41,  94, 313, 238, 301, 403, 331, 137, 441, 378, 434, 220,\n",
       "       436, 177, 270, 446, 221,  27, 554, 148, 186, 113, 382, 524, 110,\n",
       "       372, 352, 565, 445, 295, 484, 114, 394, 470, 141, 176, 392, 459,\n",
       "       504, 236, 355, 478, 302, 339,  80,  48, 566, 222,  26, 440, 332,\n",
       "       143, 285, 423,  82,  73, 248, 536, 211,  18, 508, 495, 266,  74,\n",
       "       461, 200, 126, 512, 284, 393,  84, 471, 380, 386, 513, 348, 252,\n",
       "       385, 308, 435, 204, 458, 409,  44, 347, 505,  17, 407,  42,  60,\n",
       "       125, 303, 202, 571, 577, 212, 390, 142, 156, 557, 294, 327, 427,\n",
       "       244,  89, 552, 486, 237, 234,  45, 245, 129, 523, 366, 560, 428,\n",
       "       426, 223, 206,  51, 438, 553, 268, 411, 361, 342, 483, 201, 373,\n",
       "       488, 316,  56, 318, 421, 367, 576, 377, 541, 241, 364, 231, 158,\n",
       "        71, 187, 307,  49, 157, 482, 149, 534, 163, 558, 135, 430, 490,\n",
       "       384, 519, 356, 130, 326,  62, 107,  67, 489, 150, 363, 389, 442,\n",
       "       264, 310, 109, 520, 341, 462, 422, 228, 563, 561, 500, 133, 350,\n",
       "       353, 432, 312,  93, 374, 328, 562, 286, 219, 402,  12, 532,  40,\n",
       "       511,  63,  68, 537, 357, 369, 368, 153, 253,  13, 269, 362, 320,\n",
       "       151, 233, 215, 118,  65, 216, 106, 192, 111, 315, 497, 431, 487,\n",
       "        64,  55, 116, 317, 217, 173, 121, 494, 481, 370, 498, 359, 533,\n",
       "       535, 210, 226, 551, 225,  53, 271, 123, 371, 283,  52,  11, 104,\n",
       "       491, 417, 549,  59,  57,  58,  35, 387, 351, 414, 105, 134, 127,\n",
       "       340, 395, 280, 502, 213, 404,  99, 408, 229, 447, 293, 108, 205,\n",
       "       443, 544,  43, 420, 401,   3, 579, 360, 354, 311, 279, 276,  28,\n",
       "       155, 120, 170, 448, 314,   7, 449, 171, 473, 578, 306,  46, 265,\n",
       "       450, 224, 472,  70,  69, 175, 539, 218, 358,  29, 159, 122, 281,\n",
       "        50, 418, 230, 485, 581, 344,   9, 492,  97, 538, 575, 325, 343,\n",
       "       580, 117, 188, 493, 227, 179,  95, 501, 555,   8,  19, 267,  66,\n",
       "       172, 424, 451, 207, 152, 214, 476,   1, 275,  47,  54, 194,  15,\n",
       "       543, 168, 456, 455, 548, 115, 413,  30, 282, 573, 255, 526, 333,\n",
       "       467, 379, 160, 514, 243, 203, 460, 383, 499, 464, 412, 345, 147,\n",
       "       391, 416, 263, 119, 406, 400,  91, 277, 154, 545, 419, 329, 278,\n",
       "       251, 319, 189, 198, 574, 195, 190, 506, 247, 324, 415, 522, 167,\n",
       "       550, 256, 259, 235, 103, 346,  75, 546, 531, 161, 474, 197,  98,\n",
       "       257, 375, 239, 396, 209, 169, 146, 444, 527, 260, 162, 258,  87,\n",
       "        96,  79, 287, 518,   2,   0, 510,  31, 191,  83, 305, 102, 547,\n",
       "       100, 336, 199, 145,  10, 399, 475,  39,  33, 397,  37,  23, 530,\n",
       "       183, 477, 193, 323, 196, 528, 262, 321,  38, 452, 164,  36, 101,\n",
       "         4, 166,   6, 398, 453, 529,   5, 334,  32, 322,  21, 454, 261,\n",
       "        20,  34, 466, 165, 335, 181, 465, 182, 180,  22], dtype=int64)"
      ]
     },
     "execution_count": 60,
     "metadata": {},
     "output_type": "execute_result"
    }
   ],
   "source": [
    "sorted_idx"
   ]
  },
  {
   "cell_type": "code",
   "execution_count": 61,
   "id": "98521c95",
   "metadata": {},
   "outputs": [],
   "source": [
    "new = [\n",
    "       251, 194, 199,  75, 183, 145, 467, 375, 323,  37, 387, 196, 397,\n",
    "       477, 530, 262, 399,  33,  38, 452, 193, 261, 102,  32,  36, 100,\n",
    "       164]"
   ]
  },
  {
   "cell_type": "code",
   "execution_count": 62,
   "id": "864914b4",
   "metadata": {},
   "outputs": [
    {
     "data": {
      "text/plain": [
       "Text(0.5, 0, 'Random Forest Feature Importance')"
      ]
     },
     "execution_count": 62,
     "metadata": {},
     "output_type": "execute_result"
    },
    {
     "data": {
      "image/png": "[encoded data removed]",
      "text/plain": [
       "<Figure size 432x288 with 1 Axes>"
      ]
     },
     "metadata": {
      "needs_background": "light"
     },
     "output_type": "display_data"
    }
   ],
   "source": [
    "#plt.figure(figsize=(200,200), dpi=80)\n",
    "plt.barh(data.columns[new], rf.feature_importances_[new])\n",
    "plt.xticks(rotation=90)\n",
    "plt.xlabel(\"Random Forest Feature Importance\")"
   ]
  },
  {
   "cell_type": "code",
   "execution_count": 63,
   "id": "83122598",
   "metadata": {},
   "outputs": [
    {
     "data": {
      "text/html": [
       "<div>\n",
       "<style scoped>\n",
       "    .dataframe tbody tr th:only-of-type {\n",
       "        vertical-align: middle;\n",
       "    }\n",
       "\n",
       "    .dataframe tbody tr th {\n",
       "        vertical-align: top;\n",
       "    }\n",
       "\n",
       "    .dataframe thead th {\n",
       "        text-align: right;\n",
       "    }\n",
       "</style>\n",
       "<table border=\"1\" class=\"dataframe\">\n",
       "  <thead>\n",
       "    <tr style=\"text-align: right;\">\n",
       "      <th></th>\n",
       "      <th>og_min_u10n</th>\n",
       "      <th>og_max_u10n</th>\n",
       "      <th>og_mean_u10n</th>\n",
       "      <th>og_var_u10n</th>\n",
       "      <th>og_min_sp</th>\n",
       "      <th>og_max_sp</th>\n",
       "      <th>og_mean_sp</th>\n",
       "      <th>og_var_sp</th>\n",
       "      <th>og_min_u100</th>\n",
       "      <th>og_max_u100</th>\n",
       "      <th>...</th>\n",
       "      <th>root_min_cape</th>\n",
       "      <th>root_max_cape</th>\n",
       "      <th>root_mean_cape</th>\n",
       "      <th>root_var_cape</th>\n",
       "      <th>root_min_mcc</th>\n",
       "      <th>root_max_mcc</th>\n",
       "      <th>root_mean_mcc</th>\n",
       "      <th>root_var_mcc</th>\n",
       "      <th>root_var_hcc</th>\n",
       "      <th>root_var_lcc</th>\n",
       "    </tr>\n",
       "  </thead>\n",
       "  <tbody>\n",
       "    <tr>\n",
       "      <th>3167</th>\n",
       "      <td>-0.272748</td>\n",
       "      <td>2.510096</td>\n",
       "      <td>0.874823</td>\n",
       "      <td>1.015738</td>\n",
       "      <td>100152.036940</td>\n",
       "      <td>100507.301183</td>\n",
       "      <td>100333.089488</td>\n",
       "      <td>14818.723200</td>\n",
       "      <td>-2.004089</td>\n",
       "      <td>2.832616</td>\n",
       "      <td>...</td>\n",
       "      <td>0.000000</td>\n",
       "      <td>0.000000</td>\n",
       "      <td>0.000000</td>\n",
       "      <td>0.000000</td>\n",
       "      <td>7.450581e-09</td>\n",
       "      <td>0.155642</td>\n",
       "      <td>0.073069</td>\n",
       "      <td>0.008294</td>\n",
       "      <td>0.061901</td>\n",
       "      <td>0.000645</td>\n",
       "    </tr>\n",
       "    <tr>\n",
       "      <th>2919</th>\n",
       "      <td>0.483832</td>\n",
       "      <td>5.200783</td>\n",
       "      <td>2.233676</td>\n",
       "      <td>1.985802</td>\n",
       "      <td>100828.591223</td>\n",
       "      <td>101358.262010</td>\n",
       "      <td>101179.977261</td>\n",
       "      <td>27576.130235</td>\n",
       "      <td>1.917981</td>\n",
       "      <td>9.318708</td>\n",
       "      <td>...</td>\n",
       "      <td>0.223579</td>\n",
       "      <td>8.898324</td>\n",
       "      <td>2.526725</td>\n",
       "      <td>15.800202</td>\n",
       "      <td>7.450581e-09</td>\n",
       "      <td>0.812385</td>\n",
       "      <td>0.409875</td>\n",
       "      <td>0.212219</td>\n",
       "      <td>0.416814</td>\n",
       "      <td>0.186901</td>\n",
       "    </tr>\n",
       "    <tr>\n",
       "      <th>1838</th>\n",
       "      <td>1.753441</td>\n",
       "      <td>7.510138</td>\n",
       "      <td>5.326293</td>\n",
       "      <td>2.377492</td>\n",
       "      <td>98371.912643</td>\n",
       "      <td>99744.092963</td>\n",
       "      <td>99162.607525</td>\n",
       "      <td>258927.039519</td>\n",
       "      <td>5.149584</td>\n",
       "      <td>12.637049</td>\n",
       "      <td>...</td>\n",
       "      <td>0.651839</td>\n",
       "      <td>8.276192</td>\n",
       "      <td>3.621456</td>\n",
       "      <td>15.768006</td>\n",
       "      <td>1.986770e-01</td>\n",
       "      <td>0.920572</td>\n",
       "      <td>0.620143</td>\n",
       "      <td>0.208872</td>\n",
       "      <td>0.273264</td>\n",
       "      <td>0.223234</td>\n",
       "    </tr>\n",
       "    <tr>\n",
       "      <th>2747</th>\n",
       "      <td>0.953671</td>\n",
       "      <td>2.937279</td>\n",
       "      <td>2.031259</td>\n",
       "      <td>0.465723</td>\n",
       "      <td>99505.625607</td>\n",
       "      <td>99789.983491</td>\n",
       "      <td>99626.708006</td>\n",
       "      <td>7251.153258</td>\n",
       "      <td>1.499513</td>\n",
       "      <td>4.857103</td>\n",
       "      <td>...</td>\n",
       "      <td>0.499937</td>\n",
       "      <td>6.809985</td>\n",
       "      <td>3.942129</td>\n",
       "      <td>14.086402</td>\n",
       "      <td>3.622172e-01</td>\n",
       "      <td>0.988666</td>\n",
       "      <td>0.784629</td>\n",
       "      <td>0.217836</td>\n",
       "      <td>0.243765</td>\n",
       "      <td>0.288163</td>\n",
       "    </tr>\n",
       "    <tr>\n",
       "      <th>2737</th>\n",
       "      <td>-4.248023</td>\n",
       "      <td>-0.605339</td>\n",
       "      <td>-2.713991</td>\n",
       "      <td>1.378436</td>\n",
       "      <td>99236.620909</td>\n",
       "      <td>99504.724136</td>\n",
       "      <td>99362.136715</td>\n",
       "      <td>5665.743321</td>\n",
       "      <td>-7.993214</td>\n",
       "      <td>-3.103070</td>\n",
       "      <td>...</td>\n",
       "      <td>0.000000</td>\n",
       "      <td>0.000000</td>\n",
       "      <td>0.000000</td>\n",
       "      <td>0.000000</td>\n",
       "      <td>7.450581e-09</td>\n",
       "      <td>0.512974</td>\n",
       "      <td>0.179413</td>\n",
       "      <td>0.061811</td>\n",
       "      <td>0.000000</td>\n",
       "      <td>0.021502</td>\n",
       "    </tr>\n",
       "  </tbody>\n",
       "</table>\n",
       "<p>5 rows × 582 columns</p>\n",
       "</div>"
      ],
      "text/plain": [
       "      og_min_u10n  og_max_u10n  og_mean_u10n  og_var_u10n      og_min_sp  \\\n",
       "3167    -0.272748     2.510096      0.874823     1.015738  100152.036940   \n",
       "2919     0.483832     5.200783      2.233676     1.985802  100828.591223   \n",
       "1838     1.753441     7.510138      5.326293     2.377492   98371.912643   \n",
       "2747     0.953671     2.937279      2.031259     0.465723   99505.625607   \n",
       "2737    -4.248023    -0.605339     -2.713991     1.378436   99236.620909   \n",
       "\n",
       "          og_max_sp     og_mean_sp      og_var_sp  og_min_u100  og_max_u100  \\\n",
       "3167  100507.301183  100333.089488   14818.723200    -2.004089     2.832616   \n",
       "2919  101358.262010  101179.977261   27576.130235     1.917981     9.318708   \n",
       "1838   99744.092963   99162.607525  258927.039519     5.149584    12.637049   \n",
       "2747   99789.983491   99626.708006    7251.153258     1.499513     4.857103   \n",
       "2737   99504.724136   99362.136715    5665.743321    -7.993214    -3.103070   \n",
       "\n",
       "      ...  root_min_cape  root_max_cape  root_mean_cape  root_var_cape  \\\n",
       "3167  ...       0.000000       0.000000        0.000000       0.000000   \n",
       "2919  ...       0.223579       8.898324        2.526725      15.800202   \n",
       "1838  ...       0.651839       8.276192        3.621456      15.768006   \n",
       "2747  ...       0.499937       6.809985        3.942129      14.086402   \n",
       "2737  ...       0.000000       0.000000        0.000000       0.000000   \n",
       "\n",
       "      root_min_mcc  root_max_mcc  root_mean_mcc  root_var_mcc  root_var_hcc  \\\n",
       "3167  7.450581e-09      0.155642       0.073069      0.008294      0.061901   \n",
       "2919  7.450581e-09      0.812385       0.409875      0.212219      0.416814   \n",
       "1838  1.986770e-01      0.920572       0.620143      0.208872      0.273264   \n",
       "2747  3.622172e-01      0.988666       0.784629      0.217836      0.243765   \n",
       "2737  7.450581e-09      0.512974       0.179413      0.061811      0.000000   \n",
       "\n",
       "      root_var_lcc  \n",
       "3167      0.000645  \n",
       "2919      0.186901  \n",
       "1838      0.223234  \n",
       "2747      0.288163  \n",
       "2737      0.021502  \n",
       "\n",
       "[5 rows x 582 columns]"
      ]
     },
     "execution_count": 63,
     "metadata": {},
     "output_type": "execute_result"
    }
   ],
   "source": [
    "X_train.head()"
   ]
  },
  {
   "cell_type": "code",
   "execution_count": 65,
   "id": "fded91c1",
   "metadata": {},
   "outputs": [
    {
     "data": {
      "text/plain": [
       "Pipeline(steps=[('scaler', StandardScaler()),\n",
       "                ('sampling', RandomUnderSampler()),\n",
       "                ('estimator', LogisticRegression(C=0.01, solver='liblinear'))])"
      ]
     },
     "execution_count": 65,
     "metadata": {},
     "output_type": "execute_result"
    }
   ],
   "source": [
    "# logistic regression weights\n",
    "\n",
    "lr = LogisticRegression(C=0.01, penalty='l2', solver='liblinear')\n",
    "\n",
    "steps_lr = [('scaler', StandardScaler()),('sampling', RandomUnderSampler()), ('estimator', lr)]\n",
    "pipeline_lr = Pipeline(steps=steps_lr)\n",
    "\n",
    "pipeline_lr.fit(X_train, y_train)"
   ]
  },
  {
   "cell_type": "code",
   "execution_count": 97,
   "id": "bacd0797",
   "metadata": {},
   "outputs": [],
   "source": [
    "weights = pipeline_lr['estimator'].coef_"
   ]
  },
  {
   "cell_type": "code",
   "execution_count": 107,
   "id": "0f211992",
   "metadata": {},
   "outputs": [
    {
     "data": {
      "text/plain": [
       "array([[-1.03110397e-01, -1.01918592e-01, -8.94943054e-02,\n",
       "        -8.28844570e-02, -8.08291812e-02, -7.99053385e-02,\n",
       "        -7.54388036e-02, -7.39183163e-02, -7.30792805e-02,\n",
       "        -7.26725499e-02, -6.97744553e-02, -6.94019117e-02,\n",
       "        -6.82232870e-02, -6.76309436e-02, -6.67899274e-02,\n",
       "        -6.67183718e-02, -6.50749552e-02, -5.86738030e-02,\n",
       "        -5.73489642e-02, -5.71605374e-02, -5.52995670e-02,\n",
       "        -5.42289244e-02, -5.18928985e-02, -5.13520411e-02,\n",
       "        -5.12044141e-02, -5.11740548e-02, -5.07395886e-02,\n",
       "        -5.06329285e-02, -4.97136919e-02, -4.91500542e-02,\n",
       "        -4.90564863e-02, -4.87951769e-02, -4.86557925e-02,\n",
       "        -4.83741367e-02, -4.83230709e-02, -4.69334485e-02,\n",
       "        -4.67060764e-02, -4.66713805e-02, -4.63158658e-02,\n",
       "        -4.57483545e-02, -4.55784024e-02, -4.53674361e-02,\n",
       "        -4.52696040e-02, -4.52288567e-02, -4.45159187e-02,\n",
       "        -4.43443266e-02, -4.40905523e-02, -4.39266325e-02,\n",
       "        -4.35679339e-02, -4.32510207e-02, -4.30953879e-02,\n",
       "        -4.30588469e-02, -4.28364779e-02, -4.28133495e-02,\n",
       "        -4.25592244e-02, -4.24444223e-02, -4.22984527e-02,\n",
       "        -4.21826130e-02, -4.17759502e-02, -4.15110214e-02,\n",
       "        -3.94803979e-02, -3.94617647e-02, -3.87745225e-02,\n",
       "        -3.78196667e-02, -3.76377472e-02, -3.75656705e-02,\n",
       "        -3.62041029e-02, -3.61042795e-02, -3.56658863e-02,\n",
       "        -3.54353286e-02, -3.53011487e-02, -3.49270457e-02,\n",
       "        -3.46484600e-02, -3.45948369e-02, -3.45478966e-02,\n",
       "        -3.39059428e-02, -3.38753182e-02, -3.38458302e-02,\n",
       "        -3.38200264e-02, -3.35163354e-02, -3.34443208e-02,\n",
       "        -3.33108787e-02, -3.31570976e-02, -3.29986730e-02,\n",
       "        -3.28702041e-02, -3.27827522e-02, -3.27659520e-02,\n",
       "        -3.24084949e-02, -3.23907931e-02, -3.21287650e-02,\n",
       "        -3.20156926e-02, -3.12196844e-02, -3.12025947e-02,\n",
       "        -3.10160098e-02, -3.08017097e-02, -3.06874636e-02,\n",
       "        -3.01247774e-02, -2.98951794e-02, -2.98845272e-02,\n",
       "        -2.98393468e-02, -2.97868965e-02, -2.96224307e-02,\n",
       "        -2.94366518e-02, -2.86138421e-02, -2.80835499e-02,\n",
       "        -2.77458132e-02, -2.76844620e-02, -2.70698004e-02,\n",
       "        -2.69844995e-02, -2.67379347e-02, -2.64927295e-02,\n",
       "        -2.64525122e-02, -2.63453863e-02, -2.61222050e-02,\n",
       "        -2.60760918e-02, -2.59700964e-02, -2.58623297e-02,\n",
       "        -2.55244684e-02, -2.55176587e-02, -2.54071614e-02,\n",
       "        -2.53056203e-02, -2.51182067e-02, -2.50807995e-02,\n",
       "        -2.49080930e-02, -2.48725261e-02, -2.48299465e-02,\n",
       "        -2.45482951e-02, -2.44621703e-02, -2.43604864e-02,\n",
       "        -2.42252499e-02, -2.41358930e-02, -2.41338431e-02,\n",
       "        -2.40717770e-02, -2.38108022e-02, -2.34824823e-02,\n",
       "        -2.32312878e-02, -2.32022982e-02, -2.31118922e-02,\n",
       "        -2.29315834e-02, -2.28472437e-02, -2.27182249e-02,\n",
       "        -2.27174767e-02, -2.25036710e-02, -2.23599361e-02,\n",
       "        -2.22210697e-02, -2.22085199e-02, -2.20961458e-02,\n",
       "        -2.20808830e-02, -2.16901998e-02, -2.16763558e-02,\n",
       "        -2.11590954e-02, -2.09470207e-02, -2.07998217e-02,\n",
       "        -2.06118654e-02, -2.06095436e-02, -2.02006118e-02,\n",
       "        -1.97855806e-02, -1.97132692e-02, -1.96398882e-02,\n",
       "        -1.95383499e-02, -1.95341576e-02, -1.89296729e-02,\n",
       "        -1.88401116e-02, -1.86481668e-02, -1.85434418e-02,\n",
       "        -1.84512303e-02, -1.84449447e-02, -1.84298609e-02,\n",
       "        -1.84224199e-02, -1.82903162e-02, -1.81725553e-02,\n",
       "        -1.78244698e-02, -1.76989745e-02, -1.76277245e-02,\n",
       "        -1.74787493e-02, -1.72694036e-02, -1.71643296e-02,\n",
       "        -1.66582390e-02, -1.66126756e-02, -1.63573868e-02,\n",
       "        -1.57203429e-02, -1.56360252e-02, -1.56268406e-02,\n",
       "        -1.54509555e-02, -1.54139206e-02, -1.53583390e-02,\n",
       "        -1.53431997e-02, -1.52680659e-02, -1.51880906e-02,\n",
       "        -1.51045429e-02, -1.48811675e-02, -1.47947029e-02,\n",
       "        -1.42792230e-02, -1.40910064e-02, -1.40071359e-02,\n",
       "        -1.39369219e-02, -1.37217188e-02, -1.36525755e-02,\n",
       "        -1.34173472e-02, -1.31021040e-02, -1.28375369e-02,\n",
       "        -1.28366031e-02, -1.28323487e-02, -1.28294254e-02,\n",
       "        -1.28056075e-02, -1.21650455e-02, -1.20840339e-02,\n",
       "        -1.19987586e-02, -1.18742285e-02, -1.18154077e-02,\n",
       "        -1.14051603e-02, -1.12117443e-02, -1.09706506e-02,\n",
       "        -1.06412565e-02, -1.06001630e-02, -1.05252596e-02,\n",
       "        -1.05171096e-02, -1.04686576e-02, -1.04315061e-02,\n",
       "        -1.03945460e-02, -1.01256596e-02, -9.88463393e-03,\n",
       "        -9.67255329e-03, -9.51297915e-03, -9.40760758e-03,\n",
       "        -9.05205261e-03, -9.02995993e-03, -8.80014589e-03,\n",
       "        -8.76813638e-03, -8.75503090e-03, -8.70620476e-03,\n",
       "        -8.68134633e-03, -8.36453475e-03, -8.35830272e-03,\n",
       "        -8.18231946e-03, -7.76952855e-03, -7.74905074e-03,\n",
       "        -7.64408726e-03, -7.63154567e-03, -7.52252134e-03,\n",
       "        -6.96406408e-03, -6.92754087e-03, -6.91008417e-03,\n",
       "        -6.71040532e-03, -6.60645479e-03, -6.58329632e-03,\n",
       "        -6.42277862e-03, -6.36755172e-03, -6.34111529e-03,\n",
       "        -5.57390020e-03, -5.53212241e-03, -5.52314760e-03,\n",
       "        -5.47411321e-03, -5.35326619e-03, -4.96735417e-03,\n",
       "        -4.86889149e-03, -4.43400052e-03, -4.40853928e-03,\n",
       "        -4.20923041e-03, -3.55803429e-03, -3.39030450e-03,\n",
       "        -3.31817785e-03, -3.11842748e-03, -3.08469585e-03,\n",
       "        -3.05970437e-03, -3.03093054e-03, -2.88927479e-03,\n",
       "        -2.85740156e-03, -2.84963241e-03, -2.70179118e-03,\n",
       "        -2.68383778e-03, -2.67318593e-03, -2.54874736e-03,\n",
       "        -2.33700437e-03, -2.26911221e-03, -2.24302157e-03,\n",
       "        -2.21976082e-03, -2.16745875e-03, -1.76460611e-03,\n",
       "        -1.72395231e-03, -1.38780633e-03, -1.28877384e-03,\n",
       "        -1.28156699e-03, -1.27924632e-03, -1.15688182e-03,\n",
       "        -1.00854184e-03, -1.00628642e-03, -9.66144065e-04,\n",
       "        -8.29061354e-04, -7.93937490e-04, -7.91537471e-04,\n",
       "        -6.19354927e-04, -5.16057970e-04, -3.79767174e-04,\n",
       "        -3.77594029e-04,  5.69155549e-05,  6.27894622e-04,\n",
       "         7.31229331e-04,  8.79003028e-04,  9.65602802e-04,\n",
       "         1.05865514e-03,  1.20810831e-03,  1.54794712e-03,\n",
       "         1.55308741e-03,  1.97296203e-03,  1.97451745e-03,\n",
       "         2.43291614e-03,  2.65016414e-03,  2.65183212e-03,\n",
       "         2.73374871e-03,  3.11681645e-03,  3.18309808e-03,\n",
       "         3.65255180e-03,  3.65429959e-03,  3.81670378e-03,\n",
       "         4.10276232e-03,  4.11084953e-03,  4.13075263e-03,\n",
       "         4.13367480e-03,  4.32456139e-03,  4.35020034e-03,\n",
       "         4.35394155e-03,  4.66900037e-03,  4.67445053e-03,\n",
       "         4.68859638e-03,  5.08413189e-03,  5.13486717e-03,\n",
       "         5.15569543e-03,  5.40906848e-03,  5.81765637e-03,\n",
       "         5.82643490e-03,  6.03071184e-03,  6.18435906e-03,\n",
       "         6.36314335e-03,  6.42319546e-03,  6.44351088e-03,\n",
       "         6.55568955e-03,  6.62692838e-03,  6.63582409e-03,\n",
       "         6.63761948e-03,  6.65530550e-03,  7.19167649e-03,\n",
       "         7.20054550e-03,  7.31194600e-03,  7.37239998e-03,\n",
       "         7.43166676e-03,  7.54198817e-03,  7.54428841e-03,\n",
       "         7.55251431e-03,  7.85977227e-03,  7.89979625e-03,\n",
       "         8.50385577e-03,  8.53091045e-03,  9.11962022e-03,\n",
       "         9.16451080e-03,  9.16640772e-03,  9.31103117e-03,\n",
       "         9.32608530e-03,  9.55264771e-03,  9.59554098e-03,\n",
       "         9.76381287e-03,  9.80311135e-03,  9.94884656e-03,\n",
       "         9.96139428e-03,  1.00413585e-02,  1.00798707e-02,\n",
       "         1.01599695e-02,  1.03920590e-02,  1.03926239e-02,\n",
       "         1.04105318e-02,  1.04613341e-02,  1.04943842e-02,\n",
       "         1.06001423e-02,  1.06970334e-02,  1.08464798e-02,\n",
       "         1.09394182e-02,  1.12740347e-02,  1.12780316e-02,\n",
       "         1.13093413e-02,  1.14870589e-02,  1.15091657e-02,\n",
       "         1.17981325e-02,  1.17998955e-02,  1.24637879e-02,\n",
       "         1.24878510e-02,  1.27477288e-02,  1.28778789e-02,\n",
       "         1.29156994e-02,  1.35136313e-02,  1.39153444e-02,\n",
       "         1.39700315e-02,  1.42231632e-02,  1.42668531e-02,\n",
       "         1.42956853e-02,  1.44260563e-02,  1.46984453e-02,\n",
       "         1.48820454e-02,  1.50872935e-02,  1.51406822e-02,\n",
       "         1.53218091e-02,  1.53361190e-02,  1.53867650e-02,\n",
       "         1.55975458e-02,  1.56902681e-02,  1.57228172e-02,\n",
       "         1.57866342e-02,  1.57888589e-02,  1.57938998e-02,\n",
       "         1.60531002e-02,  1.61257089e-02,  1.62859643e-02,\n",
       "         1.64336737e-02,  1.65753451e-02,  1.67476846e-02,\n",
       "         1.70337595e-02,  1.70996685e-02,  1.72168618e-02,\n",
       "         1.73436080e-02,  1.73706518e-02,  1.73968211e-02,\n",
       "         1.75382342e-02,  1.76424343e-02,  1.82018325e-02,\n",
       "         1.86292556e-02,  1.86501278e-02,  1.87016062e-02,\n",
       "         1.88429459e-02,  1.88803501e-02,  1.90379207e-02,\n",
       "         1.90644871e-02,  1.93492291e-02,  1.97340851e-02,\n",
       "         1.97697733e-02,  1.98540388e-02,  1.99206240e-02,\n",
       "         1.99695617e-02,  2.01086044e-02,  2.02762510e-02,\n",
       "         2.04370065e-02,  2.04631646e-02,  2.05143305e-02,\n",
       "         2.06727593e-02,  2.07079298e-02,  2.08856603e-02,\n",
       "         2.08925527e-02,  2.09872937e-02,  2.10438231e-02,\n",
       "         2.12190515e-02,  2.12799221e-02,  2.14175658e-02,\n",
       "         2.14462075e-02,  2.15111625e-02,  2.15846874e-02,\n",
       "         2.16329201e-02,  2.16886990e-02,  2.20815792e-02,\n",
       "         2.21311412e-02,  2.23244773e-02,  2.23541262e-02,\n",
       "         2.26566903e-02,  2.29282014e-02,  2.29754125e-02,\n",
       "         2.32661278e-02,  2.33511233e-02,  2.34498436e-02,\n",
       "         2.37323501e-02,  2.39870583e-02,  2.39912238e-02,\n",
       "         2.47059075e-02,  2.53270346e-02,  2.53469019e-02,\n",
       "         2.56421742e-02,  2.57756026e-02,  2.59537830e-02,\n",
       "         2.61344211e-02,  2.61711554e-02,  2.66257433e-02,\n",
       "         2.73543797e-02,  2.77617378e-02,  2.78526041e-02,\n",
       "         2.79249521e-02,  2.83212414e-02,  2.85297096e-02,\n",
       "         2.89605184e-02,  2.89758511e-02,  2.91938382e-02,\n",
       "         2.92950085e-02,  2.94374634e-02,  2.94595053e-02,\n",
       "         2.98426849e-02,  3.10266146e-02,  3.12499790e-02,\n",
       "         3.13712017e-02,  3.18505879e-02,  3.21204570e-02,\n",
       "         3.22290376e-02,  3.31514165e-02,  3.37817736e-02,\n",
       "         3.44464806e-02,  3.45649269e-02,  3.47210840e-02,\n",
       "         3.49263203e-02,  3.55309316e-02,  3.61678680e-02,\n",
       "         3.66391177e-02,  3.71389304e-02,  3.72265787e-02,\n",
       "         3.74519077e-02,  3.75468774e-02,  3.76330346e-02,\n",
       "         3.77676147e-02,  3.78651239e-02,  3.80926619e-02,\n",
       "         3.81478348e-02,  3.89022444e-02,  3.93734868e-02,\n",
       "         3.95586650e-02,  3.96831221e-02,  3.98508496e-02,\n",
       "         4.03876596e-02,  4.06856740e-02,  4.08237054e-02,\n",
       "         4.08316760e-02,  4.11501397e-02,  4.15063115e-02,\n",
       "         4.15771869e-02,  4.17226023e-02,  4.21144930e-02,\n",
       "         4.26672270e-02,  4.31432817e-02,  4.38061010e-02,\n",
       "         4.41712195e-02,  4.43193612e-02,  4.43212686e-02,\n",
       "         4.57512058e-02,  4.59436014e-02,  4.66395734e-02,\n",
       "         4.72014102e-02,  4.74658905e-02,  4.83025446e-02,\n",
       "         4.84328759e-02,  4.85149029e-02,  5.03773770e-02,\n",
       "         5.08780255e-02,  5.14653095e-02,  5.21784203e-02,\n",
       "         5.30448765e-02,  5.39088885e-02,  5.66746196e-02,\n",
       "         5.66856569e-02,  5.95681436e-02,  6.26278146e-02,\n",
       "         6.43044503e-02,  6.43195729e-02,  6.54321277e-02,\n",
       "         6.84114641e-02,  6.84575407e-02,  6.90399449e-02,\n",
       "         7.18218180e-02,  7.19603754e-02,  7.26961274e-02,\n",
       "         7.40038785e-02,  7.45899572e-02,  7.61159433e-02,\n",
       "         7.67313522e-02,  7.99480798e-02,  8.42772865e-02,\n",
       "         8.78754050e-02,  9.51246522e-02,  1.03946658e-01,\n",
       "         1.06413776e-01,  1.15850748e-01,  1.15864748e-01,\n",
       "         1.16580292e-01,  1.25959764e-01,  1.28110717e-01,\n",
       "         1.28155807e-01,  1.43285345e-01,  1.44936879e-01,\n",
       "         1.50001591e-01,  1.52867643e-01,  1.57087518e-01]])"
      ]
     },
     "execution_count": 107,
     "metadata": {},
     "output_type": "execute_result"
    }
   ],
   "source": [
    "weights"
   ]
  },
  {
   "cell_type": "code",
   "execution_count": null,
   "id": "0c387abf",
   "metadata": {},
   "outputs": [],
   "source": []
  },
  {
   "cell_type": "markdown",
   "id": "77a2deba",
   "metadata": {},
   "source": [
    "# Experiments with the MLPClassifier"
   ]
  },
  {
   "cell_type": "code",
   "execution_count": 149,
   "id": "231cc68f",
   "metadata": {},
   "outputs": [],
   "source": [
    "from sklearn.neural_network import MLPClassifier\n",
    "\n",
    "param_grid = {\n",
    "    'hidden_layer_sizes': [\n",
    "        [300, 200, 100, 50, 10],\n",
    "        [20, 20], \n",
    "        [50, 50],\n",
    "        [100, 100],\n",
    "        [200, 200],\n",
    "        [50, 50, 50],\n",
    "        [100, 100, 100],\n",
    "        [1000],\n",
    "        [500, 500]\n",
    "    ],\n",
    "    'activation': ['logistic', 'tanh', 'relu'],\n",
    "    'alpha': [1e-5, 1e-4, 1e-3, 1e-2, 1, 2, 5],\n",
    "    'learning_rate_init': [1e-4, 1e-3, 1e-2, 5e-2]\n",
    "}\n",
    "\n",
    "# Create a based model\n",
    "mlp = MLPClassifier()\n",
    "# Instantiate the grid search model\n",
    "grid_search = HalvingGridSearchCV(estimator = mlp, param_grid = param_grid,\n",
    "                          cv = 5, n_jobs = -1, verbose = 2, random_state=1804)"
   ]
  },
  {
   "cell_type": "code",
   "execution_count": 150,
   "id": "b56e84a6",
   "metadata": {},
   "outputs": [
    {
     "name": "stdout",
     "output_type": "stream",
     "text": [
      "n_iterations: 5\n",
      "n_required_iterations: 7\n",
      "n_possible_iterations: 5\n",
      "min_resources_: 20\n",
      "max_resources_: 3030\n",
      "aggressive_elimination: False\n",
      "factor: 3\n",
      "----------\n",
      "iter: 0\n",
      "n_candidates: 756\n",
      "n_resources: 20\n",
      "Fitting 5 folds for each of 756 candidates, totalling 3780 fits\n",
      "----------\n",
      "iter: 1\n",
      "n_candidates: 252\n",
      "n_resources: 60\n",
      "Fitting 5 folds for each of 252 candidates, totalling 1260 fits\n",
      "----------\n",
      "iter: 2\n",
      "n_candidates: 84\n",
      "n_resources: 180\n",
      "Fitting 5 folds for each of 84 candidates, totalling 420 fits\n",
      "----------\n",
      "iter: 3\n",
      "n_candidates: 28\n",
      "n_resources: 540\n",
      "Fitting 5 folds for each of 28 candidates, totalling 140 fits\n",
      "----------\n",
      "iter: 4\n",
      "n_candidates: 10\n",
      "n_resources: 1620\n",
      "Fitting 5 folds for each of 10 candidates, totalling 50 fits\n",
      "Pipeline(steps=[('over', RandomOverSampler()),\n",
      "                ('f_selection', SelectKBest(k=100)),\n",
      "                ('estimator',\n",
      "                 HalvingGridSearchCV(estimator=MLPClassifier(), n_jobs=-1,\n",
      "                                     param_grid={'activation': ['logistic',\n",
      "                                                                'tanh',\n",
      "                                                                'relu'],\n",
      "                                                 'alpha': [1e-05, 0.0001, 0.001,\n",
      "                                                           0.01, 1, 2, 5],\n",
      "                                                 'hidden_layer_sizes': [[300,\n",
      "                                                                         200,\n",
      "                                                                         100,\n",
      "                                                                         50,\n",
      "                                                                         10],\n",
      "                                                                        [20,\n",
      "                                                                         20],\n",
      "                                                                        [50,\n",
      "                                                                         50],\n",
      "                                                                        [100,\n",
      "                                                                         100],\n",
      "                                                                        [200,\n",
      "                                                                         200],\n",
      "                                                                        [50, 50,\n",
      "                                                                         50],\n",
      "                                                                        [100,\n",
      "                                                                         100,\n",
      "                                                                         100],\n",
      "                                                                        [1000],\n",
      "                                                                        [500,\n",
      "                                                                         500]],\n",
      "                                                 'learning_rate_init': [0.0001,\n",
      "                                                                        0.001,\n",
      "                                                                        0.01,\n",
      "                                                                        0.05]},\n",
      "                                     random_state=1804,\n",
      "                                     refit=<function _refit_callable at 0x000002022A78B0D0>,\n",
      "                                     verbose=2))])\n"
     ]
    },
    {
     "name": "stderr",
     "output_type": "stream",
     "text": [
      "C:\\ProgramData\\Anaconda3\\lib\\site-packages\\sklearn\\neural_network\\_multilayer_perceptron.py:614: ConvergenceWarning: Stochastic Optimizer: Maximum iterations (200) reached and the optimization hasn't converged yet.\n",
      "  warnings.warn(\n"
     ]
    }
   ],
   "source": [
    "# use randomoversampler \n",
    "steps_mlp = [('over', RandomOverSampler()),('f_selection', SelectKBest(f_classif, k=100)), ('estimator', grid_search)]\n",
    "pipeline_mlp = Pipeline(steps=steps_mlp)\n",
    "#fit the model\n",
    "mlp_hyperparameter = pipeline_mlp.fit(X_train, y_train)\n",
    "print(mlp_hyperparameter)"
   ]
  },
  {
   "cell_type": "code",
   "execution_count": 151,
   "id": "bdba3978",
   "metadata": {},
   "outputs": [
    {
     "name": "stdout",
     "output_type": "stream",
     "text": [
      "Best Score:0.5746913580246915\n",
      "Best Parameters: {'activation': 'tanh', 'alpha': 2, 'hidden_layer_sizes': [300, 200, 100, 50, 10], 'learning_rate_init': 0.0001}\n"
     ]
    }
   ],
   "source": [
    "# print('Best parameter set: %s' % grid_search.best_params_)\n",
    "print(\"Best Score:\" + str(grid_search.best_score_))\n",
    "print(\"Best Parameters: \" + str(grid_search.best_params_))\n",
    "best_parameters = grid_search.best_params_"
   ]
  },
  {
   "cell_type": "code",
   "execution_count": 77,
   "id": "99189cdb",
   "metadata": {},
   "outputs": [],
   "source": [
    "grid_search.scoring"
   ]
  },
  {
   "cell_type": "code",
   "execution_count": null,
   "id": "af67bdaa",
   "metadata": {},
   "outputs": [],
   "source": []
  }
 ],
 "metadata": {
  "kernelspec": {
   "display_name": "Python 3",
   "language": "python",
   "name": "python3"
  },
  "language_info": {
   "codemirror_mode": {
    "name": "ipython",
    "version": 3
   },
   "file_extension": ".py",
   "mimetype": "text/x-python",
   "name": "python",
   "nbconvert_exporter": "python",
   "pygments_lexer": "ipython3",
   "version": "3.8.8"
  }
 },
 "nbformat": 4,
 "nbformat_minor": 5
}
