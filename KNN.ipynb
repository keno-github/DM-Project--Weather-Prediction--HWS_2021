{
 "cells": [
  {
   "cell_type": "code",
   "execution_count": 1,
   "id": "3b9ff1d2",
   "metadata": {},
   "outputs": [],
   "source": [
    "import numpy as np\n",
    "import pandas as pd \n",
    "from sklearn.model_selection import StratifiedKFold\n",
    "import pandas as pd\n",
    "import matplotlib.pyplot as plt\n",
    "import scipy.special as special\n",
    "import matplotlib.pyplot as plt\n",
    "from sklearn.metrics import confusion_matrix\n",
    "import matplotlib.pyplot as plt\n",
    "import seaborn as sns\n",
    "from sklearn.neighbors import KNeighborsClassifier\n",
    "from sklearn.model_selection import train_test_split, cross_val_score\n",
    "from sklearn.metrics import f1_score\n",
    "from sklearn.metrics import accuracy_score\n",
    "from sklearn import metrics\n",
    "from sklearn.model_selection import train_test_split\n",
    "import matplotlib.pyplot as plt\n",
    "from sklearn.model_selection import StratifiedKFold\n",
    "from sklearn.linear_model import LinearRegression\n",
    "import seaborn as sns\n",
    "import re\n",
    "import sklearn\n",
    "from sklearn.preprocessing import PolynomialFeatures\n",
    "from sklearn.preprocessing import scale\n",
    "from sklearn.feature_selection import RFE\n",
    "from sklearn.model_selection import KFold\n",
    "from sklearn.model_selection import GridSearchCV\n",
    "from sklearn.pipeline import make_pipeline\n",
    "from sklearn.model_selection import cross_val_predict\n",
    "from sklearn.metrics import classification_report, confusion_matrix, accuracy_score\n",
    "\n",
    "#t-1 and t-2 values\n",
    "data_1 = pd.read_csv(r'D:\\user\\OneDrive\\Desktop\\data_mining\\thunderstorm-1.csv').drop(['Var_tot_tot_indx',\n",
    "                                                                                                    'binary_thunderstorm',\n",
    "                                                                                                    'binary_severe_thunderstorm','Totals_idx_cat'],axis=1)\n",
    "data_1=data_1.dropna()\n",
    "\n",
    "features_1=data_1.drop('target+1',axis=1)\n",
    "target_1=data_1['target+1']\n",
    "\n",
    "\n",
    "#manual train test split\n",
    "features_train_1 = pd.read_csv(r'D:\\user\\OneDrive\\Desktop\\data_mining\\thunderstorm_final_train.csv').drop(['Unnamed: 0','Var_tot_tot_indx',\n",
    "                                                                                                    'binary_thunderstorm',\n",
    "                                                                                                    'binary_severe_thunderstorm','Totals_idx_cat'],axis=1)\n",
    "\n",
    "features_train_1=features_train_1.dropna()\n",
    "target_train_1=features_train_1['target+1']\n",
    "features_train_1=features_train_1.drop('target+1',axis=1)\n",
    "\n",
    "features_test_1=pd.read_csv(r'D:\\user\\OneDrive\\Desktop\\data_mining\\test_final_thunderstorm.csv').drop(['Unnamed: 0','Var_tot_tot_indx',\n",
    "                                                                                                    'binary_thunderstorm',\n",
    "                                                                                                    'binary_severe_thunderstorm','Totals_idx_cat'],axis=1)\n",
    "features_test_1=features_test_1.dropna()\n",
    "target_test_1=features_test_1['target+1']\n",
    "features_test_1=features_test_1.drop('target+1',axis=1)\n",
    "\n",
    "\n",
    "#all features \n",
    "all_f = pd.read_csv(r'D:\\user\\OneDrive\\Desktop\\data_mining\\final_data_for_classification.csv').drop(['Unnamed: 0','Var_tot_tot_indx',\n",
    "                                                                                                    'binary_thunderstorm',\n",
    "                                                                                                    'binary_severe_thunderstorm','Totals_idx_cat'],axis=1)\n",
    "all_f=all_f.dropna()\n",
    "all_f_features=all_f.drop('target+1',axis=1)\n",
    "all_f_target=all_f['target+1']\n",
    "\n",
    "\n",
    "\n",
    "#highest covariance approach\n",
    "features_cov = pd.DataFrame()\n",
    "features_cov['var_Convective_inhibition']=all_f['var_Convective_inhibition']\n",
    "features_cov['mean_surface_upward_sensible_heat_flux']=all_f['mean_surface_upward_sensible_heat_flux']\n",
    "features_cov ['var_surface_air_pressure'] =all_f['var_surface_air_pressure']\n",
    "features_cov['mean_Cloud_base_height']=all_f['mean_Cloud_base_height']\n",
    "features_cov['mean_Convective_inhibition']=all_f['mean_Convective_inhibition']\n",
    "features_cov['mean_Zero_degree_level']=all_f['mean_Zero_degree_level']\n",
    "features_cov['var_V_component_stokes_drift']=all_f['var_V_component_stokes_drift']\n",
    "features_cov['var_U_component_stokes_drift']=all_f['var_U_component_stokes_drift']\n",
    "features_cov['mean_U_component_stokes_drift']=all_f['mean_U_component_stokes_drift']\n",
    "features_cov['mean_V_component_stokes_drift']=all_f['mean_V_component_stokes_drift']\n",
    "features_cov['var_Convective_available_potential_energy']=all_f['var_Convective_available_potential_energy']\n",
    "features_cov['var_Zero_degree_level']=all_f['var_Zero_degree_level']\n",
    "features_cov['var_Instantaneous_surface_sensible_heat_flux']=all_f['var_Instantaneous_surface_sensible_heat_flux']\n",
    "features_cov['mean_surface_air_pressure']=all_f['mean_surface_air_pressure']\n",
    "features_cov['var_Cloud_base_height']=all_f['var_Cloud_base_height']\n",
    "features_cov['var_surface_upward_sensible_heat_flux']=all_f['var_surface_upward_sensible_heat_flux']\n",
    "\n",
    "target_cov=all_f_target.copy()\n"
   ]
  },
  {
   "cell_type": "markdown",
   "id": "e0c5114c",
   "metadata": {},
   "source": [
    "<h3> Create a train test split </h3>"
   ]
  },
  {
   "cell_type": "code",
   "execution_count": 2,
   "id": "11968e87",
   "metadata": {},
   "outputs": [],
   "source": [
    "#t-1 and t-2 values\n",
    "x_train_1, x_test_1, y_train_1, y_test_1 = train_test_split(features_1, target_1, test_size=0.2, random_state=42)\n"
   ]
  },
  {
   "cell_type": "code",
   "execution_count": 3,
   "id": "f35c6e4c",
   "metadata": {},
   "outputs": [],
   "source": [
    "#all features \n",
    "x_train_all, x_test_all, y_train_all, y_test_all = train_test_split(all_f_features, all_f_target, test_size=0.2, random_state=42)"
   ]
  },
  {
   "cell_type": "code",
   "execution_count": 4,
   "id": "093d5103",
   "metadata": {},
   "outputs": [],
   "source": [
    "#highest covariance approach\n",
    "x_train_cov, x_test_cov, y_train_cov, y_test_cov = train_test_split(features_cov, target_cov, test_size=0.2, random_state=42)"
   ]
  },
  {
   "cell_type": "markdown",
   "id": "287e25d1",
   "metadata": {},
   "source": [
    "<h3>Lets check if we need to balance out data </h3>\n"
   ]
  },
  {
   "cell_type": "code",
   "execution_count": 5,
   "id": "d875bf86",
   "metadata": {},
   "outputs": [
    {
     "data": {
      "text/plain": [
       "0.0    1713\n",
       "1.0    1208\n",
       "Name: target+1, dtype: int64"
      ]
     },
     "execution_count": 5,
     "metadata": {},
     "output_type": "execute_result"
    }
   ],
   "source": [
    "y_train_1.value_counts()\n",
    "\n"
   ]
  },
  {
   "cell_type": "code",
   "execution_count": 6,
   "id": "a2db027b",
   "metadata": {},
   "outputs": [],
   "source": [
    "import itertools\n",
    "def plot_confusion_matrix(cm, classes,\n",
    "                          normalize=False,\n",
    "                          title='Confusion matrix',\n",
    "                          cmap=plt.cm.Blues):\n",
    "    \"\"\"\n",
    "    This function prints and plots the confusion matrix.\n",
    "    Normalization can be applied by setting `normalize=True`.\n",
    "    \"\"\"\n",
    "    if normalize:\n",
    "        cm = cm.astype('float') / cm.sum(axis=1)[:, np.newaxis]\n",
    "\n",
    "    plt.imshow(cm, interpolation='nearest', cmap=cmap)\n",
    "    plt.title(title)\n",
    "    plt.colorbar()\n",
    "    tick_marks = np.arange(len(classes))\n",
    "    plt.xticks(tick_marks, classes, rotation=45)\n",
    "    plt.yticks(tick_marks, classes)\n",
    "\n",
    "    fmt = '.2f' if normalize else 'd'\n",
    "    thresh = cm.max() / 2.\n",
    "    for i, j in itertools.product(range(cm.shape[0]), range(cm.shape[1])):\n",
    "        plt.text(j, i, format(cm[i, j], fmt),\n",
    "                 horizontalalignment=\"center\",\n",
    "                 color=\"white\" if cm[i, j] > thresh else \"black\")\n",
    "\n",
    "    plt.ylabel('True label')\n",
    "    plt.xlabel('Predicted label')\n",
    "    plt.tight_layout()"
   ]
  },
  {
   "cell_type": "code",
   "execution_count": 7,
   "id": "f864d917",
   "metadata": {},
   "outputs": [
    {
     "name": "stdout",
     "output_type": "stream",
     "text": [
      "T-1 and T-2\n",
      "              precision    recall  f1-score   support\n",
      "\n",
      "         0.0       0.60      0.70      0.64      1713\n",
      "         1.0       0.43      0.33      0.37      1208\n",
      "\n",
      "    accuracy                           0.54      2921\n",
      "   macro avg       0.51      0.51      0.51      2921\n",
      "weighted avg       0.53      0.54      0.53      2921\n",
      "\n",
      "\n",
      "All features\n",
      "              precision    recall  f1-score   support\n",
      "\n",
      "           0       0.60      0.72      0.66      1714\n",
      "           1       0.45      0.33      0.38      1208\n",
      "\n",
      "    accuracy                           0.56      2922\n",
      "   macro avg       0.53      0.52      0.52      2922\n",
      "weighted avg       0.54      0.56      0.54      2922\n",
      "\n",
      "\n",
      "Covariance based selection\n",
      "              precision    recall  f1-score   support\n",
      "\n",
      "           0       0.60      0.72      0.66      1714\n",
      "           1       0.45      0.33      0.38      1208\n",
      "\n",
      "    accuracy                           0.56      2922\n",
      "   macro avg       0.53      0.52      0.52      2922\n",
      "weighted avg       0.54      0.56      0.54      2922\n",
      "\n",
      "\n",
      "Manual train test split\n",
      "              precision    recall  f1-score   support\n",
      "\n",
      "           0       0.60      0.69      0.64      1721\n",
      "           1       0.43      0.33      0.38      1201\n",
      "\n",
      "    accuracy                           0.55      2922\n",
      "   macro avg       0.52      0.51      0.51      2922\n",
      "weighted avg       0.53      0.55      0.53      2922\n",
      "\n",
      "\n"
     ]
    },
    {
     "data": {
      "image/png": "[encoded data removed]",
      "text/plain": [
       "<Figure size 720x360 with 8 Axes>"
      ]
     },
     "metadata": {
      "needs_background": "light"
     },
     "output_type": "display_data"
    }
   ],
   "source": [
    "#As we can see we do not need to balance our data\n",
    "#By using cross validation lets check which approach works the best\n",
    "train_features=[x_train_1,x_train_all,x_train_cov,features_train_1]\n",
    "train_target=[y_train_1,y_train_all,y_train_cov,target_train_1]\n",
    "approaches=['T-1 and T-2','All features','Covariance based selection','Manual train test split']\n",
    "cv = StratifiedKFold(n_splits=10, shuffle=True, random_state=42)\n",
    "plt.figure(figsize=(10,5))\n",
    "\n",
    "classes = y_train_1.unique()\n",
    "\n",
    "# KNN\n",
    "for i in range(len(train_features)):\n",
    "    plt.subplot(1,4,i+1)\n",
    "    estimator=KNeighborsClassifier(9)\n",
    "    prediction = cross_val_predict(estimator, train_features[i], train_target[i], cv=cv)\n",
    "    cnf_matrix = confusion_matrix( train_target[i], prediction, labels=classes)\n",
    "    np.set_printoptions(precision=2)\n",
    "    plot_confusion_matrix(cnf_matrix, classes=classes, title=approaches[i])\n",
    "    rep_knn = classification_report( train_target[i], prediction)\n",
    "    print(approaches[i])\n",
    "    print(rep_knn)\n",
    "    print()\n"
   ]
  },
  {
   "cell_type": "markdown",
   "id": "eab19804",
   "metadata": {},
   "source": [
    "<h3> As we can see the All features approaches and Covariance based selection work the same </h3>\n",
    "<h3>By testing the All features approach works better for the following steps </h3>"
   ]
  },
  {
   "cell_type": "code",
   "execution_count": 8,
   "id": "18e3f620",
   "metadata": {},
   "outputs": [],
   "source": [
    "#Lets try to preprocess the values\n",
    "from sklearn.preprocessing import StandardScaler\n",
    "from sklearn.preprocessing import MinMaxScaler\n",
    "\n",
    "stScaler=StandardScaler()\n",
    "min_max_Scaler=MinMaxScaler()"
   ]
  },
  {
   "cell_type": "code",
   "execution_count": 9,
   "id": "323ed313",
   "metadata": {},
   "outputs": [],
   "source": [
    "x_train_all=stScaler.fit_transform(x_train_all)\n",
    "x_test_all=stScaler.transform(x_test_all)"
   ]
  },
  {
   "cell_type": "code",
   "execution_count": 10,
   "id": "3582c978",
   "metadata": {},
   "outputs": [
    {
     "name": "stdout",
     "output_type": "stream",
     "text": [
      "All features preprocessed\n",
      "              precision    recall  f1-score   support\n",
      "\n",
      "           0       0.72      0.73      0.73      1714\n",
      "           1       0.61      0.60      0.61      1208\n",
      "\n",
      "    accuracy                           0.68      2922\n",
      "   macro avg       0.67      0.67      0.67      2922\n",
      "weighted avg       0.68      0.68      0.68      2922\n",
      "\n",
      "\n"
     ]
    },
    {
     "data": {
      "image/png": "[encoded data removed]",
      "text/plain": [
       "<Figure size 432x288 with 2 Axes>"
      ]
     },
     "metadata": {
      "needs_background": "light"
     },
     "output_type": "display_data"
    }
   ],
   "source": [
    "plt.subplot(1,2,1)\n",
    "estimator=KNeighborsClassifier(9)\n",
    "prediction = cross_val_predict(estimator, x_train_all, y_train_all, cv=cv)\n",
    "cnf_matrix = confusion_matrix( y_train_all, prediction, labels=classes)\n",
    "np.set_printoptions(precision=2)\n",
    "plot_confusion_matrix(cnf_matrix, classes=classes, title='All features preprocessed')\n",
    "rep_knn = classification_report( y_train_all, prediction)\n",
    "print(\"All features preprocessed\")\n",
    "print(rep_knn)\n",
    "print()"
   ]
  },
  {
   "cell_type": "code",
   "execution_count": 11,
   "id": "3f21fedd",
   "metadata": {},
   "outputs": [
    {
     "name": "stdout",
     "output_type": "stream",
     "text": [
      "All features preprocessed\n",
      "              precision    recall  f1-score   support\n",
      "\n",
      "           0       0.77      0.74      0.75       450\n",
      "           1       0.61      0.64      0.63       281\n",
      "\n",
      "    accuracy                           0.70       731\n",
      "   macro avg       0.69      0.69      0.69       731\n",
      "weighted avg       0.71      0.70      0.70       731\n",
      "\n",
      "\n"
     ]
    },
    {
     "data": {
      "image/png": "[encoded data removed]",
      "text/plain": [
       "<Figure size 432x288 with 2 Axes>"
      ]
     },
     "metadata": {
      "needs_background": "light"
     },
     "output_type": "display_data"
    }
   ],
   "source": [
    "#lets test our model with our test set\n",
    "\n",
    "estimator.fit(x_train_all,y_train_all)\n",
    "prediction=estimator.predict(x_test_all)\n",
    "cnf_matrix = confusion_matrix( y_test_all, prediction, labels=classes)\n",
    "np.set_printoptions(precision=2)\n",
    "plot_confusion_matrix(cnf_matrix, classes=classes, title='All features preprocessed')\n",
    "rep_knn = classification_report( y_test_all, prediction)\n",
    "print(\"All features preprocessed\")\n",
    "print(rep_knn)\n",
    "print()\n"
   ]
  },
  {
   "cell_type": "markdown",
   "id": "45661639",
   "metadata": {},
   "source": [
    "<h3> lets find the best k </h3>"
   ]
  },
  {
   "cell_type": "code",
   "execution_count": 12,
   "id": "00216abb",
   "metadata": {},
   "outputs": [
    {
     "name": "stdout",
     "output_type": "stream",
     "text": [
      "{'n_neighbors': [1, 2, 3, 4, 5, 6, 7, 8, 9, 10, 11, 12, 13, 14], 'weights': ['uniform', 'distance'], 'metric': ['euclidean', 'manhattan', 'chebyshev', 'minkowski']}\n"
     ]
    }
   ],
   "source": [
    "k=list(range(1,15))\n",
    "weight= ['uniform', 'distance']\n",
    "metrics=['euclidean','manhattan','chebyshev','minkowski']\n",
    "\n",
    "param_grid = dict(n_neighbors=k, weights=weight, metric=metrics)\n",
    "print(param_grid)"
   ]
  },
  {
   "cell_type": "code",
   "execution_count": 13,
   "id": "cda858b8",
   "metadata": {},
   "outputs": [
    {
     "data": {
      "text/plain": [
       "GridSearchCV(cv=10, estimator=KNeighborsClassifier(), n_jobs=-1,\n",
       "             param_grid={'metric': ['euclidean', 'manhattan', 'chebyshev',\n",
       "                                    'minkowski'],\n",
       "                         'n_neighbors': [1, 2, 3, 4, 5, 6, 7, 8, 9, 10, 11, 12,\n",
       "                                         13, 14],\n",
       "                         'weights': ['uniform', 'distance']},\n",
       "             return_train_score=True, scoring='recall')"
      ]
     },
     "execution_count": 13,
     "metadata": {},
     "output_type": "execute_result"
    }
   ],
   "source": [
    "knn = KNeighborsClassifier()\n",
    "grid = GridSearchCV(knn, param_grid, cv=10, scoring='recall',n_jobs=-1,return_train_score=True)\n",
    "grid.fit(x_train_all, y_train_all)"
   ]
  },
  {
   "cell_type": "code",
   "execution_count": 14,
   "id": "28bb19a0",
   "metadata": {},
   "outputs": [
    {
     "name": "stdout",
     "output_type": "stream",
     "text": [
      "All features preprocessed\n",
      "              precision    recall  f1-score   support\n",
      "\n",
      "           0       0.77      0.74      0.75       450\n",
      "           1       0.61      0.64      0.63       281\n",
      "\n",
      "    accuracy                           0.70       731\n",
      "   macro avg       0.69      0.69      0.69       731\n",
      "weighted avg       0.71      0.70      0.70       731\n",
      "\n",
      "\n"
     ]
    },
    {
     "data": {
      "image/png": "[encoded data removed]",
      "text/plain": [
       "<Figure size 432x288 with 2 Axes>"
      ]
     },
     "metadata": {
      "needs_background": "light"
     },
     "output_type": "display_data"
    }
   ],
   "source": [
    "from sklearn.metrics import recall_score\n",
    "\n",
    "pred=grid.predict(x_test_all)\n",
    "cnf_matrix = confusion_matrix( y_test_all, pred, labels=classes)\n",
    "np.set_printoptions(precision=2)\n",
    "plot_confusion_matrix(cnf_matrix, classes=classes, title='All features preprocessed')\n",
    "rep_knn = classification_report( y_test_all, prediction)\n",
    "print(\"All features preprocessed\")\n",
    "print(rep_knn)\n",
    "print()\n"
   ]
  },
  {
   "cell_type": "code",
   "execution_count": 15,
   "id": "38b0a5e2",
   "metadata": {},
   "outputs": [
    {
     "data": {
      "text/plain": [
       "0.6441046831955923"
      ]
     },
     "execution_count": 15,
     "metadata": {},
     "output_type": "execute_result"
    }
   ],
   "source": [
    "grid.best_score_"
   ]
  },
  {
   "cell_type": "code",
   "execution_count": 16,
   "id": "9952a394",
   "metadata": {},
   "outputs": [
    {
     "data": {
      "text/plain": [
       "KNeighborsClassifier(metric='manhattan', n_neighbors=10, weights='distance')"
      ]
     },
     "execution_count": 16,
     "metadata": {},
     "output_type": "execute_result"
    }
   ],
   "source": [
    "grid.best_estimator_"
   ]
  },
  {
   "cell_type": "code",
   "execution_count": null,
   "id": "4a31e10e",
   "metadata": {},
   "outputs": [],
   "source": []
  },
  {
   "cell_type": "code",
   "execution_count": null,
   "id": "736c15ff",
   "metadata": {},
   "outputs": [],
   "source": []
  },
  {
   "cell_type": "code",
   "execution_count": null,
   "id": "35369e14",
   "metadata": {},
   "outputs": [],
   "source": []
  },
  {
   "cell_type": "code",
   "execution_count": null,
   "id": "e6a77a18",
   "metadata": {},
   "outputs": [],
   "source": []
  },
  {
   "cell_type": "markdown",
   "id": "ea9ae5da",
   "metadata": {},
   "source": [
    "<h2> Lets try to increase recall by changing the way the target value is binned </h2>"
   ]
  },
  {
   "cell_type": "code",
   "execution_count": 17,
   "id": "b9507dc1",
   "metadata": {},
   "outputs": [],
   "source": [
    "data = pd.read_csv(r'D:\\user\\OneDrive\\Desktop\\data_mining\\try.csv').drop(['Unnamed: 0','Var_tot_tot_indx',\n",
    "                                                                                                    'binary_thunderstorm',\n",
    "                                                                                                   'Totals_idx_cat'\n",
    "                                                                                                    ,'target+1'],axis=1)\n",
    "data=data.dropna()\n",
    "data_features=data.drop('binary_severe_thunderstorm',axis=1)\n",
    "data_target=data['binary_severe_thunderstorm']\n"
   ]
  },
  {
   "cell_type": "code",
   "execution_count": 18,
   "id": "d76eedf8",
   "metadata": {},
   "outputs": [],
   "source": [
    "#all features \n",
    "x_train, x_test, y_train, y_test = train_test_split(data_features, data_target, stratify=data_target, test_size=0.2, random_state=42)"
   ]
  },
  {
   "cell_type": "code",
   "execution_count": 19,
   "id": "3e3701cb",
   "metadata": {},
   "outputs": [
    {
     "data": {
      "text/plain": [
       "0    2695\n",
       "1     226\n",
       "Name: binary_severe_thunderstorm, dtype: int64"
      ]
     },
     "execution_count": 19,
     "metadata": {},
     "output_type": "execute_result"
    }
   ],
   "source": [
    "y_train.value_counts()"
   ]
  },
  {
   "cell_type": "code",
   "execution_count": 20,
   "id": "5b50d82a",
   "metadata": {},
   "outputs": [
    {
     "data": {
      "text/plain": [
       "0    2695\n",
       "1     226\n",
       "Name: binary_severe_thunderstorm, dtype: int64"
      ]
     },
     "execution_count": 20,
     "metadata": {},
     "output_type": "execute_result"
    }
   ],
   "source": [
    "#in this case we need to balance our data\n",
    "#using undersampler will decrease to much the amount of values and will prevent us from hyperparameters optimization\n",
    "#using a oversampler may also lead to not so high qualitt data so lets try the hybrid approach\n",
    "from sklearn.pipeline import Pipeline\n",
    "from imblearn.under_sampling import RandomUnderSampler\n",
    "from imblearn.over_sampling import RandomOverSampler\n",
    "from imblearn.over_sampling import SMOTE\n",
    "\n",
    "\n",
    "knn = KNeighborsClassifier()\n",
    "#over = RandomOverSampler(sampling_strategy=0.4)\n",
    "#under = RandomUnderSampler(sampling_strategy=0.5)\n",
    "\n",
    "\n",
    "#x_train, y_train = over.fit_resample(x_train, y_train)\n",
    "#x_train, y_train = under.fit_resample(x_train, y_train)\n",
    "\n",
    "\n",
    "y_train.value_counts()"
   ]
  },
  {
   "cell_type": "code",
   "execution_count": 21,
   "id": "3b5aeb7b",
   "metadata": {},
   "outputs": [],
   "source": [
    "#x_train_sc=stScaler.fit_transform(x_train)\n",
    "#x_test_sc=stScaler.transform(x_test)"
   ]
  },
  {
   "cell_type": "code",
   "execution_count": 22,
   "id": "04ae7779",
   "metadata": {},
   "outputs": [
    {
     "data": {
      "text/plain": [
       "GridSearchCV(cv=10, estimator=KNeighborsClassifier(), n_jobs=-1,\n",
       "             param_grid={'metric': ['euclidean', 'manhattan', 'chebyshev',\n",
       "                                    'minkowski'],\n",
       "                         'n_neighbors': [1, 2, 3, 4, 5, 6, 7, 8, 9, 10, 11, 12,\n",
       "                                         13, 14],\n",
       "                         'weights': ['uniform', 'distance']},\n",
       "             return_train_score=True, scoring='recall')"
      ]
     },
     "execution_count": 22,
     "metadata": {},
     "output_type": "execute_result"
    }
   ],
   "source": [
    "grid = GridSearchCV(knn, param_grid, cv=10, scoring='recall',n_jobs=-1,return_train_score=True)\n",
    "grid.fit(x_train, y_train)"
   ]
  },
  {
   "cell_type": "code",
   "execution_count": 23,
   "id": "54e1ba22",
   "metadata": {},
   "outputs": [
    {
     "data": {
      "text/plain": [
       "0.07984189723320159"
      ]
     },
     "execution_count": 23,
     "metadata": {},
     "output_type": "execute_result"
    }
   ],
   "source": [
    "grid.best_score_"
   ]
  },
  {
   "cell_type": "code",
   "execution_count": 24,
   "id": "edbd09ff",
   "metadata": {},
   "outputs": [
    {
     "data": {
      "text/plain": [
       "KNeighborsClassifier(metric='euclidean', n_neighbors=1)"
      ]
     },
     "execution_count": 24,
     "metadata": {},
     "output_type": "execute_result"
    }
   ],
   "source": [
    "grid.best_estimator_"
   ]
  },
  {
   "cell_type": "code",
   "execution_count": 25,
   "id": "20ed1975",
   "metadata": {
    "scrolled": true
   },
   "outputs": [
    {
     "name": "stdout",
     "output_type": "stream",
     "text": [
      "All features preprocessed\n",
      "              precision    recall  f1-score   support\n",
      "\n",
      "           0       0.93      0.60      0.73       674\n",
      "           1       0.09      0.46      0.15        57\n",
      "\n",
      "    accuracy                           0.59       731\n",
      "   macro avg       0.51      0.53      0.44       731\n",
      "weighted avg       0.86      0.59      0.68       731\n",
      "\n",
      "\n"
     ]
    },
    {
     "data": {
      "image/png": "[encoded data removed]",
      "text/plain": [
       "<Figure size 432x288 with 2 Axes>"
      ]
     },
     "metadata": {
      "needs_background": "light"
     },
     "output_type": "display_data"
    }
   ],
   "source": [
    "from sklearn.metrics import recall_score\n",
    "\n",
    "pred=grid.predict(x_test)\n",
    "cnf_matrix = confusion_matrix( y_test, pred, labels=classes)\n",
    "np.set_printoptions(precision=2)\n",
    "plot_confusion_matrix(cnf_matrix, classes=classes, title='All features preprocessed')\n",
    "rep_knn = classification_report( y_test, prediction)\n",
    "print(\"All features preprocessed\")\n",
    "print(rep_knn)\n",
    "print()\n"
   ]
  },
  {
   "cell_type": "markdown",
   "id": "e6983560",
   "metadata": {},
   "source": []
  },
  {
   "cell_type": "code",
   "execution_count": null,
   "id": "de0b73f6",
   "metadata": {},
   "outputs": [],
   "source": []
  }
 ],
 "metadata": {
  "kernelspec": {
   "display_name": "Python 3",
   "language": "python",
   "name": "python3"
  },
  "language_info": {
   "codemirror_mode": {
    "name": "ipython",
    "version": 3
   },
   "file_extension": ".py",
   "mimetype": "text/x-python",
   "name": "python",
   "nbconvert_exporter": "python",
   "pygments_lexer": "ipython3",
   "version": "3.8.8"
  }
 },
 "nbformat": 4,
 "nbformat_minor": 5
}
