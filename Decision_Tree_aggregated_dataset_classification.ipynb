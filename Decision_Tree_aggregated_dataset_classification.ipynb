{
 "cells": [
  {
   "cell_type": "code",
   "execution_count": 1,
   "id": "c80e9f10",
   "metadata": {},
   "outputs": [],
   "source": [
    "#Load the libraries\n",
    "import numpy as np\n",
    "import pandas as pd\n",
    "import seaborn as sns\n",
    "import matplotlib.pyplot as plt\n",
    "import nltk\n",
    "import os\n",
    "from datetime import datetime\n",
    "import random, itertools\n",
    "import re,string,unicodedata\n",
    "from imblearn.under_sampling import RandomUnderSampler \n",
    "from sklearn.model_selection import train_test_split\n",
    "from sklearn.tree import DecisionTreeClassifier\n",
    "from sklearn.linear_model import LogisticRegression,SGDClassifier\n",
    "from sklearn.naive_bayes import MultinomialNB\n",
    "from sklearn.metrics import precision_recall_fscore_support\n",
    "from sklearn.svm import SVC\n",
    "from sklearn.metrics import classification_report,confusion_matrix,accuracy_score\n",
    "from numpy import mean\n",
    "from numpy import std\n",
    "from sklearn.model_selection import cross_val_score\n",
    "from sklearn.model_selection import cross_val_predict\n",
    "from sklearn.model_selection import GridSearchCV\n",
    "from imblearn.pipeline import Pipeline\n",
    "from sklearn.datasets import make_classification\n",
    "from sklearn.model_selection import StratifiedKFold\n",
    "from imblearn.under_sampling import RandomUnderSampler\n",
    "from imblearn.over_sampling import RandomOverSampler\n",
    "from imblearn.over_sampling import SMOTE\n",
    "import spacy\n",
    "import warnings\n",
    "warnings.filterwarnings('ignore')"
   ]
  },
  {
   "cell_type": "code",
   "execution_count": 2,
   "id": "3cfcdbf2",
   "metadata": {},
   "outputs": [
    {
     "data": {
      "text/html": [
       "<div>\n",
       "<style scoped>\n",
       "    .dataframe tbody tr th:only-of-type {\n",
       "        vertical-align: middle;\n",
       "    }\n",
       "\n",
       "    .dataframe tbody tr th {\n",
       "        vertical-align: top;\n",
       "    }\n",
       "\n",
       "    .dataframe thead th {\n",
       "        text-align: right;\n",
       "    }\n",
       "</style>\n",
       "<table border=\"1\" class=\"dataframe\">\n",
       "  <thead>\n",
       "    <tr style=\"text-align: right;\">\n",
       "      <th></th>\n",
       "      <th>avg_tot_tot_indx</th>\n",
       "      <th>Var_perc_type</th>\n",
       "      <th>avg_perc_type</th>\n",
       "      <th>Var_surface_temperature</th>\n",
       "      <th>avg_surface_temperature</th>\n",
       "      <th>mean_Total_column_water_vapour</th>\n",
       "      <th>var_Total_column_water_vapour</th>\n",
       "      <th>mean_Total_column_water</th>\n",
       "      <th>var_Total_column_water</th>\n",
       "      <th>mean_U_component_stokes_drift</th>\n",
       "      <th>...</th>\n",
       "      <th>log_mean_two_m_dewpoint_temperature</th>\n",
       "      <th>log_var_two_m_dewpoint_temperature</th>\n",
       "      <th>log_mean_skin_temperature</th>\n",
       "      <th>log_var_skin_temperature</th>\n",
       "      <th>log_mean_surface_air_pressure</th>\n",
       "      <th>log_var_surface_air_pressure</th>\n",
       "      <th>log_var_hundred_metre_U_wind_component</th>\n",
       "      <th>log_var_neutral_wind_at_10_m_u_component</th>\n",
       "      <th>log_var_neutral_wind_at_10_m_v_component</th>\n",
       "      <th>log_m_medium_ccover</th>\n",
       "    </tr>\n",
       "  </thead>\n",
       "  <tbody>\n",
       "    <tr>\n",
       "      <th>0</th>\n",
       "      <td>28.871947</td>\n",
       "      <td>5.874891</td>\n",
       "      <td>2.750027</td>\n",
       "      <td>0.025682</td>\n",
       "      <td>273.917257</td>\n",
       "      <td>7.599388</td>\n",
       "      <td>0.001272</td>\n",
       "      <td>7.747149</td>\n",
       "      <td>0.001285</td>\n",
       "      <td>-18431.447355</td>\n",
       "      <td>...</td>\n",
       "      <td>5.607103</td>\n",
       "      <td>0.026250</td>\n",
       "      <td>5.606527</td>\n",
       "      <td>1.175620</td>\n",
       "      <td>11.513592</td>\n",
       "      <td>9.460258</td>\n",
       "      <td>0.874559</td>\n",
       "      <td>-0.223159</td>\n",
       "      <td>-0.175535</td>\n",
       "      <td>-1.757664</td>\n",
       "    </tr>\n",
       "    <tr>\n",
       "      <th>1</th>\n",
       "      <td>30.291684</td>\n",
       "      <td>2.901000</td>\n",
       "      <td>4.625008</td>\n",
       "      <td>0.060179</td>\n",
       "      <td>274.445440</td>\n",
       "      <td>7.407456</td>\n",
       "      <td>0.013036</td>\n",
       "      <td>7.547069</td>\n",
       "      <td>0.015819</td>\n",
       "      <td>-18431.453998</td>\n",
       "      <td>...</td>\n",
       "      <td>5.605994</td>\n",
       "      <td>-0.688409</td>\n",
       "      <td>5.602733</td>\n",
       "      <td>1.905473</td>\n",
       "      <td>11.514630</td>\n",
       "      <td>9.730405</td>\n",
       "      <td>-0.918407</td>\n",
       "      <td>-2.261514</td>\n",
       "      <td>-0.568122</td>\n",
       "      <td>-2.563193</td>\n",
       "    </tr>\n",
       "    <tr>\n",
       "      <th>2</th>\n",
       "      <td>33.781080</td>\n",
       "      <td>0.041236</td>\n",
       "      <td>5.104156</td>\n",
       "      <td>0.053122</td>\n",
       "      <td>273.841263</td>\n",
       "      <td>7.454112</td>\n",
       "      <td>0.079448</td>\n",
       "      <td>7.574160</td>\n",
       "      <td>0.086356</td>\n",
       "      <td>-18431.427509</td>\n",
       "      <td>...</td>\n",
       "      <td>5.600426</td>\n",
       "      <td>-1.904541</td>\n",
       "      <td>5.599713</td>\n",
       "      <td>1.943483</td>\n",
       "      <td>11.515923</td>\n",
       "      <td>8.261645</td>\n",
       "      <td>0.594675</td>\n",
       "      <td>-1.854602</td>\n",
       "      <td>-2.851444</td>\n",
       "      <td>-2.552162</td>\n",
       "    </tr>\n",
       "    <tr>\n",
       "      <th>3</th>\n",
       "      <td>34.847245</td>\n",
       "      <td>0.000000</td>\n",
       "      <td>4.999985</td>\n",
       "      <td>0.285297</td>\n",
       "      <td>273.133409</td>\n",
       "      <td>7.050555</td>\n",
       "      <td>0.002004</td>\n",
       "      <td>7.166458</td>\n",
       "      <td>0.002047</td>\n",
       "      <td>-18431.410131</td>\n",
       "      <td>...</td>\n",
       "      <td>5.589787</td>\n",
       "      <td>0.443992</td>\n",
       "      <td>5.589041</td>\n",
       "      <td>2.085777</td>\n",
       "      <td>11.511937</td>\n",
       "      <td>9.750797</td>\n",
       "      <td>-1.240046</td>\n",
       "      <td>-2.757890</td>\n",
       "      <td>-1.673033</td>\n",
       "      <td>-1.221444</td>\n",
       "    </tr>\n",
       "    <tr>\n",
       "      <th>4</th>\n",
       "      <td>36.648213</td>\n",
       "      <td>1.083323</td>\n",
       "      <td>4.749989</td>\n",
       "      <td>2.132644</td>\n",
       "      <td>272.328182</td>\n",
       "      <td>6.910032</td>\n",
       "      <td>0.103630</td>\n",
       "      <td>7.090256</td>\n",
       "      <td>0.089188</td>\n",
       "      <td>-18431.427458</td>\n",
       "      <td>...</td>\n",
       "      <td>5.583844</td>\n",
       "      <td>0.678679</td>\n",
       "      <td>5.589835</td>\n",
       "      <td>2.351766</td>\n",
       "      <td>11.505662</td>\n",
       "      <td>11.694134</td>\n",
       "      <td>0.532543</td>\n",
       "      <td>-1.089470</td>\n",
       "      <td>-0.906940</td>\n",
       "      <td>-1.948422</td>\n",
       "    </tr>\n",
       "  </tbody>\n",
       "</table>\n",
       "<p>5 rows × 246 columns</p>\n",
       "</div>"
      ],
      "text/plain": [
       "   avg_tot_tot_indx  Var_perc_type  avg_perc_type  Var_surface_temperature  \\\n",
       "0         28.871947       5.874891       2.750027                 0.025682   \n",
       "1         30.291684       2.901000       4.625008                 0.060179   \n",
       "2         33.781080       0.041236       5.104156                 0.053122   \n",
       "3         34.847245       0.000000       4.999985                 0.285297   \n",
       "4         36.648213       1.083323       4.749989                 2.132644   \n",
       "\n",
       "   avg_surface_temperature  mean_Total_column_water_vapour  \\\n",
       "0               273.917257                        7.599388   \n",
       "1               274.445440                        7.407456   \n",
       "2               273.841263                        7.454112   \n",
       "3               273.133409                        7.050555   \n",
       "4               272.328182                        6.910032   \n",
       "\n",
       "   var_Total_column_water_vapour  mean_Total_column_water  \\\n",
       "0                       0.001272                 7.747149   \n",
       "1                       0.013036                 7.547069   \n",
       "2                       0.079448                 7.574160   \n",
       "3                       0.002004                 7.166458   \n",
       "4                       0.103630                 7.090256   \n",
       "\n",
       "   var_Total_column_water  mean_U_component_stokes_drift  ...  \\\n",
       "0                0.001285                  -18431.447355  ...   \n",
       "1                0.015819                  -18431.453998  ...   \n",
       "2                0.086356                  -18431.427509  ...   \n",
       "3                0.002047                  -18431.410131  ...   \n",
       "4                0.089188                  -18431.427458  ...   \n",
       "\n",
       "   log_mean_two_m_dewpoint_temperature  log_var_two_m_dewpoint_temperature  \\\n",
       "0                             5.607103                            0.026250   \n",
       "1                             5.605994                           -0.688409   \n",
       "2                             5.600426                           -1.904541   \n",
       "3                             5.589787                            0.443992   \n",
       "4                             5.583844                            0.678679   \n",
       "\n",
       "   log_mean_skin_temperature  log_var_skin_temperature  \\\n",
       "0                   5.606527                  1.175620   \n",
       "1                   5.602733                  1.905473   \n",
       "2                   5.599713                  1.943483   \n",
       "3                   5.589041                  2.085777   \n",
       "4                   5.589835                  2.351766   \n",
       "\n",
       "   log_mean_surface_air_pressure  log_var_surface_air_pressure  \\\n",
       "0                      11.513592                      9.460258   \n",
       "1                      11.514630                      9.730405   \n",
       "2                      11.515923                      8.261645   \n",
       "3                      11.511937                      9.750797   \n",
       "4                      11.505662                     11.694134   \n",
       "\n",
       "   log_var_hundred_metre_U_wind_component  \\\n",
       "0                                0.874559   \n",
       "1                               -0.918407   \n",
       "2                                0.594675   \n",
       "3                               -1.240046   \n",
       "4                                0.532543   \n",
       "\n",
       "   log_var_neutral_wind_at_10_m_u_component  \\\n",
       "0                                 -0.223159   \n",
       "1                                 -2.261514   \n",
       "2                                 -1.854602   \n",
       "3                                 -2.757890   \n",
       "4                                 -1.089470   \n",
       "\n",
       "   log_var_neutral_wind_at_10_m_v_component  log_m_medium_ccover  \n",
       "0                                 -0.175535            -1.757664  \n",
       "1                                 -0.568122            -2.563193  \n",
       "2                                 -2.851444            -2.552162  \n",
       "3                                 -1.673033            -1.221444  \n",
       "4                                 -0.906940            -1.948422  \n",
       "\n",
       "[5 rows x 246 columns]"
      ]
     },
     "execution_count": 2,
     "metadata": {},
     "output_type": "execute_result"
    }
   ],
   "source": [
    "data = pd.read_csv(r'C:\\Users\\omogh\\Desktop\\DATA MINING 1 HWS 2021\\DM Project\\full_data_for_classification_with_aggregated_values.csv').drop(['Unnamed: 0','Var_tot_tot_indx',\n",
    "                                                                                                    'binary_thunderstorm',\n",
    "                                                                                                    'binary_severe_thunderstorm','Totals_idx_cat'],axis=1)\n",
    "\n",
    "data.head()"
   ]
  },
  {
   "cell_type": "code",
   "execution_count": 3,
   "id": "f93f6aa2",
   "metadata": {},
   "outputs": [
    {
     "name": "stdout",
     "output_type": "stream",
     "text": [
      "Shape of df:  (3653, 246)\n",
      "<class 'pandas.core.frame.DataFrame'>\n",
      "RangeIndex: 3653 entries, 0 to 3652\n",
      "Columns: 246 entries, avg_tot_tot_indx to log_m_medium_ccover\n",
      "dtypes: float64(245), int64(1)\n",
      "memory usage: 6.9 MB\n",
      "Info of df:  None\n",
      "Describe df:         avg_tot_tot_indx  Var_perc_type  avg_perc_type  \\\n",
      "count       3653.000000    3653.000000    3653.000000   \n",
      "mean          41.249196       0.552435       0.668481   \n",
      "std            7.386613       1.394284       0.923793   \n",
      "min            1.199944       0.000000       0.000000   \n",
      "25%           37.267272       0.009984       0.083337   \n",
      "50%           42.395158       0.123275       0.437520   \n",
      "75%           46.414512       0.201407       0.854206   \n",
      "max           57.560371      10.280782       5.895834   \n",
      "\n",
      "       Var_surface_temperature  avg_surface_temperature  \\\n",
      "count              3653.000000              3653.000000   \n",
      "mean                  5.702399               284.510018   \n",
      "std                   6.049846                 7.284917   \n",
      "min                   0.012687               265.328551   \n",
      "25%                   1.067461               278.504970   \n",
      "50%                   3.414275               284.282290   \n",
      "75%                   8.613461               290.438217   \n",
      "max                  35.196891               303.452958   \n",
      "\n",
      "       mean_Total_column_water_vapour  var_Total_column_water_vapour  \\\n",
      "count                     3653.000000                    3653.000000   \n",
      "mean                        13.503579                       0.086836   \n",
      "std                          6.219875                       0.119133   \n",
      "min                          4.968795                       0.000484   \n",
      "25%                          8.003597                       0.018909   \n",
      "50%                         11.682054                       0.047398   \n",
      "75%                         18.750087                       0.105102   \n",
      "max                         28.973565                       1.531988   \n",
      "\n",
      "       mean_Total_column_water  var_Total_column_water  \\\n",
      "count              3653.000000             3653.000000   \n",
      "mean                 13.665451                0.093908   \n",
      "std                   6.223872                0.126689   \n",
      "min                   5.061904                0.000778   \n",
      "25%                   8.165319                0.021635   \n",
      "50%                  11.876604                0.052114   \n",
      "75%                  18.926476                0.114027   \n",
      "max                  29.196984                1.614611   \n",
      "\n",
      "       mean_U_component_stokes_drift  ...  \\\n",
      "count                    3653.000000  ...   \n",
      "mean                   -18684.171998  ...   \n",
      "std                       433.758203  ...   \n",
      "min                    -20524.824292  ...   \n",
      "25%                    -18795.485290  ...   \n",
      "50%                    -18431.435784  ...   \n",
      "75%                    -18431.417369  ...   \n",
      "max                    -18431.352785  ...   \n",
      "\n",
      "       log_mean_two_m_dewpoint_temperature  \\\n",
      "count                          3653.000000   \n",
      "mean                              5.632814   \n",
      "std                               0.020873   \n",
      "min                               5.547270   \n",
      "25%                               5.617890   \n",
      "50%                               5.633369   \n",
      "75%                               5.649083   \n",
      "max                               5.678695   \n",
      "\n",
      "       log_var_two_m_dewpoint_temperature  log_mean_skin_temperature  \\\n",
      "count                         3653.000000                3653.000000   \n",
      "mean                            -0.023653                   5.649922   \n",
      "std                              1.094869                   0.027422   \n",
      "min                             -3.950576                   5.572914   \n",
      "25%                             -0.764756                   5.627570   \n",
      "50%                              0.004332                   5.649479   \n",
      "75%                              0.715363                   5.672129   \n",
      "max                              3.366443                   5.720680   \n",
      "\n",
      "       log_var_skin_temperature  log_mean_surface_air_pressure  \\\n",
      "count               3653.000000                    3653.000000   \n",
      "mean                   2.291125                      11.509141   \n",
      "std                    1.155535                       0.008188   \n",
      "min                   -2.975783                      11.469555   \n",
      "25%                    1.503499                      11.504385   \n",
      "50%                    2.428445                      11.509373   \n",
      "75%                    3.232661                      11.514230   \n",
      "max                    4.436204                      11.536654   \n",
      "\n",
      "       log_var_surface_air_pressure  log_var_hundred_metre_U_wind_component  \\\n",
      "count                   3653.000000                             3653.000000   \n",
      "mean                       9.825865                                0.468566   \n",
      "std                        1.301290                                1.079428   \n",
      "min                        5.880784                               -2.946241   \n",
      "25%                        8.851228                               -0.303533   \n",
      "50%                        9.789869                                0.453851   \n",
      "75%                       10.774641                                1.257728   \n",
      "max                       13.981747                                3.607732   \n",
      "\n",
      "       log_var_neutral_wind_at_10_m_u_component  \\\n",
      "count                               3653.000000   \n",
      "mean                                  -0.440058   \n",
      "std                                    1.037254   \n",
      "min                                   -4.799897   \n",
      "25%                                   -1.107592   \n",
      "50%                                   -0.391882   \n",
      "75%                                    0.282705   \n",
      "max                                    2.631306   \n",
      "\n",
      "       log_var_neutral_wind_at_10_m_v_component  log_m_medium_ccover  \n",
      "count                               3653.000000          3653.000000  \n",
      "mean                                  -0.699497            -3.546254  \n",
      "std                                    1.059810             8.193665  \n",
      "min                                   -4.503268           -37.429948  \n",
      "25%                                   -1.427575            -2.195823  \n",
      "50%                                   -0.680709            -1.173552  \n",
      "75%                                    0.017224            -0.638493  \n",
      "max                                    2.927645            -0.003284  \n",
      "\n",
      "[8 rows x 246 columns]\n"
     ]
    }
   ],
   "source": [
    "print(\"Shape of df: \",data.shape)\n",
    "print(\"Info of df: \",data.info())\n",
    "print(\"Describe df: \",data.describe())"
   ]
  },
  {
   "cell_type": "code",
   "execution_count": 4,
   "id": "8835b3e4",
   "metadata": {},
   "outputs": [
    {
     "data": {
      "text/plain": [
       "0    2164\n",
       "1    1489\n",
       "Name: target+1, dtype: int64"
      ]
     },
     "execution_count": 4,
     "metadata": {},
     "output_type": "execute_result"
    }
   ],
   "source": [
    "data['target+1'].value_counts()"
   ]
  },
  {
   "cell_type": "code",
   "execution_count": 5,
   "id": "bc73996d",
   "metadata": {},
   "outputs": [],
   "source": [
    "import itertools\n",
    "\n",
    "def plot_confusion_matrix(cm, classes,\n",
    "                          normalize=False,\n",
    "                          title='Confusion matrix',\n",
    "                          cmap=plt.cm.Blues):\n",
    "    \"\"\"\n",
    "    This function prints and plots the confusion matrix.\n",
    "    Normalization can be applied by setting `normalize=True`.\n",
    "    \"\"\"\n",
    "    if normalize:\n",
    "        cm = cm.astype('float') / cm.sum(axis=1)[:, np.newaxis]\n",
    "\n",
    "    plt.imshow(cm, interpolation='nearest', cmap=cmap)\n",
    "    plt.title(title)\n",
    "    plt.colorbar()\n",
    "    tick_marks = np.arange(len(classes))\n",
    "    plt.xticks(tick_marks, classes, rotation=45)\n",
    "    plt.yticks(tick_marks, classes)\n",
    "\n",
    "    fmt = '.2f' if normalize else 'd'\n",
    "    thresh = cm.max() / 2.\n",
    "    for i, j in itertools.product(range(cm.shape[0]), range(cm.shape[1])):\n",
    "        plt.text(j, i, format(cm[i, j], fmt),\n",
    "                 horizontalalignment=\"center\",\n",
    "                 color=\"white\" if cm[i, j] > thresh else \"black\")\n",
    "\n",
    "    plt.ylabel('True label')\n",
    "    plt.xlabel('Predicted label')\n",
    "    plt.tight_layout()\n",
    "    plt.show()"
   ]
  },
  {
   "cell_type": "code",
   "execution_count": 6,
   "id": "6dc1b231",
   "metadata": {},
   "outputs": [
    {
     "data": {
      "text/html": [
       "<div>\n",
       "<style scoped>\n",
       "    .dataframe tbody tr th:only-of-type {\n",
       "        vertical-align: middle;\n",
       "    }\n",
       "\n",
       "    .dataframe tbody tr th {\n",
       "        vertical-align: top;\n",
       "    }\n",
       "\n",
       "    .dataframe thead th {\n",
       "        text-align: right;\n",
       "    }\n",
       "</style>\n",
       "<table border=\"1\" class=\"dataframe\">\n",
       "  <thead>\n",
       "    <tr style=\"text-align: right;\">\n",
       "      <th></th>\n",
       "      <th>avg_tot_tot_indx</th>\n",
       "      <th>Var_perc_type</th>\n",
       "      <th>avg_perc_type</th>\n",
       "      <th>Var_surface_temperature</th>\n",
       "      <th>avg_surface_temperature</th>\n",
       "      <th>mean_Total_column_water_vapour</th>\n",
       "      <th>var_Total_column_water_vapour</th>\n",
       "      <th>mean_Total_column_water</th>\n",
       "      <th>var_Total_column_water</th>\n",
       "      <th>mean_U_component_stokes_drift</th>\n",
       "      <th>...</th>\n",
       "      <th>log_mean_two_m_dewpoint_temperature</th>\n",
       "      <th>log_var_two_m_dewpoint_temperature</th>\n",
       "      <th>log_mean_skin_temperature</th>\n",
       "      <th>log_var_skin_temperature</th>\n",
       "      <th>log_mean_surface_air_pressure</th>\n",
       "      <th>log_var_surface_air_pressure</th>\n",
       "      <th>log_var_hundred_metre_U_wind_component</th>\n",
       "      <th>log_var_neutral_wind_at_10_m_u_component</th>\n",
       "      <th>log_var_neutral_wind_at_10_m_v_component</th>\n",
       "      <th>log_m_medium_ccover</th>\n",
       "    </tr>\n",
       "  </thead>\n",
       "  <tbody>\n",
       "    <tr>\n",
       "      <th>0</th>\n",
       "      <td>28.871947</td>\n",
       "      <td>5.874891</td>\n",
       "      <td>2.750027</td>\n",
       "      <td>0.025682</td>\n",
       "      <td>273.917257</td>\n",
       "      <td>7.599388</td>\n",
       "      <td>0.001272</td>\n",
       "      <td>7.747149</td>\n",
       "      <td>0.001285</td>\n",
       "      <td>-18431.447355</td>\n",
       "      <td>...</td>\n",
       "      <td>5.607103</td>\n",
       "      <td>0.026250</td>\n",
       "      <td>5.606527</td>\n",
       "      <td>1.175620</td>\n",
       "      <td>11.513592</td>\n",
       "      <td>9.460258</td>\n",
       "      <td>0.874559</td>\n",
       "      <td>-0.223159</td>\n",
       "      <td>-0.175535</td>\n",
       "      <td>-1.757664</td>\n",
       "    </tr>\n",
       "    <tr>\n",
       "      <th>1</th>\n",
       "      <td>30.291684</td>\n",
       "      <td>2.901000</td>\n",
       "      <td>4.625008</td>\n",
       "      <td>0.060179</td>\n",
       "      <td>274.445440</td>\n",
       "      <td>7.407456</td>\n",
       "      <td>0.013036</td>\n",
       "      <td>7.547069</td>\n",
       "      <td>0.015819</td>\n",
       "      <td>-18431.453998</td>\n",
       "      <td>...</td>\n",
       "      <td>5.605994</td>\n",
       "      <td>-0.688409</td>\n",
       "      <td>5.602733</td>\n",
       "      <td>1.905473</td>\n",
       "      <td>11.514630</td>\n",
       "      <td>9.730405</td>\n",
       "      <td>-0.918407</td>\n",
       "      <td>-2.261514</td>\n",
       "      <td>-0.568122</td>\n",
       "      <td>-2.563193</td>\n",
       "    </tr>\n",
       "    <tr>\n",
       "      <th>2</th>\n",
       "      <td>33.781080</td>\n",
       "      <td>0.041236</td>\n",
       "      <td>5.104156</td>\n",
       "      <td>0.053122</td>\n",
       "      <td>273.841263</td>\n",
       "      <td>7.454112</td>\n",
       "      <td>0.079448</td>\n",
       "      <td>7.574160</td>\n",
       "      <td>0.086356</td>\n",
       "      <td>-18431.427509</td>\n",
       "      <td>...</td>\n",
       "      <td>5.600426</td>\n",
       "      <td>-1.904541</td>\n",
       "      <td>5.599713</td>\n",
       "      <td>1.943483</td>\n",
       "      <td>11.515923</td>\n",
       "      <td>8.261645</td>\n",
       "      <td>0.594675</td>\n",
       "      <td>-1.854602</td>\n",
       "      <td>-2.851444</td>\n",
       "      <td>-2.552162</td>\n",
       "    </tr>\n",
       "    <tr>\n",
       "      <th>3</th>\n",
       "      <td>34.847245</td>\n",
       "      <td>0.000000</td>\n",
       "      <td>4.999985</td>\n",
       "      <td>0.285297</td>\n",
       "      <td>273.133409</td>\n",
       "      <td>7.050555</td>\n",
       "      <td>0.002004</td>\n",
       "      <td>7.166458</td>\n",
       "      <td>0.002047</td>\n",
       "      <td>-18431.410131</td>\n",
       "      <td>...</td>\n",
       "      <td>5.589787</td>\n",
       "      <td>0.443992</td>\n",
       "      <td>5.589041</td>\n",
       "      <td>2.085777</td>\n",
       "      <td>11.511937</td>\n",
       "      <td>9.750797</td>\n",
       "      <td>-1.240046</td>\n",
       "      <td>-2.757890</td>\n",
       "      <td>-1.673033</td>\n",
       "      <td>-1.221444</td>\n",
       "    </tr>\n",
       "    <tr>\n",
       "      <th>4</th>\n",
       "      <td>36.648213</td>\n",
       "      <td>1.083323</td>\n",
       "      <td>4.749989</td>\n",
       "      <td>2.132644</td>\n",
       "      <td>272.328182</td>\n",
       "      <td>6.910032</td>\n",
       "      <td>0.103630</td>\n",
       "      <td>7.090256</td>\n",
       "      <td>0.089188</td>\n",
       "      <td>-18431.427458</td>\n",
       "      <td>...</td>\n",
       "      <td>5.583844</td>\n",
       "      <td>0.678679</td>\n",
       "      <td>5.589835</td>\n",
       "      <td>2.351766</td>\n",
       "      <td>11.505662</td>\n",
       "      <td>11.694134</td>\n",
       "      <td>0.532543</td>\n",
       "      <td>-1.089470</td>\n",
       "      <td>-0.906940</td>\n",
       "      <td>-1.948422</td>\n",
       "    </tr>\n",
       "    <tr>\n",
       "      <th>...</th>\n",
       "      <td>...</td>\n",
       "      <td>...</td>\n",
       "      <td>...</td>\n",
       "      <td>...</td>\n",
       "      <td>...</td>\n",
       "      <td>...</td>\n",
       "      <td>...</td>\n",
       "      <td>...</td>\n",
       "      <td>...</td>\n",
       "      <td>...</td>\n",
       "      <td>...</td>\n",
       "      <td>...</td>\n",
       "      <td>...</td>\n",
       "      <td>...</td>\n",
       "      <td>...</td>\n",
       "      <td>...</td>\n",
       "      <td>...</td>\n",
       "      <td>...</td>\n",
       "      <td>...</td>\n",
       "      <td>...</td>\n",
       "      <td>...</td>\n",
       "    </tr>\n",
       "    <tr>\n",
       "      <th>3648</th>\n",
       "      <td>38.744972</td>\n",
       "      <td>5.332907</td>\n",
       "      <td>2.270866</td>\n",
       "      <td>1.618656</td>\n",
       "      <td>274.416872</td>\n",
       "      <td>6.840186</td>\n",
       "      <td>0.401473</td>\n",
       "      <td>7.004086</td>\n",
       "      <td>0.460048</td>\n",
       "      <td>-18579.274977</td>\n",
       "      <td>...</td>\n",
       "      <td>5.606387</td>\n",
       "      <td>1.681825</td>\n",
       "      <td>5.617187</td>\n",
       "      <td>0.614694</td>\n",
       "      <td>11.489351</td>\n",
       "      <td>13.981747</td>\n",
       "      <td>0.373514</td>\n",
       "      <td>-0.530780</td>\n",
       "      <td>-1.655888</td>\n",
       "      <td>-0.629004</td>\n",
       "    </tr>\n",
       "    <tr>\n",
       "      <th>3649</th>\n",
       "      <td>51.397479</td>\n",
       "      <td>1.457857</td>\n",
       "      <td>1.229208</td>\n",
       "      <td>0.499817</td>\n",
       "      <td>277.138496</td>\n",
       "      <td>6.427623</td>\n",
       "      <td>0.001849</td>\n",
       "      <td>6.548050</td>\n",
       "      <td>0.001899</td>\n",
       "      <td>-18522.404389</td>\n",
       "      <td>...</td>\n",
       "      <td>5.620021</td>\n",
       "      <td>0.926618</td>\n",
       "      <td>5.619009</td>\n",
       "      <td>1.493076</td>\n",
       "      <td>11.472777</td>\n",
       "      <td>7.772494</td>\n",
       "      <td>1.859356</td>\n",
       "      <td>0.660643</td>\n",
       "      <td>0.049828</td>\n",
       "      <td>-0.568217</td>\n",
       "    </tr>\n",
       "    <tr>\n",
       "      <th>3650</th>\n",
       "      <td>54.711400</td>\n",
       "      <td>1.964794</td>\n",
       "      <td>1.437538</td>\n",
       "      <td>0.185528</td>\n",
       "      <td>276.227551</td>\n",
       "      <td>6.372121</td>\n",
       "      <td>0.024774</td>\n",
       "      <td>6.474477</td>\n",
       "      <td>0.028831</td>\n",
       "      <td>-18655.147617</td>\n",
       "      <td>...</td>\n",
       "      <td>5.614617</td>\n",
       "      <td>-1.591896</td>\n",
       "      <td>5.616252</td>\n",
       "      <td>0.616240</td>\n",
       "      <td>11.482497</td>\n",
       "      <td>12.870306</td>\n",
       "      <td>1.841936</td>\n",
       "      <td>1.136060</td>\n",
       "      <td>-0.540050</td>\n",
       "      <td>-0.736719</td>\n",
       "    </tr>\n",
       "    <tr>\n",
       "      <th>3651</th>\n",
       "      <td>53.840718</td>\n",
       "      <td>0.000000</td>\n",
       "      <td>1.000046</td>\n",
       "      <td>0.185841</td>\n",
       "      <td>276.639502</td>\n",
       "      <td>7.225365</td>\n",
       "      <td>0.020061</td>\n",
       "      <td>7.418203</td>\n",
       "      <td>0.024127</td>\n",
       "      <td>-18749.982794</td>\n",
       "      <td>...</td>\n",
       "      <td>5.615807</td>\n",
       "      <td>-1.585190</td>\n",
       "      <td>5.615075</td>\n",
       "      <td>1.318412</td>\n",
       "      <td>11.495818</td>\n",
       "      <td>11.396372</td>\n",
       "      <td>-0.435599</td>\n",
       "      <td>-0.600936</td>\n",
       "      <td>-2.694180</td>\n",
       "      <td>-1.199515</td>\n",
       "    </tr>\n",
       "    <tr>\n",
       "      <th>3652</th>\n",
       "      <td>50.668536</td>\n",
       "      <td>4.942618</td>\n",
       "      <td>2.375032</td>\n",
       "      <td>0.080575</td>\n",
       "      <td>275.386777</td>\n",
       "      <td>7.683386</td>\n",
       "      <td>0.010440</td>\n",
       "      <td>7.903185</td>\n",
       "      <td>0.006599</td>\n",
       "      <td>-18670.349108</td>\n",
       "      <td>...</td>\n",
       "      <td>5.611808</td>\n",
       "      <td>-0.121035</td>\n",
       "      <td>5.612657</td>\n",
       "      <td>0.837095</td>\n",
       "      <td>11.497212</td>\n",
       "      <td>10.019960</td>\n",
       "      <td>0.581677</td>\n",
       "      <td>-0.893178</td>\n",
       "      <td>-1.989115</td>\n",
       "      <td>-0.273190</td>\n",
       "    </tr>\n",
       "  </tbody>\n",
       "</table>\n",
       "<p>3653 rows × 245 columns</p>\n",
       "</div>"
      ],
      "text/plain": [
       "      avg_tot_tot_indx  Var_perc_type  avg_perc_type  Var_surface_temperature  \\\n",
       "0            28.871947       5.874891       2.750027                 0.025682   \n",
       "1            30.291684       2.901000       4.625008                 0.060179   \n",
       "2            33.781080       0.041236       5.104156                 0.053122   \n",
       "3            34.847245       0.000000       4.999985                 0.285297   \n",
       "4            36.648213       1.083323       4.749989                 2.132644   \n",
       "...                ...            ...            ...                      ...   \n",
       "3648         38.744972       5.332907       2.270866                 1.618656   \n",
       "3649         51.397479       1.457857       1.229208                 0.499817   \n",
       "3650         54.711400       1.964794       1.437538                 0.185528   \n",
       "3651         53.840718       0.000000       1.000046                 0.185841   \n",
       "3652         50.668536       4.942618       2.375032                 0.080575   \n",
       "\n",
       "      avg_surface_temperature  mean_Total_column_water_vapour  \\\n",
       "0                  273.917257                        7.599388   \n",
       "1                  274.445440                        7.407456   \n",
       "2                  273.841263                        7.454112   \n",
       "3                  273.133409                        7.050555   \n",
       "4                  272.328182                        6.910032   \n",
       "...                       ...                             ...   \n",
       "3648               274.416872                        6.840186   \n",
       "3649               277.138496                        6.427623   \n",
       "3650               276.227551                        6.372121   \n",
       "3651               276.639502                        7.225365   \n",
       "3652               275.386777                        7.683386   \n",
       "\n",
       "      var_Total_column_water_vapour  mean_Total_column_water  \\\n",
       "0                          0.001272                 7.747149   \n",
       "1                          0.013036                 7.547069   \n",
       "2                          0.079448                 7.574160   \n",
       "3                          0.002004                 7.166458   \n",
       "4                          0.103630                 7.090256   \n",
       "...                             ...                      ...   \n",
       "3648                       0.401473                 7.004086   \n",
       "3649                       0.001849                 6.548050   \n",
       "3650                       0.024774                 6.474477   \n",
       "3651                       0.020061                 7.418203   \n",
       "3652                       0.010440                 7.903185   \n",
       "\n",
       "      var_Total_column_water  mean_U_component_stokes_drift  ...  \\\n",
       "0                   0.001285                  -18431.447355  ...   \n",
       "1                   0.015819                  -18431.453998  ...   \n",
       "2                   0.086356                  -18431.427509  ...   \n",
       "3                   0.002047                  -18431.410131  ...   \n",
       "4                   0.089188                  -18431.427458  ...   \n",
       "...                      ...                            ...  ...   \n",
       "3648                0.460048                  -18579.274977  ...   \n",
       "3649                0.001899                  -18522.404389  ...   \n",
       "3650                0.028831                  -18655.147617  ...   \n",
       "3651                0.024127                  -18749.982794  ...   \n",
       "3652                0.006599                  -18670.349108  ...   \n",
       "\n",
       "      log_mean_two_m_dewpoint_temperature  log_var_two_m_dewpoint_temperature  \\\n",
       "0                                5.607103                            0.026250   \n",
       "1                                5.605994                           -0.688409   \n",
       "2                                5.600426                           -1.904541   \n",
       "3                                5.589787                            0.443992   \n",
       "4                                5.583844                            0.678679   \n",
       "...                                   ...                                 ...   \n",
       "3648                             5.606387                            1.681825   \n",
       "3649                             5.620021                            0.926618   \n",
       "3650                             5.614617                           -1.591896   \n",
       "3651                             5.615807                           -1.585190   \n",
       "3652                             5.611808                           -0.121035   \n",
       "\n",
       "      log_mean_skin_temperature  log_var_skin_temperature  \\\n",
       "0                      5.606527                  1.175620   \n",
       "1                      5.602733                  1.905473   \n",
       "2                      5.599713                  1.943483   \n",
       "3                      5.589041                  2.085777   \n",
       "4                      5.589835                  2.351766   \n",
       "...                         ...                       ...   \n",
       "3648                   5.617187                  0.614694   \n",
       "3649                   5.619009                  1.493076   \n",
       "3650                   5.616252                  0.616240   \n",
       "3651                   5.615075                  1.318412   \n",
       "3652                   5.612657                  0.837095   \n",
       "\n",
       "      log_mean_surface_air_pressure  log_var_surface_air_pressure  \\\n",
       "0                         11.513592                      9.460258   \n",
       "1                         11.514630                      9.730405   \n",
       "2                         11.515923                      8.261645   \n",
       "3                         11.511937                      9.750797   \n",
       "4                         11.505662                     11.694134   \n",
       "...                             ...                           ...   \n",
       "3648                      11.489351                     13.981747   \n",
       "3649                      11.472777                      7.772494   \n",
       "3650                      11.482497                     12.870306   \n",
       "3651                      11.495818                     11.396372   \n",
       "3652                      11.497212                     10.019960   \n",
       "\n",
       "      log_var_hundred_metre_U_wind_component  \\\n",
       "0                                   0.874559   \n",
       "1                                  -0.918407   \n",
       "2                                   0.594675   \n",
       "3                                  -1.240046   \n",
       "4                                   0.532543   \n",
       "...                                      ...   \n",
       "3648                                0.373514   \n",
       "3649                                1.859356   \n",
       "3650                                1.841936   \n",
       "3651                               -0.435599   \n",
       "3652                                0.581677   \n",
       "\n",
       "      log_var_neutral_wind_at_10_m_u_component  \\\n",
       "0                                    -0.223159   \n",
       "1                                    -2.261514   \n",
       "2                                    -1.854602   \n",
       "3                                    -2.757890   \n",
       "4                                    -1.089470   \n",
       "...                                        ...   \n",
       "3648                                 -0.530780   \n",
       "3649                                  0.660643   \n",
       "3650                                  1.136060   \n",
       "3651                                 -0.600936   \n",
       "3652                                 -0.893178   \n",
       "\n",
       "      log_var_neutral_wind_at_10_m_v_component  log_m_medium_ccover  \n",
       "0                                    -0.175535            -1.757664  \n",
       "1                                    -0.568122            -2.563193  \n",
       "2                                    -2.851444            -2.552162  \n",
       "3                                    -1.673033            -1.221444  \n",
       "4                                    -0.906940            -1.948422  \n",
       "...                                        ...                  ...  \n",
       "3648                                 -1.655888            -0.629004  \n",
       "3649                                  0.049828            -0.568217  \n",
       "3650                                 -0.540050            -0.736719  \n",
       "3651                                 -2.694180            -1.199515  \n",
       "3652                                 -1.989115            -0.273190  \n",
       "\n",
       "[3653 rows x 245 columns]"
      ]
     },
     "execution_count": 6,
     "metadata": {},
     "output_type": "execute_result"
    }
   ],
   "source": [
    "X=data.drop('target+1',axis=1)\n",
    "y=data['target+1']\n",
    "X\n"
   ]
  },
  {
   "cell_type": "code",
   "execution_count": 7,
   "id": "fd785445",
   "metadata": {},
   "outputs": [],
   "source": [
    "#Train and Test splitting of data \n",
    "X_train, X_test, y_train, y_test = train_test_split(X, y, test_size = 0.3, random_state = 42, stratify = y)"
   ]
  },
  {
   "cell_type": "code",
   "execution_count": 8,
   "id": "f1d4726b",
   "metadata": {},
   "outputs": [
    {
     "data": {
      "text/plain": [
       "((2557, 245), (1096, 245))"
      ]
     },
     "execution_count": 8,
     "metadata": {},
     "output_type": "execute_result"
    }
   ],
   "source": [
    "X_train.shape, X_test.shape"
   ]
  },
  {
   "cell_type": "code",
   "execution_count": 9,
   "id": "ed9d9100",
   "metadata": {},
   "outputs": [],
   "source": [
    "X_train_new, X_val, y_train_new, y_val = train_test_split(X_train, y_train, test_size = 0.3, random_state = 42)"
   ]
  },
  {
   "cell_type": "code",
   "execution_count": 10,
   "id": "e03c2e79",
   "metadata": {},
   "outputs": [
    {
     "data": {
      "text/plain": [
       "((1789, 245), (768, 245), (1789,))"
      ]
     },
     "execution_count": 10,
     "metadata": {},
     "output_type": "execute_result"
    }
   ],
   "source": [
    "X_train_new.shape, X_val.shape, y_train_new.shape"
   ]
  },
  {
   "cell_type": "code",
   "execution_count": 11,
   "id": "1e93abad",
   "metadata": {},
   "outputs": [],
   "source": [
    "from sklearn.preprocessing import StandardScaler\n",
    "#Applying Standard scaling to get optimized result\n",
    "sc = StandardScaler()\n",
    "X_train_new = sc.fit_transform(X_train_new)\n",
    "X_val = sc.transform(X_val)"
   ]
  },
  {
   "cell_type": "code",
   "execution_count": 12,
   "id": "09b5fea9",
   "metadata": {},
   "outputs": [
    {
     "name": "stdout",
     "output_type": "stream",
     "text": [
      "DecisionTreeClassifier()\n"
     ]
    }
   ],
   "source": [
    "from sklearn.tree import DecisionTreeClassifier\n",
    "#training the model\n",
    "dt=DecisionTreeClassifier()\n",
    "#Fitting the model \n",
    "dt=dt.fit(X_train_new,y_train_new)\n",
    "print(dt)"
   ]
  },
  {
   "cell_type": "code",
   "execution_count": 13,
   "id": "df80155f",
   "metadata": {},
   "outputs": [
    {
     "name": "stdout",
     "output_type": "stream",
     "text": [
      "[0 1 1 1 0 0 1 1 1 0 0 0 0 0 1 0 1 1 0 1 0 1 1 1 0 0 1 1 1 0 1 0 1 0 0 1 0\n",
      " 0 1 0 1 0 1 0 0 1 1 0 1 0 0 0 0 0 0 1 1 1 0 0 0 1 1 0 1 0 0 1 1 1 1 1 1 1\n",
      " 0 0 1 1 1 0 0 1 0 0 0 0 0 1 0 0 1 0 1 0 0 1 0 1 1 1 0 0 0 0 0 1 0 0 0 0 0\n",
      " 1 0 0 0 0 0 1 1 0 0 0 0 0 0 0 0 0 1 1 1 1 0 1 1 1 0 1 1 0 0 1 0 0 0 1 1 0\n",
      " 0 0 1 1 1 0 0 0 1 1 1 1 0 1 0 0 0 1 0 0 1 0 0 1 0 1 0 1 0 0 0 1 1 1 0 0 0\n",
      " 0 1 0 0 1 1 0 1 1 1 0 1 1 1 1 0 1 1 1 1 1 1 1 1 0 0 1 1 0 1 0 0 1 0 0 1 0\n",
      " 1 1 1 0 0 0 0 0 0 1 0 0 1 0 1 0 0 1 1 1 1 1 1 0 1 0 0 0 1 1 1 1 0 0 0 1 0\n",
      " 0 0 0 1 0 1 0 1 1 1 1 0 0 0 0 0 1 1 1 0 1 0 0 0 0 0 1 0 0 0 1 0 0 0 1 0 0\n",
      " 0 0 0 1 1 0 0 0 0 0 0 1 0 0 0 0 1 0 1 0 0 0 0 0 1 0 0 1 1 0 1 0 1 0 0 1 0\n",
      " 0 1 0 0 0 1 1 1 1 0 0 1 0 0 0 1 0 0 0 0 0 0 1 0 0 0 0 1 0 1 1 1 0 0 1 1 1\n",
      " 0 0 0 1 0 0 0 0 0 1 1 0 1 0 0 1 0 0 1 1 1 1 0 1 1 0 0 0 1 0 1 1 0 1 1 1 0\n",
      " 0 0 0 0 1 0 0 1 1 1 0 1 0 1 0 1 1 0 0 1 0 0 0 0 0 1 0 1 0 0 1 0 0 0 0 0 1\n",
      " 0 0 1 0 0 0 1 0 0 0 1 0 0 0 1 0 1 0 1 0 0 1 0 0 0 0 1 0 0 0 1 1 0 0 0 0 1\n",
      " 1 0 0 0 0 1 0 0 0 0 1 1 0 0 0 0 1 0 0 0 0 1 1 0 0 1 1 1 1 0 1 1 0 0 0 0 0\n",
      " 1 0 0 0 1 0 0 0 1 0 0 0 0 1 0 0 1 0 1 1 0 0 0 0 1 0 0 0 1 0 0 1 0 0 1 1 0\n",
      " 0 0 1 0 1 0 0 1 1 1 1 0 1 0 1 1 1 0 0 1 0 0 1 0 0 1 1 0 1 1 1 0 0 1 0 0 1\n",
      " 1 1 0 0 1 1 1 0 0 0 1 1 0 1 0 0 0 1 1 1 1 0 0 0 1 0 0 1 1 0 0 0 1 0 0 1 0\n",
      " 1 0 0 1 0 0 0 0 0 0 1 0 0 0 1 0 0 0 0 1 1 0 0 1 1 1 1 0 1 1 1 1 0 0 0 0 0\n",
      " 0 0 1 1 0 0 0 1 0 0 1 0 0 1 1 0 0 0 0 1 0 0 0 1 0 0 0 0 0 0 1 0 1 1 0 0 1\n",
      " 0 0 1 1 1 1 1 0 0 1 0 1 1 1 0 0 1 1 0 0 0 0 1 1 1 0 0 0 1 0 1 0 1 0 0 1 0\n",
      " 1 1 0 0 1 0 0 0 1 1 1 1 1 0 0 0 0 0 0 0 0 0 1 0 0 1 0 0]\n"
     ]
    }
   ],
   "source": [
    "#Predicting the model \n",
    "dt_predict=dt.predict(X_val)\n",
    "print(dt_predict)"
   ]
  },
  {
   "cell_type": "code",
   "execution_count": 15,
   "id": "ef897777",
   "metadata": {},
   "outputs": [
    {
     "name": "stdout",
     "output_type": "stream",
     "text": [
      "Decision Tree Classifier_bow_score : 0.6705729166666666\n",
      "Precision: 0.658120405408241, Recall:0.6595567476002259, F1 Score: 0.6587416026344677\n"
     ]
    }
   ],
   "source": [
    "dt_score=accuracy_score(y_val,dt_predict)\n",
    "print(\"Decision Tree Classifier_bow_score :\",dt_score)\n",
    "P, R, F1, _ = precision_recall_fscore_support(y_val, dt_predict, average='macro')\n",
    "print('Precision: {}, Recall:{}, F1 Score: {}'.format(P, R, F1))"
   ]
  },
  {
   "cell_type": "code",
   "execution_count": 16,
   "id": "cbcc5492",
   "metadata": {},
   "outputs": [
    {
     "name": "stdout",
     "output_type": "stream",
     "text": [
      "[[329 131]\n",
      " [122 186]]\n"
     ]
    },
    {
     "data": {
      "image/png": "[encoded data removed]",
      "text/plain": [
       "<Figure size 432x288 with 2 Axes>"
      ]
     },
     "metadata": {
      "needs_background": "light"
     },
     "output_type": "display_data"
    },
    {
     "name": "stdout",
     "output_type": "stream",
     "text": [
      "Decision Tree with accuracy of \n",
      "              precision    recall  f1-score   support\n",
      "\n",
      "           0       0.73      0.72      0.72       460\n",
      "           1       0.59      0.60      0.60       308\n",
      "\n",
      "    accuracy                           0.67       768\n",
      "   macro avg       0.66      0.66      0.66       768\n",
      "weighted avg       0.67      0.67      0.67       768\n",
      "\n"
     ]
    }
   ],
   "source": [
    "from sklearn.preprocessing import LabelEncoder, StandardScaler\n",
    "#compute the confusion matrix\n",
    "cnf_matrix = confusion_matrix(y_val, dt_predict)\n",
    "print(cnf_matrix)\n",
    "\n",
    "#compute accuracy score\n",
    "acc = accuracy_score(y_val, dt_predict)\n",
    "\n",
    "#plot the confusion matrix\n",
    "plot_confusion_matrix(cnf_matrix, classes=['0','1'], title='Decision Tree Classifier')\n",
    "\n",
    "\n",
    "\n",
    "print(\"Decision Tree with accuracy of \".format(acc))\n",
    "print(classification_report(y_val, dt_predict, target_names=['0','1']))"
   ]
  },
  {
   "cell_type": "markdown",
   "id": "bb6068fa",
   "metadata": {},
   "source": [
    "# Sampling Techniques using RandomUnderSampler, RandomOverSampler and SMOTE Over sampler"
   ]
  },
  {
   "cell_type": "code",
   "execution_count": 24,
   "id": "00ac7a96",
   "metadata": {},
   "outputs": [
    {
     "data": {
      "image/png": "[encoded data removed]",
      "text/plain": [
       "<Figure size 432x288 with 1 Axes>"
      ]
     },
     "metadata": {
      "needs_background": "light"
     },
     "output_type": "display_data"
    }
   ],
   "source": [
    "#inspect class distribution of target variable\n",
    "import matplotlib.pyplot as plt\n",
    "\n",
    "class_dist = y_train_new.value_counts()\n",
    "plt.bar(class_dist.index, class_dist)\n",
    "plt.ylabel(\"Frequency\")\n",
    "plt.show()"
   ]
  },
  {
   "cell_type": "code",
   "execution_count": 25,
   "id": "40bbcf19",
   "metadata": {},
   "outputs": [
    {
     "data": {
      "image/png": "[encoded data removed]",
      "text/plain": [
       "<Figure size 432x288 with 1 Axes>"
      ]
     },
     "metadata": {
      "needs_background": "light"
     },
     "output_type": "display_data"
    }
   ],
   "source": [
    "from imblearn.under_sampling import RandomUnderSampler\n",
    "\n",
    "sampler = RandomUnderSampler()\n",
    "balanced_data, balanced_target = sampler.fit_resample(X_train_new, y_train_new)\n",
    "\n",
    "class_dist = pd.Series(balanced_target).value_counts()\n",
    "plt.bar(class_dist.index, class_dist)\n",
    "plt.ylabel(\"Frequency\")\n",
    "plt.show()"
   ]
  },
  {
   "cell_type": "code",
   "execution_count": 26,
   "id": "509ca709",
   "metadata": {},
   "outputs": [
    {
     "name": "stdout",
     "output_type": "stream",
     "text": [
      "Average Accuracy = 64.50536689473354%\n"
     ]
    }
   ],
   "source": [
    "from imblearn.pipeline import Pipeline\n",
    "\n",
    "sampler = RandomUnderSampler()\n",
    "\n",
    "pipeline = Pipeline([ ('normalisation', sc), ('balancing', sampler), ('classification', dt) ])\n",
    "\n",
    "accuracy_scr = cross_val_score(pipeline, X_train_new, y_train_new, cv=10, scoring='accuracy')\n",
    "\n",
    "print(\"Average Accuracy = {}%\".format(accuracy_scr.mean() * 100.0))"
   ]
  },
  {
   "cell_type": "code",
   "execution_count": 28,
   "id": "4b05331e",
   "metadata": {},
   "outputs": [
    {
     "name": "stdout",
     "output_type": "stream",
     "text": [
      "Pipeline(steps=[('under', RandomUnderSampler()),\n",
      "                ('model', DecisionTreeClassifier())])\n"
     ]
    }
   ],
   "source": [
    "# # define pipeline  for undersampling\n",
    "model = DecisionTreeClassifier()\n",
    "steps = [('under', RandomUnderSampler()), ('model', model)]\n",
    "pipeline_under = Pipeline(steps=steps)\n",
    "\n",
    "dt_under_sampling = pipeline_under.fit(X_train_new, y_train_new)\n",
    "print(dt_under_sampling)"
   ]
  },
  {
   "cell_type": "code",
   "execution_count": 29,
   "id": "65818a3a",
   "metadata": {},
   "outputs": [
    {
     "name": "stdout",
     "output_type": "stream",
     "text": [
      "[1 0 1 1 1 0 1 0 1 0 0 1 0 0 1 1 1 0 1 1 1 0 1 1 1 0 0 1 1 0 1 1 1 0 1 0 1\n",
      " 1 0 0 1 0 0 0 0 0 1 0 1 0 1 1 0 1 0 1 0 0 0 0 0 1 1 0 1 0 0 1 1 0 0 0 0 1\n",
      " 1 0 1 1 1 0 1 1 0 1 1 1 0 1 0 0 1 0 1 0 1 1 1 0 0 0 0 0 0 0 0 1 1 0 0 0 0\n",
      " 0 1 0 0 0 0 0 1 1 0 1 1 0 0 1 0 1 1 0 0 1 1 0 1 1 1 0 1 0 0 0 0 0 1 1 1 1\n",
      " 0 1 1 1 1 0 0 0 0 1 0 1 0 1 0 1 0 1 0 0 1 0 0 1 0 0 0 1 0 0 0 1 1 0 0 0 0\n",
      " 0 1 0 1 0 1 0 0 1 1 1 1 0 1 1 1 1 1 1 1 1 1 1 1 0 1 0 1 1 1 0 0 0 0 0 1 1\n",
      " 1 1 0 0 0 0 0 0 0 1 0 0 1 1 1 0 1 1 1 1 1 1 1 1 0 0 1 1 1 0 1 0 0 1 0 1 0\n",
      " 1 0 0 1 0 0 0 0 0 1 1 0 0 1 0 0 1 1 1 1 0 1 1 1 1 1 1 0 0 1 0 0 0 1 1 1 0\n",
      " 0 0 0 1 1 0 0 0 1 0 0 1 0 0 1 0 0 1 1 1 0 0 0 1 1 1 0 0 1 0 1 0 0 1 0 0 0\n",
      " 0 1 0 1 0 0 1 0 1 0 0 0 0 1 0 1 0 0 0 0 1 0 0 0 0 1 0 1 0 1 0 0 0 1 1 0 1\n",
      " 0 1 0 1 0 0 1 0 1 0 1 0 0 0 0 0 1 0 1 1 1 1 1 1 1 1 0 0 1 0 1 1 0 0 0 1 1\n",
      " 0 0 1 0 0 1 1 0 1 0 0 1 1 1 1 1 0 1 0 1 0 0 1 0 0 0 1 0 1 1 0 0 1 0 0 0 0\n",
      " 0 1 0 0 0 0 1 0 1 0 1 1 1 0 0 1 0 0 0 0 0 1 0 1 0 0 0 0 0 0 1 1 0 0 1 0 0\n",
      " 1 1 0 0 1 1 0 0 1 0 1 1 0 1 0 1 1 0 0 0 0 0 0 0 0 1 1 1 1 1 0 1 0 0 0 0 0\n",
      " 1 1 1 1 1 0 0 0 0 1 0 0 0 1 0 0 0 1 1 1 1 0 0 1 0 0 0 0 1 1 0 1 1 0 0 0 0\n",
      " 0 0 0 0 0 0 1 1 1 1 1 1 0 0 1 1 0 0 0 1 1 0 1 1 0 1 1 0 1 1 1 1 0 0 0 1 0\n",
      " 1 1 0 1 0 1 1 0 0 1 1 1 1 0 0 1 1 0 1 1 0 1 0 0 0 0 0 1 1 1 0 0 1 0 0 1 0\n",
      " 0 0 1 0 0 0 0 1 1 0 1 1 0 0 1 1 0 0 0 1 1 0 0 1 1 1 0 1 0 0 1 0 0 1 1 0 1\n",
      " 0 1 0 0 0 1 1 0 0 0 0 0 0 1 1 0 1 0 0 1 0 0 0 0 0 1 0 0 0 0 1 1 0 0 0 0 1\n",
      " 0 0 0 0 1 1 1 0 1 1 1 0 1 1 0 0 0 0 0 0 1 1 1 1 1 0 0 0 1 0 0 1 0 0 1 0 1\n",
      " 1 0 0 1 1 0 0 0 0 1 1 0 1 1 0 0 0 0 0 1 0 0 1 0 0 0 0 0]\n"
     ]
    }
   ],
   "source": [
    "# ##Predicting the model for RandomUndersampling\n",
    "dt_under_predict=pipeline_under.predict(X_val)\n",
    "print(dt_under_predict)"
   ]
  },
  {
   "cell_type": "code",
   "execution_count": 41,
   "id": "11883d71",
   "metadata": {},
   "outputs": [
    {
     "name": "stdout",
     "output_type": "stream",
     "text": [
      "dt_under_score : 0.6419270833333334\n",
      "P: 0.6336326983236016, R:0.637789384528515, F1: 0.6340036911559557\n"
     ]
    }
   ],
   "source": [
    "dt_under_score=accuracy_score(y_val,dt_under_predict)\n",
    "print(\"dt_under_score :\",dt_under_score)\n",
    "P, R, F1, _ = precision_recall_fscore_support(y_val,dt_under_predict, average='macro')\n",
    "print('P: {}, R:{}, F1: {}'.format(P, R, F1))"
   ]
  },
  {
   "cell_type": "code",
   "execution_count": 31,
   "id": "9959228e",
   "metadata": {},
   "outputs": [
    {
     "data": {
      "image/png": "[encoded data removed]",
      "text/plain": [
       "<Figure size 432x288 with 1 Axes>"
      ]
     },
     "metadata": {
      "needs_background": "light"
     },
     "output_type": "display_data"
    }
   ],
   "source": [
    "from imblearn.over_sampling import RandomOverSampler\n",
    "\n",
    "sampler = RandomOverSampler()\n",
    "balanced_data, balanced_target = sampler.fit_resample(X_train_new, y_train_new)\n",
    "\n",
    "class_dist = pd.Series(balanced_target).value_counts()\n",
    "plt.bar(class_dist.index, class_dist)\n",
    "plt.ylabel(\"Frequency\")\n",
    "plt.show()"
   ]
  },
  {
   "cell_type": "code",
   "execution_count": 32,
   "id": "722b7f96",
   "metadata": {},
   "outputs": [
    {
     "name": "stdout",
     "output_type": "stream",
     "text": [
      "Average Accuracy = 64.61772644529533%\n"
     ]
    }
   ],
   "source": [
    "\n",
    "sampler = RandomOverSampler()\n",
    "\n",
    "pipeline_1 = Pipeline([ ('normalisation', sc), ('balancing', sampler), ('classification', dt) ])\n",
    "\n",
    "accuracy_scr = cross_val_score(pipeline_1, X_train_new, y_train_new, cv=10, scoring='accuracy')\n",
    "\n",
    "print(\"Average Accuracy = {}%\".format(accuracy_scr.mean() * 100.0))"
   ]
  },
  {
   "cell_type": "code",
   "execution_count": 33,
   "id": "d3182f1c",
   "metadata": {},
   "outputs": [
    {
     "name": "stdout",
     "output_type": "stream",
     "text": [
      "Pipeline(steps=[('over', RandomOverSampler()),\n",
      "                ('model', DecisionTreeClassifier())])\n"
     ]
    }
   ],
   "source": [
    "# # define pipeline  for oversampling\n",
    "model = DecisionTreeClassifier()\n",
    "steps = [('over', RandomOverSampler()), ('model', model)]\n",
    "pipeline_over = Pipeline(steps=steps)\n",
    "\n",
    "dt_over_sampling = pipeline_over.fit(X_train_new, y_train_new)\n",
    "print(dt_over_sampling)"
   ]
  },
  {
   "cell_type": "code",
   "execution_count": 34,
   "id": "168b3b76",
   "metadata": {},
   "outputs": [
    {
     "name": "stdout",
     "output_type": "stream",
     "text": [
      "[1 1 1 1 1 0 1 0 1 0 1 1 0 0 0 1 0 0 0 1 0 0 1 0 0 0 0 1 0 0 1 0 1 0 0 1 1\n",
      " 1 1 0 1 0 0 0 0 0 1 0 0 0 1 1 1 0 0 1 1 0 0 0 0 0 1 1 0 1 0 1 1 0 1 1 0 1\n",
      " 0 0 1 0 1 0 1 1 1 1 1 1 0 1 0 1 1 0 0 1 1 1 0 0 1 1 0 0 1 0 0 0 1 0 0 1 0\n",
      " 1 1 0 1 0 0 0 0 1 0 0 0 0 1 1 1 0 1 1 0 0 1 0 1 1 1 0 0 1 0 0 0 0 0 1 1 1\n",
      " 0 0 1 1 1 1 0 0 0 1 0 1 0 1 0 0 0 0 0 0 0 0 0 1 0 1 1 1 1 0 1 1 1 0 0 0 1\n",
      " 1 0 0 0 1 1 0 0 1 0 0 0 0 0 1 1 1 0 1 1 1 1 1 1 0 0 0 0 1 1 0 0 0 1 0 1 1\n",
      " 1 0 0 0 0 0 0 0 0 1 0 1 1 0 1 0 0 1 1 0 0 1 0 1 1 0 1 0 1 0 1 1 0 0 0 0 0\n",
      " 0 0 0 1 0 1 0 1 0 1 0 1 0 0 0 1 1 1 1 0 0 0 0 1 0 1 0 0 0 1 0 0 0 0 0 0 0\n",
      " 0 0 0 1 1 0 0 0 1 0 0 1 0 1 0 0 1 0 1 1 0 0 0 1 0 0 0 0 1 0 1 0 0 0 0 1 0\n",
      " 0 1 0 1 0 1 0 1 1 0 0 0 0 0 0 0 0 0 0 1 0 0 0 0 0 0 1 1 0 1 1 0 0 1 0 1 0\n",
      " 0 0 0 0 0 1 0 0 1 1 1 0 1 0 1 0 1 1 1 1 0 1 1 1 1 0 0 0 1 0 0 1 0 0 0 1 1\n",
      " 1 1 0 0 1 0 0 0 1 0 0 0 0 0 1 0 1 1 0 1 1 0 0 0 1 0 0 0 1 0 0 1 1 0 0 0 1\n",
      " 0 1 1 1 0 0 0 0 0 0 1 1 1 0 0 1 1 0 0 0 0 1 1 1 0 1 1 0 0 0 1 1 0 0 0 0 0\n",
      " 1 1 0 0 0 1 0 0 0 1 1 0 0 0 1 1 0 0 0 0 0 0 1 0 0 1 1 0 1 0 0 0 0 0 0 0 0\n",
      " 1 1 0 1 1 0 0 0 1 0 0 0 1 0 0 0 1 0 1 1 0 0 0 0 1 0 0 0 1 1 0 0 0 1 0 1 0\n",
      " 0 1 0 0 0 0 0 0 1 1 0 0 0 0 1 1 1 0 0 0 1 0 1 0 0 0 1 0 1 1 1 0 1 1 0 1 0\n",
      " 1 1 0 0 1 1 0 0 0 0 1 0 0 0 0 1 0 1 0 0 0 1 1 0 0 0 0 1 1 0 1 1 1 0 1 0 1\n",
      " 0 0 0 1 0 0 0 0 1 0 0 1 0 0 1 0 1 1 1 0 1 0 1 1 1 1 0 0 0 0 1 1 0 1 0 1 1\n",
      " 0 1 1 0 1 1 0 0 0 0 1 0 0 0 0 0 0 1 1 1 0 0 0 1 0 1 0 0 0 1 1 0 1 1 1 0 1\n",
      " 0 1 1 0 1 1 0 1 1 1 0 1 0 1 0 0 0 0 0 1 0 1 1 1 1 0 0 0 1 0 0 0 1 0 0 1 0\n",
      " 1 1 0 0 0 0 0 0 1 1 0 0 0 1 0 0 0 0 1 1 1 0 0 0 1 1 0 0]\n"
     ]
    }
   ],
   "source": [
    "# ##Predicting the model for RandomUndersampling\n",
    "dt_over_predict=pipeline_over.predict(X_val)\n",
    "print(dt_over_predict)"
   ]
  },
  {
   "cell_type": "code",
   "execution_count": 42,
   "id": "a585aa9c",
   "metadata": {},
   "outputs": [
    {
     "name": "stdout",
     "output_type": "stream",
     "text": [
      "dt_over_score : 0.6627604166666666\n",
      "P: 0.6500626018591702, R:0.6514257481648786, F1: 0.6506485181119648\n"
     ]
    }
   ],
   "source": [
    "dt_over_score=accuracy_score(y_val,dt_over_predict)\n",
    "print(\"dt_over_score :\",dt_over_score)\n",
    "P, R, F1, _ = precision_recall_fscore_support(y_val,dt_over_predict, average='macro')\n",
    "print('P: {}, R:{}, F1: {}'.format(P, R, F1))"
   ]
  },
  {
   "cell_type": "code",
   "execution_count": 43,
   "id": "1df5be09",
   "metadata": {},
   "outputs": [
    {
     "name": "stdout",
     "output_type": "stream",
     "text": [
      "[[326 134]\n",
      " [125 183]]\n"
     ]
    },
    {
     "data": {
      "image/png": "[encoded data removed]",
      "text/plain": [
       "<Figure size 432x288 with 2 Axes>"
      ]
     },
     "metadata": {
      "needs_background": "light"
     },
     "output_type": "display_data"
    },
    {
     "name": "stdout",
     "output_type": "stream",
     "text": [
      "Decision Tree Classifier with accuracy of \n",
      "              precision    recall  f1-score   support\n",
      "\n",
      "           0       0.72      0.71      0.72       460\n",
      "           1       0.58      0.59      0.59       308\n",
      "\n",
      "    accuracy                           0.66       768\n",
      "   macro avg       0.65      0.65      0.65       768\n",
      "weighted avg       0.66      0.66      0.66       768\n",
      "\n"
     ]
    }
   ],
   "source": [
    "# #compute the confusion matrix\n",
    "cnf_matrix = confusion_matrix(y_val,dt_over_predict)\n",
    "print(cnf_matrix)\n",
    "\n",
    "# #compute accuracy score\n",
    "acc = accuracy_score(y_val,dt_over_predict)\n",
    "\n",
    "# #plot the confusion matrix\n",
    "plot_confusion_matrix(cnf_matrix, classes=['0','1'], title='Decision Tree Classifier')\n",
    "\n",
    "\n",
    "\n",
    "print(\"Decision Tree Classifier with accuracy of \".format(acc))\n",
    "print(classification_report(y_val,dt_over_predict, target_names=['0','1']))"
   ]
  },
  {
   "cell_type": "code",
   "execution_count": 44,
   "id": "323532d9",
   "metadata": {},
   "outputs": [
    {
     "name": "stdout",
     "output_type": "stream",
     "text": [
      "Pipeline(steps=[('under', RandomUnderSampler()), ('over', SMOTE()),\n",
      "                ('model', DecisionTreeClassifier())])\n"
     ]
    }
   ],
   "source": [
    "# # define pipeline  for undersampling and smote\n",
    "model = DecisionTreeClassifier()\n",
    "steps = [('under', RandomUnderSampler()),('over', SMOTE()), ('model', model)]\n",
    "pipeline_under_over = Pipeline(steps=steps)\n",
    "\n",
    "dt_under_sampling_smote_over_sampling = pipeline_under_over.fit(X_train_new, y_train_new)\n",
    "print(dt_under_sampling_smote_over_sampling)\n",
    "\n"
   ]
  },
  {
   "cell_type": "code",
   "execution_count": 45,
   "id": "d868188e",
   "metadata": {},
   "outputs": [
    {
     "name": "stdout",
     "output_type": "stream",
     "text": [
      "[0 0 1 1 1 0 0 1 1 1 0 1 1 0 0 1 0 0 1 1 0 0 0 1 0 0 0 1 1 1 1 0 1 0 0 0 0\n",
      " 0 1 0 0 0 1 0 0 0 0 0 1 0 1 1 0 1 0 1 0 1 0 0 0 1 1 1 1 1 0 0 0 0 1 1 1 1\n",
      " 0 0 0 1 0 0 1 1 1 0 0 0 0 1 0 0 1 0 1 0 0 1 1 0 0 1 0 0 1 0 0 0 0 0 0 1 0\n",
      " 1 1 0 1 0 0 0 1 0 0 1 1 0 0 0 1 1 0 1 0 0 0 1 1 1 0 1 1 0 0 0 0 0 0 0 1 0\n",
      " 1 0 1 1 1 0 0 0 1 1 1 0 0 1 1 1 0 1 0 0 1 1 0 1 0 0 1 1 0 0 0 1 1 0 0 0 1\n",
      " 0 1 1 0 0 1 0 0 1 0 0 0 0 1 0 1 0 0 0 1 1 1 1 1 0 1 1 0 0 1 0 0 1 0 0 1 1\n",
      " 1 0 0 0 1 1 0 0 0 1 0 0 1 0 1 1 0 1 1 1 1 1 0 1 1 1 0 1 1 0 1 0 1 0 0 1 0\n",
      " 0 1 0 0 0 1 0 0 0 1 1 0 1 0 0 1 0 1 0 0 1 1 1 1 1 1 1 1 0 1 0 1 1 0 1 0 1\n",
      " 0 0 1 1 0 0 0 0 1 1 0 1 0 0 1 0 0 1 1 1 0 0 0 0 1 0 0 0 1 0 0 1 0 1 0 1 0\n",
      " 1 1 0 0 0 1 1 0 1 0 0 1 1 1 0 1 0 0 1 1 1 0 0 1 0 0 1 1 1 1 0 0 0 1 0 1 1\n",
      " 0 0 0 1 0 0 1 0 0 0 0 1 1 0 0 1 1 0 1 1 0 1 1 1 0 0 1 0 0 0 0 1 0 0 0 0 0\n",
      " 1 1 0 0 0 1 0 0 0 1 0 0 1 0 0 1 1 0 0 1 0 1 1 1 0 0 1 0 1 0 1 1 0 0 0 1 1\n",
      " 0 0 0 0 0 0 1 0 1 1 1 1 1 0 0 1 1 0 1 0 0 1 0 1 1 1 0 0 0 0 1 1 0 0 0 1 1\n",
      " 1 1 0 1 1 1 0 0 1 0 1 1 1 1 0 0 0 0 0 0 0 0 0 1 1 1 1 1 1 0 0 1 0 0 0 1 1\n",
      " 0 1 1 1 1 0 1 1 1 1 0 0 0 1 0 0 1 1 0 1 0 0 1 1 1 0 1 0 1 1 1 0 1 1 1 1 0\n",
      " 0 0 0 0 0 1 1 0 0 0 1 0 0 0 0 0 0 0 1 1 0 0 1 0 0 1 1 0 1 1 1 0 0 0 1 1 0\n",
      " 1 0 0 0 1 0 1 1 0 1 1 1 1 1 0 0 1 1 0 1 1 0 1 0 0 0 0 1 1 0 0 0 1 0 0 0 1\n",
      " 0 0 0 0 1 0 1 1 1 0 1 1 0 1 1 0 1 1 0 0 0 0 1 1 1 1 0 0 0 0 0 0 0 0 0 0 1\n",
      " 0 1 1 0 1 1 1 1 0 0 1 0 0 1 0 0 0 0 1 1 0 0 0 1 0 0 0 0 0 0 0 1 0 0 0 0 1\n",
      " 0 1 0 0 1 1 1 0 1 1 0 1 1 0 0 0 1 0 0 0 0 0 1 1 1 0 1 0 0 1 0 0 0 1 0 0 0\n",
      " 1 0 0 0 1 0 0 0 0 1 0 0 0 0 1 1 1 0 0 1 0 0 0 0 0 0 0 0]\n"
     ]
    }
   ],
   "source": [
    "# ##Predicting the model for RandomUndersampling and SMOTE oversampling\n",
    "dt_under_over_predict=pipeline_under_over.predict(X_val)\n",
    "print(dt_under_over_predict)"
   ]
  },
  {
   "cell_type": "code",
   "execution_count": 40,
   "id": "5ef53784",
   "metadata": {},
   "outputs": [
    {
     "name": "stdout",
     "output_type": "stream",
     "text": [
      "dt_under_over_score : 0.6419270833333334\n",
      "P: 0.6356396573227832, R:0.6404714850367024, F1: 0.6353685591706015\n"
     ]
    }
   ],
   "source": [
    "dt_under_over_score=accuracy_score(y_val,dt_under_over_predict)\n",
    "print(\"dt_under_over_score :\",dt_under_over_score)\n",
    "P, R, F1, _ = precision_recall_fscore_support(y_val,dt_under_over_predict, average='macro')\n",
    "print('P: {}, R:{}, F1: {}'.format(P, R, F1))"
   ]
  },
  {
   "cell_type": "code",
   "execution_count": 46,
   "id": "f04bda83",
   "metadata": {},
   "outputs": [
    {
     "name": "stdout",
     "output_type": "stream",
     "text": [
      "Pipeline(steps=[('over', SMOTE()),\n",
      "                ('model',\n",
      "                 DecisionTreeClassifier(class_weight='balanced',\n",
      "                                        random_state=42, splitter='random'))])\n"
     ]
    }
   ],
   "source": [
    "#Define pipeline for DT smote sampling\n",
    "model = DecisionTreeClassifier(criterion='gini', random_state=42, class_weight = 'balanced', splitter='random')\n",
    "steps = [('over', SMOTE()), ('model', model)]\n",
    "pipeline = Pipeline(steps=steps)\n",
    "\n",
    "dt_smote = pipeline.fit(X_train_new, y_train_new)\n",
    "print(dt_smote)"
   ]
  },
  {
   "cell_type": "code",
   "execution_count": 47,
   "id": "3c7cec86",
   "metadata": {},
   "outputs": [
    {
     "name": "stdout",
     "output_type": "stream",
     "text": [
      "[0 1 1 1 1 0 0 1 0 1 0 1 1 0 1 0 1 1 1 1 0 1 0 1 1 0 1 1 1 0 1 0 1 0 1 0 0\n",
      " 1 0 0 1 0 0 0 0 1 1 0 1 1 1 0 0 0 0 1 1 0 0 0 0 1 1 1 0 1 0 1 1 1 0 1 1 0\n",
      " 0 1 1 0 0 0 0 1 1 1 1 0 0 1 0 0 1 0 1 0 0 0 0 0 0 1 1 0 0 1 0 0 1 1 0 1 0\n",
      " 1 1 1 0 0 0 0 0 0 0 0 0 1 0 0 1 1 1 1 0 0 1 0 1 1 1 0 0 0 0 0 0 0 0 0 1 1\n",
      " 1 0 0 1 1 0 0 0 1 0 0 0 1 1 1 1 1 1 0 0 0 0 0 1 0 1 0 0 0 0 0 1 0 0 0 1 0\n",
      " 0 1 0 0 1 1 0 1 1 1 1 0 0 0 0 1 0 0 1 1 0 1 1 1 0 0 0 1 0 0 0 1 0 1 0 1 1\n",
      " 1 0 0 0 1 0 0 0 0 0 0 1 1 0 0 0 0 0 1 1 1 1 1 1 0 1 1 1 1 0 1 0 0 0 0 1 1\n",
      " 0 0 0 0 0 1 0 1 1 1 0 1 1 1 1 1 0 0 1 1 0 0 0 1 1 0 1 0 1 1 1 0 0 0 1 0 0\n",
      " 0 0 0 1 0 1 0 0 1 0 0 1 0 1 0 0 0 0 1 1 0 0 0 0 1 0 1 0 0 0 0 0 0 1 1 0 0\n",
      " 0 1 0 0 1 1 1 0 0 0 0 0 0 0 1 1 1 0 0 1 1 0 1 0 0 0 1 1 0 1 1 0 1 1 1 1 0\n",
      " 0 1 0 0 0 0 1 0 1 1 1 0 0 0 0 1 1 0 1 0 1 1 1 1 1 0 1 1 0 0 0 0 0 0 0 1 1\n",
      " 1 0 0 0 0 0 1 1 1 1 0 1 1 0 1 1 0 1 0 1 1 1 1 1 0 0 1 1 0 1 0 0 0 0 1 0 0\n",
      " 1 1 0 0 0 0 1 0 0 1 1 1 0 0 0 0 1 0 0 0 0 0 1 1 1 1 0 0 1 0 0 1 0 0 0 0 0\n",
      " 0 1 0 0 0 1 0 1 0 1 1 1 1 0 1 1 0 0 0 0 0 0 0 0 0 1 1 0 0 1 0 1 0 1 0 1 0\n",
      " 1 1 0 0 1 0 0 0 1 0 0 0 0 1 0 0 1 0 1 1 0 0 0 0 0 0 1 0 1 0 0 1 1 0 1 1 0\n",
      " 0 1 1 0 1 0 1 0 0 1 0 0 0 0 1 1 0 0 1 0 0 0 1 0 0 0 1 0 1 0 0 0 0 0 1 1 0\n",
      " 0 0 0 0 1 1 1 0 0 1 1 1 0 0 0 0 1 1 1 1 1 1 0 1 0 1 0 0 1 0 0 0 1 1 0 0 0\n",
      " 0 0 0 1 0 0 0 1 0 1 1 1 1 0 1 0 1 0 0 1 1 0 0 1 0 0 0 0 0 1 0 0 0 0 1 1 0\n",
      " 0 1 1 0 1 1 0 0 0 1 1 1 0 0 0 0 0 0 0 1 0 0 0 0 1 1 0 0 0 0 0 1 0 0 0 0 1\n",
      " 0 0 1 0 1 0 1 1 0 1 0 0 1 1 0 0 0 0 0 1 0 0 1 0 1 1 0 0 0 0 0 1 0 0 1 0 0\n",
      " 1 0 0 1 1 0 1 0 1 1 0 0 0 0 0 1 0 1 0 0 1 1 0 0 1 1 0 0]\n"
     ]
    }
   ],
   "source": [
    "#Predicting the model for smote sampling\n",
    "dt_smote_predict=pipeline.predict(X_val)\n",
    "print(dt_smote_predict)"
   ]
  },
  {
   "cell_type": "code",
   "execution_count": 48,
   "id": "1e2542b6",
   "metadata": {},
   "outputs": [
    {
     "name": "stdout",
     "output_type": "stream",
     "text": [
      "dt_score : 0.6458333333333334\n",
      "P: 0.6336336336336337, R: 0.6356860530773574, F1: 0.6343676487061722\n"
     ]
    }
   ],
   "source": [
    "dt_smote_score=accuracy_score(y_val,dt_smote_predict)\n",
    "print(\"dt_score :\",dt_smote_score)\n",
    "P, R, F1, _ = precision_recall_fscore_support(y_val,dt_smote_predict, average='macro')\n",
    "print('P: {}, R: {}, F1: {}'.format(P, R, F1))"
   ]
  },
  {
   "cell_type": "code",
   "execution_count": 49,
   "id": "6e97e7b5",
   "metadata": {},
   "outputs": [
    {
     "name": "stdout",
     "output_type": "stream",
     "text": [
      "[[316 144]\n",
      " [128 180]]\n"
     ]
    },
    {
     "data": {
      "image/png": "[encoded data removed]",
      "text/plain": [
       "<Figure size 432x288 with 2 Axes>"
      ]
     },
     "metadata": {
      "needs_background": "light"
     },
     "output_type": "display_data"
    },
    {
     "name": "stdout",
     "output_type": "stream",
     "text": [
      "Decision Tree Classifier with accuracy of \n",
      "              precision    recall  f1-score   support\n",
      "\n",
      "           0       0.71      0.69      0.70       460\n",
      "           1       0.56      0.58      0.57       308\n",
      "\n",
      "    accuracy                           0.65       768\n",
      "   macro avg       0.63      0.64      0.63       768\n",
      "weighted avg       0.65      0.65      0.65       768\n",
      "\n"
     ]
    }
   ],
   "source": [
    "#compute the confusion matrix\n",
    "cnf_matrix = confusion_matrix(y_val,dt_smote_predict)\n",
    "print(cnf_matrix)\n",
    "\n",
    "#compute accuracy score\n",
    "acc = accuracy_score(y_val,dt_smote_predict)\n",
    "\n",
    "#plot the confusion matrix\n",
    "plot_confusion_matrix(cnf_matrix, classes=['0','1'], title='Decision Tree Classifier')\n",
    "\n",
    "\n",
    "\n",
    "print(\"Decision Tree Classifier with accuracy of \".format(acc))\n",
    "print(classification_report(y_val,dt_smote_predict, target_names=['0','1']))"
   ]
  },
  {
   "cell_type": "markdown",
   "id": "3321608b",
   "metadata": {},
   "source": [
    "# Feature Selection Using SelectKbest"
   ]
  },
  {
   "cell_type": "code",
   "execution_count": 59,
   "id": "ce406b22",
   "metadata": {},
   "outputs": [],
   "source": [
    "from sklearn.feature_selection import SelectKBest, f_classif\n",
    "# feature selection using f_classif/ Select K best method\n",
    "\n",
    "#define pipeline\n",
    "model = DecisionTreeClassifier()\n",
    "steps_1 = [('over', SMOTE()),  ('f_classif', SelectKBest(f_classif, k='all')), ('model', model)]\n",
    "pipeline_1 = Pipeline(steps=steps_1)"
   ]
  },
  {
   "cell_type": "code",
   "execution_count": 60,
   "id": "6c2f6de2",
   "metadata": {},
   "outputs": [
    {
     "name": "stdout",
     "output_type": "stream",
     "text": [
      "Pipeline(steps=[('over', SMOTE()), ('f_classif', SelectKBest(k='all')),\n",
      "                ('model', DecisionTreeClassifier())])\n"
     ]
    }
   ],
   "source": [
    "dt_featur_selc_sampling_1 = pipeline_1.fit(X_train_new, y_train_new)\n",
    "print(dt_featur_selc_sampling_1)"
   ]
  },
  {
   "cell_type": "code",
   "execution_count": 61,
   "id": "f5a6f971",
   "metadata": {},
   "outputs": [
    {
     "name": "stdout",
     "output_type": "stream",
     "text": [
      "[0 0 1 1 0 0 0 1 1 1 0 1 0 0 1 0 1 0 0 1 0 0 1 1 0 0 1 1 1 0 0 0 1 0 1 1 1\n",
      " 0 1 0 1 0 0 0 1 0 1 0 1 0 0 0 0 1 0 1 1 1 0 0 0 0 1 1 0 1 0 1 0 0 0 0 1 0\n",
      " 1 1 1 1 1 0 0 1 0 1 1 1 0 1 0 0 1 1 0 1 0 0 0 0 0 0 0 0 1 0 0 0 1 1 0 0 0\n",
      " 1 1 0 0 0 0 1 0 1 0 1 1 0 0 1 0 0 1 1 1 1 1 0 1 1 1 1 0 0 1 1 0 0 1 1 1 1\n",
      " 1 0 1 0 1 0 0 0 0 0 0 0 0 1 0 0 0 1 0 0 1 0 0 0 0 1 0 1 0 0 0 1 0 1 1 0 1\n",
      " 0 1 0 0 0 1 0 0 0 1 0 1 1 0 0 1 0 1 1 1 1 1 1 1 1 0 0 0 1 0 0 0 1 1 0 1 1\n",
      " 1 1 0 1 1 0 0 0 1 1 0 0 1 1 0 1 0 1 1 1 1 1 1 0 1 0 0 1 1 1 1 0 0 1 0 1 1\n",
      " 0 1 0 0 0 1 0 0 1 1 1 1 0 0 0 1 1 0 1 0 1 0 0 1 1 0 1 1 0 1 0 0 0 0 0 1 1\n",
      " 0 1 1 1 0 0 0 0 1 0 0 1 0 0 1 0 0 0 1 0 0 0 0 0 0 0 0 0 1 0 1 0 1 0 0 0 0\n",
      " 0 1 0 1 0 0 1 0 1 0 0 0 1 0 0 1 0 1 0 0 1 1 1 1 0 0 0 1 1 1 0 1 1 1 1 1 1\n",
      " 0 1 0 1 0 0 1 1 1 0 1 0 0 0 0 1 1 0 1 1 0 1 1 1 1 1 0 0 1 0 0 0 0 0 0 1 1\n",
      " 1 1 0 0 1 1 0 0 1 0 0 0 1 0 1 1 0 1 0 0 0 0 0 1 0 0 0 1 1 1 0 1 0 0 0 0 0\n",
      " 0 0 0 1 0 0 1 0 0 0 0 1 1 0 0 1 1 0 1 0 0 1 0 1 1 1 0 0 1 0 1 0 0 0 1 0 0\n",
      " 1 1 0 0 1 1 0 0 0 0 1 0 0 1 1 0 1 0 1 0 0 1 0 0 1 1 1 1 1 0 1 1 1 1 0 1 0\n",
      " 0 0 0 1 0 0 0 0 0 0 0 0 1 0 1 0 0 1 1 1 0 0 0 0 1 0 1 1 1 1 0 1 1 0 1 0 0\n",
      " 0 1 0 1 0 0 1 1 1 0 1 1 0 0 1 1 0 0 0 0 1 1 0 0 1 0 1 0 1 1 1 0 0 1 0 1 1\n",
      " 1 0 0 0 1 1 1 0 0 1 1 1 0 0 0 1 0 1 0 0 1 1 0 0 1 0 0 1 0 0 1 1 1 0 0 0 1\n",
      " 0 0 0 0 0 0 1 1 1 1 1 1 0 0 1 0 0 1 0 1 1 0 0 1 0 1 0 1 1 0 0 1 0 1 1 1 1\n",
      " 0 1 1 1 1 1 0 0 0 0 1 1 1 0 1 0 1 0 0 1 0 0 0 0 0 0 1 0 0 1 1 1 1 0 1 0 1\n",
      " 0 1 1 0 0 1 1 0 1 0 0 0 0 0 0 0 0 1 0 1 0 0 1 1 1 0 0 0 1 0 0 0 0 0 1 0 0\n",
      " 1 0 0 0 1 0 0 0 0 1 0 0 0 1 0 1 1 0 0 0 1 0 0 0 1 0 0 0]\n"
     ]
    }
   ],
   "source": [
    "##Predicting the model  for SelectKbest and SMOTE sampling\n",
    "dt_featur_selc_predict_1=pipeline_1.predict(X_val)\n",
    "print(dt_featur_selc_predict_1)"
   ]
  },
  {
   "cell_type": "code",
   "execution_count": 63,
   "id": "ad134c13",
   "metadata": {},
   "outputs": [
    {
     "name": "stdout",
     "output_type": "stream",
     "text": [
      "dt_feature selection_score : 0.6510416666666666\n",
      "P: 0.6422773146116718, R:0.6464709203839638, F1: 0.6428948172001221\n"
     ]
    }
   ],
   "source": [
    "dt_featur_selc_score_1=accuracy_score(y_val,dt_featur_selc_predict_1)\n",
    "print(\"dt_feature selection_score :\",dt_featur_selc_score_1)\n",
    "P, R, F1, _ = precision_recall_fscore_support(y_val,dt_featur_selc_predict_1, average='macro')\n",
    "print('P: {}, R:{}, F1: {}'.format(P, R, F1))"
   ]
  },
  {
   "cell_type": "code",
   "execution_count": 65,
   "id": "cbdc16e7",
   "metadata": {},
   "outputs": [
    {
     "name": "stdout",
     "output_type": "stream",
     "text": [
      "[[308 152]\n",
      " [116 192]]\n"
     ]
    },
    {
     "data": {
      "image/png": "[encoded data removed]",
      "text/plain": [
       "<Figure size 432x288 with 2 Axes>"
      ]
     },
     "metadata": {
      "needs_background": "light"
     },
     "output_type": "display_data"
    },
    {
     "name": "stdout",
     "output_type": "stream",
     "text": [
      "Decision Tree Classifier with accuracy of \n",
      "              precision    recall  f1-score   support\n",
      "\n",
      "           0       0.73      0.67      0.70       460\n",
      "           1       0.56      0.62      0.59       308\n",
      "\n",
      "    accuracy                           0.65       768\n",
      "   macro avg       0.64      0.65      0.64       768\n",
      "weighted avg       0.66      0.65      0.65       768\n",
      "\n"
     ]
    }
   ],
   "source": [
    "#compute the confusion matrix\n",
    "cnf_matrix = confusion_matrix(y_val,dt_featur_selc_predict_1)\n",
    "print(cnf_matrix)\n",
    "\n",
    "#compute accuracy score\n",
    "acc = accuracy_score(y_val,dt_featur_selc_predict_1)\n",
    "\n",
    "#plot the confusion matrix\n",
    "plot_confusion_matrix(cnf_matrix, classes=['0','1'], title='Decision Tree Classifier')\n",
    "\n",
    "\n",
    "\n",
    "print(\"Decision Tree Classifier with accuracy of \".format(acc))\n",
    "print(classification_report(y_val,dt_featur_selc_predict_1, target_names=['0','1']))"
   ]
  },
  {
   "cell_type": "markdown",
   "id": "2f6ff28e",
   "metadata": {},
   "source": [
    "# Hyperparameter Tuning"
   ]
  },
  {
   "cell_type": "code",
   "execution_count": 66,
   "id": "d14356a2",
   "metadata": {},
   "outputs": [],
   "source": [
    "# define models and parameters for hyperparametrs\n",
    "from sklearn.experimental import enable_halving_search_cv  \n",
    "from sklearn.model_selection import HalvingGridSearchCV\n",
    "\n",
    "# define grid search\n",
    "\n",
    "from sklearn.model_selection import GridSearchCV\n",
    "# Create the parameter grid based on the results of random search \n",
    "param_grid = {\n",
    "    \"criterion\": ['gini', 'entropy'],\n",
    "    \"class_weight\": ['balanced'],\n",
    "    \"splitter\": ['random', 'best']\n",
    "}\n",
    "\n",
    "\n",
    "# Create a based model\n",
    "dt = DecisionTreeClassifier()\n",
    "# Instantiate the grid search model\n",
    "cv = StratifiedKFold(n_splits=5, shuffle = True, random_state=42)\n",
    "grid_search = HalvingGridSearchCV(estimator = dt, param_grid = param_grid, \n",
    "                          cv = cv,refit = True,verbose =1, n_jobs = -1, scoring = 'f1_macro', random_state =42)\n"
   ]
  },
  {
   "cell_type": "code",
   "execution_count": 67,
   "id": "1981f179",
   "metadata": {},
   "outputs": [
    {
     "name": "stdout",
     "output_type": "stream",
     "text": [
      "n_iterations: 2\n",
      "n_required_iterations: 2\n",
      "n_possible_iterations: 2\n",
      "min_resources_: 703\n",
      "max_resources_: 2110\n",
      "aggressive_elimination: False\n",
      "factor: 3\n",
      "----------\n",
      "iter: 0\n",
      "n_candidates: 4\n",
      "n_resources: 703\n",
      "Fitting 5 folds for each of 4 candidates, totalling 20 fits\n",
      "----------\n",
      "iter: 1\n",
      "n_candidates: 2\n",
      "n_resources: 2109\n",
      "Fitting 5 folds for each of 2 candidates, totalling 10 fits\n",
      "Pipeline(steps=[('smote', SMOTE()), ('f_classif', SelectKBest(k='all')),\n",
      "                ('estimator',\n",
      "                 HalvingGridSearchCV(cv=StratifiedKFold(n_splits=5, random_state=42, shuffle=True),\n",
      "                                     estimator=DecisionTreeClassifier(),\n",
      "                                     n_jobs=-1,\n",
      "                                     param_grid={'class_weight': ['balanced'],\n",
      "                                                 'criterion': ['gini',\n",
      "                                                               'entropy'],\n",
      "                                                 'splitter': ['random',\n",
      "                                                              'best']},\n",
      "                                     random_state=42,\n",
      "                                     refit=<function _refit_callable at 0x0000023B19DBC550>,\n",
      "                                     scoring='f1_macro', verbose=1))])\n"
     ]
    }
   ],
   "source": [
    "# use randomoversampler \n",
    "steps_3 = [('smote', SMOTE()),  ('f_classif', SelectKBest(f_classif, k='all')), ('estimator', grid_search)]\n",
    "pipeline_3 = Pipeline(steps=steps_3)\n",
    "#fit the model\n",
    "dt_hyperparameter = pipeline_3.fit(X_train_new, y_train_new)\n",
    "print(dt_hyperparameter)"
   ]
  },
  {
   "cell_type": "code",
   "execution_count": 68,
   "id": "baf09192",
   "metadata": {},
   "outputs": [
    {
     "name": "stdout",
     "output_type": "stream",
     "text": [
      "Best Score:0.6993878554858048\n",
      "Best Parameters: {'class_weight': 'balanced', 'criterion': 'entropy', 'splitter': 'best'}\n"
     ]
    }
   ],
   "source": [
    "# print('Best parameter set: %s' % grid_search.best_params_)\n",
    "print(\"Best Score:\" + str(grid_search.best_score_))\n",
    "print(\"Best Parameters: \" + str(grid_search.best_params_))\n",
    "best_parameters = grid_search.best_params_"
   ]
  },
  {
   "cell_type": "code",
   "execution_count": 69,
   "id": "60f15d48",
   "metadata": {},
   "outputs": [
    {
     "name": "stdout",
     "output_type": "stream",
     "text": [
      "[1 1 1 1 0 0 1 0 1 1 1 1 0 0 0 1 1 0 1 1 0 1 0 0 0 0 0 1 1 1 1 0 1 1 0 1 1\n",
      " 0 1 0 1 0 0 0 0 1 0 0 1 0 0 0 0 0 0 1 0 0 0 0 0 1 1 0 0 1 0 0 1 1 0 1 1 1\n",
      " 1 0 0 1 1 0 1 1 1 1 0 1 0 0 0 0 1 1 1 1 0 1 0 0 1 1 1 0 1 0 0 0 0 1 0 1 0\n",
      " 1 1 1 0 0 0 1 1 1 0 1 1 0 1 1 1 0 1 0 0 0 1 1 1 1 0 1 0 0 0 0 0 0 0 1 0 0\n",
      " 0 1 0 0 1 0 0 0 0 0 1 0 0 1 1 1 1 0 0 1 0 0 0 0 0 0 0 1 0 0 0 1 1 0 0 1 0\n",
      " 0 1 0 0 1 1 0 0 0 0 0 0 1 0 0 1 1 1 1 1 1 1 1 0 0 0 0 1 0 1 1 0 0 0 1 0 0\n",
      " 1 0 0 1 1 1 0 0 0 1 1 1 1 1 1 0 1 1 1 1 1 1 0 0 0 0 1 1 0 0 1 0 0 0 0 1 0\n",
      " 1 1 1 1 0 1 0 0 0 1 1 0 0 1 1 1 0 1 1 1 0 1 0 1 1 0 1 0 0 1 0 0 1 0 1 0 0\n",
      " 0 0 1 1 0 0 1 0 1 0 0 1 0 0 1 0 1 1 1 1 0 0 0 0 0 0 0 0 1 0 0 0 0 1 0 0 0\n",
      " 0 1 0 1 1 1 0 1 1 0 0 1 0 0 0 0 0 1 0 0 1 1 1 0 0 0 1 0 0 1 0 1 1 0 1 1 1\n",
      " 1 1 0 0 0 1 1 0 1 0 1 0 1 0 0 1 0 0 0 1 1 0 0 1 1 0 0 0 0 0 0 1 0 1 1 1 0\n",
      " 0 1 0 0 0 0 0 1 1 1 0 1 1 0 1 1 1 0 0 1 1 0 0 1 0 0 1 1 1 0 1 0 0 0 0 0 1\n",
      " 0 0 1 0 0 0 0 0 1 0 0 1 0 0 0 0 1 0 0 0 0 1 0 1 1 1 0 0 1 0 1 0 0 0 1 0 0\n",
      " 1 1 0 1 1 1 0 0 1 0 1 1 1 1 0 1 0 0 0 0 0 1 0 0 1 1 0 0 1 0 0 1 0 1 0 0 0\n",
      " 1 0 0 1 0 0 0 0 0 1 0 0 1 1 0 0 1 1 1 1 0 0 0 1 1 0 1 0 1 0 0 1 1 0 0 0 0\n",
      " 0 1 0 1 0 0 0 0 0 0 0 0 1 0 1 0 0 0 1 0 0 1 1 0 0 1 1 1 0 0 0 0 0 0 0 0 0\n",
      " 0 0 0 0 1 1 0 0 0 0 1 1 0 0 0 0 1 1 1 1 1 0 0 0 0 1 0 0 0 0 0 0 1 0 0 0 1\n",
      " 0 0 0 1 0 0 0 0 1 0 0 1 0 0 1 0 1 0 0 1 1 0 1 1 1 0 0 0 0 0 0 0 0 1 1 0 0\n",
      " 0 1 0 0 1 1 0 0 0 0 1 0 1 1 0 0 0 0 1 1 1 0 0 1 0 0 0 0 0 0 0 1 1 1 0 0 1\n",
      " 0 0 0 0 0 0 0 0 1 1 0 1 0 1 0 0 0 0 0 0 0 1 1 1 1 1 0 0 1 0 0 0 1 0 1 1 1\n",
      " 1 0 1 0 0 1 0 0 1 1 0 0 0 0 0 1 1 0 1 1 0 0 0 0 0 1 0 0]\n"
     ]
    }
   ],
   "source": [
    "#Predicting the model for hyperparameters\n",
    "dt_hyperparameter_predict = pipeline_3.predict(X_val)\n",
    "print(dt_hyperparameter_predict)"
   ]
  },
  {
   "cell_type": "code",
   "execution_count": 70,
   "id": "41605829",
   "metadata": {},
   "outputs": [
    {
     "name": "stdout",
     "output_type": "stream",
     "text": [
      "dt_hyperparameter_score : 0.6536458333333334\n",
      "P: 0.640796645702306, R:0.6422077922077922, F1: 0.6413860899483903\n"
     ]
    }
   ],
   "source": [
    "dt_final=accuracy_score(y_val,dt_hyperparameter_predict)\n",
    "print(\"dt_hyperparameter_score :\",dt_final)\n",
    "P, R, F1, _ = precision_recall_fscore_support(y_val,dt_hyperparameter_predict, average='macro')\n",
    "print('P: {}, R:{}, F1: {}'.format(P, R, F1))"
   ]
  },
  {
   "cell_type": "code",
   "execution_count": 71,
   "id": "e73bc216",
   "metadata": {},
   "outputs": [
    {
     "name": "stdout",
     "output_type": "stream",
     "text": [
      "n_iterations: 2\n",
      "n_required_iterations: 2\n",
      "n_possible_iterations: 2\n",
      "min_resources_: 1010\n",
      "max_resources_: 3030\n",
      "aggressive_elimination: False\n",
      "factor: 3\n",
      "----------\n",
      "iter: 0\n",
      "n_candidates: 4\n",
      "n_resources: 1010\n",
      "Fitting 5 folds for each of 4 candidates, totalling 20 fits\n",
      "----------\n",
      "iter: 1\n",
      "n_candidates: 2\n",
      "n_resources: 3030\n",
      "Fitting 5 folds for each of 2 candidates, totalling 10 fits\n",
      "Pipeline(steps=[('smote', SMOTE()), ('f_classif', SelectKBest(k='all')),\n",
      "                ('estimator',\n",
      "                 HalvingGridSearchCV(cv=StratifiedKFold(n_splits=5, random_state=42, shuffle=True),\n",
      "                                     estimator=DecisionTreeClassifier(),\n",
      "                                     n_jobs=-1,\n",
      "                                     param_grid={'class_weight': ['balanced'],\n",
      "                                                 'criterion': ['gini',\n",
      "                                                               'entropy'],\n",
      "                                                 'splitter': ['random',\n",
      "                                                              'best']},\n",
      "                                     random_state=42,\n",
      "                                     refit=<function _refit_callable at 0x0000023B19DBC550>,\n",
      "                                     scoring='f1_macro', verbose=1))])\n"
     ]
    }
   ],
   "source": [
    "# use SMOTE on initial train test set\n",
    "steps_4 = [('smote', SMOTE()),  ('f_classif', SelectKBest(f_classif, k='all')), ('estimator', grid_search)]\n",
    "pipeline_4 = Pipeline(steps=steps_4)\n",
    "#fit the model\n",
    "dt_hyperparameter = pipeline_4.fit(X_train, y_train)\n",
    "print(dt_hyperparameter)"
   ]
  },
  {
   "cell_type": "code",
   "execution_count": 72,
   "id": "e7082686",
   "metadata": {},
   "outputs": [
    {
     "name": "stdout",
     "output_type": "stream",
     "text": [
      "Best Score:0.70040853226797\n",
      "Best Parameters: {'class_weight': 'balanced', 'criterion': 'gini', 'splitter': 'best'}\n"
     ]
    }
   ],
   "source": [
    "# print('Best parameter set: %s' % grid_search.best_params_)\n",
    "print(\"Best Score:\" + str(grid_search.best_score_))\n",
    "print(\"Best Parameters: \" + str(grid_search.best_params_))\n",
    "best_parameters = grid_search.best_params_"
   ]
  },
  {
   "cell_type": "code",
   "execution_count": 73,
   "id": "c1925c2c",
   "metadata": {},
   "outputs": [
    {
     "name": "stdout",
     "output_type": "stream",
     "text": [
      "[0 1 0 ... 1 1 1]\n"
     ]
    }
   ],
   "source": [
    "#Predict the model using hyperparameter on held out test set\n",
    "dt_hyperparameter_predict = pipeline_4.predict(X_test)\n",
    "print(dt_hyperparameter_predict)\n"
   ]
  },
  {
   "cell_type": "code",
   "execution_count": 74,
   "id": "e8359a84",
   "metadata": {},
   "outputs": [
    {
     "name": "stdout",
     "output_type": "stream",
     "text": [
      "dt_hyperparameter_score : 0.6806569343065694\n",
      "P: 0.6729427210449244, R:0.677087103545982, F1: 0.6738794067937822\n"
     ]
    }
   ],
   "source": [
    "dt_final_test=accuracy_score(y_test,dt_hyperparameter_predict)\n",
    "print(\"dt_hyperparameter_score :\",dt_final_test)\n",
    "P, R, F1, _ = precision_recall_fscore_support(y_test,dt_hyperparameter_predict, average='macro')\n",
    "print('P: {}, R:{}, F1: {}'.format(P, R, F1))"
   ]
  },
  {
   "cell_type": "code",
   "execution_count": 75,
   "id": "71a5cb9c",
   "metadata": {},
   "outputs": [
    {
     "name": "stdout",
     "output_type": "stream",
     "text": [
      "[[452 197]\n",
      " [153 294]]\n"
     ]
    },
    {
     "data": {
      "image/png": "[encoded data removed]",
      "text/plain": [
       "<Figure size 432x288 with 2 Axes>"
      ]
     },
     "metadata": {
      "needs_background": "light"
     },
     "output_type": "display_data"
    },
    {
     "name": "stdout",
     "output_type": "stream",
     "text": [
      "Decision Tree Classifier with accuracy of \n",
      "              precision    recall  f1-score   support\n",
      "\n",
      "           0       0.75      0.70      0.72       649\n",
      "           1       0.60      0.66      0.63       447\n",
      "\n",
      "    accuracy                           0.68      1096\n",
      "   macro avg       0.67      0.68      0.67      1096\n",
      "weighted avg       0.69      0.68      0.68      1096\n",
      "\n"
     ]
    }
   ],
   "source": [
    "#compute the confusion matrix\n",
    "cnf_matrix = confusion_matrix(y_test,dt_hyperparameter_predict)\n",
    "print(cnf_matrix)\n",
    "\n",
    "#compute accuracy score\n",
    "acc = accuracy_score(y_test,dt_hyperparameter_predict)\n",
    "\n",
    "#plot the confusion matrix\n",
    "plot_confusion_matrix(cnf_matrix, classes=['0','1'], title='Decision Tree Classifier')\n",
    "\n",
    "\n",
    "\n",
    "\n",
    "print(\"Decision Tree Classifier with accuracy of \".format(acc))\n",
    "print(classification_report(y_test,dt_hyperparameter_predict, target_names=['0','1']))"
   ]
  },
  {
   "cell_type": "markdown",
   "id": "d900e841",
   "metadata": {},
   "source": [
    "# Feature Importance Random Forest"
   ]
  },
  {
   "cell_type": "code",
   "execution_count": 107,
   "id": "fab88d4c",
   "metadata": {},
   "outputs": [
    {
     "ename": "ValueError",
     "evalue": "Length of feature_names, 3653 does not match number of features, 245",
     "output_type": "error",
     "traceback": [
      "\u001b[1;31m---------------------------------------------------------------------------\u001b[0m",
      "\u001b[1;31mValueError\u001b[0m                                Traceback (most recent call last)",
      "\u001b[1;32m<ipython-input-107-1fc62cadc362>\u001b[0m in \u001b[0;36m<module>\u001b[1;34m\u001b[0m\n\u001b[0;32m      5\u001b[0m \u001b[1;32mimport\u001b[0m \u001b[0mmatplotlib\u001b[0m\u001b[1;33m.\u001b[0m\u001b[0mpyplot\u001b[0m \u001b[1;32mas\u001b[0m \u001b[0mplt\u001b[0m\u001b[1;33m\u001b[0m\u001b[1;33m\u001b[0m\u001b[0m\n\u001b[0;32m      6\u001b[0m \u001b[0mdt\u001b[0m\u001b[1;33m.\u001b[0m\u001b[0mfit\u001b[0m\u001b[1;33m(\u001b[0m\u001b[0mX\u001b[0m\u001b[1;33m,\u001b[0m\u001b[0my\u001b[0m\u001b[1;33m)\u001b[0m\u001b[1;33m\u001b[0m\u001b[1;33m\u001b[0m\u001b[0m\n\u001b[1;32m----> 7\u001b[1;33m dot_data = tree.export_graphviz(dt, out_file=None, \n\u001b[0m\u001b[0;32m      8\u001b[0m                                 \u001b[0mfeature_names\u001b[0m\u001b[1;33m=\u001b[0m\u001b[0mX\u001b[0m\u001b[1;33m,\u001b[0m\u001b[1;33m\u001b[0m\u001b[1;33m\u001b[0m\u001b[0m\n\u001b[0;32m      9\u001b[0m                                 \u001b[0mclass_names\u001b[0m\u001b[1;33m=\u001b[0m\u001b[0my\u001b[0m\u001b[1;33m,\u001b[0m\u001b[1;33m\u001b[0m\u001b[1;33m\u001b[0m\u001b[0m\n",
      "\u001b[1;32m~\\anaconda3\\lib\\site-packages\\sklearn\\utils\\validation.py\u001b[0m in \u001b[0;36minner_f\u001b[1;34m(*args, **kwargs)\u001b[0m\n\u001b[0;32m     61\u001b[0m             \u001b[0mextra_args\u001b[0m \u001b[1;33m=\u001b[0m \u001b[0mlen\u001b[0m\u001b[1;33m(\u001b[0m\u001b[0margs\u001b[0m\u001b[1;33m)\u001b[0m \u001b[1;33m-\u001b[0m \u001b[0mlen\u001b[0m\u001b[1;33m(\u001b[0m\u001b[0mall_args\u001b[0m\u001b[1;33m)\u001b[0m\u001b[1;33m\u001b[0m\u001b[1;33m\u001b[0m\u001b[0m\n\u001b[0;32m     62\u001b[0m             \u001b[1;32mif\u001b[0m \u001b[0mextra_args\u001b[0m \u001b[1;33m<=\u001b[0m \u001b[1;36m0\u001b[0m\u001b[1;33m:\u001b[0m\u001b[1;33m\u001b[0m\u001b[1;33m\u001b[0m\u001b[0m\n\u001b[1;32m---> 63\u001b[1;33m                 \u001b[1;32mreturn\u001b[0m \u001b[0mf\u001b[0m\u001b[1;33m(\u001b[0m\u001b[1;33m*\u001b[0m\u001b[0margs\u001b[0m\u001b[1;33m,\u001b[0m \u001b[1;33m**\u001b[0m\u001b[0mkwargs\u001b[0m\u001b[1;33m)\u001b[0m\u001b[1;33m\u001b[0m\u001b[1;33m\u001b[0m\u001b[0m\n\u001b[0m\u001b[0;32m     64\u001b[0m \u001b[1;33m\u001b[0m\u001b[0m\n\u001b[0;32m     65\u001b[0m             \u001b[1;31m# extra_args > 0\u001b[0m\u001b[1;33m\u001b[0m\u001b[1;33m\u001b[0m\u001b[1;33m\u001b[0m\u001b[0m\n",
      "\u001b[1;32m~\\anaconda3\\lib\\site-packages\\sklearn\\tree\\_export.py\u001b[0m in \u001b[0;36mexport_graphviz\u001b[1;34m(decision_tree, out_file, max_depth, feature_names, class_names, label, filled, leaves_parallel, impurity, node_ids, proportion, rotate, rounded, special_characters, precision)\u001b[0m\n\u001b[0;32m    786\u001b[0m             \u001b[0mrounded\u001b[0m\u001b[1;33m=\u001b[0m\u001b[0mrounded\u001b[0m\u001b[1;33m,\u001b[0m \u001b[0mspecial_characters\u001b[0m\u001b[1;33m=\u001b[0m\u001b[0mspecial_characters\u001b[0m\u001b[1;33m,\u001b[0m\u001b[1;33m\u001b[0m\u001b[1;33m\u001b[0m\u001b[0m\n\u001b[0;32m    787\u001b[0m             precision=precision)\n\u001b[1;32m--> 788\u001b[1;33m         \u001b[0mexporter\u001b[0m\u001b[1;33m.\u001b[0m\u001b[0mexport\u001b[0m\u001b[1;33m(\u001b[0m\u001b[0mdecision_tree\u001b[0m\u001b[1;33m)\u001b[0m\u001b[1;33m\u001b[0m\u001b[1;33m\u001b[0m\u001b[0m\n\u001b[0m\u001b[0;32m    789\u001b[0m \u001b[1;33m\u001b[0m\u001b[0m\n\u001b[0;32m    790\u001b[0m         \u001b[1;32mif\u001b[0m \u001b[0mreturn_string\u001b[0m\u001b[1;33m:\u001b[0m\u001b[1;33m\u001b[0m\u001b[1;33m\u001b[0m\u001b[0m\n",
      "\u001b[1;32m~\\anaconda3\\lib\\site-packages\\sklearn\\tree\\_export.py\u001b[0m in \u001b[0;36mexport\u001b[1;34m(self, decision_tree)\u001b[0m\n\u001b[0;32m    412\u001b[0m         \u001b[1;32mif\u001b[0m \u001b[0mself\u001b[0m\u001b[1;33m.\u001b[0m\u001b[0mfeature_names\u001b[0m \u001b[1;32mis\u001b[0m \u001b[1;32mnot\u001b[0m \u001b[1;32mNone\u001b[0m\u001b[1;33m:\u001b[0m\u001b[1;33m\u001b[0m\u001b[1;33m\u001b[0m\u001b[0m\n\u001b[0;32m    413\u001b[0m             \u001b[1;32mif\u001b[0m \u001b[0mlen\u001b[0m\u001b[1;33m(\u001b[0m\u001b[0mself\u001b[0m\u001b[1;33m.\u001b[0m\u001b[0mfeature_names\u001b[0m\u001b[1;33m)\u001b[0m \u001b[1;33m!=\u001b[0m \u001b[0mdecision_tree\u001b[0m\u001b[1;33m.\u001b[0m\u001b[0mn_features_\u001b[0m\u001b[1;33m:\u001b[0m\u001b[1;33m\u001b[0m\u001b[1;33m\u001b[0m\u001b[0m\n\u001b[1;32m--> 414\u001b[1;33m                 raise ValueError(\"Length of feature_names, %d \"\n\u001b[0m\u001b[0;32m    415\u001b[0m                                  \u001b[1;34m\"does not match number of features, %d\"\u001b[0m\u001b[1;33m\u001b[0m\u001b[1;33m\u001b[0m\u001b[0m\n\u001b[0;32m    416\u001b[0m                                  % (len(self.feature_names),\n",
      "\u001b[1;31mValueError\u001b[0m: Length of feature_names, 3653 does not match number of features, 245"
     ]
    }
   ],
   "source": [
    "import graphviz\n",
    "from sklearn import tree\n",
    "\n",
    "\n",
    "import matplotlib.pyplot as plt\n",
    "dt.fit(X,y)\n",
    "dot_data = tree.export_graphviz(dt, out_file=None, \n",
    "                                feature_names=X,  \n",
    "                                class_names=y,\n",
    "                                filled=True)\n",
    "\n",
    "# Draw graph\n",
    "graph = graphviz.Source(dot_data, format=\"png\") \n",
    "graph"
   ]
  },
  {
   "cell_type": "code",
   "execution_count": null,
   "id": "cdc5762e",
   "metadata": {},
   "outputs": [],
   "source": []
  }
 ],
 "metadata": {
  "kernelspec": {
   "display_name": "Python 3",
   "language": "python",
   "name": "python3"
  },
  "language_info": {
   "codemirror_mode": {
    "name": "ipython",
    "version": 3
   },
   "file_extension": ".py",
   "mimetype": "text/x-python",
   "name": "python",
   "nbconvert_exporter": "python",
   "pygments_lexer": "ipython3",
   "version": "3.8.8"
  }
 },
 "nbformat": 4,
 "nbformat_minor": 5
}
